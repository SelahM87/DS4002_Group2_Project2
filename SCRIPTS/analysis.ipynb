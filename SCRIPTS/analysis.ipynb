{
  "cells": [
    {
      "cell_type": "markdown",
      "metadata": {
        "colab_type": "text",
        "id": "view-in-github"
      },
      "source": [
        "<a href=\"https://colab.research.google.com/github/randaama/DS4002_Group2_Project2/blob/main/SCRIPTS/analysis.ipynb\" target=\"_parent\"><img src=\"https://colab.research.google.com/assets/colab-badge.svg\" alt=\"Open In Colab\"/></a>"
      ]
    },
    {
      "cell_type": "markdown",
      "metadata": {
        "id": "AwAsoeLouhWP"
      },
      "source": [
        "Sooo we need to look at the trends of the top  10 Counties\n",
        "Orange County  \n",
        "Miami Dade County\n",
        "Hennepin County\n",
        "Hillsborough County\n",
        "Broward County\n",
        "Maricopa County\n",
        "Hamilton County\n",
        "Pinellas County\n",
        "Natrona County\n",
        "Fullton county\n",
        "to give a desirability determination based on precipitation and average temperature. Use that to build a desiribity() function 1. Predict the average temperature and precipitation of each month based on the change in the past and then stick that into the desirability function and then rank the top Counties."
      ]
    },
    {
      "cell_type": "code",
      "execution_count": 214,
      "metadata": {
        "id": "lj0jXA88uJSG"
      },
      "outputs": [],
      "source": [
        "import pandas as pd\n",
        "import plotly.express as px\n",
        "#import pyearth\n",
        "clim = pd.read_csv('/Users/selahmitchell/climate_data_all.csv')"
      ]
    },
    {
      "cell_type": "code",
      "execution_count": 215,
      "metadata": {
        "id": "j-_vwO2E9EBX"
      },
      "outputs": [],
      "source": [
        "import plotly.express as px\n",
        "import numpy as np"
      ]
    },
    {
      "cell_type": "code",
      "execution_count": 216,
      "metadata": {
        "colab": {
          "base_uri": "https://localhost:8080/",
          "height": 206
        },
        "id": "45oW2umfyj68",
        "outputId": "9ce33714-f309-4656-eb28-b21f1b2c3dc4"
      },
      "outputs": [
        {
          "data": {
            "text/html": [
              "<div>\n",
              "<style scoped>\n",
              "    .dataframe tbody tr th:only-of-type {\n",
              "        vertical-align: middle;\n",
              "    }\n",
              "\n",
              "    .dataframe tbody tr th {\n",
              "        vertical-align: top;\n",
              "    }\n",
              "\n",
              "    .dataframe thead th {\n",
              "        text-align: right;\n",
              "    }\n",
              "</style>\n",
              "<table border=\"1\" class=\"dataframe\">\n",
              "  <thead>\n",
              "    <tr style=\"text-align: right;\">\n",
              "      <th></th>\n",
              "      <th>year</th>\n",
              "      <th>fips</th>\n",
              "      <th>month</th>\n",
              "      <th>temp</th>\n",
              "      <th>County_Name</th>\n",
              "      <th>State</th>\n",
              "      <th>percip</th>\n",
              "    </tr>\n",
              "  </thead>\n",
              "  <tbody>\n",
              "    <tr>\n",
              "      <th>0</th>\n",
              "      <td>2004</td>\n",
              "      <td>1001</td>\n",
              "      <td>Jan</td>\n",
              "      <td>45.0</td>\n",
              "      <td>Autauga</td>\n",
              "      <td>Alabama</td>\n",
              "      <td>2.60</td>\n",
              "    </tr>\n",
              "    <tr>\n",
              "      <th>1</th>\n",
              "      <td>2005</td>\n",
              "      <td>1001</td>\n",
              "      <td>Jan</td>\n",
              "      <td>49.9</td>\n",
              "      <td>Autauga</td>\n",
              "      <td>Alabama</td>\n",
              "      <td>3.08</td>\n",
              "    </tr>\n",
              "    <tr>\n",
              "      <th>2</th>\n",
              "      <td>2006</td>\n",
              "      <td>1001</td>\n",
              "      <td>Jan</td>\n",
              "      <td>52.0</td>\n",
              "      <td>Autauga</td>\n",
              "      <td>Alabama</td>\n",
              "      <td>5.69</td>\n",
              "    </tr>\n",
              "    <tr>\n",
              "      <th>3</th>\n",
              "      <td>2007</td>\n",
              "      <td>1001</td>\n",
              "      <td>Jan</td>\n",
              "      <td>47.3</td>\n",
              "      <td>Autauga</td>\n",
              "      <td>Alabama</td>\n",
              "      <td>4.73</td>\n",
              "    </tr>\n",
              "    <tr>\n",
              "      <th>4</th>\n",
              "      <td>2008</td>\n",
              "      <td>1001</td>\n",
              "      <td>Jan</td>\n",
              "      <td>43.4</td>\n",
              "      <td>Autauga</td>\n",
              "      <td>Alabama</td>\n",
              "      <td>4.36</td>\n",
              "    </tr>\n",
              "  </tbody>\n",
              "</table>\n",
              "</div>"
            ],
            "text/plain": [
              "   year  fips month  temp County_Name    State  percip\n",
              "0  2004  1001   Jan  45.0     Autauga  Alabama    2.60\n",
              "1  2005  1001   Jan  49.9     Autauga  Alabama    3.08\n",
              "2  2006  1001   Jan  52.0     Autauga  Alabama    5.69\n",
              "3  2007  1001   Jan  47.3     Autauga  Alabama    4.73\n",
              "4  2008  1001   Jan  43.4     Autauga  Alabama    4.36"
            ]
          },
          "execution_count": 216,
          "metadata": {},
          "output_type": "execute_result"
        }
      ],
      "source": [
        "clim.head()"
      ]
    },
    {
      "cell_type": "code",
      "execution_count": 217,
      "metadata": {},
      "outputs": [
        {
          "name": "stdout",
          "output_type": "stream",
          "text": [
            "      year   fips month  temp County_Name    State  percip  Rank\n",
            "0     2004   4013   Jan  53.9    Maricopa  Arizona    0.52     6\n",
            "1     2005   4013   Jan  54.3    Maricopa  Arizona    2.45     6\n",
            "2     2006   4013   Jan  54.0    Maricopa  Arizona    0.00     6\n",
            "3     2007   4013   Jan  49.8    Maricopa  Arizona    0.68     6\n",
            "4     2008   4013   Jan  51.1    Maricopa  Arizona    2.19     6\n",
            "...    ...    ...   ...   ...         ...      ...     ...   ...\n",
            "2395  2019  56025   Dec  25.0     Natrona  Wyoming    0.51     9\n",
            "2396  2020  56025   Dec  25.5     Natrona  Wyoming    0.62     9\n",
            "2397  2021  56025   Dec  27.7     Natrona  Wyoming    0.41     9\n",
            "2398  2022  56025   Dec  21.0     Natrona  Wyoming    0.66     9\n",
            "2399  2023  56025   Dec  30.3     Natrona  Wyoming    0.14     9\n",
            "\n",
            "[2400 rows x 8 columns]\n"
          ]
        }
      ],
      "source": [
        "data = [\n",
        "    {\"Rank\": 1, \"County_Name\": \"Orange\", \"State\": \"Florida\"},  # Adjusted to match the format\n",
        "    {\"Rank\": 2, \"County_Name\": \"Miami-Dade\", \"State\": \"Florida\"},\n",
        "    {\"Rank\": 3, \"County_Name\": \"Hennepin\", \"State\": \"Minnesota\"},\n",
        "    {\"Rank\": 4, \"County_Name\": \"Hillsborough\", \"State\": \"Florida\"},\n",
        "    {\"Rank\": 5, \"County_Name\": \"Broward\", \"State\": \"Florida\"},\n",
        "    {\"Rank\": 6, \"County_Name\": \"Maricopa\", \"State\": \"Arizona\"},\n",
        "    {\"Rank\": 7, \"County_Name\": \"Hamilton\", \"State\": \"Ohio\"},\n",
        "    {\"Rank\": 8, \"County_Name\": \"Pinellas\", \"State\": \"Florida\"},\n",
        "    {\"Rank\": 9, \"County_Name\": \"Natrona\", \"State\": \"Wyoming\"},\n",
        "    {\"Rank\": 10, \"County_Name\": \"Fulton\", \"State\": \"Georgia\"},\n",
        "]\n",
        "\n",
        "counties_df = pd.DataFrame(data)\n",
        "\n",
        "# Merge climate data with counties based on 'County_Name' and 'State'\n",
        "top10_wallet= pd.merge(clim, counties_df, on=['County_Name', 'State'], how='inner')\n",
        "print(top10_wallet)\n"
      ]
    },
    {
      "cell_type": "code",
      "execution_count": 218,
      "metadata": {},
      "outputs": [
        {
          "name": "stdout",
          "output_type": "stream",
          "text": [
            "       County_Name      State  temp  percip  desirability_month  Rank month  \\\n",
            "0         Maricopa    Arizona  53.9    0.52            0.660293     6   Jan   \n",
            "1          Broward    Florida  64.9    2.10            0.564809     5   Jan   \n",
            "2     Hillsborough    Florida  59.0    3.64            0.540294     4   Jan   \n",
            "3       Miami-Dade    Florida  65.7    2.28            0.412779     2   Jan   \n",
            "4           Orange    Florida  59.1    2.66            0.408844     1   Jan   \n",
            "...            ...        ...   ...     ...                 ...   ...   ...   \n",
            "2395      Pinellas    Florida  63.7    3.62            0.766481     8   Dec   \n",
            "2396        Fulton    Georgia  47.2    3.95            0.884067    10   Dec   \n",
            "2397      Hennepin  Minnesota  32.1    2.31            0.437991     3   Dec   \n",
            "2398      Hamilton       Ohio  41.2    2.09            0.696968     7   Dec   \n",
            "2399       Natrona    Wyoming  30.3    0.14            0.682855     9   Dec   \n",
            "\n",
            "      year  desirability_year  \n",
            "0     2004           0.648223  \n",
            "1     2004           0.600495  \n",
            "2     2004           0.550392  \n",
            "3     2004           0.451017  \n",
            "4     2004           0.414143  \n",
            "...    ...                ...  \n",
            "2395  2023           0.766456  \n",
            "2396  2023           0.890669  \n",
            "2397  2023           0.439900  \n",
            "2398  2023           0.691574  \n",
            "2399  2023           0.700416  \n",
            "\n",
            "[2400 rows x 9 columns]\n"
          ]
        }
      ],
      "source": [
        "import pandas as pd\n",
        "\n",
        "top10_wallet['year_month'] = top10_wallet['year'].astype(str) + '-' + top10_wallet['month']\n",
        "\n",
        "# Calculate overall averages for each month across all years\n",
        "overall_avg = top10_wallet.groupby(['month', 'year']).agg({'temp': 'mean', 'percip': 'mean'}).reset_index()\n",
        "overall_avg.columns = ['month', 'year', 'overall_avg_temp', 'overall_avg_percip']\n",
        "\n",
        "# Merge overall averages with the monthly data\n",
        "monthly_averages = pd.merge(top10_wallet, overall_avg, on=['month', 'year'])\n",
        "\n",
        "    # Calculate absolute differences from overall averages\n",
        "monthly_averages['temp_diff'] = abs(monthly_averages['temp'] - monthly_averages['overall_avg_temp'])\n",
        "monthly_averages['percip_diff'] = abs(monthly_averages['percip'] - monthly_averages['overall_avg_percip'])\n",
        "\n",
        "# Weights for desirability components\n",
        "w_T = 0.3  # weight for temperature\n",
        "w_P = 0.2  # weight for precipitation\n",
        "w_r = 0.5  # weight for rank\n",
        "\n",
        "# Normalize the rank so that a lower rank yields a higher desirability contribution\n",
        "monthly_averages['rank_adjusted'] = monthly_averages['Rank'].max() - monthly_averages['Rank'] + 1\n",
        "\n",
        "# Define maximum possible differences for normalization\n",
        "max_temp_diff = monthly_averages['temp_diff'].max()\n",
        "max_percip_diff = monthly_averages['percip_diff'].max()\n",
        "\n",
        "# Calculate desirability score\n",
        "monthly_averages['desirability_month'] = (\n",
        "    (1 - (monthly_averages['temp_diff'] / max_temp_diff)) * w_T +  # Smaller temp_diff is better\n",
        "    (1 - (monthly_averages['percip_diff'] / max_percip_diff)) * w_P +  # Smaller percip_diff is better\n",
        "    (1 - (monthly_averages['rank_adjusted'] / monthly_averages['rank_adjusted'].max())) * w_r  # Lower rank is better\n",
        ")\n",
        "\n",
        "# Calculate yearly desirability score by taking the mean of monthly scores per county and year\n",
        "yearly_desirability = monthly_averages.groupby(['County_Name', 'State', 'year']).agg({'desirability_month': 'mean'}).reset_index()\n",
        "yearly_desirability.columns = ['County_Name', 'State', 'year', 'desirability_year']\n",
        "\n",
        "# Merge yearly desirability back into the monthly averages DataFrame\n",
        "monthly_averages = pd.merge(monthly_averages, yearly_desirability, on=['County_Name', 'State', 'year'], how='left')\n",
        "\n",
        "# Output the final results\n",
        "final_results = monthly_averages[['County_Name', 'State', 'temp', 'percip', 'desirability_month', 'Rank', 'month', 'year', 'desirability_year']]\n",
        "print(final_results)"
      ]
    },
    {
      "cell_type": "code",
      "execution_count": null,
      "metadata": {},
      "outputs": [],
      "source": []
    },
    {
      "cell_type": "code",
      "execution_count": 219,
      "metadata": {},
      "outputs": [
        {
          "data": {
            "application/vnd.plotly.v1+json": {
              "config": {
                "plotlyServerURL": "https://plot.ly"
              },
              "data": [
                {
                  "hovertemplate": "County_State=Maricopa, Arizona<br>month=%{x}<br>temp=%{y}<extra></extra>",
                  "legendgroup": "Maricopa, Arizona",
                  "line": {
                    "color": "#636efa",
                    "dash": "solid"
                  },
                  "marker": {
                    "symbol": "circle"
                  },
                  "mode": "markers+lines",
                  "name": "Maricopa, Arizona",
                  "orientation": "v",
                  "showlegend": true,
                  "type": "scatter",
                  "x": [
                    "Jan",
                    "Feb",
                    "Mar",
                    "Apr",
                    "May",
                    "Jun",
                    "Jul",
                    "Aug",
                    "Sep",
                    "Oct",
                    "Nov",
                    "Dec"
                  ],
                  "xaxis": "x",
                  "y": [
                    50,
                    52.6,
                    57,
                    68.7,
                    76.4,
                    81.6,
                    95.8,
                    91.9,
                    84.1,
                    74.9,
                    63.1,
                    55.5
                  ],
                  "yaxis": "y"
                },
                {
                  "hovertemplate": "County_State=Broward, Florida<br>month=%{x}<br>temp=%{y}<extra></extra>",
                  "legendgroup": "Broward, Florida",
                  "line": {
                    "color": "#EF553B",
                    "dash": "solid"
                  },
                  "marker": {
                    "symbol": "circle"
                  },
                  "mode": "markers+lines",
                  "name": "Broward, Florida",
                  "orientation": "v",
                  "showlegend": true,
                  "type": "scatter",
                  "x": [
                    "Jan",
                    "Feb",
                    "Mar",
                    "Apr",
                    "May",
                    "Jun",
                    "Jul",
                    "Aug",
                    "Sep",
                    "Oct",
                    "Nov",
                    "Dec"
                  ],
                  "xaxis": "x",
                  "y": [
                    69.6,
                    73.6,
                    74.5,
                    77,
                    79.2,
                    82.3,
                    84.9,
                    85.1,
                    83.1,
                    79.2,
                    75.2,
                    69.2
                  ],
                  "yaxis": "y"
                },
                {
                  "hovertemplate": "County_State=Hillsborough, Florida<br>month=%{x}<br>temp=%{y}<extra></extra>",
                  "legendgroup": "Hillsborough, Florida",
                  "line": {
                    "color": "#00cc96",
                    "dash": "solid"
                  },
                  "marker": {
                    "symbol": "circle"
                  },
                  "mode": "markers+lines",
                  "name": "Hillsborough, Florida",
                  "orientation": "v",
                  "showlegend": true,
                  "type": "scatter",
                  "x": [
                    "Jan",
                    "Feb",
                    "Mar",
                    "Apr",
                    "May",
                    "Jun",
                    "Jul",
                    "Aug",
                    "Sep",
                    "Oct",
                    "Nov",
                    "Dec"
                  ],
                  "xaxis": "x",
                  "y": [
                    63.5,
                    69.1,
                    71.2,
                    76,
                    77.8,
                    81.5,
                    84.5,
                    85.4,
                    81.9,
                    75.5,
                    69.2,
                    63.7
                  ],
                  "yaxis": "y"
                },
                {
                  "hovertemplate": "County_State=Miami-Dade, Florida<br>month=%{x}<br>temp=%{y}<extra></extra>",
                  "legendgroup": "Miami-Dade, Florida",
                  "line": {
                    "color": "#ab63fa",
                    "dash": "solid"
                  },
                  "marker": {
                    "symbol": "circle"
                  },
                  "mode": "markers+lines",
                  "name": "Miami-Dade, Florida",
                  "orientation": "v",
                  "showlegend": true,
                  "type": "scatter",
                  "x": [
                    "Jan",
                    "Feb",
                    "Mar",
                    "Apr",
                    "May",
                    "Jun",
                    "Jul",
                    "Aug",
                    "Sep",
                    "Oct",
                    "Nov",
                    "Dec"
                  ],
                  "xaxis": "x",
                  "y": [
                    70.1,
                    73.9,
                    74.6,
                    77.4,
                    78.8,
                    82.4,
                    85,
                    85,
                    83.2,
                    79.4,
                    75.6,
                    70.1
                  ],
                  "yaxis": "y"
                },
                {
                  "hovertemplate": "County_State=Orange, Florida<br>month=%{x}<br>temp=%{y}<extra></extra>",
                  "legendgroup": "Orange, Florida",
                  "line": {
                    "color": "#FFA15A",
                    "dash": "solid"
                  },
                  "marker": {
                    "symbol": "circle"
                  },
                  "mode": "markers+lines",
                  "name": "Orange, Florida",
                  "orientation": "v",
                  "showlegend": true,
                  "type": "scatter",
                  "x": [
                    "Jan",
                    "Feb",
                    "Mar",
                    "Apr",
                    "May",
                    "Jun",
                    "Jul",
                    "Aug",
                    "Sep",
                    "Oct",
                    "Nov",
                    "Dec"
                  ],
                  "xaxis": "x",
                  "y": [
                    63.4,
                    69.3,
                    71.2,
                    75.4,
                    77.2,
                    81.5,
                    84.6,
                    85.4,
                    81.5,
                    75.1,
                    69.1,
                    64.2
                  ],
                  "yaxis": "y"
                },
                {
                  "hovertemplate": "County_State=Pinellas, Florida<br>month=%{x}<br>temp=%{y}<extra></extra>",
                  "legendgroup": "Pinellas, Florida",
                  "line": {
                    "color": "#19d3f3",
                    "dash": "solid"
                  },
                  "marker": {
                    "symbol": "circle"
                  },
                  "mode": "markers+lines",
                  "name": "Pinellas, Florida",
                  "orientation": "v",
                  "showlegend": true,
                  "type": "scatter",
                  "x": [
                    "Jan",
                    "Feb",
                    "Mar",
                    "Apr",
                    "May",
                    "Jun",
                    "Jul",
                    "Aug",
                    "Sep",
                    "Oct",
                    "Nov",
                    "Dec"
                  ],
                  "xaxis": "x",
                  "y": [
                    63,
                    68.7,
                    70.7,
                    76,
                    77.7,
                    81.6,
                    84.8,
                    85.9,
                    82.4,
                    76.1,
                    69.6,
                    63.7
                  ],
                  "yaxis": "y"
                },
                {
                  "hovertemplate": "County_State=Fulton, Georgia<br>month=%{x}<br>temp=%{y}<extra></extra>",
                  "legendgroup": "Fulton, Georgia",
                  "line": {
                    "color": "#FF6692",
                    "dash": "solid"
                  },
                  "marker": {
                    "symbol": "circle"
                  },
                  "mode": "markers+lines",
                  "name": "Fulton, Georgia",
                  "orientation": "v",
                  "showlegend": true,
                  "type": "scatter",
                  "x": [
                    "Jan",
                    "Feb",
                    "Mar",
                    "Apr",
                    "May",
                    "Jun",
                    "Jul",
                    "Aug",
                    "Sep",
                    "Oct",
                    "Nov",
                    "Dec"
                  ],
                  "xaxis": "x",
                  "y": [
                    49.2,
                    54.9,
                    55.6,
                    60.9,
                    68,
                    74.1,
                    80.5,
                    80.1,
                    72.8,
                    63.2,
                    53.6,
                    47.2
                  ],
                  "yaxis": "y"
                },
                {
                  "hovertemplate": "County_State=Hennepin, Minnesota<br>month=%{x}<br>temp=%{y}<extra></extra>",
                  "legendgroup": "Hennepin, Minnesota",
                  "line": {
                    "color": "#B6E880",
                    "dash": "solid"
                  },
                  "marker": {
                    "symbol": "circle"
                  },
                  "mode": "markers+lines",
                  "name": "Hennepin, Minnesota",
                  "orientation": "v",
                  "showlegend": true,
                  "type": "scatter",
                  "x": [
                    "Jan",
                    "Feb",
                    "Mar",
                    "Apr",
                    "May",
                    "Jun",
                    "Jul",
                    "Aug",
                    "Sep",
                    "Oct",
                    "Nov",
                    "Dec"
                  ],
                  "xaxis": "x",
                  "y": [
                    18.8,
                    19.1,
                    27,
                    43.7,
                    62.1,
                    72.3,
                    71.9,
                    72,
                    66.9,
                    50.4,
                    36.5,
                    32.1
                  ],
                  "yaxis": "y"
                },
                {
                  "hovertemplate": "County_State=Hamilton, Ohio<br>month=%{x}<br>temp=%{y}<extra></extra>",
                  "legendgroup": "Hamilton, Ohio",
                  "line": {
                    "color": "#FF97FF",
                    "dash": "solid"
                  },
                  "marker": {
                    "symbol": "circle"
                  },
                  "mode": "markers+lines",
                  "name": "Hamilton, Ohio",
                  "orientation": "v",
                  "showlegend": true,
                  "type": "scatter",
                  "x": [
                    "Jan",
                    "Feb",
                    "Mar",
                    "Apr",
                    "May",
                    "Jun",
                    "Jul",
                    "Aug",
                    "Sep",
                    "Oct",
                    "Nov",
                    "Dec"
                  ],
                  "xaxis": "x",
                  "y": [
                    38.4,
                    41.9,
                    43.5,
                    53.7,
                    62.2,
                    69.7,
                    75.9,
                    74,
                    68.8,
                    57.2,
                    45.2,
                    41.2
                  ],
                  "yaxis": "y"
                },
                {
                  "hovertemplate": "County_State=Natrona, Wyoming<br>month=%{x}<br>temp=%{y}<extra></extra>",
                  "legendgroup": "Natrona, Wyoming",
                  "line": {
                    "color": "#FECB52",
                    "dash": "solid"
                  },
                  "marker": {
                    "symbol": "circle"
                  },
                  "mode": "markers+lines",
                  "name": "Natrona, Wyoming",
                  "orientation": "v",
                  "showlegend": true,
                  "type": "scatter",
                  "x": [
                    "Jan",
                    "Feb",
                    "Mar",
                    "Apr",
                    "May",
                    "Jun",
                    "Jul",
                    "Aug",
                    "Sep",
                    "Oct",
                    "Nov",
                    "Dec"
                  ],
                  "xaxis": "x",
                  "y": [
                    20.1,
                    21,
                    25.2,
                    38.1,
                    54.8,
                    58.6,
                    68.6,
                    66.5,
                    60.5,
                    44.9,
                    34.7,
                    30.3
                  ],
                  "yaxis": "y"
                }
              ],
              "layout": {
                "legend": {
                  "title": {
                    "text": "County, State"
                  },
                  "tracegroupgap": 0
                },
                "template": {
                  "data": {
                    "bar": [
                      {
                        "error_x": {
                          "color": "#2a3f5f"
                        },
                        "error_y": {
                          "color": "#2a3f5f"
                        },
                        "marker": {
                          "line": {
                            "color": "#E5ECF6",
                            "width": 0.5
                          },
                          "pattern": {
                            "fillmode": "overlay",
                            "size": 10,
                            "solidity": 0.2
                          }
                        },
                        "type": "bar"
                      }
                    ],
                    "barpolar": [
                      {
                        "marker": {
                          "line": {
                            "color": "#E5ECF6",
                            "width": 0.5
                          },
                          "pattern": {
                            "fillmode": "overlay",
                            "size": 10,
                            "solidity": 0.2
                          }
                        },
                        "type": "barpolar"
                      }
                    ],
                    "carpet": [
                      {
                        "aaxis": {
                          "endlinecolor": "#2a3f5f",
                          "gridcolor": "white",
                          "linecolor": "white",
                          "minorgridcolor": "white",
                          "startlinecolor": "#2a3f5f"
                        },
                        "baxis": {
                          "endlinecolor": "#2a3f5f",
                          "gridcolor": "white",
                          "linecolor": "white",
                          "minorgridcolor": "white",
                          "startlinecolor": "#2a3f5f"
                        },
                        "type": "carpet"
                      }
                    ],
                    "choropleth": [
                      {
                        "colorbar": {
                          "outlinewidth": 0,
                          "ticks": ""
                        },
                        "type": "choropleth"
                      }
                    ],
                    "contour": [
                      {
                        "colorbar": {
                          "outlinewidth": 0,
                          "ticks": ""
                        },
                        "colorscale": [
                          [
                            0,
                            "#0d0887"
                          ],
                          [
                            0.1111111111111111,
                            "#46039f"
                          ],
                          [
                            0.2222222222222222,
                            "#7201a8"
                          ],
                          [
                            0.3333333333333333,
                            "#9c179e"
                          ],
                          [
                            0.4444444444444444,
                            "#bd3786"
                          ],
                          [
                            0.5555555555555556,
                            "#d8576b"
                          ],
                          [
                            0.6666666666666666,
                            "#ed7953"
                          ],
                          [
                            0.7777777777777778,
                            "#fb9f3a"
                          ],
                          [
                            0.8888888888888888,
                            "#fdca26"
                          ],
                          [
                            1,
                            "#f0f921"
                          ]
                        ],
                        "type": "contour"
                      }
                    ],
                    "contourcarpet": [
                      {
                        "colorbar": {
                          "outlinewidth": 0,
                          "ticks": ""
                        },
                        "type": "contourcarpet"
                      }
                    ],
                    "heatmap": [
                      {
                        "colorbar": {
                          "outlinewidth": 0,
                          "ticks": ""
                        },
                        "colorscale": [
                          [
                            0,
                            "#0d0887"
                          ],
                          [
                            0.1111111111111111,
                            "#46039f"
                          ],
                          [
                            0.2222222222222222,
                            "#7201a8"
                          ],
                          [
                            0.3333333333333333,
                            "#9c179e"
                          ],
                          [
                            0.4444444444444444,
                            "#bd3786"
                          ],
                          [
                            0.5555555555555556,
                            "#d8576b"
                          ],
                          [
                            0.6666666666666666,
                            "#ed7953"
                          ],
                          [
                            0.7777777777777778,
                            "#fb9f3a"
                          ],
                          [
                            0.8888888888888888,
                            "#fdca26"
                          ],
                          [
                            1,
                            "#f0f921"
                          ]
                        ],
                        "type": "heatmap"
                      }
                    ],
                    "heatmapgl": [
                      {
                        "colorbar": {
                          "outlinewidth": 0,
                          "ticks": ""
                        },
                        "colorscale": [
                          [
                            0,
                            "#0d0887"
                          ],
                          [
                            0.1111111111111111,
                            "#46039f"
                          ],
                          [
                            0.2222222222222222,
                            "#7201a8"
                          ],
                          [
                            0.3333333333333333,
                            "#9c179e"
                          ],
                          [
                            0.4444444444444444,
                            "#bd3786"
                          ],
                          [
                            0.5555555555555556,
                            "#d8576b"
                          ],
                          [
                            0.6666666666666666,
                            "#ed7953"
                          ],
                          [
                            0.7777777777777778,
                            "#fb9f3a"
                          ],
                          [
                            0.8888888888888888,
                            "#fdca26"
                          ],
                          [
                            1,
                            "#f0f921"
                          ]
                        ],
                        "type": "heatmapgl"
                      }
                    ],
                    "histogram": [
                      {
                        "marker": {
                          "pattern": {
                            "fillmode": "overlay",
                            "size": 10,
                            "solidity": 0.2
                          }
                        },
                        "type": "histogram"
                      }
                    ],
                    "histogram2d": [
                      {
                        "colorbar": {
                          "outlinewidth": 0,
                          "ticks": ""
                        },
                        "colorscale": [
                          [
                            0,
                            "#0d0887"
                          ],
                          [
                            0.1111111111111111,
                            "#46039f"
                          ],
                          [
                            0.2222222222222222,
                            "#7201a8"
                          ],
                          [
                            0.3333333333333333,
                            "#9c179e"
                          ],
                          [
                            0.4444444444444444,
                            "#bd3786"
                          ],
                          [
                            0.5555555555555556,
                            "#d8576b"
                          ],
                          [
                            0.6666666666666666,
                            "#ed7953"
                          ],
                          [
                            0.7777777777777778,
                            "#fb9f3a"
                          ],
                          [
                            0.8888888888888888,
                            "#fdca26"
                          ],
                          [
                            1,
                            "#f0f921"
                          ]
                        ],
                        "type": "histogram2d"
                      }
                    ],
                    "histogram2dcontour": [
                      {
                        "colorbar": {
                          "outlinewidth": 0,
                          "ticks": ""
                        },
                        "colorscale": [
                          [
                            0,
                            "#0d0887"
                          ],
                          [
                            0.1111111111111111,
                            "#46039f"
                          ],
                          [
                            0.2222222222222222,
                            "#7201a8"
                          ],
                          [
                            0.3333333333333333,
                            "#9c179e"
                          ],
                          [
                            0.4444444444444444,
                            "#bd3786"
                          ],
                          [
                            0.5555555555555556,
                            "#d8576b"
                          ],
                          [
                            0.6666666666666666,
                            "#ed7953"
                          ],
                          [
                            0.7777777777777778,
                            "#fb9f3a"
                          ],
                          [
                            0.8888888888888888,
                            "#fdca26"
                          ],
                          [
                            1,
                            "#f0f921"
                          ]
                        ],
                        "type": "histogram2dcontour"
                      }
                    ],
                    "mesh3d": [
                      {
                        "colorbar": {
                          "outlinewidth": 0,
                          "ticks": ""
                        },
                        "type": "mesh3d"
                      }
                    ],
                    "parcoords": [
                      {
                        "line": {
                          "colorbar": {
                            "outlinewidth": 0,
                            "ticks": ""
                          }
                        },
                        "type": "parcoords"
                      }
                    ],
                    "pie": [
                      {
                        "automargin": true,
                        "type": "pie"
                      }
                    ],
                    "scatter": [
                      {
                        "fillpattern": {
                          "fillmode": "overlay",
                          "size": 10,
                          "solidity": 0.2
                        },
                        "type": "scatter"
                      }
                    ],
                    "scatter3d": [
                      {
                        "line": {
                          "colorbar": {
                            "outlinewidth": 0,
                            "ticks": ""
                          }
                        },
                        "marker": {
                          "colorbar": {
                            "outlinewidth": 0,
                            "ticks": ""
                          }
                        },
                        "type": "scatter3d"
                      }
                    ],
                    "scattercarpet": [
                      {
                        "marker": {
                          "colorbar": {
                            "outlinewidth": 0,
                            "ticks": ""
                          }
                        },
                        "type": "scattercarpet"
                      }
                    ],
                    "scattergeo": [
                      {
                        "marker": {
                          "colorbar": {
                            "outlinewidth": 0,
                            "ticks": ""
                          }
                        },
                        "type": "scattergeo"
                      }
                    ],
                    "scattergl": [
                      {
                        "marker": {
                          "colorbar": {
                            "outlinewidth": 0,
                            "ticks": ""
                          }
                        },
                        "type": "scattergl"
                      }
                    ],
                    "scattermapbox": [
                      {
                        "marker": {
                          "colorbar": {
                            "outlinewidth": 0,
                            "ticks": ""
                          }
                        },
                        "type": "scattermapbox"
                      }
                    ],
                    "scatterpolar": [
                      {
                        "marker": {
                          "colorbar": {
                            "outlinewidth": 0,
                            "ticks": ""
                          }
                        },
                        "type": "scatterpolar"
                      }
                    ],
                    "scatterpolargl": [
                      {
                        "marker": {
                          "colorbar": {
                            "outlinewidth": 0,
                            "ticks": ""
                          }
                        },
                        "type": "scatterpolargl"
                      }
                    ],
                    "scatterternary": [
                      {
                        "marker": {
                          "colorbar": {
                            "outlinewidth": 0,
                            "ticks": ""
                          }
                        },
                        "type": "scatterternary"
                      }
                    ],
                    "surface": [
                      {
                        "colorbar": {
                          "outlinewidth": 0,
                          "ticks": ""
                        },
                        "colorscale": [
                          [
                            0,
                            "#0d0887"
                          ],
                          [
                            0.1111111111111111,
                            "#46039f"
                          ],
                          [
                            0.2222222222222222,
                            "#7201a8"
                          ],
                          [
                            0.3333333333333333,
                            "#9c179e"
                          ],
                          [
                            0.4444444444444444,
                            "#bd3786"
                          ],
                          [
                            0.5555555555555556,
                            "#d8576b"
                          ],
                          [
                            0.6666666666666666,
                            "#ed7953"
                          ],
                          [
                            0.7777777777777778,
                            "#fb9f3a"
                          ],
                          [
                            0.8888888888888888,
                            "#fdca26"
                          ],
                          [
                            1,
                            "#f0f921"
                          ]
                        ],
                        "type": "surface"
                      }
                    ],
                    "table": [
                      {
                        "cells": {
                          "fill": {
                            "color": "#EBF0F8"
                          },
                          "line": {
                            "color": "white"
                          }
                        },
                        "header": {
                          "fill": {
                            "color": "#C8D4E3"
                          },
                          "line": {
                            "color": "white"
                          }
                        },
                        "type": "table"
                      }
                    ]
                  },
                  "layout": {
                    "annotationdefaults": {
                      "arrowcolor": "#2a3f5f",
                      "arrowhead": 0,
                      "arrowwidth": 1
                    },
                    "autotypenumbers": "strict",
                    "coloraxis": {
                      "colorbar": {
                        "outlinewidth": 0,
                        "ticks": ""
                      }
                    },
                    "colorscale": {
                      "diverging": [
                        [
                          0,
                          "#8e0152"
                        ],
                        [
                          0.1,
                          "#c51b7d"
                        ],
                        [
                          0.2,
                          "#de77ae"
                        ],
                        [
                          0.3,
                          "#f1b6da"
                        ],
                        [
                          0.4,
                          "#fde0ef"
                        ],
                        [
                          0.5,
                          "#f7f7f7"
                        ],
                        [
                          0.6,
                          "#e6f5d0"
                        ],
                        [
                          0.7,
                          "#b8e186"
                        ],
                        [
                          0.8,
                          "#7fbc41"
                        ],
                        [
                          0.9,
                          "#4d9221"
                        ],
                        [
                          1,
                          "#276419"
                        ]
                      ],
                      "sequential": [
                        [
                          0,
                          "#0d0887"
                        ],
                        [
                          0.1111111111111111,
                          "#46039f"
                        ],
                        [
                          0.2222222222222222,
                          "#7201a8"
                        ],
                        [
                          0.3333333333333333,
                          "#9c179e"
                        ],
                        [
                          0.4444444444444444,
                          "#bd3786"
                        ],
                        [
                          0.5555555555555556,
                          "#d8576b"
                        ],
                        [
                          0.6666666666666666,
                          "#ed7953"
                        ],
                        [
                          0.7777777777777778,
                          "#fb9f3a"
                        ],
                        [
                          0.8888888888888888,
                          "#fdca26"
                        ],
                        [
                          1,
                          "#f0f921"
                        ]
                      ],
                      "sequentialminus": [
                        [
                          0,
                          "#0d0887"
                        ],
                        [
                          0.1111111111111111,
                          "#46039f"
                        ],
                        [
                          0.2222222222222222,
                          "#7201a8"
                        ],
                        [
                          0.3333333333333333,
                          "#9c179e"
                        ],
                        [
                          0.4444444444444444,
                          "#bd3786"
                        ],
                        [
                          0.5555555555555556,
                          "#d8576b"
                        ],
                        [
                          0.6666666666666666,
                          "#ed7953"
                        ],
                        [
                          0.7777777777777778,
                          "#fb9f3a"
                        ],
                        [
                          0.8888888888888888,
                          "#fdca26"
                        ],
                        [
                          1,
                          "#f0f921"
                        ]
                      ]
                    },
                    "colorway": [
                      "#636efa",
                      "#EF553B",
                      "#00cc96",
                      "#ab63fa",
                      "#FFA15A",
                      "#19d3f3",
                      "#FF6692",
                      "#B6E880",
                      "#FF97FF",
                      "#FECB52"
                    ],
                    "font": {
                      "color": "#2a3f5f"
                    },
                    "geo": {
                      "bgcolor": "white",
                      "lakecolor": "white",
                      "landcolor": "#E5ECF6",
                      "showlakes": true,
                      "showland": true,
                      "subunitcolor": "white"
                    },
                    "hoverlabel": {
                      "align": "left"
                    },
                    "hovermode": "closest",
                    "mapbox": {
                      "style": "light"
                    },
                    "paper_bgcolor": "white",
                    "plot_bgcolor": "#E5ECF6",
                    "polar": {
                      "angularaxis": {
                        "gridcolor": "white",
                        "linecolor": "white",
                        "ticks": ""
                      },
                      "bgcolor": "#E5ECF6",
                      "radialaxis": {
                        "gridcolor": "white",
                        "linecolor": "white",
                        "ticks": ""
                      }
                    },
                    "scene": {
                      "xaxis": {
                        "backgroundcolor": "#E5ECF6",
                        "gridcolor": "white",
                        "gridwidth": 2,
                        "linecolor": "white",
                        "showbackground": true,
                        "ticks": "",
                        "zerolinecolor": "white"
                      },
                      "yaxis": {
                        "backgroundcolor": "#E5ECF6",
                        "gridcolor": "white",
                        "gridwidth": 2,
                        "linecolor": "white",
                        "showbackground": true,
                        "ticks": "",
                        "zerolinecolor": "white"
                      },
                      "zaxis": {
                        "backgroundcolor": "#E5ECF6",
                        "gridcolor": "white",
                        "gridwidth": 2,
                        "linecolor": "white",
                        "showbackground": true,
                        "ticks": "",
                        "zerolinecolor": "white"
                      }
                    },
                    "shapedefaults": {
                      "line": {
                        "color": "#2a3f5f"
                      }
                    },
                    "ternary": {
                      "aaxis": {
                        "gridcolor": "white",
                        "linecolor": "white",
                        "ticks": ""
                      },
                      "baxis": {
                        "gridcolor": "white",
                        "linecolor": "white",
                        "ticks": ""
                      },
                      "bgcolor": "#E5ECF6",
                      "caxis": {
                        "gridcolor": "white",
                        "linecolor": "white",
                        "ticks": ""
                      }
                    },
                    "title": {
                      "x": 0.05
                    },
                    "xaxis": {
                      "automargin": true,
                      "gridcolor": "white",
                      "linecolor": "white",
                      "ticks": "",
                      "title": {
                        "standoff": 15
                      },
                      "zerolinecolor": "white",
                      "zerolinewidth": 2
                    },
                    "yaxis": {
                      "automargin": true,
                      "gridcolor": "white",
                      "linecolor": "white",
                      "ticks": "",
                      "title": {
                        "standoff": 15
                      },
                      "zerolinecolor": "white",
                      "zerolinewidth": 2
                    }
                  }
                },
                "title": {
                  "text": "Temperature in Top 10 Places to Retire (2023)"
                },
                "xaxis": {
                  "anchor": "y",
                  "domain": [
                    0,
                    1
                  ],
                  "title": {
                    "text": "Month"
                  }
                },
                "yaxis": {
                  "anchor": "x",
                  "domain": [
                    0,
                    1
                  ],
                  "title": {
                    "text": "Temperature (°F)"
                  }
                }
              }
            }
          },
          "metadata": {},
          "output_type": "display_data"
        },
        {
          "data": {
            "application/vnd.plotly.v1+json": {
              "config": {
                "plotlyServerURL": "https://plot.ly"
              },
              "data": [
                {
                  "hovertemplate": "County_State=Maricopa, Arizona<br>month=%{x}<br>percip=%{y}<extra></extra>",
                  "legendgroup": "Maricopa, Arizona",
                  "line": {
                    "color": "#636efa",
                    "dash": "solid"
                  },
                  "marker": {
                    "symbol": "circle"
                  },
                  "mode": "markers+lines",
                  "name": "Maricopa, Arizona",
                  "orientation": "v",
                  "showlegend": true,
                  "type": "scatter",
                  "x": [
                    "Jan",
                    "Feb",
                    "Mar",
                    "Apr",
                    "May",
                    "Jun",
                    "Jul",
                    "Aug",
                    "Sep",
                    "Oct",
                    "Nov",
                    "Dec"
                  ],
                  "xaxis": "x",
                  "y": [
                    1.7,
                    0.97,
                    1.48,
                    0,
                    0.11,
                    0,
                    0.1,
                    0.5,
                    0.76,
                    0.01,
                    0.29,
                    1.15
                  ],
                  "yaxis": "y"
                },
                {
                  "hovertemplate": "County_State=Broward, Florida<br>month=%{x}<br>percip=%{y}<extra></extra>",
                  "legendgroup": "Broward, Florida",
                  "line": {
                    "color": "#EF553B",
                    "dash": "solid"
                  },
                  "marker": {
                    "symbol": "circle"
                  },
                  "mode": "markers+lines",
                  "name": "Broward, Florida",
                  "orientation": "v",
                  "showlegend": true,
                  "type": "scatter",
                  "x": [
                    "Jan",
                    "Feb",
                    "Mar",
                    "Apr",
                    "May",
                    "Jun",
                    "Jul",
                    "Aug",
                    "Sep",
                    "Oct",
                    "Nov",
                    "Dec"
                  ],
                  "xaxis": "x",
                  "y": [
                    0.09,
                    3.51,
                    1.96,
                    11.42,
                    6.3,
                    10.92,
                    9.29,
                    8.52,
                    9.26,
                    3.09,
                    8.81,
                    3.85
                  ],
                  "yaxis": "y"
                },
                {
                  "hovertemplate": "County_State=Hillsborough, Florida<br>month=%{x}<br>percip=%{y}<extra></extra>",
                  "legendgroup": "Hillsborough, Florida",
                  "line": {
                    "color": "#00cc96",
                    "dash": "solid"
                  },
                  "marker": {
                    "symbol": "circle"
                  },
                  "mode": "markers+lines",
                  "name": "Hillsborough, Florida",
                  "orientation": "v",
                  "showlegend": true,
                  "type": "scatter",
                  "x": [
                    "Jan",
                    "Feb",
                    "Mar",
                    "Apr",
                    "May",
                    "Jun",
                    "Jul",
                    "Aug",
                    "Sep",
                    "Oct",
                    "Nov",
                    "Dec"
                  ],
                  "xaxis": "x",
                  "y": [
                    1.46,
                    0.44,
                    0.48,
                    1.9,
                    5.31,
                    8.18,
                    6.55,
                    8.45,
                    4.02,
                    1.24,
                    2.27,
                    3.63
                  ],
                  "yaxis": "y"
                },
                {
                  "hovertemplate": "County_State=Miami-Dade, Florida<br>month=%{x}<br>percip=%{y}<extra></extra>",
                  "legendgroup": "Miami-Dade, Florida",
                  "line": {
                    "color": "#ab63fa",
                    "dash": "solid"
                  },
                  "marker": {
                    "symbol": "circle"
                  },
                  "mode": "markers+lines",
                  "name": "Miami-Dade, Florida",
                  "orientation": "v",
                  "showlegend": true,
                  "type": "scatter",
                  "x": [
                    "Jan",
                    "Feb",
                    "Mar",
                    "Apr",
                    "May",
                    "Jun",
                    "Jul",
                    "Aug",
                    "Sep",
                    "Oct",
                    "Nov",
                    "Dec"
                  ],
                  "xaxis": "x",
                  "y": [
                    0.05,
                    4.14,
                    1.83,
                    7.42,
                    6.62,
                    8.96,
                    8.37,
                    7.67,
                    8,
                    3.2,
                    9.74,
                    3.98
                  ],
                  "yaxis": "y"
                },
                {
                  "hovertemplate": "County_State=Orange, Florida<br>month=%{x}<br>percip=%{y}<extra></extra>",
                  "legendgroup": "Orange, Florida",
                  "line": {
                    "color": "#FFA15A",
                    "dash": "solid"
                  },
                  "marker": {
                    "symbol": "circle"
                  },
                  "mode": "markers+lines",
                  "name": "Orange, Florida",
                  "orientation": "v",
                  "showlegend": true,
                  "type": "scatter",
                  "x": [
                    "Jan",
                    "Feb",
                    "Mar",
                    "Apr",
                    "May",
                    "Jun",
                    "Jul",
                    "Aug",
                    "Sep",
                    "Oct",
                    "Nov",
                    "Dec"
                  ],
                  "xaxis": "x",
                  "y": [
                    0.82,
                    0.79,
                    0.73,
                    4.07,
                    4.53,
                    7.52,
                    6.5,
                    6.6,
                    7.09,
                    2.22,
                    5.36,
                    4.3
                  ],
                  "yaxis": "y"
                },
                {
                  "hovertemplate": "County_State=Pinellas, Florida<br>month=%{x}<br>percip=%{y}<extra></extra>",
                  "legendgroup": "Pinellas, Florida",
                  "line": {
                    "color": "#19d3f3",
                    "dash": "solid"
                  },
                  "marker": {
                    "symbol": "circle"
                  },
                  "mode": "markers+lines",
                  "name": "Pinellas, Florida",
                  "orientation": "v",
                  "showlegend": true,
                  "type": "scatter",
                  "x": [
                    "Jan",
                    "Feb",
                    "Mar",
                    "Apr",
                    "May",
                    "Jun",
                    "Jul",
                    "Aug",
                    "Sep",
                    "Oct",
                    "Nov",
                    "Dec"
                  ],
                  "xaxis": "x",
                  "y": [
                    1.38,
                    0.36,
                    0.28,
                    1.37,
                    4.23,
                    5.71,
                    4.67,
                    6.5,
                    3.77,
                    0.91,
                    1.7,
                    3.62
                  ],
                  "yaxis": "y"
                },
                {
                  "hovertemplate": "County_State=Fulton, Georgia<br>month=%{x}<br>percip=%{y}<extra></extra>",
                  "legendgroup": "Fulton, Georgia",
                  "line": {
                    "color": "#FF6692",
                    "dash": "solid"
                  },
                  "marker": {
                    "symbol": "circle"
                  },
                  "mode": "markers+lines",
                  "name": "Fulton, Georgia",
                  "orientation": "v",
                  "showlegend": true,
                  "type": "scatter",
                  "x": [
                    "Jan",
                    "Feb",
                    "Mar",
                    "Apr",
                    "May",
                    "Jun",
                    "Jul",
                    "Aug",
                    "Sep",
                    "Oct",
                    "Nov",
                    "Dec"
                  ],
                  "xaxis": "x",
                  "y": [
                    8.6,
                    3.51,
                    6.24,
                    5.84,
                    2.4,
                    4.09,
                    3.88,
                    6.37,
                    1.91,
                    1.66,
                    1.62,
                    3.95
                  ],
                  "yaxis": "y"
                },
                {
                  "hovertemplate": "County_State=Hennepin, Minnesota<br>month=%{x}<br>percip=%{y}<extra></extra>",
                  "legendgroup": "Hennepin, Minnesota",
                  "line": {
                    "color": "#B6E880",
                    "dash": "solid"
                  },
                  "marker": {
                    "symbol": "circle"
                  },
                  "mode": "markers+lines",
                  "name": "Hennepin, Minnesota",
                  "orientation": "v",
                  "showlegend": true,
                  "type": "scatter",
                  "x": [
                    "Jan",
                    "Feb",
                    "Mar",
                    "Apr",
                    "May",
                    "Jun",
                    "Jul",
                    "Aug",
                    "Sep",
                    "Oct",
                    "Nov",
                    "Dec"
                  ],
                  "xaxis": "x",
                  "y": [
                    1.73,
                    2.18,
                    2.67,
                    3.03,
                    1.2,
                    1.28,
                    2.62,
                    2.66,
                    4.61,
                    4.17,
                    0.09,
                    2.31
                  ],
                  "yaxis": "y"
                },
                {
                  "hovertemplate": "County_State=Hamilton, Ohio<br>month=%{x}<br>percip=%{y}<extra></extra>",
                  "legendgroup": "Hamilton, Ohio",
                  "line": {
                    "color": "#FF97FF",
                    "dash": "solid"
                  },
                  "marker": {
                    "symbol": "circle"
                  },
                  "mode": "markers+lines",
                  "name": "Hamilton, Ohio",
                  "orientation": "v",
                  "showlegend": true,
                  "type": "scatter",
                  "x": [
                    "Jan",
                    "Feb",
                    "Mar",
                    "Apr",
                    "May",
                    "Jun",
                    "Jul",
                    "Aug",
                    "Sep",
                    "Oct",
                    "Nov",
                    "Dec"
                  ],
                  "xaxis": "x",
                  "y": [
                    3.93,
                    2.4,
                    6.86,
                    3.77,
                    2.16,
                    2.01,
                    7.27,
                    2.95,
                    1.31,
                    3.01,
                    1.13,
                    2.09
                  ],
                  "yaxis": "y"
                },
                {
                  "hovertemplate": "County_State=Natrona, Wyoming<br>month=%{x}<br>percip=%{y}<extra></extra>",
                  "legendgroup": "Natrona, Wyoming",
                  "line": {
                    "color": "#FECB52",
                    "dash": "solid"
                  },
                  "marker": {
                    "symbol": "circle"
                  },
                  "mode": "markers+lines",
                  "name": "Natrona, Wyoming",
                  "orientation": "v",
                  "showlegend": true,
                  "type": "scatter",
                  "x": [
                    "Jan",
                    "Feb",
                    "Mar",
                    "Apr",
                    "May",
                    "Jun",
                    "Jul",
                    "Aug",
                    "Sep",
                    "Oct",
                    "Nov",
                    "Dec"
                  ],
                  "xaxis": "x",
                  "y": [
                    1.34,
                    0.74,
                    0.58,
                    1.48,
                    2.06,
                    3.76,
                    0.82,
                    1.54,
                    1.01,
                    1.82,
                    0.45,
                    0.14
                  ],
                  "yaxis": "y"
                }
              ],
              "layout": {
                "legend": {
                  "title": {
                    "text": "County, State"
                  },
                  "tracegroupgap": 0
                },
                "template": {
                  "data": {
                    "bar": [
                      {
                        "error_x": {
                          "color": "#2a3f5f"
                        },
                        "error_y": {
                          "color": "#2a3f5f"
                        },
                        "marker": {
                          "line": {
                            "color": "#E5ECF6",
                            "width": 0.5
                          },
                          "pattern": {
                            "fillmode": "overlay",
                            "size": 10,
                            "solidity": 0.2
                          }
                        },
                        "type": "bar"
                      }
                    ],
                    "barpolar": [
                      {
                        "marker": {
                          "line": {
                            "color": "#E5ECF6",
                            "width": 0.5
                          },
                          "pattern": {
                            "fillmode": "overlay",
                            "size": 10,
                            "solidity": 0.2
                          }
                        },
                        "type": "barpolar"
                      }
                    ],
                    "carpet": [
                      {
                        "aaxis": {
                          "endlinecolor": "#2a3f5f",
                          "gridcolor": "white",
                          "linecolor": "white",
                          "minorgridcolor": "white",
                          "startlinecolor": "#2a3f5f"
                        },
                        "baxis": {
                          "endlinecolor": "#2a3f5f",
                          "gridcolor": "white",
                          "linecolor": "white",
                          "minorgridcolor": "white",
                          "startlinecolor": "#2a3f5f"
                        },
                        "type": "carpet"
                      }
                    ],
                    "choropleth": [
                      {
                        "colorbar": {
                          "outlinewidth": 0,
                          "ticks": ""
                        },
                        "type": "choropleth"
                      }
                    ],
                    "contour": [
                      {
                        "colorbar": {
                          "outlinewidth": 0,
                          "ticks": ""
                        },
                        "colorscale": [
                          [
                            0,
                            "#0d0887"
                          ],
                          [
                            0.1111111111111111,
                            "#46039f"
                          ],
                          [
                            0.2222222222222222,
                            "#7201a8"
                          ],
                          [
                            0.3333333333333333,
                            "#9c179e"
                          ],
                          [
                            0.4444444444444444,
                            "#bd3786"
                          ],
                          [
                            0.5555555555555556,
                            "#d8576b"
                          ],
                          [
                            0.6666666666666666,
                            "#ed7953"
                          ],
                          [
                            0.7777777777777778,
                            "#fb9f3a"
                          ],
                          [
                            0.8888888888888888,
                            "#fdca26"
                          ],
                          [
                            1,
                            "#f0f921"
                          ]
                        ],
                        "type": "contour"
                      }
                    ],
                    "contourcarpet": [
                      {
                        "colorbar": {
                          "outlinewidth": 0,
                          "ticks": ""
                        },
                        "type": "contourcarpet"
                      }
                    ],
                    "heatmap": [
                      {
                        "colorbar": {
                          "outlinewidth": 0,
                          "ticks": ""
                        },
                        "colorscale": [
                          [
                            0,
                            "#0d0887"
                          ],
                          [
                            0.1111111111111111,
                            "#46039f"
                          ],
                          [
                            0.2222222222222222,
                            "#7201a8"
                          ],
                          [
                            0.3333333333333333,
                            "#9c179e"
                          ],
                          [
                            0.4444444444444444,
                            "#bd3786"
                          ],
                          [
                            0.5555555555555556,
                            "#d8576b"
                          ],
                          [
                            0.6666666666666666,
                            "#ed7953"
                          ],
                          [
                            0.7777777777777778,
                            "#fb9f3a"
                          ],
                          [
                            0.8888888888888888,
                            "#fdca26"
                          ],
                          [
                            1,
                            "#f0f921"
                          ]
                        ],
                        "type": "heatmap"
                      }
                    ],
                    "heatmapgl": [
                      {
                        "colorbar": {
                          "outlinewidth": 0,
                          "ticks": ""
                        },
                        "colorscale": [
                          [
                            0,
                            "#0d0887"
                          ],
                          [
                            0.1111111111111111,
                            "#46039f"
                          ],
                          [
                            0.2222222222222222,
                            "#7201a8"
                          ],
                          [
                            0.3333333333333333,
                            "#9c179e"
                          ],
                          [
                            0.4444444444444444,
                            "#bd3786"
                          ],
                          [
                            0.5555555555555556,
                            "#d8576b"
                          ],
                          [
                            0.6666666666666666,
                            "#ed7953"
                          ],
                          [
                            0.7777777777777778,
                            "#fb9f3a"
                          ],
                          [
                            0.8888888888888888,
                            "#fdca26"
                          ],
                          [
                            1,
                            "#f0f921"
                          ]
                        ],
                        "type": "heatmapgl"
                      }
                    ],
                    "histogram": [
                      {
                        "marker": {
                          "pattern": {
                            "fillmode": "overlay",
                            "size": 10,
                            "solidity": 0.2
                          }
                        },
                        "type": "histogram"
                      }
                    ],
                    "histogram2d": [
                      {
                        "colorbar": {
                          "outlinewidth": 0,
                          "ticks": ""
                        },
                        "colorscale": [
                          [
                            0,
                            "#0d0887"
                          ],
                          [
                            0.1111111111111111,
                            "#46039f"
                          ],
                          [
                            0.2222222222222222,
                            "#7201a8"
                          ],
                          [
                            0.3333333333333333,
                            "#9c179e"
                          ],
                          [
                            0.4444444444444444,
                            "#bd3786"
                          ],
                          [
                            0.5555555555555556,
                            "#d8576b"
                          ],
                          [
                            0.6666666666666666,
                            "#ed7953"
                          ],
                          [
                            0.7777777777777778,
                            "#fb9f3a"
                          ],
                          [
                            0.8888888888888888,
                            "#fdca26"
                          ],
                          [
                            1,
                            "#f0f921"
                          ]
                        ],
                        "type": "histogram2d"
                      }
                    ],
                    "histogram2dcontour": [
                      {
                        "colorbar": {
                          "outlinewidth": 0,
                          "ticks": ""
                        },
                        "colorscale": [
                          [
                            0,
                            "#0d0887"
                          ],
                          [
                            0.1111111111111111,
                            "#46039f"
                          ],
                          [
                            0.2222222222222222,
                            "#7201a8"
                          ],
                          [
                            0.3333333333333333,
                            "#9c179e"
                          ],
                          [
                            0.4444444444444444,
                            "#bd3786"
                          ],
                          [
                            0.5555555555555556,
                            "#d8576b"
                          ],
                          [
                            0.6666666666666666,
                            "#ed7953"
                          ],
                          [
                            0.7777777777777778,
                            "#fb9f3a"
                          ],
                          [
                            0.8888888888888888,
                            "#fdca26"
                          ],
                          [
                            1,
                            "#f0f921"
                          ]
                        ],
                        "type": "histogram2dcontour"
                      }
                    ],
                    "mesh3d": [
                      {
                        "colorbar": {
                          "outlinewidth": 0,
                          "ticks": ""
                        },
                        "type": "mesh3d"
                      }
                    ],
                    "parcoords": [
                      {
                        "line": {
                          "colorbar": {
                            "outlinewidth": 0,
                            "ticks": ""
                          }
                        },
                        "type": "parcoords"
                      }
                    ],
                    "pie": [
                      {
                        "automargin": true,
                        "type": "pie"
                      }
                    ],
                    "scatter": [
                      {
                        "fillpattern": {
                          "fillmode": "overlay",
                          "size": 10,
                          "solidity": 0.2
                        },
                        "type": "scatter"
                      }
                    ],
                    "scatter3d": [
                      {
                        "line": {
                          "colorbar": {
                            "outlinewidth": 0,
                            "ticks": ""
                          }
                        },
                        "marker": {
                          "colorbar": {
                            "outlinewidth": 0,
                            "ticks": ""
                          }
                        },
                        "type": "scatter3d"
                      }
                    ],
                    "scattercarpet": [
                      {
                        "marker": {
                          "colorbar": {
                            "outlinewidth": 0,
                            "ticks": ""
                          }
                        },
                        "type": "scattercarpet"
                      }
                    ],
                    "scattergeo": [
                      {
                        "marker": {
                          "colorbar": {
                            "outlinewidth": 0,
                            "ticks": ""
                          }
                        },
                        "type": "scattergeo"
                      }
                    ],
                    "scattergl": [
                      {
                        "marker": {
                          "colorbar": {
                            "outlinewidth": 0,
                            "ticks": ""
                          }
                        },
                        "type": "scattergl"
                      }
                    ],
                    "scattermapbox": [
                      {
                        "marker": {
                          "colorbar": {
                            "outlinewidth": 0,
                            "ticks": ""
                          }
                        },
                        "type": "scattermapbox"
                      }
                    ],
                    "scatterpolar": [
                      {
                        "marker": {
                          "colorbar": {
                            "outlinewidth": 0,
                            "ticks": ""
                          }
                        },
                        "type": "scatterpolar"
                      }
                    ],
                    "scatterpolargl": [
                      {
                        "marker": {
                          "colorbar": {
                            "outlinewidth": 0,
                            "ticks": ""
                          }
                        },
                        "type": "scatterpolargl"
                      }
                    ],
                    "scatterternary": [
                      {
                        "marker": {
                          "colorbar": {
                            "outlinewidth": 0,
                            "ticks": ""
                          }
                        },
                        "type": "scatterternary"
                      }
                    ],
                    "surface": [
                      {
                        "colorbar": {
                          "outlinewidth": 0,
                          "ticks": ""
                        },
                        "colorscale": [
                          [
                            0,
                            "#0d0887"
                          ],
                          [
                            0.1111111111111111,
                            "#46039f"
                          ],
                          [
                            0.2222222222222222,
                            "#7201a8"
                          ],
                          [
                            0.3333333333333333,
                            "#9c179e"
                          ],
                          [
                            0.4444444444444444,
                            "#bd3786"
                          ],
                          [
                            0.5555555555555556,
                            "#d8576b"
                          ],
                          [
                            0.6666666666666666,
                            "#ed7953"
                          ],
                          [
                            0.7777777777777778,
                            "#fb9f3a"
                          ],
                          [
                            0.8888888888888888,
                            "#fdca26"
                          ],
                          [
                            1,
                            "#f0f921"
                          ]
                        ],
                        "type": "surface"
                      }
                    ],
                    "table": [
                      {
                        "cells": {
                          "fill": {
                            "color": "#EBF0F8"
                          },
                          "line": {
                            "color": "white"
                          }
                        },
                        "header": {
                          "fill": {
                            "color": "#C8D4E3"
                          },
                          "line": {
                            "color": "white"
                          }
                        },
                        "type": "table"
                      }
                    ]
                  },
                  "layout": {
                    "annotationdefaults": {
                      "arrowcolor": "#2a3f5f",
                      "arrowhead": 0,
                      "arrowwidth": 1
                    },
                    "autotypenumbers": "strict",
                    "coloraxis": {
                      "colorbar": {
                        "outlinewidth": 0,
                        "ticks": ""
                      }
                    },
                    "colorscale": {
                      "diverging": [
                        [
                          0,
                          "#8e0152"
                        ],
                        [
                          0.1,
                          "#c51b7d"
                        ],
                        [
                          0.2,
                          "#de77ae"
                        ],
                        [
                          0.3,
                          "#f1b6da"
                        ],
                        [
                          0.4,
                          "#fde0ef"
                        ],
                        [
                          0.5,
                          "#f7f7f7"
                        ],
                        [
                          0.6,
                          "#e6f5d0"
                        ],
                        [
                          0.7,
                          "#b8e186"
                        ],
                        [
                          0.8,
                          "#7fbc41"
                        ],
                        [
                          0.9,
                          "#4d9221"
                        ],
                        [
                          1,
                          "#276419"
                        ]
                      ],
                      "sequential": [
                        [
                          0,
                          "#0d0887"
                        ],
                        [
                          0.1111111111111111,
                          "#46039f"
                        ],
                        [
                          0.2222222222222222,
                          "#7201a8"
                        ],
                        [
                          0.3333333333333333,
                          "#9c179e"
                        ],
                        [
                          0.4444444444444444,
                          "#bd3786"
                        ],
                        [
                          0.5555555555555556,
                          "#d8576b"
                        ],
                        [
                          0.6666666666666666,
                          "#ed7953"
                        ],
                        [
                          0.7777777777777778,
                          "#fb9f3a"
                        ],
                        [
                          0.8888888888888888,
                          "#fdca26"
                        ],
                        [
                          1,
                          "#f0f921"
                        ]
                      ],
                      "sequentialminus": [
                        [
                          0,
                          "#0d0887"
                        ],
                        [
                          0.1111111111111111,
                          "#46039f"
                        ],
                        [
                          0.2222222222222222,
                          "#7201a8"
                        ],
                        [
                          0.3333333333333333,
                          "#9c179e"
                        ],
                        [
                          0.4444444444444444,
                          "#bd3786"
                        ],
                        [
                          0.5555555555555556,
                          "#d8576b"
                        ],
                        [
                          0.6666666666666666,
                          "#ed7953"
                        ],
                        [
                          0.7777777777777778,
                          "#fb9f3a"
                        ],
                        [
                          0.8888888888888888,
                          "#fdca26"
                        ],
                        [
                          1,
                          "#f0f921"
                        ]
                      ]
                    },
                    "colorway": [
                      "#636efa",
                      "#EF553B",
                      "#00cc96",
                      "#ab63fa",
                      "#FFA15A",
                      "#19d3f3",
                      "#FF6692",
                      "#B6E880",
                      "#FF97FF",
                      "#FECB52"
                    ],
                    "font": {
                      "color": "#2a3f5f"
                    },
                    "geo": {
                      "bgcolor": "white",
                      "lakecolor": "white",
                      "landcolor": "#E5ECF6",
                      "showlakes": true,
                      "showland": true,
                      "subunitcolor": "white"
                    },
                    "hoverlabel": {
                      "align": "left"
                    },
                    "hovermode": "closest",
                    "mapbox": {
                      "style": "light"
                    },
                    "paper_bgcolor": "white",
                    "plot_bgcolor": "#E5ECF6",
                    "polar": {
                      "angularaxis": {
                        "gridcolor": "white",
                        "linecolor": "white",
                        "ticks": ""
                      },
                      "bgcolor": "#E5ECF6",
                      "radialaxis": {
                        "gridcolor": "white",
                        "linecolor": "white",
                        "ticks": ""
                      }
                    },
                    "scene": {
                      "xaxis": {
                        "backgroundcolor": "#E5ECF6",
                        "gridcolor": "white",
                        "gridwidth": 2,
                        "linecolor": "white",
                        "showbackground": true,
                        "ticks": "",
                        "zerolinecolor": "white"
                      },
                      "yaxis": {
                        "backgroundcolor": "#E5ECF6",
                        "gridcolor": "white",
                        "gridwidth": 2,
                        "linecolor": "white",
                        "showbackground": true,
                        "ticks": "",
                        "zerolinecolor": "white"
                      },
                      "zaxis": {
                        "backgroundcolor": "#E5ECF6",
                        "gridcolor": "white",
                        "gridwidth": 2,
                        "linecolor": "white",
                        "showbackground": true,
                        "ticks": "",
                        "zerolinecolor": "white"
                      }
                    },
                    "shapedefaults": {
                      "line": {
                        "color": "#2a3f5f"
                      }
                    },
                    "ternary": {
                      "aaxis": {
                        "gridcolor": "white",
                        "linecolor": "white",
                        "ticks": ""
                      },
                      "baxis": {
                        "gridcolor": "white",
                        "linecolor": "white",
                        "ticks": ""
                      },
                      "bgcolor": "#E5ECF6",
                      "caxis": {
                        "gridcolor": "white",
                        "linecolor": "white",
                        "ticks": ""
                      }
                    },
                    "title": {
                      "x": 0.05
                    },
                    "xaxis": {
                      "automargin": true,
                      "gridcolor": "white",
                      "linecolor": "white",
                      "ticks": "",
                      "title": {
                        "standoff": 15
                      },
                      "zerolinecolor": "white",
                      "zerolinewidth": 2
                    },
                    "yaxis": {
                      "automargin": true,
                      "gridcolor": "white",
                      "linecolor": "white",
                      "ticks": "",
                      "title": {
                        "standoff": 15
                      },
                      "zerolinecolor": "white",
                      "zerolinewidth": 2
                    }
                  }
                },
                "title": {
                  "text": "Precipitation in Top 10 Places to Retire (2023)"
                },
                "xaxis": {
                  "anchor": "y",
                  "domain": [
                    0,
                    1
                  ],
                  "title": {
                    "text": "Month"
                  }
                },
                "yaxis": {
                  "anchor": "x",
                  "domain": [
                    0,
                    1
                  ],
                  "title": {
                    "text": "Precipitation (mm)"
                  }
                }
              }
            }
          },
          "metadata": {},
          "output_type": "display_data"
        }
      ],
      "source": [
        "import pandas as pd\n",
        "import plotly.express as px\n",
        "import plotly.graph_objects as go\n",
        "\n",
        "# Assuming final_results is your DataFrame already filtered for the year 2023\n",
        "final_results = final_results[final_results['year'] == 2023]\n",
        "# Create a new column for the legend\n",
        "final_results['County_State'] = final_results['County_Name'] + ', ' + final_results['State']\n",
        "\n",
        "# Create a line plot for temperature\n",
        "fig_temp = px.line(\n",
        "    final_results,\n",
        "    x='month',\n",
        "    y='temp',\n",
        "    color='County_State',  # Use the new column for legend\n",
        "    markers=True,\n",
        "    title='Temperature in Top 10 Places to Retire (2023)'\n",
        ")\n",
        "\n",
        "# Update layout for temperature\n",
        "fig_temp.update_layout(\n",
        "    xaxis_title='Month',\n",
        "    yaxis_title='Temperature (°F)',  # Adjust unit as needed\n",
        "    legend_title='County, State',\n",
        ")\n",
        "\n",
        "# Show temperature plot\n",
        "fig_temp.show()\n",
        "\n",
        "# Create a line plot for precipitation\n",
        "fig_percip = px.line(\n",
        "    final_results,\n",
        "    x='month',\n",
        "    y='percip',\n",
        "    color='County_State',  # Use the new column for legend\n",
        "    markers=True,\n",
        "    title='Precipitation in Top 10 Places to Retire (2023)'\n",
        ")\n",
        "\n",
        "# Update layout for precipitation\n",
        "fig_percip.update_layout(\n",
        "    xaxis_title='Month',\n",
        "    yaxis_title='Precipitation (mm)',  # Adjust unit as needed\n",
        "    legend_title='County, State',\n",
        ")\n",
        "\n",
        "# Show precipitation plot\n",
        "fig_percip.show()"
      ]
    },
    {
      "cell_type": "code",
      "execution_count": 220,
      "metadata": {},
      "outputs": [
        {
          "data": {
            "application/vnd.plotly.v1+json": {
              "config": {
                "plotlyServerURL": "https://plot.ly"
              },
              "data": [
                {
                  "alignmentgroup": "True",
                  "hovertemplate": "County_State=%{y}<br>desirability_year=%{x}<extra></extra>",
                  "legendgroup": "Fulton, Georgia",
                  "marker": {
                    "color": "rgb(228,26,28)",
                    "pattern": {
                      "shape": ""
                    }
                  },
                  "name": "Fulton, Georgia",
                  "offsetgroup": "Fulton, Georgia",
                  "orientation": "h",
                  "showlegend": true,
                  "textposition": "auto",
                  "type": "bar",
                  "x": [
                    0.8991729922725811,
                    0.8979691805867486,
                    0.8959904569431996,
                    0.89548031348013,
                    0.894702510517203,
                    0.8939789301233226,
                    0.892656060931143,
                    0.8920582789161081,
                    0.8916692837112836,
                    0.8915071495063519,
                    0.890957267338245,
                    0.8906688733471525,
                    0.8897481710967536,
                    0.8865727154858676,
                    0.8750514397061758,
                    0.875040942689751,
                    0.8749556400123195,
                    0.8713155616538222,
                    0.8680591578970439,
                    0.8552179688157865
                  ],
                  "xaxis": "x",
                  "y": [
                    "Fulton, Georgia",
                    "Fulton, Georgia",
                    "Fulton, Georgia",
                    "Fulton, Georgia",
                    "Fulton, Georgia",
                    "Fulton, Georgia",
                    "Fulton, Georgia",
                    "Fulton, Georgia",
                    "Fulton, Georgia",
                    "Fulton, Georgia",
                    "Fulton, Georgia",
                    "Fulton, Georgia",
                    "Fulton, Georgia",
                    "Fulton, Georgia",
                    "Fulton, Georgia",
                    "Fulton, Georgia",
                    "Fulton, Georgia",
                    "Fulton, Georgia",
                    "Fulton, Georgia",
                    "Fulton, Georgia"
                  ],
                  "yaxis": "y"
                },
                {
                  "alignmentgroup": "True",
                  "hovertemplate": "County_State=%{y}<br>desirability_year=%{x}<extra></extra>",
                  "legendgroup": "Pinellas, Florida",
                  "marker": {
                    "color": "rgb(55,126,184)",
                    "pattern": {
                      "shape": ""
                    }
                  },
                  "name": "Pinellas, Florida",
                  "offsetgroup": "Pinellas, Florida",
                  "orientation": "h",
                  "showlegend": true,
                  "textposition": "auto",
                  "type": "bar",
                  "x": [
                    0.7802589619719625,
                    0.7683137105453488,
                    0.7679226101696478,
                    0.7664559909702588,
                    0.7662299590616359,
                    0.7621357910193987,
                    0.7602049095468634,
                    0.7569308713792502,
                    0.756822267632392,
                    0.7567486731655886,
                    0.7564615552541029,
                    0.7541871344067975,
                    0.7531395884016043,
                    0.7529307511249687,
                    0.7488147527491225,
                    0.7482176123786354,
                    0.7455511755504878,
                    0.7434396459044909,
                    0.7413011383495229,
                    0.7399559341594831
                  ],
                  "xaxis": "x",
                  "y": [
                    "Pinellas, Florida",
                    "Pinellas, Florida",
                    "Pinellas, Florida",
                    "Pinellas, Florida",
                    "Pinellas, Florida",
                    "Pinellas, Florida",
                    "Pinellas, Florida",
                    "Pinellas, Florida",
                    "Pinellas, Florida",
                    "Pinellas, Florida",
                    "Pinellas, Florida",
                    "Pinellas, Florida",
                    "Pinellas, Florida",
                    "Pinellas, Florida",
                    "Pinellas, Florida",
                    "Pinellas, Florida",
                    "Pinellas, Florida",
                    "Pinellas, Florida",
                    "Pinellas, Florida",
                    "Pinellas, Florida"
                  ],
                  "yaxis": "y"
                },
                {
                  "alignmentgroup": "True",
                  "hovertemplate": "County_State=%{y}<br>desirability_year=%{x}<extra></extra>",
                  "legendgroup": "Natrona, Wyoming",
                  "marker": {
                    "color": "rgb(77,175,74)",
                    "pattern": {
                      "shape": ""
                    }
                  },
                  "name": "Natrona, Wyoming",
                  "offsetgroup": "Natrona, Wyoming",
                  "orientation": "h",
                  "showlegend": true,
                  "textposition": "auto",
                  "type": "bar",
                  "x": [
                    0.7220159419111262,
                    0.7202232158821013,
                    0.7192941362051325,
                    0.7128562641233896,
                    0.7122420228442762,
                    0.7106956162267725,
                    0.7101345881882035,
                    0.7099087653547703,
                    0.7067947057547874,
                    0.702704012686394,
                    0.7026366255898804,
                    0.7015608183866201,
                    0.7007575875549219,
                    0.7006527615804585,
                    0.7004163335882608,
                    0.6976355614692592,
                    0.6971436075477008,
                    0.6966104802327339,
                    0.6858550829206621,
                    0.6841536650736578
                  ],
                  "xaxis": "x",
                  "y": [
                    "Natrona, Wyoming",
                    "Natrona, Wyoming",
                    "Natrona, Wyoming",
                    "Natrona, Wyoming",
                    "Natrona, Wyoming",
                    "Natrona, Wyoming",
                    "Natrona, Wyoming",
                    "Natrona, Wyoming",
                    "Natrona, Wyoming",
                    "Natrona, Wyoming",
                    "Natrona, Wyoming",
                    "Natrona, Wyoming",
                    "Natrona, Wyoming",
                    "Natrona, Wyoming",
                    "Natrona, Wyoming",
                    "Natrona, Wyoming",
                    "Natrona, Wyoming",
                    "Natrona, Wyoming",
                    "Natrona, Wyoming",
                    "Natrona, Wyoming"
                  ],
                  "yaxis": "y"
                },
                {
                  "alignmentgroup": "True",
                  "hovertemplate": "County_State=%{y}<br>desirability_year=%{x}<extra></extra>",
                  "legendgroup": "Hamilton, Ohio",
                  "marker": {
                    "color": "rgb(152,78,163)",
                    "pattern": {
                      "shape": ""
                    }
                  },
                  "name": "Hamilton, Ohio",
                  "offsetgroup": "Hamilton, Ohio",
                  "orientation": "h",
                  "showlegend": true,
                  "textposition": "auto",
                  "type": "bar",
                  "x": [
                    0.7025794975966445,
                    0.7000838031036563,
                    0.7000541504741536,
                    0.699345846988106,
                    0.6992468390715101,
                    0.6972489381864154,
                    0.696806239495774,
                    0.6960021723633166,
                    0.6950657245882805,
                    0.694511423003231,
                    0.6937640945515872,
                    0.693385271936169,
                    0.6915741256619753,
                    0.6908593985209589,
                    0.6877111731511697,
                    0.6839186285128958,
                    0.6835628185873324,
                    0.6830142701747465,
                    0.6809045645295434,
                    0.6670896113566182
                  ],
                  "xaxis": "x",
                  "y": [
                    "Hamilton, Ohio",
                    "Hamilton, Ohio",
                    "Hamilton, Ohio",
                    "Hamilton, Ohio",
                    "Hamilton, Ohio",
                    "Hamilton, Ohio",
                    "Hamilton, Ohio",
                    "Hamilton, Ohio",
                    "Hamilton, Ohio",
                    "Hamilton, Ohio",
                    "Hamilton, Ohio",
                    "Hamilton, Ohio",
                    "Hamilton, Ohio",
                    "Hamilton, Ohio",
                    "Hamilton, Ohio",
                    "Hamilton, Ohio",
                    "Hamilton, Ohio",
                    "Hamilton, Ohio",
                    "Hamilton, Ohio",
                    "Hamilton, Ohio"
                  ],
                  "yaxis": "y"
                },
                {
                  "alignmentgroup": "True",
                  "hovertemplate": "County_State=%{y}<br>desirability_year=%{x}<extra></extra>",
                  "legendgroup": "Maricopa, Arizona",
                  "marker": {
                    "color": "rgb(255,127,0)",
                    "pattern": {
                      "shape": ""
                    }
                  },
                  "name": "Maricopa, Arizona",
                  "offsetgroup": "Maricopa, Arizona",
                  "orientation": "h",
                  "showlegend": true,
                  "textposition": "auto",
                  "type": "bar",
                  "x": [
                    0.659635778042318,
                    0.6575003056823464,
                    0.656893634367001,
                    0.6554738912670591,
                    0.6529389627332846,
                    0.6526458393172095,
                    0.6499145675517612,
                    0.6497478409021435,
                    0.6482231276379521,
                    0.6478224098035212,
                    0.6475185154104276,
                    0.6455604757916884,
                    0.6452426094083258,
                    0.6439985615626943,
                    0.6405802038382168,
                    0.6392266798975215,
                    0.6383310234129607,
                    0.6372573213805768,
                    0.6357946241433684,
                    0.6332525221677378
                  ],
                  "xaxis": "x",
                  "y": [
                    "Maricopa, Arizona",
                    "Maricopa, Arizona",
                    "Maricopa, Arizona",
                    "Maricopa, Arizona",
                    "Maricopa, Arizona",
                    "Maricopa, Arizona",
                    "Maricopa, Arizona",
                    "Maricopa, Arizona",
                    "Maricopa, Arizona",
                    "Maricopa, Arizona",
                    "Maricopa, Arizona",
                    "Maricopa, Arizona",
                    "Maricopa, Arizona",
                    "Maricopa, Arizona",
                    "Maricopa, Arizona",
                    "Maricopa, Arizona",
                    "Maricopa, Arizona",
                    "Maricopa, Arizona",
                    "Maricopa, Arizona",
                    "Maricopa, Arizona"
                  ],
                  "yaxis": "y"
                },
                {
                  "alignmentgroup": "True",
                  "hovertemplate": "County_State=%{y}<br>desirability_year=%{x}<extra></extra>",
                  "legendgroup": "Broward, Florida",
                  "marker": {
                    "color": "rgb(255,255,51)",
                    "pattern": {
                      "shape": ""
                    }
                  },
                  "name": "Broward, Florida",
                  "offsetgroup": "Broward, Florida",
                  "orientation": "h",
                  "showlegend": true,
                  "textposition": "auto",
                  "type": "bar",
                  "x": [
                    0.6015187365975594,
                    0.6014037019862432,
                    0.6004946358515791,
                    0.5978494309694283,
                    0.5976797051722605,
                    0.5932911448438309,
                    0.5916825419621116,
                    0.5896388175630081,
                    0.5890054567182635,
                    0.5874894597266392,
                    0.5866492514243067,
                    0.5861326410493325,
                    0.5860750372298028,
                    0.5859310925663821,
                    0.584155236742326,
                    0.5824231353088488,
                    0.5807367636660196,
                    0.5792814922027931,
                    0.5634244367658577,
                    0.5541133452837829
                  ],
                  "xaxis": "x",
                  "y": [
                    "Broward, Florida",
                    "Broward, Florida",
                    "Broward, Florida",
                    "Broward, Florida",
                    "Broward, Florida",
                    "Broward, Florida",
                    "Broward, Florida",
                    "Broward, Florida",
                    "Broward, Florida",
                    "Broward, Florida",
                    "Broward, Florida",
                    "Broward, Florida",
                    "Broward, Florida",
                    "Broward, Florida",
                    "Broward, Florida",
                    "Broward, Florida",
                    "Broward, Florida",
                    "Broward, Florida",
                    "Broward, Florida",
                    "Broward, Florida"
                  ],
                  "yaxis": "y"
                },
                {
                  "alignmentgroup": "True",
                  "hovertemplate": "County_State=%{y}<br>desirability_year=%{x}<extra></extra>",
                  "legendgroup": "Hillsborough, Florida",
                  "marker": {
                    "color": "rgb(166,86,40)",
                    "pattern": {
                      "shape": ""
                    }
                  },
                  "name": "Hillsborough, Florida",
                  "offsetgroup": "Hillsborough, Florida",
                  "orientation": "h",
                  "showlegend": true,
                  "textposition": "auto",
                  "type": "bar",
                  "x": [
                    0.576782301107493,
                    0.5746534470587014,
                    0.5733984335798402,
                    0.568329117223989,
                    0.566191013400422,
                    0.56228179759676,
                    0.560469497804278,
                    0.5600536832992469,
                    0.5595464092129199,
                    0.5593251427767262,
                    0.5564097190260153,
                    0.5560034282563533,
                    0.5553058380714097,
                    0.5545998704598962,
                    0.5531735234677528,
                    0.5519478526103542,
                    0.5510286138862839,
                    0.5503918862100349,
                    0.5502113101314664,
                    0.5457865653762258
                  ],
                  "xaxis": "x",
                  "y": [
                    "Hillsborough, Florida",
                    "Hillsborough, Florida",
                    "Hillsborough, Florida",
                    "Hillsborough, Florida",
                    "Hillsborough, Florida",
                    "Hillsborough, Florida",
                    "Hillsborough, Florida",
                    "Hillsborough, Florida",
                    "Hillsborough, Florida",
                    "Hillsborough, Florida",
                    "Hillsborough, Florida",
                    "Hillsborough, Florida",
                    "Hillsborough, Florida",
                    "Hillsborough, Florida",
                    "Hillsborough, Florida",
                    "Hillsborough, Florida",
                    "Hillsborough, Florida",
                    "Hillsborough, Florida",
                    "Hillsborough, Florida",
                    "Hillsborough, Florida"
                  ],
                  "yaxis": "y"
                },
                {
                  "alignmentgroup": "True",
                  "hovertemplate": "County_State=%{y}<br>desirability_year=%{x}<extra></extra>",
                  "legendgroup": "Hennepin, Minnesota",
                  "marker": {
                    "color": "rgb(247,129,191)",
                    "pattern": {
                      "shape": ""
                    }
                  },
                  "name": "Hennepin, Minnesota",
                  "offsetgroup": "Hennepin, Minnesota",
                  "orientation": "h",
                  "showlegend": true,
                  "textposition": "auto",
                  "type": "bar",
                  "x": [
                    0.45554306631691993,
                    0.4548006547369805,
                    0.4491604838086405,
                    0.44772092182260503,
                    0.4455023961458646,
                    0.44231173572203897,
                    0.43990009666483254,
                    0.4380928867717983,
                    0.4370787423305453,
                    0.42970957725861764,
                    0.4289825579383398,
                    0.42874189797592144,
                    0.4262186271863497,
                    0.42522303276107287,
                    0.4220648799245137,
                    0.4189308716676298,
                    0.41690221510116926,
                    0.41642889770945873,
                    0.4156176282971878,
                    0.40244788836942114
                  ],
                  "xaxis": "x",
                  "y": [
                    "Hennepin, Minnesota",
                    "Hennepin, Minnesota",
                    "Hennepin, Minnesota",
                    "Hennepin, Minnesota",
                    "Hennepin, Minnesota",
                    "Hennepin, Minnesota",
                    "Hennepin, Minnesota",
                    "Hennepin, Minnesota",
                    "Hennepin, Minnesota",
                    "Hennepin, Minnesota",
                    "Hennepin, Minnesota",
                    "Hennepin, Minnesota",
                    "Hennepin, Minnesota",
                    "Hennepin, Minnesota",
                    "Hennepin, Minnesota",
                    "Hennepin, Minnesota",
                    "Hennepin, Minnesota",
                    "Hennepin, Minnesota",
                    "Hennepin, Minnesota",
                    "Hennepin, Minnesota"
                  ],
                  "yaxis": "y"
                },
                {
                  "alignmentgroup": "True",
                  "hovertemplate": "County_State=%{y}<br>desirability_year=%{x}<extra></extra>",
                  "legendgroup": "Miami-Dade, Florida",
                  "marker": {
                    "color": "rgb(153,153,153)",
                    "pattern": {
                      "shape": ""
                    }
                  },
                  "name": "Miami-Dade, Florida",
                  "offsetgroup": "Miami-Dade, Florida",
                  "orientation": "h",
                  "showlegend": true,
                  "textposition": "auto",
                  "type": "bar",
                  "x": [
                    0.45101689125667743,
                    0.44937769130235666,
                    0.4454749135726422,
                    0.4437660122757416,
                    0.4427496473117833,
                    0.4414505550153245,
                    0.44033988272179553,
                    0.4401213414725584,
                    0.43671305540463684,
                    0.4366029448745145,
                    0.4355606401680445,
                    0.43426004829781073,
                    0.4322243624792799,
                    0.43159284726379693,
                    0.4290081155779184,
                    0.42859784517016125,
                    0.4284441676961817,
                    0.4262379774556386,
                    0.41729809536827794,
                    0.4135711859206172
                  ],
                  "xaxis": "x",
                  "y": [
                    "Miami-Dade, Florida",
                    "Miami-Dade, Florida",
                    "Miami-Dade, Florida",
                    "Miami-Dade, Florida",
                    "Miami-Dade, Florida",
                    "Miami-Dade, Florida",
                    "Miami-Dade, Florida",
                    "Miami-Dade, Florida",
                    "Miami-Dade, Florida",
                    "Miami-Dade, Florida",
                    "Miami-Dade, Florida",
                    "Miami-Dade, Florida",
                    "Miami-Dade, Florida",
                    "Miami-Dade, Florida",
                    "Miami-Dade, Florida",
                    "Miami-Dade, Florida",
                    "Miami-Dade, Florida",
                    "Miami-Dade, Florida",
                    "Miami-Dade, Florida",
                    "Miami-Dade, Florida"
                  ],
                  "yaxis": "y"
                },
                {
                  "alignmentgroup": "True",
                  "hovertemplate": "County_State=%{y}<br>desirability_year=%{x}<extra></extra>",
                  "legendgroup": "Orange, Florida",
                  "marker": {
                    "color": "rgb(228,26,28)",
                    "pattern": {
                      "shape": ""
                    }
                  },
                  "name": "Orange, Florida",
                  "offsetgroup": "Orange, Florida",
                  "orientation": "h",
                  "showlegend": true,
                  "textposition": "auto",
                  "type": "bar",
                  "x": [
                    0.4356476154469941,
                    0.4312237935063841,
                    0.42862972553185846,
                    0.42676460181125436,
                    0.4214156726222816,
                    0.4208703252229462,
                    0.4169949796000291,
                    0.41621440098372037,
                    0.4157302621485662,
                    0.4145123703301254,
                    0.41414339587709487,
                    0.4139984995610863,
                    0.4124703689989653,
                    0.4117257080583634,
                    0.4111267508965721,
                    0.4105375193358503,
                    0.40939295523310876,
                    0.40634027722505023,
                    0.40627531972643155,
                    0.397930530514596
                  ],
                  "xaxis": "x",
                  "y": [
                    "Orange, Florida",
                    "Orange, Florida",
                    "Orange, Florida",
                    "Orange, Florida",
                    "Orange, Florida",
                    "Orange, Florida",
                    "Orange, Florida",
                    "Orange, Florida",
                    "Orange, Florida",
                    "Orange, Florida",
                    "Orange, Florida",
                    "Orange, Florida",
                    "Orange, Florida",
                    "Orange, Florida",
                    "Orange, Florida",
                    "Orange, Florida",
                    "Orange, Florida",
                    "Orange, Florida",
                    "Orange, Florida",
                    "Orange, Florida"
                  ],
                  "yaxis": "y"
                }
              ],
              "layout": {
                "barmode": "relative",
                "legend": {
                  "title": {
                    "text": "County, State"
                  },
                  "tracegroupgap": 0
                },
                "template": {
                  "data": {
                    "bar": [
                      {
                        "error_x": {
                          "color": "#2a3f5f"
                        },
                        "error_y": {
                          "color": "#2a3f5f"
                        },
                        "marker": {
                          "line": {
                            "color": "#E5ECF6",
                            "width": 0.5
                          },
                          "pattern": {
                            "fillmode": "overlay",
                            "size": 10,
                            "solidity": 0.2
                          }
                        },
                        "type": "bar"
                      }
                    ],
                    "barpolar": [
                      {
                        "marker": {
                          "line": {
                            "color": "#E5ECF6",
                            "width": 0.5
                          },
                          "pattern": {
                            "fillmode": "overlay",
                            "size": 10,
                            "solidity": 0.2
                          }
                        },
                        "type": "barpolar"
                      }
                    ],
                    "carpet": [
                      {
                        "aaxis": {
                          "endlinecolor": "#2a3f5f",
                          "gridcolor": "white",
                          "linecolor": "white",
                          "minorgridcolor": "white",
                          "startlinecolor": "#2a3f5f"
                        },
                        "baxis": {
                          "endlinecolor": "#2a3f5f",
                          "gridcolor": "white",
                          "linecolor": "white",
                          "minorgridcolor": "white",
                          "startlinecolor": "#2a3f5f"
                        },
                        "type": "carpet"
                      }
                    ],
                    "choropleth": [
                      {
                        "colorbar": {
                          "outlinewidth": 0,
                          "ticks": ""
                        },
                        "type": "choropleth"
                      }
                    ],
                    "contour": [
                      {
                        "colorbar": {
                          "outlinewidth": 0,
                          "ticks": ""
                        },
                        "colorscale": [
                          [
                            0,
                            "#0d0887"
                          ],
                          [
                            0.1111111111111111,
                            "#46039f"
                          ],
                          [
                            0.2222222222222222,
                            "#7201a8"
                          ],
                          [
                            0.3333333333333333,
                            "#9c179e"
                          ],
                          [
                            0.4444444444444444,
                            "#bd3786"
                          ],
                          [
                            0.5555555555555556,
                            "#d8576b"
                          ],
                          [
                            0.6666666666666666,
                            "#ed7953"
                          ],
                          [
                            0.7777777777777778,
                            "#fb9f3a"
                          ],
                          [
                            0.8888888888888888,
                            "#fdca26"
                          ],
                          [
                            1,
                            "#f0f921"
                          ]
                        ],
                        "type": "contour"
                      }
                    ],
                    "contourcarpet": [
                      {
                        "colorbar": {
                          "outlinewidth": 0,
                          "ticks": ""
                        },
                        "type": "contourcarpet"
                      }
                    ],
                    "heatmap": [
                      {
                        "colorbar": {
                          "outlinewidth": 0,
                          "ticks": ""
                        },
                        "colorscale": [
                          [
                            0,
                            "#0d0887"
                          ],
                          [
                            0.1111111111111111,
                            "#46039f"
                          ],
                          [
                            0.2222222222222222,
                            "#7201a8"
                          ],
                          [
                            0.3333333333333333,
                            "#9c179e"
                          ],
                          [
                            0.4444444444444444,
                            "#bd3786"
                          ],
                          [
                            0.5555555555555556,
                            "#d8576b"
                          ],
                          [
                            0.6666666666666666,
                            "#ed7953"
                          ],
                          [
                            0.7777777777777778,
                            "#fb9f3a"
                          ],
                          [
                            0.8888888888888888,
                            "#fdca26"
                          ],
                          [
                            1,
                            "#f0f921"
                          ]
                        ],
                        "type": "heatmap"
                      }
                    ],
                    "heatmapgl": [
                      {
                        "colorbar": {
                          "outlinewidth": 0,
                          "ticks": ""
                        },
                        "colorscale": [
                          [
                            0,
                            "#0d0887"
                          ],
                          [
                            0.1111111111111111,
                            "#46039f"
                          ],
                          [
                            0.2222222222222222,
                            "#7201a8"
                          ],
                          [
                            0.3333333333333333,
                            "#9c179e"
                          ],
                          [
                            0.4444444444444444,
                            "#bd3786"
                          ],
                          [
                            0.5555555555555556,
                            "#d8576b"
                          ],
                          [
                            0.6666666666666666,
                            "#ed7953"
                          ],
                          [
                            0.7777777777777778,
                            "#fb9f3a"
                          ],
                          [
                            0.8888888888888888,
                            "#fdca26"
                          ],
                          [
                            1,
                            "#f0f921"
                          ]
                        ],
                        "type": "heatmapgl"
                      }
                    ],
                    "histogram": [
                      {
                        "marker": {
                          "pattern": {
                            "fillmode": "overlay",
                            "size": 10,
                            "solidity": 0.2
                          }
                        },
                        "type": "histogram"
                      }
                    ],
                    "histogram2d": [
                      {
                        "colorbar": {
                          "outlinewidth": 0,
                          "ticks": ""
                        },
                        "colorscale": [
                          [
                            0,
                            "#0d0887"
                          ],
                          [
                            0.1111111111111111,
                            "#46039f"
                          ],
                          [
                            0.2222222222222222,
                            "#7201a8"
                          ],
                          [
                            0.3333333333333333,
                            "#9c179e"
                          ],
                          [
                            0.4444444444444444,
                            "#bd3786"
                          ],
                          [
                            0.5555555555555556,
                            "#d8576b"
                          ],
                          [
                            0.6666666666666666,
                            "#ed7953"
                          ],
                          [
                            0.7777777777777778,
                            "#fb9f3a"
                          ],
                          [
                            0.8888888888888888,
                            "#fdca26"
                          ],
                          [
                            1,
                            "#f0f921"
                          ]
                        ],
                        "type": "histogram2d"
                      }
                    ],
                    "histogram2dcontour": [
                      {
                        "colorbar": {
                          "outlinewidth": 0,
                          "ticks": ""
                        },
                        "colorscale": [
                          [
                            0,
                            "#0d0887"
                          ],
                          [
                            0.1111111111111111,
                            "#46039f"
                          ],
                          [
                            0.2222222222222222,
                            "#7201a8"
                          ],
                          [
                            0.3333333333333333,
                            "#9c179e"
                          ],
                          [
                            0.4444444444444444,
                            "#bd3786"
                          ],
                          [
                            0.5555555555555556,
                            "#d8576b"
                          ],
                          [
                            0.6666666666666666,
                            "#ed7953"
                          ],
                          [
                            0.7777777777777778,
                            "#fb9f3a"
                          ],
                          [
                            0.8888888888888888,
                            "#fdca26"
                          ],
                          [
                            1,
                            "#f0f921"
                          ]
                        ],
                        "type": "histogram2dcontour"
                      }
                    ],
                    "mesh3d": [
                      {
                        "colorbar": {
                          "outlinewidth": 0,
                          "ticks": ""
                        },
                        "type": "mesh3d"
                      }
                    ],
                    "parcoords": [
                      {
                        "line": {
                          "colorbar": {
                            "outlinewidth": 0,
                            "ticks": ""
                          }
                        },
                        "type": "parcoords"
                      }
                    ],
                    "pie": [
                      {
                        "automargin": true,
                        "type": "pie"
                      }
                    ],
                    "scatter": [
                      {
                        "fillpattern": {
                          "fillmode": "overlay",
                          "size": 10,
                          "solidity": 0.2
                        },
                        "type": "scatter"
                      }
                    ],
                    "scatter3d": [
                      {
                        "line": {
                          "colorbar": {
                            "outlinewidth": 0,
                            "ticks": ""
                          }
                        },
                        "marker": {
                          "colorbar": {
                            "outlinewidth": 0,
                            "ticks": ""
                          }
                        },
                        "type": "scatter3d"
                      }
                    ],
                    "scattercarpet": [
                      {
                        "marker": {
                          "colorbar": {
                            "outlinewidth": 0,
                            "ticks": ""
                          }
                        },
                        "type": "scattercarpet"
                      }
                    ],
                    "scattergeo": [
                      {
                        "marker": {
                          "colorbar": {
                            "outlinewidth": 0,
                            "ticks": ""
                          }
                        },
                        "type": "scattergeo"
                      }
                    ],
                    "scattergl": [
                      {
                        "marker": {
                          "colorbar": {
                            "outlinewidth": 0,
                            "ticks": ""
                          }
                        },
                        "type": "scattergl"
                      }
                    ],
                    "scattermapbox": [
                      {
                        "marker": {
                          "colorbar": {
                            "outlinewidth": 0,
                            "ticks": ""
                          }
                        },
                        "type": "scattermapbox"
                      }
                    ],
                    "scatterpolar": [
                      {
                        "marker": {
                          "colorbar": {
                            "outlinewidth": 0,
                            "ticks": ""
                          }
                        },
                        "type": "scatterpolar"
                      }
                    ],
                    "scatterpolargl": [
                      {
                        "marker": {
                          "colorbar": {
                            "outlinewidth": 0,
                            "ticks": ""
                          }
                        },
                        "type": "scatterpolargl"
                      }
                    ],
                    "scatterternary": [
                      {
                        "marker": {
                          "colorbar": {
                            "outlinewidth": 0,
                            "ticks": ""
                          }
                        },
                        "type": "scatterternary"
                      }
                    ],
                    "surface": [
                      {
                        "colorbar": {
                          "outlinewidth": 0,
                          "ticks": ""
                        },
                        "colorscale": [
                          [
                            0,
                            "#0d0887"
                          ],
                          [
                            0.1111111111111111,
                            "#46039f"
                          ],
                          [
                            0.2222222222222222,
                            "#7201a8"
                          ],
                          [
                            0.3333333333333333,
                            "#9c179e"
                          ],
                          [
                            0.4444444444444444,
                            "#bd3786"
                          ],
                          [
                            0.5555555555555556,
                            "#d8576b"
                          ],
                          [
                            0.6666666666666666,
                            "#ed7953"
                          ],
                          [
                            0.7777777777777778,
                            "#fb9f3a"
                          ],
                          [
                            0.8888888888888888,
                            "#fdca26"
                          ],
                          [
                            1,
                            "#f0f921"
                          ]
                        ],
                        "type": "surface"
                      }
                    ],
                    "table": [
                      {
                        "cells": {
                          "fill": {
                            "color": "#EBF0F8"
                          },
                          "line": {
                            "color": "white"
                          }
                        },
                        "header": {
                          "fill": {
                            "color": "#C8D4E3"
                          },
                          "line": {
                            "color": "white"
                          }
                        },
                        "type": "table"
                      }
                    ]
                  },
                  "layout": {
                    "annotationdefaults": {
                      "arrowcolor": "#2a3f5f",
                      "arrowhead": 0,
                      "arrowwidth": 1
                    },
                    "autotypenumbers": "strict",
                    "coloraxis": {
                      "colorbar": {
                        "outlinewidth": 0,
                        "ticks": ""
                      }
                    },
                    "colorscale": {
                      "diverging": [
                        [
                          0,
                          "#8e0152"
                        ],
                        [
                          0.1,
                          "#c51b7d"
                        ],
                        [
                          0.2,
                          "#de77ae"
                        ],
                        [
                          0.3,
                          "#f1b6da"
                        ],
                        [
                          0.4,
                          "#fde0ef"
                        ],
                        [
                          0.5,
                          "#f7f7f7"
                        ],
                        [
                          0.6,
                          "#e6f5d0"
                        ],
                        [
                          0.7,
                          "#b8e186"
                        ],
                        [
                          0.8,
                          "#7fbc41"
                        ],
                        [
                          0.9,
                          "#4d9221"
                        ],
                        [
                          1,
                          "#276419"
                        ]
                      ],
                      "sequential": [
                        [
                          0,
                          "#0d0887"
                        ],
                        [
                          0.1111111111111111,
                          "#46039f"
                        ],
                        [
                          0.2222222222222222,
                          "#7201a8"
                        ],
                        [
                          0.3333333333333333,
                          "#9c179e"
                        ],
                        [
                          0.4444444444444444,
                          "#bd3786"
                        ],
                        [
                          0.5555555555555556,
                          "#d8576b"
                        ],
                        [
                          0.6666666666666666,
                          "#ed7953"
                        ],
                        [
                          0.7777777777777778,
                          "#fb9f3a"
                        ],
                        [
                          0.8888888888888888,
                          "#fdca26"
                        ],
                        [
                          1,
                          "#f0f921"
                        ]
                      ],
                      "sequentialminus": [
                        [
                          0,
                          "#0d0887"
                        ],
                        [
                          0.1111111111111111,
                          "#46039f"
                        ],
                        [
                          0.2222222222222222,
                          "#7201a8"
                        ],
                        [
                          0.3333333333333333,
                          "#9c179e"
                        ],
                        [
                          0.4444444444444444,
                          "#bd3786"
                        ],
                        [
                          0.5555555555555556,
                          "#d8576b"
                        ],
                        [
                          0.6666666666666666,
                          "#ed7953"
                        ],
                        [
                          0.7777777777777778,
                          "#fb9f3a"
                        ],
                        [
                          0.8888888888888888,
                          "#fdca26"
                        ],
                        [
                          1,
                          "#f0f921"
                        ]
                      ]
                    },
                    "colorway": [
                      "#636efa",
                      "#EF553B",
                      "#00cc96",
                      "#ab63fa",
                      "#FFA15A",
                      "#19d3f3",
                      "#FF6692",
                      "#B6E880",
                      "#FF97FF",
                      "#FECB52"
                    ],
                    "font": {
                      "color": "#2a3f5f"
                    },
                    "geo": {
                      "bgcolor": "white",
                      "lakecolor": "white",
                      "landcolor": "#E5ECF6",
                      "showlakes": true,
                      "showland": true,
                      "subunitcolor": "white"
                    },
                    "hoverlabel": {
                      "align": "left"
                    },
                    "hovermode": "closest",
                    "mapbox": {
                      "style": "light"
                    },
                    "paper_bgcolor": "white",
                    "plot_bgcolor": "#E5ECF6",
                    "polar": {
                      "angularaxis": {
                        "gridcolor": "white",
                        "linecolor": "white",
                        "ticks": ""
                      },
                      "bgcolor": "#E5ECF6",
                      "radialaxis": {
                        "gridcolor": "white",
                        "linecolor": "white",
                        "ticks": ""
                      }
                    },
                    "scene": {
                      "xaxis": {
                        "backgroundcolor": "#E5ECF6",
                        "gridcolor": "white",
                        "gridwidth": 2,
                        "linecolor": "white",
                        "showbackground": true,
                        "ticks": "",
                        "zerolinecolor": "white"
                      },
                      "yaxis": {
                        "backgroundcolor": "#E5ECF6",
                        "gridcolor": "white",
                        "gridwidth": 2,
                        "linecolor": "white",
                        "showbackground": true,
                        "ticks": "",
                        "zerolinecolor": "white"
                      },
                      "zaxis": {
                        "backgroundcolor": "#E5ECF6",
                        "gridcolor": "white",
                        "gridwidth": 2,
                        "linecolor": "white",
                        "showbackground": true,
                        "ticks": "",
                        "zerolinecolor": "white"
                      }
                    },
                    "shapedefaults": {
                      "line": {
                        "color": "#2a3f5f"
                      }
                    },
                    "ternary": {
                      "aaxis": {
                        "gridcolor": "white",
                        "linecolor": "white",
                        "ticks": ""
                      },
                      "baxis": {
                        "gridcolor": "white",
                        "linecolor": "white",
                        "ticks": ""
                      },
                      "bgcolor": "#E5ECF6",
                      "caxis": {
                        "gridcolor": "white",
                        "linecolor": "white",
                        "ticks": ""
                      }
                    },
                    "title": {
                      "x": 0.05
                    },
                    "xaxis": {
                      "automargin": true,
                      "gridcolor": "white",
                      "linecolor": "white",
                      "ticks": "",
                      "title": {
                        "standoff": 15
                      },
                      "zerolinecolor": "white",
                      "zerolinewidth": 2
                    },
                    "yaxis": {
                      "automargin": true,
                      "gridcolor": "white",
                      "linecolor": "white",
                      "ticks": "",
                      "title": {
                        "standoff": 15
                      },
                      "zerolinecolor": "white",
                      "zerolinewidth": 2
                    }
                  }
                },
                "title": {
                  "text": "Yearly Desirability in Top 10 Places to Retire (2023)"
                },
                "xaxis": {
                  "anchor": "y",
                  "domain": [
                    0,
                    1
                  ],
                  "title": {
                    "text": "Yearly Desirability Score"
                  }
                },
                "yaxis": {
                  "anchor": "x",
                  "categoryarray": [
                    "Orange, Florida",
                    "Miami-Dade, Florida",
                    "Hennepin, Minnesota",
                    "Hillsborough, Florida",
                    "Broward, Florida",
                    "Maricopa, Arizona",
                    "Hamilton, Ohio",
                    "Natrona, Wyoming",
                    "Pinellas, Florida",
                    "Fulton, Georgia"
                  ],
                  "categoryorder": "array",
                  "domain": [
                    0,
                    1
                  ],
                  "title": {
                    "text": "County, State"
                  }
                }
              }
            }
          },
          "metadata": {},
          "output_type": "display_data"
        }
      ],
      "source": [
        "import pandas as pd\n",
        "import plotly.express as px\n",
        "\n",
        "# Assuming yearly_desirability is your DataFrame with yearly desirability data\n",
        "# Make sure it has the columns 'County_Name', 'State', 'desirability_year'\n",
        "\n",
        "# Create a new column for the legend\n",
        "yearly_desirability['County_State'] = yearly_desirability['County_Name'] + ', ' + yearly_desirability['State']\n",
        "\n",
        "# Sort values by desirability\n",
        "yearly_desirability = yearly_desirability.sort_values(by='desirability_year', ascending=False)\n",
        "\n",
        "# Create the horizontal bar plot\n",
        "fig_bar = px.bar(\n",
        "    yearly_desirability,\n",
        "    x='desirability_year',\n",
        "    y='County_State',\n",
        "    color='County_State',  # Use the new column for color coding\n",
        "    color_discrete_sequence=px.colors.qualitative.Set1,  # Adjust colors as needed\n",
        "    title='Yearly Desirability in Top 10 Places to Retire (2023)',\n",
        "    orientation='h'\n",
        ")\n",
        "\n",
        "# Update layout for better readability\n",
        "fig_bar.update_layout(\n",
        "    xaxis_title='Yearly Desirability Score',\n",
        "    yaxis_title='County, State',\n",
        "    legend_title='County, State',\n",
        ")\n",
        "\n",
        "# Show the bar plot\n",
        "fig_bar.show()\n"
      ]
    },
    {
      "cell_type": "code",
      "execution_count": null,
      "metadata": {},
      "outputs": [],
      "source": []
    },
    {
      "cell_type": "code",
      "execution_count": 221,
      "metadata": {},
      "outputs": [
        {
          "data": {
            "application/vnd.plotly.v1+json": {
              "config": {
                "plotlyServerURL": "https://plot.ly"
              },
              "data": [
                {
                  "hovertemplate": "County_Name=Maricopa<br>Month=%{x}<br>Temperature=%{y}<extra></extra>",
                  "legendgroup": "Maricopa",
                  "line": {
                    "color": "#636efa",
                    "dash": "solid",
                    "shape": "linear"
                  },
                  "marker": {
                    "symbol": "circle"
                  },
                  "mode": "markers+lines",
                  "name": "Maricopa",
                  "showlegend": true,
                  "type": "scattergl",
                  "x": [
                    "Jan",
                    "Jan",
                    "Jan",
                    "Jan",
                    "Jan",
                    "Jan",
                    "Jan",
                    "Jan",
                    "Jan",
                    "Jan",
                    "Jan",
                    "Jan",
                    "Jan",
                    "Jan",
                    "Jan",
                    "Jan",
                    "Jan",
                    "Jan",
                    "Jan",
                    "Jan",
                    "Feb",
                    "Feb",
                    "Feb",
                    "Feb",
                    "Feb",
                    "Feb",
                    "Feb",
                    "Feb",
                    "Feb",
                    "Feb",
                    "Feb",
                    "Feb",
                    "Feb",
                    "Feb",
                    "Feb",
                    "Feb",
                    "Feb",
                    "Feb",
                    "Feb",
                    "Feb",
                    "Mar",
                    "Mar",
                    "Mar",
                    "Mar",
                    "Mar",
                    "Mar",
                    "Mar",
                    "Mar",
                    "Mar",
                    "Mar",
                    "Mar",
                    "Mar",
                    "Mar",
                    "Mar",
                    "Mar",
                    "Mar",
                    "Mar",
                    "Mar",
                    "Mar",
                    "Mar",
                    "Apr",
                    "Apr",
                    "Apr",
                    "Apr",
                    "Apr",
                    "Apr",
                    "Apr",
                    "Apr",
                    "Apr",
                    "Apr",
                    "Apr",
                    "Apr",
                    "Apr",
                    "Apr",
                    "Apr",
                    "Apr",
                    "Apr",
                    "Apr",
                    "Apr",
                    "Apr",
                    "May",
                    "May",
                    "May",
                    "May",
                    "May",
                    "May",
                    "May",
                    "May",
                    "May",
                    "May",
                    "May",
                    "May",
                    "May",
                    "May",
                    "May",
                    "May",
                    "May",
                    "May",
                    "May",
                    "May",
                    "Jun",
                    "Jun",
                    "Jun",
                    "Jun",
                    "Jun",
                    "Jun",
                    "Jun",
                    "Jun",
                    "Jun",
                    "Jun",
                    "Jun",
                    "Jun",
                    "Jun",
                    "Jun",
                    "Jun",
                    "Jun",
                    "Jun",
                    "Jun",
                    "Jun",
                    "Jun",
                    "Jul",
                    "Jul",
                    "Jul",
                    "Jul",
                    "Jul",
                    "Jul",
                    "Jul",
                    "Jul",
                    "Jul",
                    "Jul",
                    "Jul",
                    "Jul",
                    "Jul",
                    "Jul",
                    "Jul",
                    "Jul",
                    "Jul",
                    "Jul",
                    "Jul",
                    "Jul",
                    "Aug",
                    "Aug",
                    "Aug",
                    "Aug",
                    "Aug",
                    "Aug",
                    "Aug",
                    "Aug",
                    "Aug",
                    "Aug",
                    "Aug",
                    "Aug",
                    "Aug",
                    "Aug",
                    "Aug",
                    "Aug",
                    "Aug",
                    "Aug",
                    "Aug",
                    "Aug",
                    "Sep",
                    "Sep",
                    "Sep",
                    "Sep",
                    "Sep",
                    "Sep",
                    "Sep",
                    "Sep",
                    "Sep",
                    "Sep",
                    "Sep",
                    "Sep",
                    "Sep",
                    "Sep",
                    "Sep",
                    "Sep",
                    "Sep",
                    "Sep",
                    "Sep",
                    "Sep",
                    "Oct",
                    "Oct",
                    "Oct",
                    "Oct",
                    "Oct",
                    "Oct",
                    "Oct",
                    "Oct",
                    "Oct",
                    "Oct",
                    "Oct",
                    "Oct",
                    "Oct",
                    "Oct",
                    "Oct",
                    "Oct",
                    "Oct",
                    "Oct",
                    "Oct",
                    "Oct",
                    "Nov",
                    "Nov",
                    "Nov",
                    "Nov",
                    "Nov",
                    "Nov",
                    "Nov",
                    "Nov",
                    "Nov",
                    "Nov",
                    "Nov",
                    "Nov",
                    "Nov",
                    "Nov",
                    "Nov",
                    "Nov",
                    "Nov",
                    "Nov",
                    "Nov",
                    "Nov",
                    "Dec",
                    "Dec",
                    "Dec",
                    "Dec",
                    "Dec",
                    "Dec",
                    "Dec",
                    "Dec",
                    "Dec",
                    "Dec",
                    "Dec",
                    "Dec",
                    "Dec",
                    "Dec",
                    "Dec",
                    "Dec",
                    "Dec",
                    "Dec",
                    "Dec",
                    "Dec"
                  ],
                  "xaxis": "x",
                  "y": [
                    53.9,
                    54.3,
                    54,
                    49.8,
                    51.1,
                    55.7,
                    54.2,
                    52.3,
                    55.4,
                    50,
                    56.5,
                    55.1,
                    51.7,
                    52,
                    58.4,
                    52.8,
                    53.5,
                    53.2,
                    53.7,
                    50,
                    52.7,
                    56.1,
                    57.7,
                    56.7,
                    54.6,
                    56.6,
                    55.7,
                    51.7,
                    55.9,
                    52.9,
                    59.8,
                    61.5,
                    61.8,
                    58.5,
                    56.2,
                    50.2,
                    55.7,
                    57,
                    55,
                    52.6,
                    68.9,
                    59.4,
                    58.2,
                    65,
                    62.2,
                    62.9,
                    59,
                    63.2,
                    61.3,
                    65,
                    64.5,
                    67.2,
                    65.6,
                    66.8,
                    62.6,
                    61.4,
                    60.3,
                    59.9,
                    62.5,
                    57,
                    68.9,
                    67.1,
                    67.9,
                    69,
                    68.6,
                    67.1,
                    65.8,
                    69.7,
                    70.3,
                    69.8,
                    69.8,
                    68.8,
                    69.2,
                    70.7,
                    73,
                    70.3,
                    69,
                    71.6,
                    70.7,
                    68.7,
                    78.5,
                    77.7,
                    79.7,
                    78.6,
                    73.6,
                    81.3,
                    73.1,
                    73.7,
                    79.2,
                    78.2,
                    77.9,
                    73,
                    74.7,
                    76.9,
                    78.1,
                    71.1,
                    81.2,
                    77.4,
                    78,
                    76.4,
                    85.5,
                    84.7,
                    89.8,
                    86.8,
                    87.8,
                    83.4,
                    85.2,
                    84.9,
                    87.7,
                    88.5,
                    87.2,
                    88.1,
                    90.2,
                    89.4,
                    87.1,
                    85.6,
                    86.7,
                    89.9,
                    89,
                    81.6,
                    90.2,
                    92.2,
                    93.1,
                    91.6,
                    91,
                    93.7,
                    92.3,
                    90.8,
                    89.7,
                    91.4,
                    91.3,
                    89.4,
                    93.2,
                    91.8,
                    91.9,
                    92.4,
                    94,
                    90.2,
                    92,
                    95.8,
                    88.7,
                    88.4,
                    89.2,
                    91.6,
                    89.6,
                    90.2,
                    89.8,
                    93.5,
                    91.1,
                    89.6,
                    86.4,
                    92.3,
                    88.8,
                    90.4,
                    90.3,
                    92.6,
                    94.7,
                    88.8,
                    89,
                    91.9,
                    83.4,
                    84.1,
                    81.5,
                    85,
                    85.3,
                    85.5,
                    86.4,
                    86.1,
                    84.3,
                    83.2,
                    84.4,
                    85.6,
                    82.4,
                    82.8,
                    87.4,
                    84.2,
                    87,
                    84.7,
                    86,
                    84.1,
                    70.3,
                    73.1,
                    71.3,
                    73.2,
                    73.8,
                    69.9,
                    73,
                    74.2,
                    73.9,
                    69.2,
                    74.7,
                    74.7,
                    76.6,
                    76.2,
                    69.6,
                    71,
                    76.6,
                    69.9,
                    72.4,
                    74.9,
                    56.9,
                    62.6,
                    62.9,
                    65.6,
                    63.5,
                    63.2,
                    58.6,
                    59.5,
                    63.8,
                    62.1,
                    61.8,
                    58,
                    63.6,
                    67.4,
                    59.7,
                    62.2,
                    63.9,
                    66.2,
                    55.5,
                    63.1,
                    52.6,
                    53.5,
                    51.1,
                    49.5,
                    52.6,
                    50.3,
                    56.2,
                    49.9,
                    52.7,
                    52.3,
                    53.9,
                    50.7,
                    54.8,
                    56.9,
                    52.5,
                    52.5,
                    52.9,
                    55.2,
                    51.5,
                    55.5
                  ],
                  "yaxis": "y"
                },
                {
                  "hovertemplate": "County_Name=Broward<br>Month=%{x}<br>Temperature=%{y}<extra></extra>",
                  "legendgroup": "Broward",
                  "line": {
                    "color": "#EF553B",
                    "dash": "solid",
                    "shape": "linear"
                  },
                  "marker": {
                    "symbol": "circle"
                  },
                  "mode": "markers+lines",
                  "name": "Broward",
                  "showlegend": true,
                  "type": "scattergl",
                  "x": [
                    "Jan",
                    "Jan",
                    "Jan",
                    "Jan",
                    "Jan",
                    "Jan",
                    "Jan",
                    "Jan",
                    "Jan",
                    "Jan",
                    "Jan",
                    "Jan",
                    "Jan",
                    "Jan",
                    "Jan",
                    "Jan",
                    "Jan",
                    "Jan",
                    "Jan",
                    "Jan",
                    "Feb",
                    "Feb",
                    "Feb",
                    "Feb",
                    "Feb",
                    "Feb",
                    "Feb",
                    "Feb",
                    "Feb",
                    "Feb",
                    "Feb",
                    "Feb",
                    "Feb",
                    "Feb",
                    "Feb",
                    "Feb",
                    "Feb",
                    "Feb",
                    "Feb",
                    "Feb",
                    "Mar",
                    "Mar",
                    "Mar",
                    "Mar",
                    "Mar",
                    "Mar",
                    "Mar",
                    "Mar",
                    "Mar",
                    "Mar",
                    "Mar",
                    "Mar",
                    "Mar",
                    "Mar",
                    "Mar",
                    "Mar",
                    "Mar",
                    "Mar",
                    "Mar",
                    "Mar",
                    "Apr",
                    "Apr",
                    "Apr",
                    "Apr",
                    "Apr",
                    "Apr",
                    "Apr",
                    "Apr",
                    "Apr",
                    "Apr",
                    "Apr",
                    "Apr",
                    "Apr",
                    "Apr",
                    "Apr",
                    "Apr",
                    "Apr",
                    "Apr",
                    "Apr",
                    "Apr",
                    "May",
                    "May",
                    "May",
                    "May",
                    "May",
                    "May",
                    "May",
                    "May",
                    "May",
                    "May",
                    "May",
                    "May",
                    "May",
                    "May",
                    "May",
                    "May",
                    "May",
                    "May",
                    "May",
                    "May",
                    "Jun",
                    "Jun",
                    "Jun",
                    "Jun",
                    "Jun",
                    "Jun",
                    "Jun",
                    "Jun",
                    "Jun",
                    "Jun",
                    "Jun",
                    "Jun",
                    "Jun",
                    "Jun",
                    "Jun",
                    "Jun",
                    "Jun",
                    "Jun",
                    "Jun",
                    "Jun",
                    "Jul",
                    "Jul",
                    "Jul",
                    "Jul",
                    "Jul",
                    "Jul",
                    "Jul",
                    "Jul",
                    "Jul",
                    "Jul",
                    "Jul",
                    "Jul",
                    "Jul",
                    "Jul",
                    "Jul",
                    "Jul",
                    "Jul",
                    "Jul",
                    "Jul",
                    "Jul",
                    "Aug",
                    "Aug",
                    "Aug",
                    "Aug",
                    "Aug",
                    "Aug",
                    "Aug",
                    "Aug",
                    "Aug",
                    "Aug",
                    "Aug",
                    "Aug",
                    "Aug",
                    "Aug",
                    "Aug",
                    "Aug",
                    "Aug",
                    "Aug",
                    "Aug",
                    "Aug",
                    "Sep",
                    "Sep",
                    "Sep",
                    "Sep",
                    "Sep",
                    "Sep",
                    "Sep",
                    "Sep",
                    "Sep",
                    "Sep",
                    "Sep",
                    "Sep",
                    "Sep",
                    "Sep",
                    "Sep",
                    "Sep",
                    "Sep",
                    "Sep",
                    "Sep",
                    "Sep",
                    "Oct",
                    "Oct",
                    "Oct",
                    "Oct",
                    "Oct",
                    "Oct",
                    "Oct",
                    "Oct",
                    "Oct",
                    "Oct",
                    "Oct",
                    "Oct",
                    "Oct",
                    "Oct",
                    "Oct",
                    "Oct",
                    "Oct",
                    "Oct",
                    "Oct",
                    "Oct",
                    "Nov",
                    "Nov",
                    "Nov",
                    "Nov",
                    "Nov",
                    "Nov",
                    "Nov",
                    "Nov",
                    "Nov",
                    "Nov",
                    "Nov",
                    "Nov",
                    "Nov",
                    "Nov",
                    "Nov",
                    "Nov",
                    "Nov",
                    "Nov",
                    "Nov",
                    "Nov",
                    "Dec",
                    "Dec",
                    "Dec",
                    "Dec",
                    "Dec",
                    "Dec",
                    "Dec",
                    "Dec",
                    "Dec",
                    "Dec",
                    "Dec",
                    "Dec",
                    "Dec",
                    "Dec",
                    "Dec",
                    "Dec",
                    "Dec",
                    "Dec",
                    "Dec",
                    "Dec"
                  ],
                  "xaxis": "x",
                  "y": [
                    64.9,
                    66.5,
                    67,
                    70.6,
                    67.2,
                    64.8,
                    60.8,
                    64.6,
                    65.8,
                    71.1,
                    65.6,
                    68.5,
                    65.7,
                    69,
                    65.1,
                    66.4,
                    68.6,
                    66.3,
                    66.9,
                    69.6,
                    69.1,
                    66.7,
                    65.6,
                    66.8,
                    71.7,
                    65.1,
                    61.4,
                    69.4,
                    70.9,
                    69.3,
                    72.5,
                    65.7,
                    66.3,
                    71.6,
                    74.5,
                    73.7,
                    70.8,
                    72.5,
                    71.4,
                    73.6,
                    71.1,
                    69.7,
                    70.2,
                    71.8,
                    71.8,
                    70,
                    64.4,
                    71.4,
                    73.5,
                    65.6,
                    71.4,
                    75,
                    74.6,
                    71.4,
                    69,
                    72.4,
                    74.5,
                    73,
                    74.7,
                    74.5,
                    72.2,
                    71.3,
                    75.3,
                    73,
                    73.8,
                    74.2,
                    73.3,
                    77.6,
                    73.5,
                    75.9,
                    75.3,
                    78.3,
                    75,
                    75.7,
                    75.4,
                    76.2,
                    78.8,
                    75.3,
                    76.6,
                    77,
                    78.1,
                    77.8,
                    77.6,
                    77,
                    79,
                    78.4,
                    80.2,
                    79,
                    78.2,
                    77.3,
                    78.8,
                    79,
                    78.6,
                    79.8,
                    77.9,
                    80.2,
                    77.8,
                    79.4,
                    79.7,
                    79.2,
                    83.2,
                    80.7,
                    81.7,
                    80.6,
                    81.8,
                    82,
                    84.5,
                    82.3,
                    81.3,
                    82.2,
                    80.5,
                    82.4,
                    82.9,
                    82.2,
                    82.4,
                    83.3,
                    82.7,
                    81.4,
                    81.8,
                    82.3,
                    82.8,
                    84.3,
                    82,
                    83.4,
                    81.9,
                    83.2,
                    83.8,
                    83.1,
                    82.2,
                    81.6,
                    82.8,
                    83.3,
                    84.4,
                    84,
                    83.4,
                    84,
                    83.2,
                    82.4,
                    84,
                    84.9,
                    83.3,
                    84.5,
                    83.2,
                    84.2,
                    83.3,
                    84.2,
                    84.2,
                    84,
                    82.8,
                    83.4,
                    84.1,
                    83.9,
                    83.7,
                    84.1,
                    83.3,
                    83.7,
                    84.3,
                    83.8,
                    84.8,
                    85.1,
                    82,
                    82.5,
                    82.2,
                    82.2,
                    82.3,
                    82.7,
                    82.7,
                    82.8,
                    81.4,
                    81.6,
                    81.6,
                    82.7,
                    82.8,
                    83.2,
                    83,
                    83.5,
                    82.6,
                    82.2,
                    82.4,
                    83.1,
                    77.9,
                    79.3,
                    77.9,
                    80.7,
                    77,
                    80.1,
                    77.4,
                    77.1,
                    77.6,
                    78.7,
                    78,
                    79.4,
                    78.9,
                    78.4,
                    80.5,
                    81.7,
                    80.5,
                    79.5,
                    77.4,
                    79.2,
                    73.3,
                    73.7,
                    70.4,
                    72.5,
                    69,
                    73,
                    71.6,
                    73.6,
                    68.7,
                    75,
                    70,
                    77.6,
                    72.9,
                    74.6,
                    75.4,
                    73.4,
                    76.1,
                    71.5,
                    77,
                    75.2,
                    66.6,
                    66.9,
                    72.5,
                    71.9,
                    68.7,
                    69.6,
                    58.5,
                    71,
                    69.3,
                    73.2,
                    68.8,
                    75.9,
                    74.3,
                    68.8,
                    70,
                    71.2,
                    66.3,
                    72.2,
                    69.9,
                    69.2
                  ],
                  "yaxis": "y"
                },
                {
                  "hovertemplate": "County_Name=Hillsborough<br>Month=%{x}<br>Temperature=%{y}<extra></extra>",
                  "legendgroup": "Hillsborough",
                  "line": {
                    "color": "#00cc96",
                    "dash": "solid",
                    "shape": "linear"
                  },
                  "marker": {
                    "symbol": "circle"
                  },
                  "mode": "markers+lines",
                  "name": "Hillsborough",
                  "showlegend": true,
                  "type": "scattergl",
                  "x": [
                    "Jan",
                    "Jan",
                    "Jan",
                    "Jan",
                    "Jan",
                    "Jan",
                    "Jan",
                    "Jan",
                    "Jan",
                    "Jan",
                    "Jan",
                    "Jan",
                    "Jan",
                    "Jan",
                    "Jan",
                    "Jan",
                    "Jan",
                    "Jan",
                    "Jan",
                    "Jan",
                    "Feb",
                    "Feb",
                    "Feb",
                    "Feb",
                    "Feb",
                    "Feb",
                    "Feb",
                    "Feb",
                    "Feb",
                    "Feb",
                    "Feb",
                    "Feb",
                    "Feb",
                    "Feb",
                    "Feb",
                    "Feb",
                    "Feb",
                    "Feb",
                    "Feb",
                    "Feb",
                    "Mar",
                    "Mar",
                    "Mar",
                    "Mar",
                    "Mar",
                    "Mar",
                    "Mar",
                    "Mar",
                    "Mar",
                    "Mar",
                    "Mar",
                    "Mar",
                    "Mar",
                    "Mar",
                    "Mar",
                    "Mar",
                    "Mar",
                    "Mar",
                    "Mar",
                    "Mar",
                    "Apr",
                    "Apr",
                    "Apr",
                    "Apr",
                    "Apr",
                    "Apr",
                    "Apr",
                    "Apr",
                    "Apr",
                    "Apr",
                    "Apr",
                    "Apr",
                    "Apr",
                    "Apr",
                    "Apr",
                    "Apr",
                    "Apr",
                    "Apr",
                    "Apr",
                    "Apr",
                    "May",
                    "May",
                    "May",
                    "May",
                    "May",
                    "May",
                    "May",
                    "May",
                    "May",
                    "May",
                    "May",
                    "May",
                    "May",
                    "May",
                    "May",
                    "May",
                    "May",
                    "May",
                    "May",
                    "May",
                    "Jun",
                    "Jun",
                    "Jun",
                    "Jun",
                    "Jun",
                    "Jun",
                    "Jun",
                    "Jun",
                    "Jun",
                    "Jun",
                    "Jun",
                    "Jun",
                    "Jun",
                    "Jun",
                    "Jun",
                    "Jun",
                    "Jun",
                    "Jun",
                    "Jun",
                    "Jun",
                    "Jul",
                    "Jul",
                    "Jul",
                    "Jul",
                    "Jul",
                    "Jul",
                    "Jul",
                    "Jul",
                    "Jul",
                    "Jul",
                    "Jul",
                    "Jul",
                    "Jul",
                    "Jul",
                    "Jul",
                    "Jul",
                    "Jul",
                    "Jul",
                    "Jul",
                    "Jul",
                    "Aug",
                    "Aug",
                    "Aug",
                    "Aug",
                    "Aug",
                    "Aug",
                    "Aug",
                    "Aug",
                    "Aug",
                    "Aug",
                    "Aug",
                    "Aug",
                    "Aug",
                    "Aug",
                    "Aug",
                    "Aug",
                    "Aug",
                    "Aug",
                    "Aug",
                    "Aug",
                    "Sep",
                    "Sep",
                    "Sep",
                    "Sep",
                    "Sep",
                    "Sep",
                    "Sep",
                    "Sep",
                    "Sep",
                    "Sep",
                    "Sep",
                    "Sep",
                    "Sep",
                    "Sep",
                    "Sep",
                    "Sep",
                    "Sep",
                    "Sep",
                    "Sep",
                    "Sep",
                    "Oct",
                    "Oct",
                    "Oct",
                    "Oct",
                    "Oct",
                    "Oct",
                    "Oct",
                    "Oct",
                    "Oct",
                    "Oct",
                    "Oct",
                    "Oct",
                    "Oct",
                    "Oct",
                    "Oct",
                    "Oct",
                    "Oct",
                    "Oct",
                    "Oct",
                    "Oct",
                    "Nov",
                    "Nov",
                    "Nov",
                    "Nov",
                    "Nov",
                    "Nov",
                    "Nov",
                    "Nov",
                    "Nov",
                    "Nov",
                    "Nov",
                    "Nov",
                    "Nov",
                    "Nov",
                    "Nov",
                    "Nov",
                    "Nov",
                    "Nov",
                    "Nov",
                    "Nov",
                    "Dec",
                    "Dec",
                    "Dec",
                    "Dec",
                    "Dec",
                    "Dec",
                    "Dec",
                    "Dec",
                    "Dec",
                    "Dec",
                    "Dec",
                    "Dec",
                    "Dec",
                    "Dec",
                    "Dec",
                    "Dec",
                    "Dec",
                    "Dec",
                    "Dec",
                    "Dec"
                  ],
                  "xaxis": "x",
                  "y": [
                    59,
                    61.8,
                    62.4,
                    63.8,
                    61.4,
                    59.3,
                    54.3,
                    58.1,
                    61,
                    66.1,
                    57.2,
                    61.1,
                    59.2,
                    64,
                    57.3,
                    60.1,
                    64,
                    60.8,
                    60.2,
                    63.5,
                    62.6,
                    63,
                    60.4,
                    59.9,
                    65.7,
                    59.7,
                    54.6,
                    64.2,
                    67,
                    64.6,
                    64.8,
                    59,
                    61,
                    66.8,
                    71.9,
                    70,
                    66.2,
                    66.8,
                    65.8,
                    69.1,
                    66.8,
                    64.8,
                    66.8,
                    67.8,
                    67.1,
                    67.3,
                    60.2,
                    68.3,
                    71.9,
                    60.8,
                    65.6,
                    71.7,
                    70.4,
                    67.5,
                    64.4,
                    68,
                    72.9,
                    69.6,
                    71.4,
                    71.2,
                    68.8,
                    68.2,
                    73,
                    69.9,
                    71.1,
                    71.9,
                    71.4,
                    74.7,
                    72.7,
                    74,
                    71.7,
                    76.8,
                    72.6,
                    73.8,
                    72.8,
                    73.6,
                    75.1,
                    72.3,
                    74.3,
                    76,
                    77.1,
                    76,
                    76.4,
                    76,
                    77.8,
                    77.6,
                    79.7,
                    77.2,
                    79,
                    75.5,
                    77.4,
                    78.9,
                    77.3,
                    78.8,
                    77,
                    80.5,
                    77.5,
                    78.6,
                    79.4,
                    77.8,
                    82.2,
                    80.1,
                    81.1,
                    80.2,
                    81.3,
                    82,
                    83.8,
                    81.9,
                    79.9,
                    81.5,
                    81.3,
                    82.2,
                    82.2,
                    81,
                    82.4,
                    83.3,
                    82.5,
                    82.1,
                    83,
                    81.5,
                    82,
                    83.6,
                    82.2,
                    82.5,
                    80.9,
                    82.2,
                    83.6,
                    82.8,
                    82.6,
                    81.7,
                    82.3,
                    82.4,
                    84.3,
                    83.2,
                    83,
                    82.9,
                    84.1,
                    83,
                    84.7,
                    84.5,
                    81.7,
                    84,
                    82.8,
                    83.9,
                    81.4,
                    82.8,
                    83.5,
                    83.6,
                    82.4,
                    83.2,
                    83.1,
                    82.6,
                    82.9,
                    83.5,
                    83.1,
                    83.4,
                    84,
                    83.7,
                    84,
                    85.4,
                    80.5,
                    81.5,
                    80.6,
                    81.5,
                    80.9,
                    81.7,
                    81.8,
                    81.1,
                    80.7,
                    80.8,
                    80.5,
                    81.6,
                    82.1,
                    81.8,
                    83.8,
                    82.7,
                    82,
                    81.4,
                    81.3,
                    81.9,
                    75.6,
                    75.1,
                    74.3,
                    78.1,
                    73.6,
                    77.3,
                    74,
                    72,
                    75.2,
                    76.2,
                    74.4,
                    76.4,
                    75.7,
                    76.2,
                    78.8,
                    80.1,
                    79.5,
                    77.9,
                    74.2,
                    75.5,
                    69.1,
                    69.3,
                    65.7,
                    67.4,
                    63.4,
                    68.3,
                    67.4,
                    68.5,
                    64.4,
                    69.8,
                    63.4,
                    74.5,
                    68.1,
                    69.3,
                    69.8,
                    68.2,
                    72.9,
                    65.8,
                    72,
                    69.2,
                    60.1,
                    58.9,
                    66.9,
                    67.2,
                    64,
                    62.9,
                    51.9,
                    65.3,
                    64.5,
                    67.4,
                    63.9,
                    72.1,
                    68.3,
                    65,
                    64,
                    66.5,
                    59.8,
                    68.5,
                    63.4,
                    63.7
                  ],
                  "yaxis": "y"
                },
                {
                  "hovertemplate": "County_Name=Miami-Dade<br>Month=%{x}<br>Temperature=%{y}<extra></extra>",
                  "legendgroup": "Miami-Dade",
                  "line": {
                    "color": "#ab63fa",
                    "dash": "solid",
                    "shape": "linear"
                  },
                  "marker": {
                    "symbol": "circle"
                  },
                  "mode": "markers+lines",
                  "name": "Miami-Dade",
                  "showlegend": true,
                  "type": "scattergl",
                  "x": [
                    "Jan",
                    "Jan",
                    "Jan",
                    "Jan",
                    "Jan",
                    "Jan",
                    "Jan",
                    "Jan",
                    "Jan",
                    "Jan",
                    "Jan",
                    "Jan",
                    "Jan",
                    "Jan",
                    "Jan",
                    "Jan",
                    "Jan",
                    "Jan",
                    "Jan",
                    "Jan",
                    "Feb",
                    "Feb",
                    "Feb",
                    "Feb",
                    "Feb",
                    "Feb",
                    "Feb",
                    "Feb",
                    "Feb",
                    "Feb",
                    "Feb",
                    "Feb",
                    "Feb",
                    "Feb",
                    "Feb",
                    "Feb",
                    "Feb",
                    "Feb",
                    "Feb",
                    "Feb",
                    "Mar",
                    "Mar",
                    "Mar",
                    "Mar",
                    "Mar",
                    "Mar",
                    "Mar",
                    "Mar",
                    "Mar",
                    "Mar",
                    "Mar",
                    "Mar",
                    "Mar",
                    "Mar",
                    "Mar",
                    "Mar",
                    "Mar",
                    "Mar",
                    "Mar",
                    "Mar",
                    "Apr",
                    "Apr",
                    "Apr",
                    "Apr",
                    "Apr",
                    "Apr",
                    "Apr",
                    "Apr",
                    "Apr",
                    "Apr",
                    "Apr",
                    "Apr",
                    "Apr",
                    "Apr",
                    "Apr",
                    "Apr",
                    "Apr",
                    "Apr",
                    "Apr",
                    "Apr",
                    "May",
                    "May",
                    "May",
                    "May",
                    "May",
                    "May",
                    "May",
                    "May",
                    "May",
                    "May",
                    "May",
                    "May",
                    "May",
                    "May",
                    "May",
                    "May",
                    "May",
                    "May",
                    "May",
                    "May",
                    "Jun",
                    "Jun",
                    "Jun",
                    "Jun",
                    "Jun",
                    "Jun",
                    "Jun",
                    "Jun",
                    "Jun",
                    "Jun",
                    "Jun",
                    "Jun",
                    "Jun",
                    "Jun",
                    "Jun",
                    "Jun",
                    "Jun",
                    "Jun",
                    "Jun",
                    "Jun",
                    "Jul",
                    "Jul",
                    "Jul",
                    "Jul",
                    "Jul",
                    "Jul",
                    "Jul",
                    "Jul",
                    "Jul",
                    "Jul",
                    "Jul",
                    "Jul",
                    "Jul",
                    "Jul",
                    "Jul",
                    "Jul",
                    "Jul",
                    "Jul",
                    "Jul",
                    "Jul",
                    "Aug",
                    "Aug",
                    "Aug",
                    "Aug",
                    "Aug",
                    "Aug",
                    "Aug",
                    "Aug",
                    "Aug",
                    "Aug",
                    "Aug",
                    "Aug",
                    "Aug",
                    "Aug",
                    "Aug",
                    "Aug",
                    "Aug",
                    "Aug",
                    "Aug",
                    "Aug",
                    "Sep",
                    "Sep",
                    "Sep",
                    "Sep",
                    "Sep",
                    "Sep",
                    "Sep",
                    "Sep",
                    "Sep",
                    "Sep",
                    "Sep",
                    "Sep",
                    "Sep",
                    "Sep",
                    "Sep",
                    "Sep",
                    "Sep",
                    "Sep",
                    "Sep",
                    "Sep",
                    "Oct",
                    "Oct",
                    "Oct",
                    "Oct",
                    "Oct",
                    "Oct",
                    "Oct",
                    "Oct",
                    "Oct",
                    "Oct",
                    "Oct",
                    "Oct",
                    "Oct",
                    "Oct",
                    "Oct",
                    "Oct",
                    "Oct",
                    "Oct",
                    "Oct",
                    "Oct",
                    "Nov",
                    "Nov",
                    "Nov",
                    "Nov",
                    "Nov",
                    "Nov",
                    "Nov",
                    "Nov",
                    "Nov",
                    "Nov",
                    "Nov",
                    "Nov",
                    "Nov",
                    "Nov",
                    "Nov",
                    "Nov",
                    "Nov",
                    "Nov",
                    "Nov",
                    "Nov",
                    "Dec",
                    "Dec",
                    "Dec",
                    "Dec",
                    "Dec",
                    "Dec",
                    "Dec",
                    "Dec",
                    "Dec",
                    "Dec",
                    "Dec",
                    "Dec",
                    "Dec",
                    "Dec",
                    "Dec",
                    "Dec",
                    "Dec",
                    "Dec",
                    "Dec",
                    "Dec"
                  ],
                  "xaxis": "x",
                  "y": [
                    65.7,
                    66.9,
                    67.5,
                    71,
                    67.8,
                    65.6,
                    61.2,
                    65.4,
                    66.9,
                    72,
                    66.7,
                    69.8,
                    67,
                    69.5,
                    66.3,
                    67.3,
                    69.6,
                    67.6,
                    68,
                    70.1,
                    69.8,
                    67.4,
                    66.3,
                    67.5,
                    72.3,
                    65.5,
                    62.3,
                    69.8,
                    71.6,
                    70.6,
                    73.3,
                    66.7,
                    67.2,
                    71.7,
                    75,
                    74.4,
                    71.9,
                    73.6,
                    72.2,
                    73.9,
                    71.5,
                    70.1,
                    70.4,
                    72,
                    72.2,
                    70.1,
                    65.1,
                    71.6,
                    73.8,
                    66.3,
                    72,
                    75.5,
                    75.2,
                    71.6,
                    69.5,
                    72.8,
                    74.5,
                    73.4,
                    75.4,
                    74.6,
                    72.2,
                    71.7,
                    75,
                    73.2,
                    74,
                    74.6,
                    73.2,
                    77.8,
                    73.9,
                    76.6,
                    75.7,
                    78.6,
                    75.5,
                    75.9,
                    75.9,
                    76.4,
                    79.7,
                    75.6,
                    77.1,
                    77.4,
                    78,
                    77.5,
                    77.6,
                    77,
                    79,
                    78.6,
                    80.5,
                    79.2,
                    78.4,
                    77.6,
                    79.2,
                    79.4,
                    79.3,
                    80,
                    78.4,
                    80.6,
                    78.1,
                    79.3,
                    80,
                    78.8,
                    82.8,
                    81,
                    81.6,
                    80.8,
                    81.8,
                    81.9,
                    84.7,
                    82.2,
                    81.4,
                    82.4,
                    80.9,
                    82.7,
                    83.4,
                    82.5,
                    82.6,
                    83.8,
                    83,
                    81.4,
                    81.8,
                    82.4,
                    82.3,
                    84.4,
                    82,
                    83.8,
                    82.1,
                    83.4,
                    83.8,
                    83.4,
                    82.2,
                    82.1,
                    83.4,
                    83.8,
                    84.6,
                    84.2,
                    83.8,
                    84.3,
                    83.8,
                    82.7,
                    84,
                    85,
                    83.2,
                    84.8,
                    83.2,
                    84.2,
                    83.2,
                    84.1,
                    84.2,
                    83.9,
                    83,
                    83.5,
                    84.5,
                    84.3,
                    84.1,
                    84.4,
                    83.6,
                    84.2,
                    84.5,
                    83.7,
                    84.6,
                    85,
                    82.1,
                    82.5,
                    82.3,
                    82.2,
                    82.3,
                    82.9,
                    82.7,
                    82.9,
                    81.8,
                    82.3,
                    82.1,
                    83.5,
                    83.3,
                    83.8,
                    83.4,
                    83.7,
                    83.1,
                    82.2,
                    82.8,
                    83.2,
                    78.2,
                    78.9,
                    78.4,
                    80.8,
                    77.1,
                    80.5,
                    78.1,
                    77.4,
                    78.3,
                    79.4,
                    78.7,
                    80.5,
                    79.5,
                    79.2,
                    81,
                    82.1,
                    81,
                    79.8,
                    78.1,
                    79.4,
                    73.7,
                    73.9,
                    71.2,
                    73.1,
                    69.7,
                    73.8,
                    72,
                    73.9,
                    69.4,
                    76.2,
                    71.4,
                    78.6,
                    73.4,
                    75.2,
                    76.1,
                    74.4,
                    76.3,
                    72.2,
                    77.6,
                    75.6,
                    67.6,
                    67.8,
                    73.2,
                    72.5,
                    69.6,
                    70.7,
                    60,
                    71,
                    70.4,
                    74.2,
                    69.7,
                    77.2,
                    75.3,
                    69.6,
                    71,
                    71.9,
                    67.4,
                    73,
                    70.8,
                    70.1
                  ],
                  "yaxis": "y"
                },
                {
                  "hovertemplate": "County_Name=Orange<br>Month=%{x}<br>Temperature=%{y}<extra></extra>",
                  "legendgroup": "Orange",
                  "line": {
                    "color": "#FFA15A",
                    "dash": "solid",
                    "shape": "linear"
                  },
                  "marker": {
                    "symbol": "circle"
                  },
                  "mode": "markers+lines",
                  "name": "Orange",
                  "showlegend": true,
                  "type": "scattergl",
                  "x": [
                    "Jan",
                    "Jan",
                    "Jan",
                    "Jan",
                    "Jan",
                    "Jan",
                    "Jan",
                    "Jan",
                    "Jan",
                    "Jan",
                    "Jan",
                    "Jan",
                    "Jan",
                    "Jan",
                    "Jan",
                    "Jan",
                    "Jan",
                    "Jan",
                    "Jan",
                    "Jan",
                    "Feb",
                    "Feb",
                    "Feb",
                    "Feb",
                    "Feb",
                    "Feb",
                    "Feb",
                    "Feb",
                    "Feb",
                    "Feb",
                    "Feb",
                    "Feb",
                    "Feb",
                    "Feb",
                    "Feb",
                    "Feb",
                    "Feb",
                    "Feb",
                    "Feb",
                    "Feb",
                    "Mar",
                    "Mar",
                    "Mar",
                    "Mar",
                    "Mar",
                    "Mar",
                    "Mar",
                    "Mar",
                    "Mar",
                    "Mar",
                    "Mar",
                    "Mar",
                    "Mar",
                    "Mar",
                    "Mar",
                    "Mar",
                    "Mar",
                    "Mar",
                    "Mar",
                    "Mar",
                    "Apr",
                    "Apr",
                    "Apr",
                    "Apr",
                    "Apr",
                    "Apr",
                    "Apr",
                    "Apr",
                    "Apr",
                    "Apr",
                    "Apr",
                    "Apr",
                    "Apr",
                    "Apr",
                    "Apr",
                    "Apr",
                    "Apr",
                    "Apr",
                    "Apr",
                    "Apr",
                    "May",
                    "May",
                    "May",
                    "May",
                    "May",
                    "May",
                    "May",
                    "May",
                    "May",
                    "May",
                    "May",
                    "May",
                    "May",
                    "May",
                    "May",
                    "May",
                    "May",
                    "May",
                    "May",
                    "May",
                    "Jun",
                    "Jun",
                    "Jun",
                    "Jun",
                    "Jun",
                    "Jun",
                    "Jun",
                    "Jun",
                    "Jun",
                    "Jun",
                    "Jun",
                    "Jun",
                    "Jun",
                    "Jun",
                    "Jun",
                    "Jun",
                    "Jun",
                    "Jun",
                    "Jun",
                    "Jun",
                    "Jul",
                    "Jul",
                    "Jul",
                    "Jul",
                    "Jul",
                    "Jul",
                    "Jul",
                    "Jul",
                    "Jul",
                    "Jul",
                    "Jul",
                    "Jul",
                    "Jul",
                    "Jul",
                    "Jul",
                    "Jul",
                    "Jul",
                    "Jul",
                    "Jul",
                    "Jul",
                    "Aug",
                    "Aug",
                    "Aug",
                    "Aug",
                    "Aug",
                    "Aug",
                    "Aug",
                    "Aug",
                    "Aug",
                    "Aug",
                    "Aug",
                    "Aug",
                    "Aug",
                    "Aug",
                    "Aug",
                    "Aug",
                    "Aug",
                    "Aug",
                    "Aug",
                    "Aug",
                    "Sep",
                    "Sep",
                    "Sep",
                    "Sep",
                    "Sep",
                    "Sep",
                    "Sep",
                    "Sep",
                    "Sep",
                    "Sep",
                    "Sep",
                    "Sep",
                    "Sep",
                    "Sep",
                    "Sep",
                    "Sep",
                    "Sep",
                    "Sep",
                    "Sep",
                    "Sep",
                    "Oct",
                    "Oct",
                    "Oct",
                    "Oct",
                    "Oct",
                    "Oct",
                    "Oct",
                    "Oct",
                    "Oct",
                    "Oct",
                    "Oct",
                    "Oct",
                    "Oct",
                    "Oct",
                    "Oct",
                    "Oct",
                    "Oct",
                    "Oct",
                    "Oct",
                    "Oct",
                    "Nov",
                    "Nov",
                    "Nov",
                    "Nov",
                    "Nov",
                    "Nov",
                    "Nov",
                    "Nov",
                    "Nov",
                    "Nov",
                    "Nov",
                    "Nov",
                    "Nov",
                    "Nov",
                    "Nov",
                    "Nov",
                    "Nov",
                    "Nov",
                    "Nov",
                    "Nov",
                    "Dec",
                    "Dec",
                    "Dec",
                    "Dec",
                    "Dec",
                    "Dec",
                    "Dec",
                    "Dec",
                    "Dec",
                    "Dec",
                    "Dec",
                    "Dec",
                    "Dec",
                    "Dec",
                    "Dec",
                    "Dec",
                    "Dec",
                    "Dec",
                    "Dec",
                    "Dec"
                  ],
                  "xaxis": "x",
                  "y": [
                    59.1,
                    61.9,
                    62.2,
                    63.6,
                    60.9,
                    58.8,
                    54.1,
                    58.1,
                    60.4,
                    65.8,
                    57.2,
                    60.9,
                    58.7,
                    64.2,
                    57.4,
                    60.1,
                    63.7,
                    60.4,
                    59.8,
                    63.4,
                    61.9,
                    63.2,
                    60.2,
                    59.8,
                    65.6,
                    59.6,
                    53.9,
                    64.4,
                    66.5,
                    64.3,
                    64.7,
                    58.9,
                    60.7,
                    66.7,
                    71.3,
                    69.2,
                    66.2,
                    66.7,
                    65.2,
                    69.3,
                    66.9,
                    64.2,
                    66.7,
                    67.7,
                    66.5,
                    67.2,
                    60.5,
                    68,
                    71.6,
                    60.8,
                    65.9,
                    71.6,
                    70.6,
                    67.6,
                    64.4,
                    67.5,
                    72.6,
                    69.3,
                    70.9,
                    71.2,
                    68.6,
                    68.3,
                    74,
                    69.9,
                    70.8,
                    70.7,
                    70.5,
                    74.4,
                    72.6,
                    73,
                    72.1,
                    76.7,
                    72.2,
                    73.3,
                    72.3,
                    72.7,
                    74.4,
                    71.3,
                    73.4,
                    75.4,
                    76.9,
                    75.6,
                    77,
                    75.6,
                    77.8,
                    77.9,
                    79,
                    77.6,
                    78.3,
                    74.8,
                    77.4,
                    78.6,
                    77.2,
                    78.6,
                    76.7,
                    79.4,
                    77.1,
                    77.9,
                    79.1,
                    77.2,
                    82.3,
                    80,
                    80.8,
                    80.5,
                    81.3,
                    82,
                    83.4,
                    81.7,
                    79.2,
                    80.9,
                    80.6,
                    82.2,
                    82.7,
                    81,
                    81.8,
                    82.7,
                    81.9,
                    81.7,
                    82.6,
                    81.5,
                    82.5,
                    84.1,
                    82.3,
                    82.9,
                    81.4,
                    82.1,
                    83.8,
                    82.8,
                    82.7,
                    81,
                    82.8,
                    83.2,
                    85,
                    83.4,
                    82.6,
                    83.3,
                    83.7,
                    82.7,
                    84.3,
                    84.6,
                    82.2,
                    84.5,
                    83.1,
                    84.2,
                    81.5,
                    83.2,
                    83.7,
                    83.9,
                    82.3,
                    82.9,
                    83.6,
                    83,
                    83.7,
                    83.6,
                    83,
                    83.2,
                    84.1,
                    83.7,
                    83.9,
                    85.4,
                    81.2,
                    81.2,
                    80.6,
                    81.5,
                    80.8,
                    81.3,
                    81.2,
                    81.2,
                    80.4,
                    80.6,
                    80.6,
                    81.4,
                    81.7,
                    81.6,
                    83.3,
                    81.8,
                    82.1,
                    81.2,
                    81.5,
                    81.5,
                    75.4,
                    75,
                    73.7,
                    78.1,
                    73.2,
                    77.1,
                    73.8,
                    71.8,
                    74.8,
                    75.7,
                    74.5,
                    75.8,
                    75.6,
                    76.3,
                    77.9,
                    79.4,
                    79,
                    77.2,
                    74.4,
                    75.1,
                    69.6,
                    69.2,
                    65.5,
                    67.4,
                    63.3,
                    69.1,
                    67.1,
                    68.2,
                    63.9,
                    70,
                    63.9,
                    74.7,
                    68,
                    69.5,
                    69.5,
                    67.7,
                    72.6,
                    66,
                    72.2,
                    69.1,
                    60.4,
                    59.2,
                    66.7,
                    67,
                    63.7,
                    63.1,
                    51.2,
                    65.2,
                    63.9,
                    67,
                    64.2,
                    72,
                    68.2,
                    64.5,
                    63.4,
                    66.2,
                    59.1,
                    68.5,
                    63.2,
                    64.2
                  ],
                  "yaxis": "y"
                },
                {
                  "hovertemplate": "County_Name=Pinellas<br>Month=%{x}<br>Temperature=%{y}<extra></extra>",
                  "legendgroup": "Pinellas",
                  "line": {
                    "color": "#19d3f3",
                    "dash": "solid",
                    "shape": "linear"
                  },
                  "marker": {
                    "symbol": "circle"
                  },
                  "mode": "markers+lines",
                  "name": "Pinellas",
                  "showlegend": true,
                  "type": "scattergl",
                  "x": [
                    "Jan",
                    "Jan",
                    "Jan",
                    "Jan",
                    "Jan",
                    "Jan",
                    "Jan",
                    "Jan",
                    "Jan",
                    "Jan",
                    "Jan",
                    "Jan",
                    "Jan",
                    "Jan",
                    "Jan",
                    "Jan",
                    "Jan",
                    "Jan",
                    "Jan",
                    "Jan",
                    "Feb",
                    "Feb",
                    "Feb",
                    "Feb",
                    "Feb",
                    "Feb",
                    "Feb",
                    "Feb",
                    "Feb",
                    "Feb",
                    "Feb",
                    "Feb",
                    "Feb",
                    "Feb",
                    "Feb",
                    "Feb",
                    "Feb",
                    "Feb",
                    "Feb",
                    "Feb",
                    "Mar",
                    "Mar",
                    "Mar",
                    "Mar",
                    "Mar",
                    "Mar",
                    "Mar",
                    "Mar",
                    "Mar",
                    "Mar",
                    "Mar",
                    "Mar",
                    "Mar",
                    "Mar",
                    "Mar",
                    "Mar",
                    "Mar",
                    "Mar",
                    "Mar",
                    "Mar",
                    "Apr",
                    "Apr",
                    "Apr",
                    "Apr",
                    "Apr",
                    "Apr",
                    "Apr",
                    "Apr",
                    "Apr",
                    "Apr",
                    "Apr",
                    "Apr",
                    "Apr",
                    "Apr",
                    "Apr",
                    "Apr",
                    "Apr",
                    "Apr",
                    "Apr",
                    "Apr",
                    "May",
                    "May",
                    "May",
                    "May",
                    "May",
                    "May",
                    "May",
                    "May",
                    "May",
                    "May",
                    "May",
                    "May",
                    "May",
                    "May",
                    "May",
                    "May",
                    "May",
                    "May",
                    "May",
                    "May",
                    "Jun",
                    "Jun",
                    "Jun",
                    "Jun",
                    "Jun",
                    "Jun",
                    "Jun",
                    "Jun",
                    "Jun",
                    "Jun",
                    "Jun",
                    "Jun",
                    "Jun",
                    "Jun",
                    "Jun",
                    "Jun",
                    "Jun",
                    "Jun",
                    "Jun",
                    "Jun",
                    "Jul",
                    "Jul",
                    "Jul",
                    "Jul",
                    "Jul",
                    "Jul",
                    "Jul",
                    "Jul",
                    "Jul",
                    "Jul",
                    "Jul",
                    "Jul",
                    "Jul",
                    "Jul",
                    "Jul",
                    "Jul",
                    "Jul",
                    "Jul",
                    "Jul",
                    "Jul",
                    "Aug",
                    "Aug",
                    "Aug",
                    "Aug",
                    "Aug",
                    "Aug",
                    "Aug",
                    "Aug",
                    "Aug",
                    "Aug",
                    "Aug",
                    "Aug",
                    "Aug",
                    "Aug",
                    "Aug",
                    "Aug",
                    "Aug",
                    "Aug",
                    "Aug",
                    "Aug",
                    "Sep",
                    "Sep",
                    "Sep",
                    "Sep",
                    "Sep",
                    "Sep",
                    "Sep",
                    "Sep",
                    "Sep",
                    "Sep",
                    "Sep",
                    "Sep",
                    "Sep",
                    "Sep",
                    "Sep",
                    "Sep",
                    "Sep",
                    "Sep",
                    "Sep",
                    "Sep",
                    "Oct",
                    "Oct",
                    "Oct",
                    "Oct",
                    "Oct",
                    "Oct",
                    "Oct",
                    "Oct",
                    "Oct",
                    "Oct",
                    "Oct",
                    "Oct",
                    "Oct",
                    "Oct",
                    "Oct",
                    "Oct",
                    "Oct",
                    "Oct",
                    "Oct",
                    "Oct",
                    "Nov",
                    "Nov",
                    "Nov",
                    "Nov",
                    "Nov",
                    "Nov",
                    "Nov",
                    "Nov",
                    "Nov",
                    "Nov",
                    "Nov",
                    "Nov",
                    "Nov",
                    "Nov",
                    "Nov",
                    "Nov",
                    "Nov",
                    "Nov",
                    "Nov",
                    "Nov",
                    "Dec",
                    "Dec",
                    "Dec",
                    "Dec",
                    "Dec",
                    "Dec",
                    "Dec",
                    "Dec",
                    "Dec",
                    "Dec",
                    "Dec",
                    "Dec",
                    "Dec",
                    "Dec",
                    "Dec",
                    "Dec",
                    "Dec",
                    "Dec",
                    "Dec",
                    "Dec"
                  ],
                  "xaxis": "x",
                  "y": [
                    59.1,
                    62,
                    62.3,
                    64,
                    61,
                    59.5,
                    54,
                    58.1,
                    61.8,
                    66.4,
                    57,
                    61.3,
                    59.5,
                    64.7,
                    57.1,
                    60.1,
                    64.2,
                    60.4,
                    60.6,
                    63,
                    62.6,
                    63.3,
                    60.5,
                    59.6,
                    65.5,
                    59.9,
                    54.8,
                    64.6,
                    66.9,
                    64.8,
                    64.4,
                    59.1,
                    61.4,
                    67,
                    71.9,
                    69.6,
                    66.2,
                    66.1,
                    65.7,
                    68.7,
                    67.4,
                    65,
                    66.7,
                    68.1,
                    66.8,
                    67.5,
                    60.6,
                    68.7,
                    72.9,
                    60.9,
                    65.5,
                    72,
                    70.6,
                    68.1,
                    65,
                    68.1,
                    73.2,
                    69.1,
                    72.1,
                    70.7,
                    69.3,
                    69,
                    73.3,
                    70,
                    71.4,
                    72,
                    71.9,
                    75.1,
                    73.3,
                    74.4,
                    72,
                    77.1,
                    73.6,
                    74.9,
                    73.1,
                    74,
                    75,
                    71.9,
                    75.3,
                    76,
                    78.2,
                    76.8,
                    76.6,
                    76.8,
                    78,
                    77.8,
                    80.3,
                    77.7,
                    79.3,
                    76.4,
                    77.8,
                    79.4,
                    78.2,
                    79.2,
                    77.5,
                    80.9,
                    78,
                    78.5,
                    80.3,
                    77.7,
                    83,
                    80.8,
                    81.7,
                    80.6,
                    81.9,
                    82.7,
                    84.5,
                    82.5,
                    80.7,
                    82.4,
                    81.9,
                    82.8,
                    83.1,
                    82,
                    83,
                    83.9,
                    83.2,
                    82.5,
                    84.1,
                    81.6,
                    82.8,
                    84.1,
                    82.9,
                    83.3,
                    81.5,
                    82.8,
                    83.9,
                    83.5,
                    83,
                    82.5,
                    83.3,
                    83,
                    85.1,
                    84.2,
                    83.5,
                    83.1,
                    84.7,
                    83.2,
                    85.6,
                    84.8,
                    82.3,
                    84.5,
                    83.5,
                    84.4,
                    82.1,
                    83.2,
                    83.8,
                    84.2,
                    83,
                    83.9,
                    84.1,
                    83.3,
                    83.4,
                    84.4,
                    83.8,
                    83.8,
                    84.2,
                    83.7,
                    84.4,
                    85.9,
                    80.7,
                    82.4,
                    81.2,
                    82,
                    81.7,
                    82.4,
                    82.8,
                    81.6,
                    81.4,
                    81.7,
                    80.8,
                    82,
                    83,
                    82.5,
                    84.3,
                    83.2,
                    82.3,
                    81.6,
                    81.5,
                    82.4,
                    76,
                    75.8,
                    75,
                    78.9,
                    74.4,
                    77.8,
                    75.1,
                    72.8,
                    76.1,
                    77.4,
                    75.5,
                    77.4,
                    76.9,
                    77.3,
                    79.6,
                    80.6,
                    80,
                    78.7,
                    74.7,
                    76.1,
                    69.7,
                    70,
                    66.3,
                    67.7,
                    63.9,
                    68.5,
                    68.2,
                    69,
                    65.4,
                    70.1,
                    64,
                    75.1,
                    69.3,
                    70.1,
                    70.2,
                    68.7,
                    73.5,
                    66.3,
                    72.4,
                    69.6,
                    60.3,
                    59.2,
                    67.3,
                    67.3,
                    64.2,
                    63.2,
                    52.5,
                    66,
                    64.9,
                    67.6,
                    64.1,
                    72.5,
                    68.6,
                    65.8,
                    64.4,
                    66.7,
                    60.5,
                    68.9,
                    63.7,
                    63.7
                  ],
                  "yaxis": "y"
                },
                {
                  "hovertemplate": "County_Name=Fulton<br>Month=%{x}<br>Temperature=%{y}<extra></extra>",
                  "legendgroup": "Fulton",
                  "line": {
                    "color": "#FF6692",
                    "dash": "solid",
                    "shape": "linear"
                  },
                  "marker": {
                    "symbol": "circle"
                  },
                  "mode": "markers+lines",
                  "name": "Fulton",
                  "showlegend": true,
                  "type": "scattergl",
                  "x": [
                    "Jan",
                    "Jan",
                    "Jan",
                    "Jan",
                    "Jan",
                    "Jan",
                    "Jan",
                    "Jan",
                    "Jan",
                    "Jan",
                    "Jan",
                    "Jan",
                    "Jan",
                    "Jan",
                    "Jan",
                    "Jan",
                    "Jan",
                    "Jan",
                    "Jan",
                    "Jan",
                    "Feb",
                    "Feb",
                    "Feb",
                    "Feb",
                    "Feb",
                    "Feb",
                    "Feb",
                    "Feb",
                    "Feb",
                    "Feb",
                    "Feb",
                    "Feb",
                    "Feb",
                    "Feb",
                    "Feb",
                    "Feb",
                    "Feb",
                    "Feb",
                    "Feb",
                    "Feb",
                    "Mar",
                    "Mar",
                    "Mar",
                    "Mar",
                    "Mar",
                    "Mar",
                    "Mar",
                    "Mar",
                    "Mar",
                    "Mar",
                    "Mar",
                    "Mar",
                    "Mar",
                    "Mar",
                    "Mar",
                    "Mar",
                    "Mar",
                    "Mar",
                    "Mar",
                    "Mar",
                    "Apr",
                    "Apr",
                    "Apr",
                    "Apr",
                    "Apr",
                    "Apr",
                    "Apr",
                    "Apr",
                    "Apr",
                    "Apr",
                    "Apr",
                    "Apr",
                    "Apr",
                    "Apr",
                    "Apr",
                    "Apr",
                    "Apr",
                    "Apr",
                    "Apr",
                    "Apr",
                    "May",
                    "May",
                    "May",
                    "May",
                    "May",
                    "May",
                    "May",
                    "May",
                    "May",
                    "May",
                    "May",
                    "May",
                    "May",
                    "May",
                    "May",
                    "May",
                    "May",
                    "May",
                    "May",
                    "May",
                    "Jun",
                    "Jun",
                    "Jun",
                    "Jun",
                    "Jun",
                    "Jun",
                    "Jun",
                    "Jun",
                    "Jun",
                    "Jun",
                    "Jun",
                    "Jun",
                    "Jun",
                    "Jun",
                    "Jun",
                    "Jun",
                    "Jun",
                    "Jun",
                    "Jun",
                    "Jun",
                    "Jul",
                    "Jul",
                    "Jul",
                    "Jul",
                    "Jul",
                    "Jul",
                    "Jul",
                    "Jul",
                    "Jul",
                    "Jul",
                    "Jul",
                    "Jul",
                    "Jul",
                    "Jul",
                    "Jul",
                    "Jul",
                    "Jul",
                    "Jul",
                    "Jul",
                    "Jul",
                    "Aug",
                    "Aug",
                    "Aug",
                    "Aug",
                    "Aug",
                    "Aug",
                    "Aug",
                    "Aug",
                    "Aug",
                    "Aug",
                    "Aug",
                    "Aug",
                    "Aug",
                    "Aug",
                    "Aug",
                    "Aug",
                    "Aug",
                    "Aug",
                    "Aug",
                    "Aug",
                    "Sep",
                    "Sep",
                    "Sep",
                    "Sep",
                    "Sep",
                    "Sep",
                    "Sep",
                    "Sep",
                    "Sep",
                    "Sep",
                    "Sep",
                    "Sep",
                    "Sep",
                    "Sep",
                    "Sep",
                    "Sep",
                    "Sep",
                    "Sep",
                    "Sep",
                    "Sep",
                    "Oct",
                    "Oct",
                    "Oct",
                    "Oct",
                    "Oct",
                    "Oct",
                    "Oct",
                    "Oct",
                    "Oct",
                    "Oct",
                    "Oct",
                    "Oct",
                    "Oct",
                    "Oct",
                    "Oct",
                    "Oct",
                    "Oct",
                    "Oct",
                    "Oct",
                    "Oct",
                    "Nov",
                    "Nov",
                    "Nov",
                    "Nov",
                    "Nov",
                    "Nov",
                    "Nov",
                    "Nov",
                    "Nov",
                    "Nov",
                    "Nov",
                    "Nov",
                    "Nov",
                    "Nov",
                    "Nov",
                    "Nov",
                    "Nov",
                    "Nov",
                    "Nov",
                    "Nov",
                    "Dec",
                    "Dec",
                    "Dec",
                    "Dec",
                    "Dec",
                    "Dec",
                    "Dec",
                    "Dec",
                    "Dec",
                    "Dec",
                    "Dec",
                    "Dec",
                    "Dec",
                    "Dec",
                    "Dec",
                    "Dec",
                    "Dec",
                    "Dec",
                    "Dec",
                    "Dec"
                  ],
                  "xaxis": "x",
                  "y": [
                    41.3,
                    46.3,
                    48.2,
                    45.2,
                    41,
                    42.2,
                    37.6,
                    38.8,
                    46.8,
                    48,
                    35,
                    41.1,
                    40.5,
                    49.7,
                    38.5,
                    44.1,
                    47.5,
                    44.4,
                    42.4,
                    49.2,
                    42.4,
                    47.7,
                    43,
                    42.8,
                    46.6,
                    45.4,
                    38.5,
                    47.9,
                    49.5,
                    44.8,
                    45.4,
                    38.3,
                    46.4,
                    53.1,
                    55.8,
                    51.8,
                    48.2,
                    45.8,
                    49.3,
                    54.9,
                    56.8,
                    50.8,
                    53.2,
                    58.4,
                    52.4,
                    53.5,
                    49.5,
                    54.6,
                    62.6,
                    47.1,
                    50.4,
                    55.2,
                    57.6,
                    55.4,
                    51.7,
                    53.2,
                    59.7,
                    57.5,
                    55.6,
                    55.6,
                    60.1,
                    59,
                    64.9,
                    58,
                    59.8,
                    58.8,
                    62.9,
                    63.1,
                    63.7,
                    60.1,
                    60.6,
                    63.3,
                    61.2,
                    65.8,
                    57.7,
                    62.4,
                    59.3,
                    60.3,
                    60.1,
                    60.9,
                    71.3,
                    65,
                    67.9,
                    69,
                    67.7,
                    68.8,
                    71.4,
                    68.6,
                    71.9,
                    66,
                    68.8,
                    70.5,
                    68.7,
                    69.1,
                    73.1,
                    73.8,
                    66.4,
                    67.3,
                    71.5,
                    68,
                    75.4,
                    74.3,
                    75.8,
                    77.3,
                    77.8,
                    78,
                    79.6,
                    79.2,
                    75.2,
                    75.9,
                    76.4,
                    77.8,
                    78.4,
                    75.1,
                    78.2,
                    75.5,
                    74.7,
                    75.5,
                    78.6,
                    74.1,
                    78.2,
                    79,
                    80.2,
                    76.9,
                    78.1,
                    76.6,
                    80.8,
                    80.9,
                    81.7,
                    76.2,
                    76.4,
                    80.1,
                    81.6,
                    79.5,
                    79.2,
                    80.2,
                    80.4,
                    78.4,
                    80.3,
                    80.5,
                    75.4,
                    78.8,
                    80.5,
                    83.2,
                    77.1,
                    77.5,
                    81.5,
                    80.8,
                    77,
                    75.7,
                    77.1,
                    78.1,
                    80.8,
                    77.5,
                    78,
                    80.1,
                    79.2,
                    78.9,
                    78.1,
                    80.1,
                    70.6,
                    75,
                    70.1,
                    74.2,
                    72.5,
                    71.6,
                    75.1,
                    70.8,
                    71.9,
                    72,
                    73.7,
                    71.6,
                    76.4,
                    71.4,
                    78.8,
                    79,
                    71.6,
                    71.8,
                    71.9,
                    72.8,
                    65.2,
                    62.9,
                    59.3,
                    64.5,
                    59.7,
                    59.5,
                    62.4,
                    59.2,
                    60.9,
                    62,
                    63.5,
                    62,
                    65.9,
                    63.6,
                    65.1,
                    66.2,
                    65,
                    65.3,
                    59.5,
                    63.2,
                    54.9,
                    53.4,
                    51.5,
                    51.1,
                    48.3,
                    52.7,
                    52.6,
                    53.5,
                    50.1,
                    48.9,
                    46.5,
                    55.8,
                    55.4,
                    54.2,
                    48.4,
                    50,
                    56.8,
                    50.8,
                    54.3,
                    53.6,
                    43.3,
                    40.7,
                    48.3,
                    49.2,
                    47,
                    41.5,
                    36.8,
                    48.2,
                    49.2,
                    46.1,
                    48,
                    55.2,
                    47,
                    45.4,
                    46.5,
                    49.2,
                    44.1,
                    53.8,
                    45.4,
                    47.2
                  ],
                  "yaxis": "y"
                },
                {
                  "hovertemplate": "County_Name=Hennepin<br>Month=%{x}<br>Temperature=%{y}<extra></extra>",
                  "legendgroup": "Hennepin",
                  "line": {
                    "color": "#B6E880",
                    "dash": "solid",
                    "shape": "linear"
                  },
                  "marker": {
                    "symbol": "circle"
                  },
                  "mode": "markers+lines",
                  "name": "Hennepin",
                  "showlegend": true,
                  "type": "scattergl",
                  "x": [
                    "Jan",
                    "Jan",
                    "Jan",
                    "Jan",
                    "Jan",
                    "Jan",
                    "Jan",
                    "Jan",
                    "Jan",
                    "Jan",
                    "Jan",
                    "Jan",
                    "Jan",
                    "Jan",
                    "Jan",
                    "Jan",
                    "Jan",
                    "Jan",
                    "Jan",
                    "Jan",
                    "Feb",
                    "Feb",
                    "Feb",
                    "Feb",
                    "Feb",
                    "Feb",
                    "Feb",
                    "Feb",
                    "Feb",
                    "Feb",
                    "Feb",
                    "Feb",
                    "Feb",
                    "Feb",
                    "Feb",
                    "Feb",
                    "Feb",
                    "Feb",
                    "Feb",
                    "Feb",
                    "Mar",
                    "Mar",
                    "Mar",
                    "Mar",
                    "Mar",
                    "Mar",
                    "Mar",
                    "Mar",
                    "Mar",
                    "Mar",
                    "Mar",
                    "Mar",
                    "Mar",
                    "Mar",
                    "Mar",
                    "Mar",
                    "Mar",
                    "Mar",
                    "Mar",
                    "Mar",
                    "Apr",
                    "Apr",
                    "Apr",
                    "Apr",
                    "Apr",
                    "Apr",
                    "Apr",
                    "Apr",
                    "Apr",
                    "Apr",
                    "Apr",
                    "Apr",
                    "Apr",
                    "Apr",
                    "Apr",
                    "Apr",
                    "Apr",
                    "Apr",
                    "Apr",
                    "Apr",
                    "May",
                    "May",
                    "May",
                    "May",
                    "May",
                    "May",
                    "May",
                    "May",
                    "May",
                    "May",
                    "May",
                    "May",
                    "May",
                    "May",
                    "May",
                    "May",
                    "May",
                    "May",
                    "May",
                    "May",
                    "Jun",
                    "Jun",
                    "Jun",
                    "Jun",
                    "Jun",
                    "Jun",
                    "Jun",
                    "Jun",
                    "Jun",
                    "Jun",
                    "Jun",
                    "Jun",
                    "Jun",
                    "Jun",
                    "Jun",
                    "Jun",
                    "Jun",
                    "Jun",
                    "Jun",
                    "Jun",
                    "Jul",
                    "Jul",
                    "Jul",
                    "Jul",
                    "Jul",
                    "Jul",
                    "Jul",
                    "Jul",
                    "Jul",
                    "Jul",
                    "Jul",
                    "Jul",
                    "Jul",
                    "Jul",
                    "Jul",
                    "Jul",
                    "Jul",
                    "Jul",
                    "Jul",
                    "Jul",
                    "Aug",
                    "Aug",
                    "Aug",
                    "Aug",
                    "Aug",
                    "Aug",
                    "Aug",
                    "Aug",
                    "Aug",
                    "Aug",
                    "Aug",
                    "Aug",
                    "Aug",
                    "Aug",
                    "Aug",
                    "Aug",
                    "Aug",
                    "Aug",
                    "Aug",
                    "Aug",
                    "Sep",
                    "Sep",
                    "Sep",
                    "Sep",
                    "Sep",
                    "Sep",
                    "Sep",
                    "Sep",
                    "Sep",
                    "Sep",
                    "Sep",
                    "Sep",
                    "Sep",
                    "Sep",
                    "Sep",
                    "Sep",
                    "Sep",
                    "Sep",
                    "Sep",
                    "Sep",
                    "Oct",
                    "Oct",
                    "Oct",
                    "Oct",
                    "Oct",
                    "Oct",
                    "Oct",
                    "Oct",
                    "Oct",
                    "Oct",
                    "Oct",
                    "Oct",
                    "Oct",
                    "Oct",
                    "Oct",
                    "Oct",
                    "Oct",
                    "Oct",
                    "Oct",
                    "Oct",
                    "Nov",
                    "Nov",
                    "Nov",
                    "Nov",
                    "Nov",
                    "Nov",
                    "Nov",
                    "Nov",
                    "Nov",
                    "Nov",
                    "Nov",
                    "Nov",
                    "Nov",
                    "Nov",
                    "Nov",
                    "Nov",
                    "Nov",
                    "Nov",
                    "Nov",
                    "Nov",
                    "Dec",
                    "Dec",
                    "Dec",
                    "Dec",
                    "Dec",
                    "Dec",
                    "Dec",
                    "Dec",
                    "Dec",
                    "Dec",
                    "Dec",
                    "Dec",
                    "Dec",
                    "Dec",
                    "Dec",
                    "Dec",
                    "Dec",
                    "Dec",
                    "Dec",
                    "Dec"
                  ],
                  "xaxis": "x",
                  "y": [
                    10.2,
                    14.3,
                    27.3,
                    17.9,
                    12.2,
                    6.9,
                    11.5,
                    10,
                    21.8,
                    15.6,
                    5.9,
                    17.4,
                    15.8,
                    19,
                    14.4,
                    12.1,
                    18.5,
                    20.6,
                    8.7,
                    18.8,
                    20.8,
                    25.4,
                    18.6,
                    11.8,
                    14.2,
                    19.5,
                    17.8,
                    17,
                    26.3,
                    17.2,
                    6.7,
                    10.2,
                    23.4,
                    29.5,
                    13.5,
                    10.8,
                    18.9,
                    10.2,
                    12.4,
                    19.1,
                    35.1,
                    31.1,
                    32.8,
                    36.6,
                    27,
                    30.7,
                    39.2,
                    27.6,
                    46.9,
                    24.9,
                    23.6,
                    34.1,
                    39.9,
                    32.3,
                    30.6,
                    27,
                    36,
                    39.2,
                    30.2,
                    27,
                    48.8,
                    50.7,
                    51.8,
                    45.5,
                    42.8,
                    46.1,
                    53.4,
                    44.7,
                    48.9,
                    38.8,
                    41.3,
                    48.3,
                    47.1,
                    48.5,
                    35.2,
                    44.5,
                    43.8,
                    45.9,
                    39.6,
                    43.7,
                    55.1,
                    55.3,
                    59.8,
                    62.3,
                    55,
                    58.5,
                    59,
                    56.6,
                    62.1,
                    56,
                    57,
                    57.2,
                    59,
                    56.6,
                    65.5,
                    53.6,
                    57.4,
                    58.1,
                    59.1,
                    62.1,
                    63.9,
                    71.5,
                    68.8,
                    70.5,
                    66.7,
                    65.5,
                    67.3,
                    67.3,
                    70,
                    66.6,
                    68,
                    68.1,
                    69.3,
                    68.4,
                    70.4,
                    67.4,
                    71.1,
                    74.3,
                    70.6,
                    72.3,
                    69.8,
                    74.5,
                    76.6,
                    73.7,
                    72.9,
                    67.7,
                    74,
                    76.4,
                    77.8,
                    72.2,
                    69.5,
                    71.6,
                    72.7,
                    72.4,
                    72.1,
                    72.8,
                    74.1,
                    73.5,
                    73.8,
                    71.9,
                    64.5,
                    69.8,
                    70.3,
                    69.9,
                    70.3,
                    67.5,
                    74.3,
                    71,
                    69.6,
                    71.6,
                    71.2,
                    68.6,
                    70.9,
                    66.4,
                    70.9,
                    68.2,
                    70.9,
                    72.2,
                    70.2,
                    72,
                    66,
                    64.9,
                    57.8,
                    63,
                    61.9,
                    64.6,
                    58.6,
                    60.7,
                    61.3,
                    64.9,
                    60.8,
                    66.3,
                    64,
                    64.7,
                    63.1,
                    63.9,
                    59.6,
                    64.1,
                    63.6,
                    66.9,
                    49.1,
                    51,
                    44.6,
                    53.1,
                    49.1,
                    42.1,
                    52,
                    53.4,
                    46,
                    47.4,
                    47.8,
                    51,
                    51,
                    49.5,
                    44.1,
                    44.6,
                    42.4,
                    53.8,
                    50.2,
                    50.4,
                    36.5,
                    35.3,
                    35.2,
                    33.4,
                    33.4,
                    41,
                    33.6,
                    37.1,
                    35.4,
                    30.9,
                    24.2,
                    40.4,
                    42,
                    32.2,
                    26.4,
                    29.2,
                    37.4,
                    35.4,
                    33.8,
                    36.5,
                    21.2,
                    18.1,
                    27.5,
                    14.7,
                    12,
                    16.1,
                    14.8,
                    25.9,
                    21.3,
                    10.4,
                    22.9,
                    28.9,
                    19.1,
                    17.3,
                    23.6,
                    21,
                    23.7,
                    22.4,
                    16.1,
                    32.1
                  ],
                  "yaxis": "y"
                },
                {
                  "hovertemplate": "County_Name=Hamilton<br>Month=%{x}<br>Temperature=%{y}<extra></extra>",
                  "legendgroup": "Hamilton",
                  "line": {
                    "color": "#FF97FF",
                    "dash": "solid",
                    "shape": "linear"
                  },
                  "marker": {
                    "symbol": "circle"
                  },
                  "mode": "markers+lines",
                  "name": "Hamilton",
                  "showlegend": true,
                  "type": "scattergl",
                  "x": [
                    "Jan",
                    "Jan",
                    "Jan",
                    "Jan",
                    "Jan",
                    "Jan",
                    "Jan",
                    "Jan",
                    "Jan",
                    "Jan",
                    "Jan",
                    "Jan",
                    "Jan",
                    "Jan",
                    "Jan",
                    "Jan",
                    "Jan",
                    "Jan",
                    "Jan",
                    "Jan",
                    "Feb",
                    "Feb",
                    "Feb",
                    "Feb",
                    "Feb",
                    "Feb",
                    "Feb",
                    "Feb",
                    "Feb",
                    "Feb",
                    "Feb",
                    "Feb",
                    "Feb",
                    "Feb",
                    "Feb",
                    "Feb",
                    "Feb",
                    "Feb",
                    "Feb",
                    "Feb",
                    "Mar",
                    "Mar",
                    "Mar",
                    "Mar",
                    "Mar",
                    "Mar",
                    "Mar",
                    "Mar",
                    "Mar",
                    "Mar",
                    "Mar",
                    "Mar",
                    "Mar",
                    "Mar",
                    "Mar",
                    "Mar",
                    "Mar",
                    "Mar",
                    "Mar",
                    "Mar",
                    "Apr",
                    "Apr",
                    "Apr",
                    "Apr",
                    "Apr",
                    "Apr",
                    "Apr",
                    "Apr",
                    "Apr",
                    "Apr",
                    "Apr",
                    "Apr",
                    "Apr",
                    "Apr",
                    "Apr",
                    "Apr",
                    "Apr",
                    "Apr",
                    "Apr",
                    "Apr",
                    "May",
                    "May",
                    "May",
                    "May",
                    "May",
                    "May",
                    "May",
                    "May",
                    "May",
                    "May",
                    "May",
                    "May",
                    "May",
                    "May",
                    "May",
                    "May",
                    "May",
                    "May",
                    "May",
                    "May",
                    "Jun",
                    "Jun",
                    "Jun",
                    "Jun",
                    "Jun",
                    "Jun",
                    "Jun",
                    "Jun",
                    "Jun",
                    "Jun",
                    "Jun",
                    "Jun",
                    "Jun",
                    "Jun",
                    "Jun",
                    "Jun",
                    "Jun",
                    "Jun",
                    "Jun",
                    "Jun",
                    "Jul",
                    "Jul",
                    "Jul",
                    "Jul",
                    "Jul",
                    "Jul",
                    "Jul",
                    "Jul",
                    "Jul",
                    "Jul",
                    "Jul",
                    "Jul",
                    "Jul",
                    "Jul",
                    "Jul",
                    "Jul",
                    "Jul",
                    "Jul",
                    "Jul",
                    "Jul",
                    "Aug",
                    "Aug",
                    "Aug",
                    "Aug",
                    "Aug",
                    "Aug",
                    "Aug",
                    "Aug",
                    "Aug",
                    "Aug",
                    "Aug",
                    "Aug",
                    "Aug",
                    "Aug",
                    "Aug",
                    "Aug",
                    "Aug",
                    "Aug",
                    "Aug",
                    "Aug",
                    "Sep",
                    "Sep",
                    "Sep",
                    "Sep",
                    "Sep",
                    "Sep",
                    "Sep",
                    "Sep",
                    "Sep",
                    "Sep",
                    "Sep",
                    "Sep",
                    "Sep",
                    "Sep",
                    "Sep",
                    "Sep",
                    "Sep",
                    "Sep",
                    "Sep",
                    "Sep",
                    "Oct",
                    "Oct",
                    "Oct",
                    "Oct",
                    "Oct",
                    "Oct",
                    "Oct",
                    "Oct",
                    "Oct",
                    "Oct",
                    "Oct",
                    "Oct",
                    "Oct",
                    "Oct",
                    "Oct",
                    "Oct",
                    "Oct",
                    "Oct",
                    "Oct",
                    "Oct",
                    "Nov",
                    "Nov",
                    "Nov",
                    "Nov",
                    "Nov",
                    "Nov",
                    "Nov",
                    "Nov",
                    "Nov",
                    "Nov",
                    "Nov",
                    "Nov",
                    "Nov",
                    "Nov",
                    "Nov",
                    "Nov",
                    "Nov",
                    "Nov",
                    "Nov",
                    "Nov",
                    "Dec",
                    "Dec",
                    "Dec",
                    "Dec",
                    "Dec",
                    "Dec",
                    "Dec",
                    "Dec",
                    "Dec",
                    "Dec",
                    "Dec",
                    "Dec",
                    "Dec",
                    "Dec",
                    "Dec",
                    "Dec",
                    "Dec",
                    "Dec",
                    "Dec",
                    "Dec"
                  ],
                  "xaxis": "x",
                  "y": [
                    27.3,
                    33.4,
                    41,
                    35.6,
                    30.3,
                    25.5,
                    26.7,
                    26.4,
                    35,
                    33,
                    21.9,
                    28.6,
                    29.6,
                    37,
                    28,
                    30.1,
                    37.2,
                    33,
                    27.4,
                    38.4,
                    33.3,
                    37.4,
                    34.2,
                    22.6,
                    32,
                    35.1,
                    27,
                    36.1,
                    38,
                    32.3,
                    27,
                    21.6,
                    36,
                    43.3,
                    40.7,
                    37,
                    35.4,
                    28.8,
                    34.3,
                    41.9,
                    45.9,
                    38.8,
                    41.6,
                    49.1,
                    40.7,
                    46.2,
                    44.9,
                    44.1,
                    55.6,
                    36.7,
                    38.3,
                    40.4,
                    49.3,
                    44,
                    39.8,
                    40.1,
                    47.9,
                    47.4,
                    46.6,
                    43.5,
                    53.7,
                    55.4,
                    57.1,
                    51.7,
                    54.5,
                    54.2,
                    58.2,
                    56.3,
                    53.6,
                    53.7,
                    54.8,
                    54.6,
                    54,
                    59.4,
                    48.5,
                    55.5,
                    51.1,
                    53.2,
                    51.2,
                    53.7,
                    67.9,
                    59.6,
                    61.4,
                    67.2,
                    60,
                    64.2,
                    66,
                    63.3,
                    68.8,
                    65.3,
                    64.3,
                    66.9,
                    61.4,
                    62.8,
                    71.8,
                    65.8,
                    60.8,
                    61,
                    66,
                    62.2,
                    71.4,
                    74.1,
                    69.9,
                    73.4,
                    73.3,
                    72.8,
                    75.2,
                    72.9,
                    72.6,
                    71.9,
                    73.2,
                    72.3,
                    73.6,
                    71.2,
                    74.8,
                    71.1,
                    73,
                    73.4,
                    72.6,
                    69.7,
                    73.8,
                    76.8,
                    76.6,
                    73.4,
                    74.7,
                    70.5,
                    77.6,
                    80.4,
                    80.6,
                    74,
                    70.9,
                    74.3,
                    76.6,
                    75.5,
                    76,
                    77.5,
                    78.5,
                    75.1,
                    77.1,
                    75.9,
                    71,
                    77.2,
                    76.8,
                    80.2,
                    73.7,
                    72.8,
                    77.4,
                    75.1,
                    74.6,
                    73.3,
                    74.4,
                    71.7,
                    77.9,
                    72.2,
                    75.8,
                    74.7,
                    74.2,
                    77,
                    74.6,
                    74,
                    68.3,
                    70.4,
                    64.1,
                    71.7,
                    70.2,
                    67.1,
                    69.3,
                    65.3,
                    66.1,
                    67.6,
                    65.8,
                    69.8,
                    71.2,
                    67.5,
                    72,
                    73.8,
                    67.3,
                    69.4,
                    67.8,
                    68.8,
                    56.1,
                    56.1,
                    52.7,
                    61.8,
                    55.2,
                    52.1,
                    57.3,
                    54.7,
                    53.7,
                    55.3,
                    54.8,
                    56.5,
                    60.8,
                    58.2,
                    57.1,
                    58.5,
                    55.4,
                    61.8,
                    53.8,
                    57.2,
                    48.2,
                    45.8,
                    45.6,
                    44.3,
                    42.1,
                    47.4,
                    44.3,
                    49,
                    41.7,
                    40.6,
                    38,
                    48.6,
                    47.6,
                    44.2,
                    40,
                    39.2,
                    48.4,
                    42,
                    44.6,
                    45.2,
                    33.4,
                    30.2,
                    39.8,
                    36.3,
                    33.8,
                    33.3,
                    27,
                    39.2,
                    40.1,
                    34.6,
                    36.4,
                    45.6,
                    33.4,
                    31.7,
                    37.8,
                    38.9,
                    35.6,
                    43.4,
                    34.7,
                    41.2
                  ],
                  "yaxis": "y"
                },
                {
                  "hovertemplate": "County_Name=Natrona<br>Month=%{x}<br>Temperature=%{y}<extra></extra>",
                  "legendgroup": "Natrona",
                  "line": {
                    "color": "#FECB52",
                    "dash": "solid",
                    "shape": "linear"
                  },
                  "marker": {
                    "symbol": "circle"
                  },
                  "mode": "markers+lines",
                  "name": "Natrona",
                  "showlegend": true,
                  "type": "scattergl",
                  "x": [
                    "Jan",
                    "Jan",
                    "Jan",
                    "Jan",
                    "Jan",
                    "Jan",
                    "Jan",
                    "Jan",
                    "Jan",
                    "Jan",
                    "Jan",
                    "Jan",
                    "Jan",
                    "Jan",
                    "Jan",
                    "Jan",
                    "Jan",
                    "Jan",
                    "Jan",
                    "Jan",
                    "Feb",
                    "Feb",
                    "Feb",
                    "Feb",
                    "Feb",
                    "Feb",
                    "Feb",
                    "Feb",
                    "Feb",
                    "Feb",
                    "Feb",
                    "Feb",
                    "Feb",
                    "Feb",
                    "Feb",
                    "Feb",
                    "Feb",
                    "Feb",
                    "Feb",
                    "Feb",
                    "Mar",
                    "Mar",
                    "Mar",
                    "Mar",
                    "Mar",
                    "Mar",
                    "Mar",
                    "Mar",
                    "Mar",
                    "Mar",
                    "Mar",
                    "Mar",
                    "Mar",
                    "Mar",
                    "Mar",
                    "Mar",
                    "Mar",
                    "Mar",
                    "Mar",
                    "Mar",
                    "Apr",
                    "Apr",
                    "Apr",
                    "Apr",
                    "Apr",
                    "Apr",
                    "Apr",
                    "Apr",
                    "Apr",
                    "Apr",
                    "Apr",
                    "Apr",
                    "Apr",
                    "Apr",
                    "Apr",
                    "Apr",
                    "Apr",
                    "Apr",
                    "Apr",
                    "Apr",
                    "May",
                    "May",
                    "May",
                    "May",
                    "May",
                    "May",
                    "May",
                    "May",
                    "May",
                    "May",
                    "May",
                    "May",
                    "May",
                    "May",
                    "May",
                    "May",
                    "May",
                    "May",
                    "May",
                    "May",
                    "Jun",
                    "Jun",
                    "Jun",
                    "Jun",
                    "Jun",
                    "Jun",
                    "Jun",
                    "Jun",
                    "Jun",
                    "Jun",
                    "Jun",
                    "Jun",
                    "Jun",
                    "Jun",
                    "Jun",
                    "Jun",
                    "Jun",
                    "Jun",
                    "Jun",
                    "Jun",
                    "Jul",
                    "Jul",
                    "Jul",
                    "Jul",
                    "Jul",
                    "Jul",
                    "Jul",
                    "Jul",
                    "Jul",
                    "Jul",
                    "Jul",
                    "Jul",
                    "Jul",
                    "Jul",
                    "Jul",
                    "Jul",
                    "Jul",
                    "Jul",
                    "Jul",
                    "Jul",
                    "Aug",
                    "Aug",
                    "Aug",
                    "Aug",
                    "Aug",
                    "Aug",
                    "Aug",
                    "Aug",
                    "Aug",
                    "Aug",
                    "Aug",
                    "Aug",
                    "Aug",
                    "Aug",
                    "Aug",
                    "Aug",
                    "Aug",
                    "Aug",
                    "Aug",
                    "Aug",
                    "Sep",
                    "Sep",
                    "Sep",
                    "Sep",
                    "Sep",
                    "Sep",
                    "Sep",
                    "Sep",
                    "Sep",
                    "Sep",
                    "Sep",
                    "Sep",
                    "Sep",
                    "Sep",
                    "Sep",
                    "Sep",
                    "Sep",
                    "Sep",
                    "Sep",
                    "Sep",
                    "Oct",
                    "Oct",
                    "Oct",
                    "Oct",
                    "Oct",
                    "Oct",
                    "Oct",
                    "Oct",
                    "Oct",
                    "Oct",
                    "Oct",
                    "Oct",
                    "Oct",
                    "Oct",
                    "Oct",
                    "Oct",
                    "Oct",
                    "Oct",
                    "Oct",
                    "Oct",
                    "Nov",
                    "Nov",
                    "Nov",
                    "Nov",
                    "Nov",
                    "Nov",
                    "Nov",
                    "Nov",
                    "Nov",
                    "Nov",
                    "Nov",
                    "Nov",
                    "Nov",
                    "Nov",
                    "Nov",
                    "Nov",
                    "Nov",
                    "Nov",
                    "Nov",
                    "Nov",
                    "Dec",
                    "Dec",
                    "Dec",
                    "Dec",
                    "Dec",
                    "Dec",
                    "Dec",
                    "Dec",
                    "Dec",
                    "Dec",
                    "Dec",
                    "Dec",
                    "Dec",
                    "Dec",
                    "Dec",
                    "Dec",
                    "Dec",
                    "Dec",
                    "Dec",
                    "Dec"
                  ],
                  "xaxis": "x",
                  "y": [
                    24.7,
                    27.4,
                    28.5,
                    17.9,
                    18,
                    24.6,
                    24.8,
                    22.1,
                    26.1,
                    23.1,
                    23.3,
                    26.4,
                    24.4,
                    19.4,
                    26.5,
                    23.8,
                    24.7,
                    24,
                    25.1,
                    20.1,
                    24.7,
                    30,
                    21.6,
                    26.5,
                    25.2,
                    29.2,
                    22.9,
                    19.2,
                    23.6,
                    23.8,
                    19.7,
                    28.3,
                    30.2,
                    29,
                    19.9,
                    18.8,
                    20.9,
                    17.4,
                    21.2,
                    21,
                    37.2,
                    34.2,
                    32.7,
                    39.4,
                    30,
                    32.4,
                    36,
                    34.4,
                    41.4,
                    32.6,
                    33.7,
                    38.2,
                    35.8,
                    40.1,
                    34.3,
                    28.6,
                    34.3,
                    32.8,
                    32.4,
                    25.2,
                    43,
                    41.7,
                    45.6,
                    42,
                    38.1,
                    39.3,
                    40.6,
                    39.4,
                    46.7,
                    35.8,
                    41.6,
                    42.7,
                    42.5,
                    41.7,
                    41,
                    42.3,
                    38.8,
                    38.9,
                    36.6,
                    38.1,
                    51.4,
                    49.3,
                    53.2,
                    53.1,
                    48.2,
                    51.8,
                    45.4,
                    45.7,
                    52.2,
                    52.5,
                    51.4,
                    47.8,
                    48.6,
                    50.6,
                    54.6,
                    45,
                    52.1,
                    50,
                    48.1,
                    54.8,
                    58.1,
                    60.7,
                    65.8,
                    63.6,
                    58.4,
                    57.6,
                    59.7,
                    58.9,
                    66.3,
                    63.7,
                    58.5,
                    65.4,
                    66.5,
                    61.8,
                    62.8,
                    59.4,
                    62.3,
                    67.1,
                    61.2,
                    58.6,
                    67.2,
                    71.1,
                    73.4,
                    73.1,
                    70.1,
                    65.7,
                    67.7,
                    70.6,
                    73.4,
                    70.6,
                    68.8,
                    67.1,
                    69.6,
                    71.4,
                    69.9,
                    68.8,
                    69.8,
                    72.2,
                    71.5,
                    68.6,
                    63,
                    65.6,
                    67.8,
                    69.1,
                    67,
                    64.3,
                    67.3,
                    69.5,
                    69.3,
                    70,
                    65.2,
                    67.1,
                    65.8,
                    65.7,
                    66.2,
                    67.6,
                    70.5,
                    66.6,
                    69.2,
                    66.5,
                    57,
                    59,
                    53.6,
                    57.8,
                    54.6,
                    59.3,
                    58.7,
                    58.6,
                    60.3,
                    60,
                    57.9,
                    62.7,
                    57.3,
                    55.8,
                    59.6,
                    59.6,
                    56.9,
                    60.6,
                    61.5,
                    60.5,
                    45.5,
                    47.4,
                    42.3,
                    46.3,
                    44.6,
                    35.6,
                    49.3,
                    46.9,
                    43.2,
                    40.5,
                    49.1,
                    51,
                    49.1,
                    42.3,
                    42.4,
                    35.3,
                    42.1,
                    44.8,
                    46,
                    44.9,
                    32.6,
                    34.8,
                    33.9,
                    34.9,
                    37.1,
                    36.6,
                    30.2,
                    31.1,
                    37.5,
                    32.9,
                    28.4,
                    31.2,
                    39.5,
                    36.6,
                    30.1,
                    30.6,
                    35.5,
                    37.8,
                    26.5,
                    34.7,
                    27.6,
                    22.7,
                    26.2,
                    19.6,
                    19.9,
                    15.5,
                    25.8,
                    22.6,
                    24.6,
                    19.3,
                    26.6,
                    23,
                    18.2,
                    24.1,
                    23.3,
                    25,
                    25.5,
                    27.7,
                    21,
                    30.3
                  ],
                  "yaxis": "y"
                },
                {
                  "line": {
                    "dash": "dash"
                  },
                  "mode": "lines+markers",
                  "name": "Precipitation",
                  "type": "scatter",
                  "x": [
                    "Jan",
                    "Jan",
                    "Jan",
                    "Jan",
                    "Jan",
                    "Jan",
                    "Jan",
                    "Jan",
                    "Jan",
                    "Jan",
                    "Jan",
                    "Jan",
                    "Jan",
                    "Jan",
                    "Jan",
                    "Jan",
                    "Jan",
                    "Jan",
                    "Jan",
                    "Jan",
                    "Jan",
                    "Jan",
                    "Jan",
                    "Jan",
                    "Jan",
                    "Jan",
                    "Jan",
                    "Jan",
                    "Jan",
                    "Jan",
                    "Jan",
                    "Jan",
                    "Jan",
                    "Jan",
                    "Jan",
                    "Jan",
                    "Jan",
                    "Jan",
                    "Jan",
                    "Jan",
                    "Jan",
                    "Jan",
                    "Jan",
                    "Jan",
                    "Jan",
                    "Jan",
                    "Jan",
                    "Jan",
                    "Jan",
                    "Jan",
                    "Jan",
                    "Jan",
                    "Jan",
                    "Jan",
                    "Jan",
                    "Jan",
                    "Jan",
                    "Jan",
                    "Jan",
                    "Jan",
                    "Jan",
                    "Jan",
                    "Jan",
                    "Jan",
                    "Jan",
                    "Jan",
                    "Jan",
                    "Jan",
                    "Jan",
                    "Jan",
                    "Jan",
                    "Jan",
                    "Jan",
                    "Jan",
                    "Jan",
                    "Jan",
                    "Jan",
                    "Jan",
                    "Jan",
                    "Jan",
                    "Jan",
                    "Jan",
                    "Jan",
                    "Jan",
                    "Jan",
                    "Jan",
                    "Jan",
                    "Jan",
                    "Jan",
                    "Jan",
                    "Jan",
                    "Jan",
                    "Jan",
                    "Jan",
                    "Jan",
                    "Jan",
                    "Jan",
                    "Jan",
                    "Jan",
                    "Jan",
                    "Jan",
                    "Jan",
                    "Jan",
                    "Jan",
                    "Jan",
                    "Jan",
                    "Jan",
                    "Jan",
                    "Jan",
                    "Jan",
                    "Jan",
                    "Jan",
                    "Jan",
                    "Jan",
                    "Jan",
                    "Jan",
                    "Jan",
                    "Jan",
                    "Jan",
                    "Jan",
                    "Jan",
                    "Jan",
                    "Jan",
                    "Jan",
                    "Jan",
                    "Jan",
                    "Jan",
                    "Jan",
                    "Jan",
                    "Jan",
                    "Jan",
                    "Jan",
                    "Jan",
                    "Jan",
                    "Jan",
                    "Jan",
                    "Jan",
                    "Jan",
                    "Jan",
                    "Jan",
                    "Jan",
                    "Jan",
                    "Jan",
                    "Jan",
                    "Jan",
                    "Jan",
                    "Jan",
                    "Jan",
                    "Jan",
                    "Jan",
                    "Jan",
                    "Jan",
                    "Jan",
                    "Jan",
                    "Jan",
                    "Jan",
                    "Jan",
                    "Jan",
                    "Jan",
                    "Jan",
                    "Jan",
                    "Jan",
                    "Jan",
                    "Jan",
                    "Jan",
                    "Jan",
                    "Jan",
                    "Jan",
                    "Jan",
                    "Jan",
                    "Jan",
                    "Jan",
                    "Jan",
                    "Jan",
                    "Jan",
                    "Jan",
                    "Jan",
                    "Jan",
                    "Jan",
                    "Jan",
                    "Jan",
                    "Jan",
                    "Jan",
                    "Jan",
                    "Jan",
                    "Jan",
                    "Jan",
                    "Jan",
                    "Jan",
                    "Jan",
                    "Jan",
                    "Jan",
                    "Jan",
                    "Jan",
                    "Jan",
                    "Jan",
                    "Jan",
                    "Jan",
                    "Jan",
                    "Jan",
                    "Feb",
                    "Feb",
                    "Feb",
                    "Feb",
                    "Feb",
                    "Feb",
                    "Feb",
                    "Feb",
                    "Feb",
                    "Feb",
                    "Feb",
                    "Feb",
                    "Feb",
                    "Feb",
                    "Feb",
                    "Feb",
                    "Feb",
                    "Feb",
                    "Feb",
                    "Feb",
                    "Feb",
                    "Feb",
                    "Feb",
                    "Feb",
                    "Feb",
                    "Feb",
                    "Feb",
                    "Feb",
                    "Feb",
                    "Feb",
                    "Feb",
                    "Feb",
                    "Feb",
                    "Feb",
                    "Feb",
                    "Feb",
                    "Feb",
                    "Feb",
                    "Feb",
                    "Feb",
                    "Feb",
                    "Feb",
                    "Feb",
                    "Feb",
                    "Feb",
                    "Feb",
                    "Feb",
                    "Feb",
                    "Feb",
                    "Feb",
                    "Feb",
                    "Feb",
                    "Feb",
                    "Feb",
                    "Feb",
                    "Feb",
                    "Feb",
                    "Feb",
                    "Feb",
                    "Feb",
                    "Feb",
                    "Feb",
                    "Feb",
                    "Feb",
                    "Feb",
                    "Feb",
                    "Feb",
                    "Feb",
                    "Feb",
                    "Feb",
                    "Feb",
                    "Feb",
                    "Feb",
                    "Feb",
                    "Feb",
                    "Feb",
                    "Feb",
                    "Feb",
                    "Feb",
                    "Feb",
                    "Feb",
                    "Feb",
                    "Feb",
                    "Feb",
                    "Feb",
                    "Feb",
                    "Feb",
                    "Feb",
                    "Feb",
                    "Feb",
                    "Feb",
                    "Feb",
                    "Feb",
                    "Feb",
                    "Feb",
                    "Feb",
                    "Feb",
                    "Feb",
                    "Feb",
                    "Feb",
                    "Feb",
                    "Feb",
                    "Feb",
                    "Feb",
                    "Feb",
                    "Feb",
                    "Feb",
                    "Feb",
                    "Feb",
                    "Feb",
                    "Feb",
                    "Feb",
                    "Feb",
                    "Feb",
                    "Feb",
                    "Feb",
                    "Feb",
                    "Feb",
                    "Feb",
                    "Feb",
                    "Feb",
                    "Feb",
                    "Feb",
                    "Feb",
                    "Feb",
                    "Feb",
                    "Feb",
                    "Feb",
                    "Feb",
                    "Feb",
                    "Feb",
                    "Feb",
                    "Feb",
                    "Feb",
                    "Feb",
                    "Feb",
                    "Feb",
                    "Feb",
                    "Feb",
                    "Feb",
                    "Feb",
                    "Feb",
                    "Feb",
                    "Feb",
                    "Feb",
                    "Feb",
                    "Feb",
                    "Feb",
                    "Feb",
                    "Feb",
                    "Feb",
                    "Feb",
                    "Feb",
                    "Feb",
                    "Feb",
                    "Feb",
                    "Feb",
                    "Feb",
                    "Feb",
                    "Feb",
                    "Feb",
                    "Feb",
                    "Feb",
                    "Feb",
                    "Feb",
                    "Feb",
                    "Feb",
                    "Feb",
                    "Feb",
                    "Feb",
                    "Feb",
                    "Feb",
                    "Feb",
                    "Feb",
                    "Feb",
                    "Feb",
                    "Feb",
                    "Feb",
                    "Feb",
                    "Feb",
                    "Feb",
                    "Feb",
                    "Feb",
                    "Feb",
                    "Feb",
                    "Feb",
                    "Feb",
                    "Feb",
                    "Feb",
                    "Feb",
                    "Feb",
                    "Feb",
                    "Feb",
                    "Feb",
                    "Feb",
                    "Feb",
                    "Feb",
                    "Feb",
                    "Feb",
                    "Feb",
                    "Mar",
                    "Mar",
                    "Mar",
                    "Mar",
                    "Mar",
                    "Mar",
                    "Mar",
                    "Mar",
                    "Mar",
                    "Mar",
                    "Mar",
                    "Mar",
                    "Mar",
                    "Mar",
                    "Mar",
                    "Mar",
                    "Mar",
                    "Mar",
                    "Mar",
                    "Mar",
                    "Mar",
                    "Mar",
                    "Mar",
                    "Mar",
                    "Mar",
                    "Mar",
                    "Mar",
                    "Mar",
                    "Mar",
                    "Mar",
                    "Mar",
                    "Mar",
                    "Mar",
                    "Mar",
                    "Mar",
                    "Mar",
                    "Mar",
                    "Mar",
                    "Mar",
                    "Mar",
                    "Mar",
                    "Mar",
                    "Mar",
                    "Mar",
                    "Mar",
                    "Mar",
                    "Mar",
                    "Mar",
                    "Mar",
                    "Mar",
                    "Mar",
                    "Mar",
                    "Mar",
                    "Mar",
                    "Mar",
                    "Mar",
                    "Mar",
                    "Mar",
                    "Mar",
                    "Mar",
                    "Mar",
                    "Mar",
                    "Mar",
                    "Mar",
                    "Mar",
                    "Mar",
                    "Mar",
                    "Mar",
                    "Mar",
                    "Mar",
                    "Mar",
                    "Mar",
                    "Mar",
                    "Mar",
                    "Mar",
                    "Mar",
                    "Mar",
                    "Mar",
                    "Mar",
                    "Mar",
                    "Mar",
                    "Mar",
                    "Mar",
                    "Mar",
                    "Mar",
                    "Mar",
                    "Mar",
                    "Mar",
                    "Mar",
                    "Mar",
                    "Mar",
                    "Mar",
                    "Mar",
                    "Mar",
                    "Mar",
                    "Mar",
                    "Mar",
                    "Mar",
                    "Mar",
                    "Mar",
                    "Mar",
                    "Mar",
                    "Mar",
                    "Mar",
                    "Mar",
                    "Mar",
                    "Mar",
                    "Mar",
                    "Mar",
                    "Mar",
                    "Mar",
                    "Mar",
                    "Mar",
                    "Mar",
                    "Mar",
                    "Mar",
                    "Mar",
                    "Mar",
                    "Mar",
                    "Mar",
                    "Mar",
                    "Mar",
                    "Mar",
                    "Mar",
                    "Mar",
                    "Mar",
                    "Mar",
                    "Mar",
                    "Mar",
                    "Mar",
                    "Mar",
                    "Mar",
                    "Mar",
                    "Mar",
                    "Mar",
                    "Mar",
                    "Mar",
                    "Mar",
                    "Mar",
                    "Mar",
                    "Mar",
                    "Mar",
                    "Mar",
                    "Mar",
                    "Mar",
                    "Mar",
                    "Mar",
                    "Mar",
                    "Mar",
                    "Mar",
                    "Mar",
                    "Mar",
                    "Mar",
                    "Mar",
                    "Mar",
                    "Mar",
                    "Mar",
                    "Mar",
                    "Mar",
                    "Mar",
                    "Mar",
                    "Mar",
                    "Mar",
                    "Mar",
                    "Mar",
                    "Mar",
                    "Mar",
                    "Mar",
                    "Mar",
                    "Mar",
                    "Mar",
                    "Mar",
                    "Mar",
                    "Mar",
                    "Mar",
                    "Mar",
                    "Mar",
                    "Mar",
                    "Mar",
                    "Mar",
                    "Mar",
                    "Mar",
                    "Mar",
                    "Mar",
                    "Mar",
                    "Mar",
                    "Mar",
                    "Mar",
                    "Mar",
                    "Mar",
                    "Mar",
                    "Mar",
                    "Mar",
                    "Mar",
                    "Mar",
                    "Mar",
                    "Mar",
                    "Mar",
                    "Mar",
                    "Mar",
                    "Apr",
                    "Apr",
                    "Apr",
                    "Apr",
                    "Apr",
                    "Apr",
                    "Apr",
                    "Apr",
                    "Apr",
                    "Apr",
                    "Apr",
                    "Apr",
                    "Apr",
                    "Apr",
                    "Apr",
                    "Apr",
                    "Apr",
                    "Apr",
                    "Apr",
                    "Apr",
                    "Apr",
                    "Apr",
                    "Apr",
                    "Apr",
                    "Apr",
                    "Apr",
                    "Apr",
                    "Apr",
                    "Apr",
                    "Apr",
                    "Apr",
                    "Apr",
                    "Apr",
                    "Apr",
                    "Apr",
                    "Apr",
                    "Apr",
                    "Apr",
                    "Apr",
                    "Apr",
                    "Apr",
                    "Apr",
                    "Apr",
                    "Apr",
                    "Apr",
                    "Apr",
                    "Apr",
                    "Apr",
                    "Apr",
                    "Apr",
                    "Apr",
                    "Apr",
                    "Apr",
                    "Apr",
                    "Apr",
                    "Apr",
                    "Apr",
                    "Apr",
                    "Apr",
                    "Apr",
                    "Apr",
                    "Apr",
                    "Apr",
                    "Apr",
                    "Apr",
                    "Apr",
                    "Apr",
                    "Apr",
                    "Apr",
                    "Apr",
                    "Apr",
                    "Apr",
                    "Apr",
                    "Apr",
                    "Apr",
                    "Apr",
                    "Apr",
                    "Apr",
                    "Apr",
                    "Apr",
                    "Apr",
                    "Apr",
                    "Apr",
                    "Apr",
                    "Apr",
                    "Apr",
                    "Apr",
                    "Apr",
                    "Apr",
                    "Apr",
                    "Apr",
                    "Apr",
                    "Apr",
                    "Apr",
                    "Apr",
                    "Apr",
                    "Apr",
                    "Apr",
                    "Apr",
                    "Apr",
                    "Apr",
                    "Apr",
                    "Apr",
                    "Apr",
                    "Apr",
                    "Apr",
                    "Apr",
                    "Apr",
                    "Apr",
                    "Apr",
                    "Apr",
                    "Apr",
                    "Apr",
                    "Apr",
                    "Apr",
                    "Apr",
                    "Apr",
                    "Apr",
                    "Apr",
                    "Apr",
                    "Apr",
                    "Apr",
                    "Apr",
                    "Apr",
                    "Apr",
                    "Apr",
                    "Apr",
                    "Apr",
                    "Apr",
                    "Apr",
                    "Apr",
                    "Apr",
                    "Apr",
                    "Apr",
                    "Apr",
                    "Apr",
                    "Apr",
                    "Apr",
                    "Apr",
                    "Apr",
                    "Apr",
                    "Apr",
                    "Apr",
                    "Apr",
                    "Apr",
                    "Apr",
                    "Apr",
                    "Apr",
                    "Apr",
                    "Apr",
                    "Apr",
                    "Apr",
                    "Apr",
                    "Apr",
                    "Apr",
                    "Apr",
                    "Apr",
                    "Apr",
                    "Apr",
                    "Apr",
                    "Apr",
                    "Apr",
                    "Apr",
                    "Apr",
                    "Apr",
                    "Apr",
                    "Apr",
                    "Apr",
                    "Apr",
                    "Apr",
                    "Apr",
                    "Apr",
                    "Apr",
                    "Apr",
                    "Apr",
                    "Apr",
                    "Apr",
                    "Apr",
                    "Apr",
                    "Apr",
                    "Apr",
                    "Apr",
                    "Apr",
                    "Apr",
                    "Apr",
                    "Apr",
                    "Apr",
                    "Apr",
                    "Apr",
                    "Apr",
                    "Apr",
                    "Apr",
                    "Apr",
                    "Apr",
                    "Apr",
                    "Apr",
                    "Apr",
                    "Apr",
                    "Apr",
                    "Apr",
                    "May",
                    "May",
                    "May",
                    "May",
                    "May",
                    "May",
                    "May",
                    "May",
                    "May",
                    "May",
                    "May",
                    "May",
                    "May",
                    "May",
                    "May",
                    "May",
                    "May",
                    "May",
                    "May",
                    "May",
                    "May",
                    "May",
                    "May",
                    "May",
                    "May",
                    "May",
                    "May",
                    "May",
                    "May",
                    "May",
                    "May",
                    "May",
                    "May",
                    "May",
                    "May",
                    "May",
                    "May",
                    "May",
                    "May",
                    "May",
                    "May",
                    "May",
                    "May",
                    "May",
                    "May",
                    "May",
                    "May",
                    "May",
                    "May",
                    "May",
                    "May",
                    "May",
                    "May",
                    "May",
                    "May",
                    "May",
                    "May",
                    "May",
                    "May",
                    "May",
                    "May",
                    "May",
                    "May",
                    "May",
                    "May",
                    "May",
                    "May",
                    "May",
                    "May",
                    "May",
                    "May",
                    "May",
                    "May",
                    "May",
                    "May",
                    "May",
                    "May",
                    "May",
                    "May",
                    "May",
                    "May",
                    "May",
                    "May",
                    "May",
                    "May",
                    "May",
                    "May",
                    "May",
                    "May",
                    "May",
                    "May",
                    "May",
                    "May",
                    "May",
                    "May",
                    "May",
                    "May",
                    "May",
                    "May",
                    "May",
                    "May",
                    "May",
                    "May",
                    "May",
                    "May",
                    "May",
                    "May",
                    "May",
                    "May",
                    "May",
                    "May",
                    "May",
                    "May",
                    "May",
                    "May",
                    "May",
                    "May",
                    "May",
                    "May",
                    "May",
                    "May",
                    "May",
                    "May",
                    "May",
                    "May",
                    "May",
                    "May",
                    "May",
                    "May",
                    "May",
                    "May",
                    "May",
                    "May",
                    "May",
                    "May",
                    "May",
                    "May",
                    "May",
                    "May",
                    "May",
                    "May",
                    "May",
                    "May",
                    "May",
                    "May",
                    "May",
                    "May",
                    "May",
                    "May",
                    "May",
                    "May",
                    "May",
                    "May",
                    "May",
                    "May",
                    "May",
                    "May",
                    "May",
                    "May",
                    "May",
                    "May",
                    "May",
                    "May",
                    "May",
                    "May",
                    "May",
                    "May",
                    "May",
                    "May",
                    "May",
                    "May",
                    "May",
                    "May",
                    "May",
                    "May",
                    "May",
                    "May",
                    "May",
                    "May",
                    "May",
                    "May",
                    "May",
                    "May",
                    "May",
                    "May",
                    "May",
                    "May",
                    "May",
                    "May",
                    "May",
                    "May",
                    "May",
                    "May",
                    "May",
                    "May",
                    "May",
                    "May",
                    "May",
                    "May",
                    "May",
                    "Jun",
                    "Jun",
                    "Jun",
                    "Jun",
                    "Jun",
                    "Jun",
                    "Jun",
                    "Jun",
                    "Jun",
                    "Jun",
                    "Jun",
                    "Jun",
                    "Jun",
                    "Jun",
                    "Jun",
                    "Jun",
                    "Jun",
                    "Jun",
                    "Jun",
                    "Jun",
                    "Jun",
                    "Jun",
                    "Jun",
                    "Jun",
                    "Jun",
                    "Jun",
                    "Jun",
                    "Jun",
                    "Jun",
                    "Jun",
                    "Jun",
                    "Jun",
                    "Jun",
                    "Jun",
                    "Jun",
                    "Jun",
                    "Jun",
                    "Jun",
                    "Jun",
                    "Jun",
                    "Jun",
                    "Jun",
                    "Jun",
                    "Jun",
                    "Jun",
                    "Jun",
                    "Jun",
                    "Jun",
                    "Jun",
                    "Jun",
                    "Jun",
                    "Jun",
                    "Jun",
                    "Jun",
                    "Jun",
                    "Jun",
                    "Jun",
                    "Jun",
                    "Jun",
                    "Jun",
                    "Jun",
                    "Jun",
                    "Jun",
                    "Jun",
                    "Jun",
                    "Jun",
                    "Jun",
                    "Jun",
                    "Jun",
                    "Jun",
                    "Jun",
                    "Jun",
                    "Jun",
                    "Jun",
                    "Jun",
                    "Jun",
                    "Jun",
                    "Jun",
                    "Jun",
                    "Jun",
                    "Jun",
                    "Jun",
                    "Jun",
                    "Jun",
                    "Jun",
                    "Jun",
                    "Jun",
                    "Jun",
                    "Jun",
                    "Jun",
                    "Jun",
                    "Jun",
                    "Jun",
                    "Jun",
                    "Jun",
                    "Jun",
                    "Jun",
                    "Jun",
                    "Jun",
                    "Jun",
                    "Jun",
                    "Jun",
                    "Jun",
                    "Jun",
                    "Jun",
                    "Jun",
                    "Jun",
                    "Jun",
                    "Jun",
                    "Jun",
                    "Jun",
                    "Jun",
                    "Jun",
                    "Jun",
                    "Jun",
                    "Jun",
                    "Jun",
                    "Jun",
                    "Jun",
                    "Jun",
                    "Jun",
                    "Jun",
                    "Jun",
                    "Jun",
                    "Jun",
                    "Jun",
                    "Jun",
                    "Jun",
                    "Jun",
                    "Jun",
                    "Jun",
                    "Jun",
                    "Jun",
                    "Jun",
                    "Jun",
                    "Jun",
                    "Jun",
                    "Jun",
                    "Jun",
                    "Jun",
                    "Jun",
                    "Jun",
                    "Jun",
                    "Jun",
                    "Jun",
                    "Jun",
                    "Jun",
                    "Jun",
                    "Jun",
                    "Jun",
                    "Jun",
                    "Jun",
                    "Jun",
                    "Jun",
                    "Jun",
                    "Jun",
                    "Jun",
                    "Jun",
                    "Jun",
                    "Jun",
                    "Jun",
                    "Jun",
                    "Jun",
                    "Jun",
                    "Jun",
                    "Jun",
                    "Jun",
                    "Jun",
                    "Jun",
                    "Jun",
                    "Jun",
                    "Jun",
                    "Jun",
                    "Jun",
                    "Jun",
                    "Jun",
                    "Jun",
                    "Jun",
                    "Jun",
                    "Jun",
                    "Jun",
                    "Jun",
                    "Jun",
                    "Jun",
                    "Jun",
                    "Jun",
                    "Jun",
                    "Jun",
                    "Jun",
                    "Jun",
                    "Jun",
                    "Jun",
                    "Jun",
                    "Jun",
                    "Jun",
                    "Jun",
                    "Jun",
                    "Jun",
                    "Jun",
                    "Jun",
                    "Jul",
                    "Jul",
                    "Jul",
                    "Jul",
                    "Jul",
                    "Jul",
                    "Jul",
                    "Jul",
                    "Jul",
                    "Jul",
                    "Jul",
                    "Jul",
                    "Jul",
                    "Jul",
                    "Jul",
                    "Jul",
                    "Jul",
                    "Jul",
                    "Jul",
                    "Jul",
                    "Jul",
                    "Jul",
                    "Jul",
                    "Jul",
                    "Jul",
                    "Jul",
                    "Jul",
                    "Jul",
                    "Jul",
                    "Jul",
                    "Jul",
                    "Jul",
                    "Jul",
                    "Jul",
                    "Jul",
                    "Jul",
                    "Jul",
                    "Jul",
                    "Jul",
                    "Jul",
                    "Jul",
                    "Jul",
                    "Jul",
                    "Jul",
                    "Jul",
                    "Jul",
                    "Jul",
                    "Jul",
                    "Jul",
                    "Jul",
                    "Jul",
                    "Jul",
                    "Jul",
                    "Jul",
                    "Jul",
                    "Jul",
                    "Jul",
                    "Jul",
                    "Jul",
                    "Jul",
                    "Jul",
                    "Jul",
                    "Jul",
                    "Jul",
                    "Jul",
                    "Jul",
                    "Jul",
                    "Jul",
                    "Jul",
                    "Jul",
                    "Jul",
                    "Jul",
                    "Jul",
                    "Jul",
                    "Jul",
                    "Jul",
                    "Jul",
                    "Jul",
                    "Jul",
                    "Jul",
                    "Jul",
                    "Jul",
                    "Jul",
                    "Jul",
                    "Jul",
                    "Jul",
                    "Jul",
                    "Jul",
                    "Jul",
                    "Jul",
                    "Jul",
                    "Jul",
                    "Jul",
                    "Jul",
                    "Jul",
                    "Jul",
                    "Jul",
                    "Jul",
                    "Jul",
                    "Jul",
                    "Jul",
                    "Jul",
                    "Jul",
                    "Jul",
                    "Jul",
                    "Jul",
                    "Jul",
                    "Jul",
                    "Jul",
                    "Jul",
                    "Jul",
                    "Jul",
                    "Jul",
                    "Jul",
                    "Jul",
                    "Jul",
                    "Jul",
                    "Jul",
                    "Jul",
                    "Jul",
                    "Jul",
                    "Jul",
                    "Jul",
                    "Jul",
                    "Jul",
                    "Jul",
                    "Jul",
                    "Jul",
                    "Jul",
                    "Jul",
                    "Jul",
                    "Jul",
                    "Jul",
                    "Jul",
                    "Jul",
                    "Jul",
                    "Jul",
                    "Jul",
                    "Jul",
                    "Jul",
                    "Jul",
                    "Jul",
                    "Jul",
                    "Jul",
                    "Jul",
                    "Jul",
                    "Jul",
                    "Jul",
                    "Jul",
                    "Jul",
                    "Jul",
                    "Jul",
                    "Jul",
                    "Jul",
                    "Jul",
                    "Jul",
                    "Jul",
                    "Jul",
                    "Jul",
                    "Jul",
                    "Jul",
                    "Jul",
                    "Jul",
                    "Jul",
                    "Jul",
                    "Jul",
                    "Jul",
                    "Jul",
                    "Jul",
                    "Jul",
                    "Jul",
                    "Jul",
                    "Jul",
                    "Jul",
                    "Jul",
                    "Jul",
                    "Jul",
                    "Jul",
                    "Jul",
                    "Jul",
                    "Jul",
                    "Jul",
                    "Jul",
                    "Jul",
                    "Jul",
                    "Jul",
                    "Jul",
                    "Jul",
                    "Jul",
                    "Jul",
                    "Jul",
                    "Jul",
                    "Jul",
                    "Jul",
                    "Jul",
                    "Jul",
                    "Jul",
                    "Jul",
                    "Jul",
                    "Jul",
                    "Aug",
                    "Aug",
                    "Aug",
                    "Aug",
                    "Aug",
                    "Aug",
                    "Aug",
                    "Aug",
                    "Aug",
                    "Aug",
                    "Aug",
                    "Aug",
                    "Aug",
                    "Aug",
                    "Aug",
                    "Aug",
                    "Aug",
                    "Aug",
                    "Aug",
                    "Aug",
                    "Aug",
                    "Aug",
                    "Aug",
                    "Aug",
                    "Aug",
                    "Aug",
                    "Aug",
                    "Aug",
                    "Aug",
                    "Aug",
                    "Aug",
                    "Aug",
                    "Aug",
                    "Aug",
                    "Aug",
                    "Aug",
                    "Aug",
                    "Aug",
                    "Aug",
                    "Aug",
                    "Aug",
                    "Aug",
                    "Aug",
                    "Aug",
                    "Aug",
                    "Aug",
                    "Aug",
                    "Aug",
                    "Aug",
                    "Aug",
                    "Aug",
                    "Aug",
                    "Aug",
                    "Aug",
                    "Aug",
                    "Aug",
                    "Aug",
                    "Aug",
                    "Aug",
                    "Aug",
                    "Aug",
                    "Aug",
                    "Aug",
                    "Aug",
                    "Aug",
                    "Aug",
                    "Aug",
                    "Aug",
                    "Aug",
                    "Aug",
                    "Aug",
                    "Aug",
                    "Aug",
                    "Aug",
                    "Aug",
                    "Aug",
                    "Aug",
                    "Aug",
                    "Aug",
                    "Aug",
                    "Aug",
                    "Aug",
                    "Aug",
                    "Aug",
                    "Aug",
                    "Aug",
                    "Aug",
                    "Aug",
                    "Aug",
                    "Aug",
                    "Aug",
                    "Aug",
                    "Aug",
                    "Aug",
                    "Aug",
                    "Aug",
                    "Aug",
                    "Aug",
                    "Aug",
                    "Aug",
                    "Aug",
                    "Aug",
                    "Aug",
                    "Aug",
                    "Aug",
                    "Aug",
                    "Aug",
                    "Aug",
                    "Aug",
                    "Aug",
                    "Aug",
                    "Aug",
                    "Aug",
                    "Aug",
                    "Aug",
                    "Aug",
                    "Aug",
                    "Aug",
                    "Aug",
                    "Aug",
                    "Aug",
                    "Aug",
                    "Aug",
                    "Aug",
                    "Aug",
                    "Aug",
                    "Aug",
                    "Aug",
                    "Aug",
                    "Aug",
                    "Aug",
                    "Aug",
                    "Aug",
                    "Aug",
                    "Aug",
                    "Aug",
                    "Aug",
                    "Aug",
                    "Aug",
                    "Aug",
                    "Aug",
                    "Aug",
                    "Aug",
                    "Aug",
                    "Aug",
                    "Aug",
                    "Aug",
                    "Aug",
                    "Aug",
                    "Aug",
                    "Aug",
                    "Aug",
                    "Aug",
                    "Aug",
                    "Aug",
                    "Aug",
                    "Aug",
                    "Aug",
                    "Aug",
                    "Aug",
                    "Aug",
                    "Aug",
                    "Aug",
                    "Aug",
                    "Aug",
                    "Aug",
                    "Aug",
                    "Aug",
                    "Aug",
                    "Aug",
                    "Aug",
                    "Aug",
                    "Aug",
                    "Aug",
                    "Aug",
                    "Aug",
                    "Aug",
                    "Aug",
                    "Aug",
                    "Aug",
                    "Aug",
                    "Aug",
                    "Aug",
                    "Aug",
                    "Aug",
                    "Aug",
                    "Aug",
                    "Aug",
                    "Aug",
                    "Aug",
                    "Aug",
                    "Aug",
                    "Aug",
                    "Aug",
                    "Aug",
                    "Aug",
                    "Aug",
                    "Aug",
                    "Aug",
                    "Aug",
                    "Sep",
                    "Sep",
                    "Sep",
                    "Sep",
                    "Sep",
                    "Sep",
                    "Sep",
                    "Sep",
                    "Sep",
                    "Sep",
                    "Sep",
                    "Sep",
                    "Sep",
                    "Sep",
                    "Sep",
                    "Sep",
                    "Sep",
                    "Sep",
                    "Sep",
                    "Sep",
                    "Sep",
                    "Sep",
                    "Sep",
                    "Sep",
                    "Sep",
                    "Sep",
                    "Sep",
                    "Sep",
                    "Sep",
                    "Sep",
                    "Sep",
                    "Sep",
                    "Sep",
                    "Sep",
                    "Sep",
                    "Sep",
                    "Sep",
                    "Sep",
                    "Sep",
                    "Sep",
                    "Sep",
                    "Sep",
                    "Sep",
                    "Sep",
                    "Sep",
                    "Sep",
                    "Sep",
                    "Sep",
                    "Sep",
                    "Sep",
                    "Sep",
                    "Sep",
                    "Sep",
                    "Sep",
                    "Sep",
                    "Sep",
                    "Sep",
                    "Sep",
                    "Sep",
                    "Sep",
                    "Sep",
                    "Sep",
                    "Sep",
                    "Sep",
                    "Sep",
                    "Sep",
                    "Sep",
                    "Sep",
                    "Sep",
                    "Sep",
                    "Sep",
                    "Sep",
                    "Sep",
                    "Sep",
                    "Sep",
                    "Sep",
                    "Sep",
                    "Sep",
                    "Sep",
                    "Sep",
                    "Sep",
                    "Sep",
                    "Sep",
                    "Sep",
                    "Sep",
                    "Sep",
                    "Sep",
                    "Sep",
                    "Sep",
                    "Sep",
                    "Sep",
                    "Sep",
                    "Sep",
                    "Sep",
                    "Sep",
                    "Sep",
                    "Sep",
                    "Sep",
                    "Sep",
                    "Sep",
                    "Sep",
                    "Sep",
                    "Sep",
                    "Sep",
                    "Sep",
                    "Sep",
                    "Sep",
                    "Sep",
                    "Sep",
                    "Sep",
                    "Sep",
                    "Sep",
                    "Sep",
                    "Sep",
                    "Sep",
                    "Sep",
                    "Sep",
                    "Sep",
                    "Sep",
                    "Sep",
                    "Sep",
                    "Sep",
                    "Sep",
                    "Sep",
                    "Sep",
                    "Sep",
                    "Sep",
                    "Sep",
                    "Sep",
                    "Sep",
                    "Sep",
                    "Sep",
                    "Sep",
                    "Sep",
                    "Sep",
                    "Sep",
                    "Sep",
                    "Sep",
                    "Sep",
                    "Sep",
                    "Sep",
                    "Sep",
                    "Sep",
                    "Sep",
                    "Sep",
                    "Sep",
                    "Sep",
                    "Sep",
                    "Sep",
                    "Sep",
                    "Sep",
                    "Sep",
                    "Sep",
                    "Sep",
                    "Sep",
                    "Sep",
                    "Sep",
                    "Sep",
                    "Sep",
                    "Sep",
                    "Sep",
                    "Sep",
                    "Sep",
                    "Sep",
                    "Sep",
                    "Sep",
                    "Sep",
                    "Sep",
                    "Sep",
                    "Sep",
                    "Sep",
                    "Sep",
                    "Sep",
                    "Sep",
                    "Sep",
                    "Sep",
                    "Sep",
                    "Sep",
                    "Sep",
                    "Sep",
                    "Sep",
                    "Sep",
                    "Sep",
                    "Sep",
                    "Sep",
                    "Sep",
                    "Sep",
                    "Sep",
                    "Sep",
                    "Sep",
                    "Sep",
                    "Sep",
                    "Sep",
                    "Sep",
                    "Sep",
                    "Sep",
                    "Sep",
                    "Sep",
                    "Sep",
                    "Sep",
                    "Oct",
                    "Oct",
                    "Oct",
                    "Oct",
                    "Oct",
                    "Oct",
                    "Oct",
                    "Oct",
                    "Oct",
                    "Oct",
                    "Oct",
                    "Oct",
                    "Oct",
                    "Oct",
                    "Oct",
                    "Oct",
                    "Oct",
                    "Oct",
                    "Oct",
                    "Oct",
                    "Oct",
                    "Oct",
                    "Oct",
                    "Oct",
                    "Oct",
                    "Oct",
                    "Oct",
                    "Oct",
                    "Oct",
                    "Oct",
                    "Oct",
                    "Oct",
                    "Oct",
                    "Oct",
                    "Oct",
                    "Oct",
                    "Oct",
                    "Oct",
                    "Oct",
                    "Oct",
                    "Oct",
                    "Oct",
                    "Oct",
                    "Oct",
                    "Oct",
                    "Oct",
                    "Oct",
                    "Oct",
                    "Oct",
                    "Oct",
                    "Oct",
                    "Oct",
                    "Oct",
                    "Oct",
                    "Oct",
                    "Oct",
                    "Oct",
                    "Oct",
                    "Oct",
                    "Oct",
                    "Oct",
                    "Oct",
                    "Oct",
                    "Oct",
                    "Oct",
                    "Oct",
                    "Oct",
                    "Oct",
                    "Oct",
                    "Oct",
                    "Oct",
                    "Oct",
                    "Oct",
                    "Oct",
                    "Oct",
                    "Oct",
                    "Oct",
                    "Oct",
                    "Oct",
                    "Oct",
                    "Oct",
                    "Oct",
                    "Oct",
                    "Oct",
                    "Oct",
                    "Oct",
                    "Oct",
                    "Oct",
                    "Oct",
                    "Oct",
                    "Oct",
                    "Oct",
                    "Oct",
                    "Oct",
                    "Oct",
                    "Oct",
                    "Oct",
                    "Oct",
                    "Oct",
                    "Oct",
                    "Oct",
                    "Oct",
                    "Oct",
                    "Oct",
                    "Oct",
                    "Oct",
                    "Oct",
                    "Oct",
                    "Oct",
                    "Oct",
                    "Oct",
                    "Oct",
                    "Oct",
                    "Oct",
                    "Oct",
                    "Oct",
                    "Oct",
                    "Oct",
                    "Oct",
                    "Oct",
                    "Oct",
                    "Oct",
                    "Oct",
                    "Oct",
                    "Oct",
                    "Oct",
                    "Oct",
                    "Oct",
                    "Oct",
                    "Oct",
                    "Oct",
                    "Oct",
                    "Oct",
                    "Oct",
                    "Oct",
                    "Oct",
                    "Oct",
                    "Oct",
                    "Oct",
                    "Oct",
                    "Oct",
                    "Oct",
                    "Oct",
                    "Oct",
                    "Oct",
                    "Oct",
                    "Oct",
                    "Oct",
                    "Oct",
                    "Oct",
                    "Oct",
                    "Oct",
                    "Oct",
                    "Oct",
                    "Oct",
                    "Oct",
                    "Oct",
                    "Oct",
                    "Oct",
                    "Oct",
                    "Oct",
                    "Oct",
                    "Oct",
                    "Oct",
                    "Oct",
                    "Oct",
                    "Oct",
                    "Oct",
                    "Oct",
                    "Oct",
                    "Oct",
                    "Oct",
                    "Oct",
                    "Oct",
                    "Oct",
                    "Oct",
                    "Oct",
                    "Oct",
                    "Oct",
                    "Oct",
                    "Oct",
                    "Oct",
                    "Oct",
                    "Oct",
                    "Oct",
                    "Oct",
                    "Oct",
                    "Oct",
                    "Oct",
                    "Oct",
                    "Oct",
                    "Oct",
                    "Oct",
                    "Oct",
                    "Oct",
                    "Oct",
                    "Oct",
                    "Oct",
                    "Oct",
                    "Oct",
                    "Nov",
                    "Nov",
                    "Nov",
                    "Nov",
                    "Nov",
                    "Nov",
                    "Nov",
                    "Nov",
                    "Nov",
                    "Nov",
                    "Nov",
                    "Nov",
                    "Nov",
                    "Nov",
                    "Nov",
                    "Nov",
                    "Nov",
                    "Nov",
                    "Nov",
                    "Nov",
                    "Nov",
                    "Nov",
                    "Nov",
                    "Nov",
                    "Nov",
                    "Nov",
                    "Nov",
                    "Nov",
                    "Nov",
                    "Nov",
                    "Nov",
                    "Nov",
                    "Nov",
                    "Nov",
                    "Nov",
                    "Nov",
                    "Nov",
                    "Nov",
                    "Nov",
                    "Nov",
                    "Nov",
                    "Nov",
                    "Nov",
                    "Nov",
                    "Nov",
                    "Nov",
                    "Nov",
                    "Nov",
                    "Nov",
                    "Nov",
                    "Nov",
                    "Nov",
                    "Nov",
                    "Nov",
                    "Nov",
                    "Nov",
                    "Nov",
                    "Nov",
                    "Nov",
                    "Nov",
                    "Nov",
                    "Nov",
                    "Nov",
                    "Nov",
                    "Nov",
                    "Nov",
                    "Nov",
                    "Nov",
                    "Nov",
                    "Nov",
                    "Nov",
                    "Nov",
                    "Nov",
                    "Nov",
                    "Nov",
                    "Nov",
                    "Nov",
                    "Nov",
                    "Nov",
                    "Nov",
                    "Nov",
                    "Nov",
                    "Nov",
                    "Nov",
                    "Nov",
                    "Nov",
                    "Nov",
                    "Nov",
                    "Nov",
                    "Nov",
                    "Nov",
                    "Nov",
                    "Nov",
                    "Nov",
                    "Nov",
                    "Nov",
                    "Nov",
                    "Nov",
                    "Nov",
                    "Nov",
                    "Nov",
                    "Nov",
                    "Nov",
                    "Nov",
                    "Nov",
                    "Nov",
                    "Nov",
                    "Nov",
                    "Nov",
                    "Nov",
                    "Nov",
                    "Nov",
                    "Nov",
                    "Nov",
                    "Nov",
                    "Nov",
                    "Nov",
                    "Nov",
                    "Nov",
                    "Nov",
                    "Nov",
                    "Nov",
                    "Nov",
                    "Nov",
                    "Nov",
                    "Nov",
                    "Nov",
                    "Nov",
                    "Nov",
                    "Nov",
                    "Nov",
                    "Nov",
                    "Nov",
                    "Nov",
                    "Nov",
                    "Nov",
                    "Nov",
                    "Nov",
                    "Nov",
                    "Nov",
                    "Nov",
                    "Nov",
                    "Nov",
                    "Nov",
                    "Nov",
                    "Nov",
                    "Nov",
                    "Nov",
                    "Nov",
                    "Nov",
                    "Nov",
                    "Nov",
                    "Nov",
                    "Nov",
                    "Nov",
                    "Nov",
                    "Nov",
                    "Nov",
                    "Nov",
                    "Nov",
                    "Nov",
                    "Nov",
                    "Nov",
                    "Nov",
                    "Nov",
                    "Nov",
                    "Nov",
                    "Nov",
                    "Nov",
                    "Nov",
                    "Nov",
                    "Nov",
                    "Nov",
                    "Nov",
                    "Nov",
                    "Nov",
                    "Nov",
                    "Nov",
                    "Nov",
                    "Nov",
                    "Nov",
                    "Nov",
                    "Nov",
                    "Nov",
                    "Nov",
                    "Nov",
                    "Nov",
                    "Nov",
                    "Nov",
                    "Nov",
                    "Nov",
                    "Nov",
                    "Nov",
                    "Nov",
                    "Nov",
                    "Nov",
                    "Nov",
                    "Nov",
                    "Nov",
                    "Nov",
                    "Dec",
                    "Dec",
                    "Dec",
                    "Dec",
                    "Dec",
                    "Dec",
                    "Dec",
                    "Dec",
                    "Dec",
                    "Dec",
                    "Dec",
                    "Dec",
                    "Dec",
                    "Dec",
                    "Dec",
                    "Dec",
                    "Dec",
                    "Dec",
                    "Dec",
                    "Dec",
                    "Dec",
                    "Dec",
                    "Dec",
                    "Dec",
                    "Dec",
                    "Dec",
                    "Dec",
                    "Dec",
                    "Dec",
                    "Dec",
                    "Dec",
                    "Dec",
                    "Dec",
                    "Dec",
                    "Dec",
                    "Dec",
                    "Dec",
                    "Dec",
                    "Dec",
                    "Dec",
                    "Dec",
                    "Dec",
                    "Dec",
                    "Dec",
                    "Dec",
                    "Dec",
                    "Dec",
                    "Dec",
                    "Dec",
                    "Dec",
                    "Dec",
                    "Dec",
                    "Dec",
                    "Dec",
                    "Dec",
                    "Dec",
                    "Dec",
                    "Dec",
                    "Dec",
                    "Dec",
                    "Dec",
                    "Dec",
                    "Dec",
                    "Dec",
                    "Dec",
                    "Dec",
                    "Dec",
                    "Dec",
                    "Dec",
                    "Dec",
                    "Dec",
                    "Dec",
                    "Dec",
                    "Dec",
                    "Dec",
                    "Dec",
                    "Dec",
                    "Dec",
                    "Dec",
                    "Dec",
                    "Dec",
                    "Dec",
                    "Dec",
                    "Dec",
                    "Dec",
                    "Dec",
                    "Dec",
                    "Dec",
                    "Dec",
                    "Dec",
                    "Dec",
                    "Dec",
                    "Dec",
                    "Dec",
                    "Dec",
                    "Dec",
                    "Dec",
                    "Dec",
                    "Dec",
                    "Dec",
                    "Dec",
                    "Dec",
                    "Dec",
                    "Dec",
                    "Dec",
                    "Dec",
                    "Dec",
                    "Dec",
                    "Dec",
                    "Dec",
                    "Dec",
                    "Dec",
                    "Dec",
                    "Dec",
                    "Dec",
                    "Dec",
                    "Dec",
                    "Dec",
                    "Dec",
                    "Dec",
                    "Dec",
                    "Dec",
                    "Dec",
                    "Dec",
                    "Dec",
                    "Dec",
                    "Dec",
                    "Dec",
                    "Dec",
                    "Dec",
                    "Dec",
                    "Dec",
                    "Dec",
                    "Dec",
                    "Dec",
                    "Dec",
                    "Dec",
                    "Dec",
                    "Dec",
                    "Dec",
                    "Dec",
                    "Dec",
                    "Dec",
                    "Dec",
                    "Dec",
                    "Dec",
                    "Dec",
                    "Dec",
                    "Dec",
                    "Dec",
                    "Dec",
                    "Dec",
                    "Dec",
                    "Dec",
                    "Dec",
                    "Dec",
                    "Dec",
                    "Dec",
                    "Dec",
                    "Dec",
                    "Dec",
                    "Dec",
                    "Dec",
                    "Dec",
                    "Dec",
                    "Dec",
                    "Dec",
                    "Dec",
                    "Dec",
                    "Dec",
                    "Dec",
                    "Dec",
                    "Dec",
                    "Dec",
                    "Dec",
                    "Dec",
                    "Dec",
                    "Dec",
                    "Dec",
                    "Dec",
                    "Dec",
                    "Dec",
                    "Dec",
                    "Dec",
                    "Dec",
                    "Dec",
                    "Dec",
                    "Dec",
                    "Dec",
                    "Dec",
                    "Dec",
                    "Dec",
                    "Dec",
                    "Dec",
                    "Dec",
                    "Dec",
                    "Dec",
                    "Dec",
                    "Dec",
                    "Dec"
                  ],
                  "y": [
                    0.52,
                    2.1,
                    3.64,
                    2.28,
                    2.66,
                    4.49,
                    3.3,
                    0.4,
                    5.19,
                    0.16,
                    2.45,
                    1.38,
                    1.49,
                    1.17,
                    2.52,
                    1.2,
                    2.46,
                    1.05,
                    6.78,
                    0.45,
                    0,
                    0.56,
                    0.7,
                    0.43,
                    0.66,
                    0.98,
                    5.89,
                    0.56,
                    3.64,
                    0.63,
                    0.68,
                    0.63,
                    1.95,
                    1.34,
                    1.69,
                    1.81,
                    4.46,
                    0.42,
                    4.57,
                    0.45,
                    2.19,
                    1.73,
                    3.46,
                    1.09,
                    3.64,
                    3.83,
                    2.88,
                    0.1,
                    2.07,
                    0.41,
                    0.18,
                    0.27,
                    2.26,
                    0.22,
                    1.79,
                    2.24,
                    3.96,
                    0.41,
                    2.74,
                    0.8,
                    3.64,
                    1.37,
                    3.49,
                    1.37,
                    3.26,
                    3.29,
                    4.57,
                    0.52,
                    1.7,
                    0.22,
                    0.01,
                    1.67,
                    5.44,
                    3.01,
                    5.38,
                    5.81,
                    2.68,
                    0.84,
                    1.37,
                    0.46,
                    0.03,
                    0.13,
                    1.13,
                    0.16,
                    0.18,
                    1.68,
                    4.47,
                    0.41,
                    4.89,
                    0.67,
                    1.5,
                    0.85,
                    0.53,
                    0.5,
                    0.58,
                    0.83,
                    6.07,
                    0.63,
                    2.76,
                    0.34,
                    0,
                    3.41,
                    2.97,
                    2.65,
                    2.9,
                    3.65,
                    3.26,
                    1.15,
                    2.27,
                    0.6,
                    1.26,
                    1.86,
                    2.13,
                    1.05,
                    3.17,
                    1.99,
                    4,
                    0.28,
                    2.87,
                    0.33,
                    1.58,
                    7.05,
                    7.01,
                    6.55,
                    6.48,
                    5.92,
                    5.04,
                    0.28,
                    1.2,
                    0.66,
                    1.44,
                    2.09,
                    1.45,
                    1.86,
                    2.3,
                    1.16,
                    7.59,
                    0.64,
                    3.35,
                    0.57,
                    0.44,
                    1.93,
                    3.84,
                    1.09,
                    2.68,
                    4.18,
                    3.18,
                    0.89,
                    2.44,
                    0.49,
                    1.11,
                    3.42,
                    4.11,
                    2.63,
                    3.64,
                    4.18,
                    6.5,
                    0.28,
                    4.16,
                    0.62,
                    0.18,
                    1.65,
                    0.92,
                    1.08,
                    0.76,
                    0.99,
                    8.57,
                    0.57,
                    4,
                    0.49,
                    1.11,
                    0.42,
                    0.61,
                    0.34,
                    0.49,
                    0.67,
                    4.05,
                    0.64,
                    3.02,
                    0.45,
                    0.12,
                    3.95,
                    1.33,
                    3.51,
                    1.15,
                    1.46,
                    3.5,
                    0.45,
                    2.41,
                    0.62,
                    1.7,
                    0.09,
                    1.46,
                    0.05,
                    0.82,
                    1.38,
                    8.6,
                    1.73,
                    3.93,
                    1.34,
                    0.92,
                    3.69,
                    4.42,
                    3.21,
                    4.51,
                    5.26,
                    4.66,
                    1.11,
                    1.42,
                    0.81,
                    3.8,
                    0.55,
                    2.04,
                    0.27,
                    1.76,
                    2.07,
                    5.58,
                    0.95,
                    1.62,
                    0.16,
                    0,
                    3.34,
                    3.48,
                    3.02,
                    2.63,
                    2.06,
                    5.32,
                    0.32,
                    1.51,
                    0.61,
                    0.41,
                    2.74,
                    1.85,
                    2.21,
                    1.51,
                    1.94,
                    2.67,
                    0.96,
                    3.55,
                    0.33,
                    0.7,
                    3.71,
                    2.46,
                    3.41,
                    2.16,
                    3.32,
                    5.61,
                    0.37,
                    4.51,
                    0.42,
                    0.99,
                    0.37,
                    0.71,
                    0.43,
                    0.65,
                    0.6,
                    3.94,
                    0.9,
                    2.06,
                    0.42,
                    1.2,
                    3.48,
                    2.4,
                    4.28,
                    4.19,
                    2.18,
                    4.29,
                    0.75,
                    1.98,
                    0.51,
                    0.9,
                    0.14,
                    0.75,
                    0.14,
                    0.5,
                    1.07,
                    3.85,
                    1.05,
                    5.47,
                    0.7,
                    0.06,
                    2.99,
                    1.19,
                    3.37,
                    2.21,
                    1.58,
                    2.19,
                    1.65,
                    1.14,
                    1,
                    0.47,
                    2.21,
                    1.1,
                    1.85,
                    1.15,
                    1.28,
                    7.37,
                    1.08,
                    1.82,
                    0.79,
                    0.01,
                    1.67,
                    1.84,
                    1.81,
                    2.92,
                    1.97,
                    3.94,
                    1.21,
                    2.5,
                    0.51,
                    0.24,
                    2.01,
                    5.38,
                    1.82,
                    4.2,
                    4.83,
                    4.01,
                    0.31,
                    1.42,
                    0.81,
                    0.17,
                    2.86,
                    2.28,
                    2.54,
                    1.9,
                    2.06,
                    6.11,
                    0.74,
                    4.84,
                    0.4,
                    1.64,
                    1.22,
                    1.57,
                    1.46,
                    1.72,
                    1.29,
                    2.24,
                    0.71,
                    2.34,
                    0.79,
                    0.59,
                    0.65,
                    1.54,
                    0.83,
                    0.4,
                    1.41,
                    6.08,
                    1.04,
                    7.08,
                    0.48,
                    2.55,
                    2.85,
                    2.33,
                    1.69,
                    2.03,
                    2.65,
                    5.7,
                    1.91,
                    7.18,
                    0.44,
                    1.43,
                    3.54,
                    2.02,
                    3.02,
                    2,
                    2.34,
                    11.07,
                    0.44,
                    3.19,
                    0.87,
                    0.04,
                    3.03,
                    3.49,
                    2.57,
                    3.04,
                    3.48,
                    4.02,
                    0.43,
                    2.5,
                    0.56,
                    0.41,
                    2.24,
                    0.71,
                    1.68,
                    0.76,
                    0.74,
                    5.63,
                    0.45,
                    6.25,
                    0.59,
                    0.97,
                    3.51,
                    0.44,
                    4.14,
                    0.79,
                    0.36,
                    3.51,
                    2.18,
                    2.4,
                    0.74,
                    0.8,
                    0.78,
                    1.36,
                    0.6,
                    0.87,
                    1.04,
                    1.5,
                    2,
                    2.87,
                    0.32,
                    0.59,
                    4.78,
                    4.49,
                    3.38,
                    5.1,
                    4.56,
                    7.32,
                    1.08,
                    3.99,
                    0.69,
                    1.38,
                    0.62,
                    0.15,
                    0.71,
                    0.03,
                    0.06,
                    3.12,
                    1.47,
                    5.23,
                    0.66,
                    0.79,
                    1.86,
                    0.88,
                    1.77,
                    0.72,
                    0.91,
                    1.98,
                    3.01,
                    2.89,
                    1.81,
                    0.01,
                    4.38,
                    3.72,
                    3.33,
                    3.64,
                    4.16,
                    5.15,
                    1.43,
                    9.82,
                    0.85,
                    0.01,
                    4.05,
                    0.87,
                    2.21,
                    0.8,
                    0.9,
                    6.71,
                    1.84,
                    1.71,
                    1.2,
                    0.96,
                    4.56,
                    7.54,
                    3.01,
                    8.18,
                    6.67,
                    5.03,
                    0.86,
                    3.72,
                    1.43,
                    0.2,
                    2.04,
                    8.15,
                    1.64,
                    5.45,
                    9.65,
                    7.87,
                    2.04,
                    4.33,
                    0.64,
                    0.57,
                    2.24,
                    0.88,
                    1.94,
                    1.25,
                    1.08,
                    4.49,
                    1.39,
                    3.19,
                    0.23,
                    0.7,
                    0.46,
                    1.67,
                    0.93,
                    1.47,
                    1.5,
                    4.51,
                    1.82,
                    3.47,
                    0.6,
                    1.02,
                    1.94,
                    5.73,
                    1.98,
                    4.07,
                    6.18,
                    3.57,
                    0.73,
                    2.37,
                    1.6,
                    0.97,
                    1.37,
                    1.59,
                    1.42,
                    1.63,
                    1.35,
                    2.84,
                    0.68,
                    5.13,
                    0.47,
                    0.01,
                    1.99,
                    2.49,
                    1.63,
                    4.11,
                    1.93,
                    2.15,
                    1.65,
                    4.19,
                    1.46,
                    0.15,
                    2.09,
                    0.74,
                    2.52,
                    0.28,
                    0.89,
                    3.53,
                    0.56,
                    5.78,
                    1.17,
                    0.12,
                    0.65,
                    0.9,
                    0.47,
                    1.5,
                    0.78,
                    5.07,
                    1,
                    3.43,
                    0.71,
                    0.79,
                    2.39,
                    1.7,
                    1.61,
                    1.11,
                    1.28,
                    2.98,
                    1.95,
                    5.03,
                    1.23,
                    2.59,
                    0.35,
                    0.02,
                    0.28,
                    0.15,
                    0.02,
                    7.04,
                    2.3,
                    5.18,
                    0.66,
                    0.25,
                    1.4,
                    1.1,
                    0.65,
                    0.88,
                    1.42,
                    4.48,
                    2.54,
                    3.53,
                    1.53,
                    0.28,
                    1.24,
                    2.97,
                    1.57,
                    5.37,
                    2.88,
                    6.27,
                    2.15,
                    2.5,
                    0.72,
                    1.48,
                    1.96,
                    0.48,
                    1.83,
                    0.73,
                    0.28,
                    6.24,
                    2.67,
                    6.86,
                    0.58,
                    1.03,
                    3.61,
                    2.47,
                    3.02,
                    2.03,
                    2.53,
                    2.59,
                    2.49,
                    4.2,
                    1.55,
                    0.21,
                    2.16,
                    3.52,
                    1.74,
                    1.9,
                    3.44,
                    4.39,
                    2.43,
                    3.66,
                    1.28,
                    0.03,
                    1.03,
                    0.85,
                    1.22,
                    1.84,
                    0.42,
                    3.11,
                    4.66,
                    4.66,
                    0.73,
                    0.16,
                    2.54,
                    2.73,
                    4.23,
                    1.69,
                    2.42,
                    1.65,
                    2.12,
                    3.54,
                    0.62,
                    0,
                    3.18,
                    3.76,
                    3.56,
                    3.07,
                    3.4,
                    3.39,
                    3.61,
                    2.51,
                    1.02,
                    0.29,
                    0.89,
                    1.53,
                    0.7,
                    1.11,
                    1.43,
                    4.99,
                    1.43,
                    3.76,
                    2.09,
                    0.02,
                    6.94,
                    4.01,
                    4.46,
                    3.42,
                    3.51,
                    2.78,
                    2.09,
                    2.04,
                    1.69,
                    0.3,
                    2.28,
                    2.69,
                    2.28,
                    2.73,
                    2.31,
                    4.22,
                    3.06,
                    12.12,
                    1.99,
                    0.11,
                    6.8,
                    1.87,
                    6.79,
                    1.81,
                    2.17,
                    1.7,
                    2.71,
                    4.05,
                    1.05,
                    0.04,
                    5.61,
                    3.85,
                    5.47,
                    4.39,
                    2.64,
                    5.3,
                    4.01,
                    3.45,
                    1.59,
                    0.02,
                    3.58,
                    1.41,
                    1.68,
                    3.34,
                    1.09,
                    6.37,
                    6.19,
                    6.31,
                    1.09,
                    0.28,
                    4.74,
                    3.55,
                    4.94,
                    3.91,
                    2.97,
                    7.24,
                    2,
                    5.43,
                    1.57,
                    0.4,
                    0.72,
                    1.6,
                    0.89,
                    1.74,
                    1.73,
                    3.44,
                    3.15,
                    4.2,
                    2.72,
                    0.01,
                    3.58,
                    0.65,
                    3.18,
                    0.45,
                    0.95,
                    5.66,
                    3.85,
                    5.49,
                    2.78,
                    0,
                    3.85,
                    2.84,
                    2.68,
                    3.38,
                    2.4,
                    5.13,
                    1.78,
                    4.32,
                    0.68,
                    0.1,
                    2.15,
                    2.37,
                    3.14,
                    2.06,
                    2.49,
                    6.55,
                    3.05,
                    4.9,
                    1.45,
                    0.05,
                    2.77,
                    5.72,
                    1.96,
                    2.57,
                    5.82,
                    5.86,
                    1.38,
                    3.39,
                    1.23,
                    0.03,
                    2.07,
                    3.82,
                    2.48,
                    5,
                    3.23,
                    3.1,
                    2.35,
                    2.89,
                    0.89,
                    0,
                    3.32,
                    4.02,
                    3.67,
                    4.97,
                    4.19,
                    4.28,
                    3.94,
                    2.92,
                    1.74,
                    0,
                    11.42,
                    1.9,
                    7.42,
                    4.07,
                    1.37,
                    5.84,
                    3.03,
                    3.77,
                    1.48,
                    0,
                    1.28,
                    1.96,
                    1.48,
                    2.29,
                    2.25,
                    3.09,
                    6.84,
                    6.07,
                    0.75,
                    0.01,
                    4.02,
                    4.11,
                    4.09,
                    4.27,
                    3.45,
                    3.11,
                    3.57,
                    2.38,
                    2.89,
                    0.03,
                    4.2,
                    1.93,
                    4.68,
                    2.27,
                    1.45,
                    2.4,
                    2.38,
                    3.24,
                    0.94,
                    0.03,
                    3.4,
                    0.8,
                    4.56,
                    1.3,
                    0.38,
                    1.34,
                    2.22,
                    0.86,
                    2.45,
                    0.54,
                    2.3,
                    0.93,
                    1.94,
                    1.32,
                    0.68,
                    2.99,
                    2.93,
                    6.82,
                    4.96,
                    0.36,
                    7.96,
                    11.5,
                    7.94,
                    13.61,
                    8.36,
                    5.19,
                    0.62,
                    3.72,
                    0.82,
                    0,
                    2.76,
                    2.52,
                    2.84,
                    2.86,
                    2.34,
                    6.17,
                    2.7,
                    4.74,
                    2.84,
                    0.04,
                    2,
                    1.74,
                    2.17,
                    1.47,
                    1.51,
                    2.29,
                    5.67,
                    6.31,
                    3.93,
                    0.04,
                    9.14,
                    3.27,
                    10.87,
                    4.06,
                    3.23,
                    3.66,
                    10.21,
                    5.06,
                    1.45,
                    0,
                    9.75,
                    3.39,
                    9.8,
                    5.34,
                    2.08,
                    5.79,
                    5.16,
                    4.52,
                    1.65,
                    0,
                    3.71,
                    6.27,
                    2.79,
                    4.22,
                    5.66,
                    3.34,
                    4.64,
                    3.28,
                    1.31,
                    0.73,
                    2.1,
                    3.61,
                    1.54,
                    1.1,
                    5.17,
                    4.43,
                    4.61,
                    1.98,
                    4.77,
                    0.19,
                    6.23,
                    4.56,
                    5.89,
                    5.07,
                    4.42,
                    1.67,
                    2.41,
                    3.22,
                    2.25,
                    0.12,
                    3.01,
                    2.36,
                    2.52,
                    3.13,
                    2.84,
                    6.25,
                    5.01,
                    6,
                    1.94,
                    0.03,
                    13.64,
                    10.93,
                    11.19,
                    8.82,
                    9.63,
                    5.55,
                    2.92,
                    3.62,
                    2.55,
                    0.29,
                    4.61,
                    3.65,
                    3.87,
                    3.84,
                    3.68,
                    2.47,
                    6.48,
                    4.64,
                    3.86,
                    0.02,
                    14.38,
                    2.05,
                    13.06,
                    4.22,
                    1.78,
                    3.39,
                    4.09,
                    7.63,
                    0.54,
                    0,
                    2.28,
                    0.4,
                    2.13,
                    0.81,
                    0.14,
                    5.86,
                    2.66,
                    4.69,
                    1.14,
                    0,
                    4.89,
                    4.12,
                    4.43,
                    3.37,
                    2.94,
                    3.18,
                    3.7,
                    7.58,
                    2.81,
                    0.11,
                    6.3,
                    5.31,
                    6.62,
                    4.53,
                    4.23,
                    2.4,
                    1.2,
                    2.16,
                    2.06,
                    0,
                    4.1,
                    9.3,
                    3.61,
                    8.49,
                    6.73,
                    5.99,
                    3.96,
                    2.73,
                    0.92,
                    0.04,
                    15.76,
                    11.52,
                    14.88,
                    15.77,
                    8.77,
                    4.59,
                    6.05,
                    2.87,
                    0.67,
                    0.09,
                    5.13,
                    7.57,
                    5.23,
                    7.3,
                    6.76,
                    4.37,
                    3.52,
                    3.51,
                    0.26,
                    0,
                    11.13,
                    6.33,
                    11.84,
                    6.37,
                    6.63,
                    2.72,
                    1.81,
                    3.66,
                    1.23,
                    0.01,
                    5.76,
                    8.39,
                    7.84,
                    6.84,
                    7.08,
                    1.38,
                    3.49,
                    4.92,
                    0.91,
                    0.02,
                    9.66,
                    7.96,
                    10.1,
                    7.53,
                    5.21,
                    1.65,
                    3.46,
                    5.83,
                    1.95,
                    0,
                    5.15,
                    4.53,
                    6.01,
                    3.8,
                    4.69,
                    3.59,
                    6.34,
                    7.45,
                    2.34,
                    0,
                    3.99,
                    4.41,
                    5.09,
                    7.16,
                    5.15,
                    3.18,
                    4.21,
                    6.83,
                    1.5,
                    0.01,
                    8.79,
                    16.55,
                    9.25,
                    11.48,
                    16.67,
                    3.18,
                    3.8,
                    2.27,
                    0.22,
                    0,
                    8.39,
                    13.07,
                    6.4,
                    11.23,
                    11.65,
                    7.74,
                    7.27,
                    4.34,
                    0.6,
                    0,
                    8.98,
                    4.85,
                    9.36,
                    5.59,
                    3.83,
                    3.69,
                    10.27,
                    5.22,
                    1.38,
                    0.28,
                    3.61,
                    5.99,
                    5.19,
                    7.44,
                    5.01,
                    2.67,
                    3.74,
                    6.46,
                    1.56,
                    0.14,
                    6.7,
                    10.11,
                    7.59,
                    7.22,
                    10.19,
                    2.63,
                    3.77,
                    3.27,
                    0.64,
                    0,
                    13.37,
                    11.81,
                    11.93,
                    10.92,
                    11.6,
                    7.61,
                    3.31,
                    5.01,
                    0.7,
                    0.14,
                    7.01,
                    6.55,
                    6.77,
                    8.77,
                    5.23,
                    5.74,
                    4.09,
                    4.12,
                    2.31,
                    0,
                    10.7,
                    10,
                    9.86,
                    9.57,
                    7.66,
                    6.32,
                    3.32,
                    7.52,
                    1.64,
                    0,
                    7.18,
                    7.07,
                    6.8,
                    8.25,
                    7.33,
                    3.81,
                    4.64,
                    3.94,
                    0.65,
                    0.11,
                    9.49,
                    9.34,
                    8.92,
                    7.05,
                    8.31,
                    5.07,
                    1.36,
                    7.21,
                    1.49,
                    0.22,
                    13.55,
                    6.15,
                    15.14,
                    4.28,
                    5.67,
                    3.63,
                    1.06,
                    3.46,
                    0.45,
                    0,
                    10.92,
                    8.18,
                    8.96,
                    7.52,
                    5.71,
                    4.09,
                    1.28,
                    2.01,
                    3.76,
                    0.66,
                    6.94,
                    10.46,
                    7.52,
                    5.53,
                    14.52,
                    3.74,
                    3.86,
                    6.25,
                    1.28,
                    0.78,
                    5.62,
                    7.22,
                    5.8,
                    5.44,
                    6.75,
                    13.65,
                    2.73,
                    3.6,
                    0.69,
                    1.01,
                    9.49,
                    8.15,
                    9.8,
                    6.01,
                    8.22,
                    1.75,
                    1.46,
                    3.97,
                    0.83,
                    1.39,
                    9.61,
                    8.08,
                    7.12,
                    7.96,
                    8.07,
                    3.98,
                    1.61,
                    3.29,
                    1.58,
                    1.49,
                    7.68,
                    10.44,
                    6.98,
                    8.12,
                    12.23,
                    4.86,
                    2.56,
                    2.83,
                    0.49,
                    0.59,
                    7.14,
                    9.79,
                    5.91,
                    7.02,
                    10.51,
                    3.8,
                    1.81,
                    5.23,
                    1.84,
                    0.92,
                    7.44,
                    7.22,
                    6.45,
                    4.53,
                    7.54,
                    3.91,
                    3.94,
                    2.41,
                    0.81,
                    0.83,
                    6.71,
                    8.19,
                    7.08,
                    7.96,
                    8.94,
                    3.92,
                    6.53,
                    1.77,
                    0.82,
                    1.45,
                    7.2,
                    8.2,
                    7.58,
                    4.46,
                    9.6,
                    4.34,
                    4.38,
                    2.75,
                    0.68,
                    1.11,
                    14.1,
                    9.85,
                    11.34,
                    8.16,
                    9.89,
                    9.76,
                    3.5,
                    6.17,
                    1.13,
                    1.03,
                    10.51,
                    9.67,
                    9.82,
                    8.87,
                    7.7,
                    4.57,
                    3.01,
                    3.76,
                    1.02,
                    0.63,
                    4.35,
                    11.36,
                    5.6,
                    7.83,
                    13.81,
                    4.35,
                    7.08,
                    5.67,
                    0.52,
                    0.24,
                    4.68,
                    6.13,
                    4.64,
                    4.34,
                    5.69,
                    2.91,
                    5.6,
                    4.71,
                    0.49,
                    1.77,
                    7.86,
                    10.08,
                    6.76,
                    8.92,
                    8.47,
                    3.96,
                    3.13,
                    5.13,
                    0.49,
                    2.13,
                    6.62,
                    9.93,
                    7.02,
                    9.27,
                    8.41,
                    6.63,
                    3.9,
                    3.36,
                    1.08,
                    0.45,
                    6.48,
                    11.13,
                    7.02,
                    7.07,
                    13.69,
                    2.79,
                    5.88,
                    3.48,
                    0.66,
                    0.04,
                    8.96,
                    7.06,
                    8.43,
                    8.01,
                    6.11,
                    3.56,
                    2.73,
                    5.55,
                    0.24,
                    3,
                    7.18,
                    9.54,
                    6.61,
                    6.86,
                    8.19,
                    6.3,
                    1.76,
                    5.31,
                    1.23,
                    1.28,
                    4.15,
                    8.93,
                    4.16,
                    6.43,
                    7.78,
                    7.17,
                    1.43,
                    3.73,
                    0.54,
                    0.1,
                    9.29,
                    6.55,
                    8.37,
                    6.5,
                    4.67,
                    3.88,
                    2.62,
                    7.27,
                    0.82,
                    0.67,
                    10.2,
                    13.68,
                    9.09,
                    11.96,
                    12.01,
                    4.52,
                    1.69,
                    2.86,
                    0.55,
                    1.67,
                    6.98,
                    6.55,
                    9.67,
                    6.2,
                    5.47,
                    7.59,
                    3.91,
                    5.53,
                    1.28,
                    1.68,
                    7.69,
                    7.8,
                    8.14,
                    5.95,
                    6.42,
                    6.6,
                    5.4,
                    3.39,
                    0.96,
                    0.8,
                    3.88,
                    8.98,
                    3.33,
                    3.84,
                    10.4,
                    2.51,
                    6.52,
                    0.91,
                    0.96,
                    2.16,
                    11.06,
                    7.12,
                    11.11,
                    14.54,
                    5.81,
                    4.89,
                    2.44,
                    2.03,
                    0.57,
                    0.49,
                    6.61,
                    8.13,
                    6.64,
                    5.3,
                    8.84,
                    5.31,
                    6.77,
                    2.43,
                    0.98,
                    1.04,
                    9.01,
                    10.86,
                    9.64,
                    6.79,
                    12.23,
                    3.87,
                    5.93,
                    1.81,
                    0.38,
                    0.5,
                    8.83,
                    9.81,
                    10.96,
                    8.07,
                    12.17,
                    1.69,
                    4.07,
                    2.79,
                    0.27,
                    1.54,
                    13.56,
                    10.5,
                    12.1,
                    8.35,
                    10.85,
                    3.49,
                    1.82,
                    1.41,
                    0.11,
                    1.4,
                    4.31,
                    9.23,
                    4.36,
                    6.22,
                    10.15,
                    5.85,
                    1.52,
                    2.14,
                    0.49,
                    3.07,
                    8.16,
                    6.27,
                    6.25,
                    5.52,
                    6.28,
                    3.76,
                    2.81,
                    3.74,
                    1.71,
                    0.7,
                    7.31,
                    13.79,
                    7.76,
                    10.48,
                    12.85,
                    5.65,
                    3.44,
                    3.41,
                    0.54,
                    1.78,
                    8.7,
                    11.8,
                    9.26,
                    6.75,
                    13.39,
                    3.71,
                    8.65,
                    6.83,
                    0.87,
                    1.04,
                    10.9,
                    10.11,
                    8.06,
                    6.24,
                    12.11,
                    4.69,
                    6.78,
                    2.78,
                    0.8,
                    1.77,
                    7.65,
                    9.65,
                    7.19,
                    6.75,
                    10.76,
                    6.06,
                    2.97,
                    7.25,
                    0.57,
                    0.41,
                    11.86,
                    12.43,
                    10.02,
                    8.66,
                    11.31,
                    2.76,
                    5.44,
                    4.47,
                    0.6,
                    0.39,
                    6.99,
                    9.46,
                    5.21,
                    7.58,
                    8.51,
                    7.44,
                    5.21,
                    2.96,
                    0.1,
                    2.67,
                    6.39,
                    6.78,
                    6.13,
                    7.52,
                    9.28,
                    6.47,
                    5.5,
                    3.28,
                    0.91,
                    2.63,
                    4.04,
                    6.47,
                    3.77,
                    7.39,
                    7.11,
                    4.85,
                    4.69,
                    4.77,
                    1.82,
                    0.5,
                    8.52,
                    8.45,
                    7.67,
                    6.6,
                    6.5,
                    6.37,
                    2.66,
                    2.95,
                    1.54,
                    0.66,
                    9.74,
                    13.45,
                    7.86,
                    11.87,
                    11.72,
                    11.64,
                    4.85,
                    0.94,
                    1.56,
                    0.17,
                    6.13,
                    2.37,
                    8.8,
                    4.87,
                    1.42,
                    0.35,
                    7.72,
                    2.33,
                    0.45,
                    1.47,
                    7.97,
                    8.63,
                    7.86,
                    6.1,
                    10.67,
                    3.47,
                    3.84,
                    5.5,
                    1.45,
                    0.45,
                    8.36,
                    4.38,
                    8.4,
                    7.14,
                    3.86,
                    1.62,
                    5.27,
                    1.97,
                    0.87,
                    0.27,
                    6.14,
                    1.74,
                    6.86,
                    3.24,
                    1.64,
                    0.59,
                    2.35,
                    1.21,
                    1.19,
                    0.34,
                    8.03,
                    7.39,
                    7.67,
                    4.38,
                    8.26,
                    11.62,
                    0.73,
                    4.49,
                    1.14,
                    0.18,
                    10.44,
                    2.61,
                    12.92,
                    4.77,
                    2.33,
                    2.48,
                    5.88,
                    0.65,
                    0.22,
                    0.34,
                    6.71,
                    6.42,
                    7.99,
                    4.75,
                    9.07,
                    3.26,
                    0.55,
                    7.15,
                    0.28,
                    0.92,
                    8.11,
                    5.34,
                    8.54,
                    5.53,
                    4.51,
                    2.09,
                    0.4,
                    5.65,
                    0.44,
                    1.28,
                    6.89,
                    7.11,
                    7.39,
                    5.46,
                    8.94,
                    3.22,
                    1.45,
                    3.44,
                    2.28,
                    2.91,
                    9.1,
                    10.95,
                    6.45,
                    10.62,
                    11.26,
                    3.06,
                    1.82,
                    2.45,
                    0.91,
                    0.89,
                    10.32,
                    5.24,
                    11.34,
                    5.81,
                    4.75,
                    4.17,
                    3.77,
                    2.86,
                    0.2,
                    0.48,
                    5.15,
                    7.68,
                    6.59,
                    7.59,
                    6.71,
                    2.6,
                    5.81,
                    4.07,
                    1.61,
                    0.15,
                    9.03,
                    8.9,
                    8.83,
                    13.37,
                    7.65,
                    4.71,
                    1.65,
                    2.47,
                    1.3,
                    0.29,
                    5.77,
                    5.31,
                    7.71,
                    2.8,
                    5.82,
                    1.77,
                    6.06,
                    7.76,
                    0.2,
                    2.33,
                    2.45,
                    1.75,
                    3.65,
                    2.74,
                    2.1,
                    1.15,
                    4.7,
                    0.35,
                    1.45,
                    0.01,
                    8.6,
                    8.59,
                    9.14,
                    9.69,
                    7.42,
                    6.6,
                    1.06,
                    1.57,
                    0.64,
                    0.79,
                    7.56,
                    7.37,
                    8.59,
                    7.16,
                    7.65,
                    4.2,
                    2.22,
                    2.65,
                    0.93,
                    0.96,
                    11.16,
                    14.28,
                    10.61,
                    17.72,
                    12.27,
                    1.7,
                    0.53,
                    4.96,
                    1.17,
                    0.76,
                    9.26,
                    4.02,
                    8,
                    7.09,
                    3.77,
                    1.91,
                    4.61,
                    1.31,
                    1.01,
                    1.66,
                    3.7,
                    1.2,
                    5.45,
                    1.21,
                    1.56,
                    2.1,
                    3.17,
                    4.91,
                    1.39,
                    0.4,
                    7.05,
                    5.68,
                    5.09,
                    9.76,
                    4.67,
                    2.41,
                    4.49,
                    2.02,
                    1.41,
                    0.41,
                    1.39,
                    1.01,
                    1.74,
                    1.32,
                    1.27,
                    3.62,
                    0.65,
                    4.55,
                    0.74,
                    0.01,
                    7.17,
                    4.26,
                    7.19,
                    5.48,
                    3.53,
                    2.06,
                    4.87,
                    6.26,
                    1.4,
                    0.02,
                    6.61,
                    2.56,
                    5.99,
                    3.99,
                    3.44,
                    3.75,
                    1.79,
                    1.49,
                    1.06,
                    0,
                    1.7,
                    1.43,
                    1.83,
                    1.13,
                    1.54,
                    9.24,
                    6.16,
                    5.42,
                    1.88,
                    0.61,
                    1.24,
                    0.04,
                    2.17,
                    0.08,
                    0.01,
                    2.68,
                    1.81,
                    1.3,
                    0.84,
                    0.16,
                    12.97,
                    4.78,
                    13.22,
                    7.46,
                    3.18,
                    1.76,
                    0.78,
                    3.87,
                    1.47,
                    0.04,
                    6.92,
                    3.99,
                    6.34,
                    2.87,
                    3.01,
                    2.56,
                    1.24,
                    2.96,
                    0.64,
                    0.08,
                    3.02,
                    1.05,
                    3,
                    0.98,
                    0.96,
                    2.5,
                    3.8,
                    5.04,
                    2.92,
                    0.4,
                    2.87,
                    1.98,
                    3.81,
                    1.24,
                    2.61,
                    3.74,
                    1.12,
                    2.81,
                    0.53,
                    1.24,
                    3.24,
                    1.63,
                    4.05,
                    0.86,
                    1.91,
                    3.64,
                    3.06,
                    4.19,
                    0.81,
                    0.18,
                    5.08,
                    2.72,
                    5.86,
                    4.85,
                    1.36,
                    0.13,
                    3.16,
                    1.87,
                    0.53,
                    0,
                    9.06,
                    3.05,
                    8.25,
                    3.7,
                    2.94,
                    4.29,
                    5.46,
                    5.02,
                    0.75,
                    3.04,
                    1.75,
                    1.22,
                    1.73,
                    1.78,
                    1.75,
                    5.4,
                    3.08,
                    1.46,
                    0.91,
                    0,
                    5.18,
                    7.03,
                    4.46,
                    6.2,
                    7.26,
                    4.41,
                    4.93,
                    3.14,
                    1.4,
                    0,
                    13.1,
                    1.96,
                    10.98,
                    2.21,
                    1.62,
                    7.33,
                    2.03,
                    4.87,
                    0.36,
                    0.4,
                    4.28,
                    2.39,
                    5.25,
                    3.03,
                    1.59,
                    3.21,
                    1.83,
                    4.5,
                    2.17,
                    0.75,
                    3.54,
                    0.71,
                    2.89,
                    1.08,
                    1.11,
                    1.94,
                    0.35,
                    0.95,
                    0.58,
                    0.01,
                    3.09,
                    1.24,
                    3.2,
                    2.22,
                    0.91,
                    1.66,
                    4.17,
                    3.01,
                    1.82,
                    1.43,
                    0.77,
                    1.28,
                    1.34,
                    1.55,
                    1.5,
                    6.96,
                    0.89,
                    4.11,
                    0.69,
                    0.03,
                    3.01,
                    2.12,
                    1.24,
                    1.09,
                    1.65,
                    3.02,
                    1.66,
                    3.94,
                    0.63,
                    0,
                    1.66,
                    2.09,
                    1.43,
                    2.12,
                    2.38,
                    4.58,
                    1.02,
                    2.08,
                    0.58,
                    0.94,
                    1.52,
                    0.16,
                    1.07,
                    0.64,
                    0.22,
                    1.33,
                    0.08,
                    2.35,
                    0.11,
                    0.67,
                    0.64,
                    0.84,
                    0.69,
                    0.78,
                    0.68,
                    2.46,
                    1.23,
                    1.82,
                    0.38,
                    0.02,
                    3.28,
                    2.19,
                    3.67,
                    1.03,
                    2.78,
                    5.97,
                    0.58,
                    0.87,
                    0.13,
                    0.08,
                    1.74,
                    1.75,
                    2.27,
                    1.46,
                    1.78,
                    3.9,
                    1.7,
                    5.71,
                    0.8,
                    0.82,
                    1.64,
                    1.05,
                    1.66,
                    0.73,
                    1.19,
                    3.58,
                    0.18,
                    7.08,
                    1.15,
                    0.08,
                    0.55,
                    0.2,
                    0.7,
                    0.16,
                    0.24,
                    1.4,
                    0.79,
                    0.88,
                    0.5,
                    2.33,
                    6.25,
                    1.63,
                    6.91,
                    1.7,
                    1.46,
                    2.55,
                    0.56,
                    2.47,
                    0.24,
                    0,
                    2.34,
                    5.56,
                    2.21,
                    6.13,
                    4.49,
                    3.85,
                    0.98,
                    1.78,
                    0.56,
                    0.36,
                    4.53,
                    2.33,
                    4.59,
                    2.27,
                    1.25,
                    8.65,
                    4.1,
                    3.85,
                    0.62,
                    0.77,
                    0.73,
                    0.07,
                    0.6,
                    0.16,
                    0.02,
                    2.94,
                    1.69,
                    1.34,
                    0.57,
                    0,
                    4.87,
                    0.36,
                    2.54,
                    0.73,
                    0.58,
                    1.12,
                    0.29,
                    4.46,
                    0.5,
                    0.3,
                    2.05,
                    1.22,
                    1.53,
                    1.85,
                    1.02,
                    7.56,
                    1.36,
                    5.87,
                    0.9,
                    2.95,
                    2.92,
                    1.23,
                    1.4,
                    1.47,
                    0.97,
                    3.02,
                    1.55,
                    2.95,
                    1.08,
                    0.04,
                    9.13,
                    5.95,
                    8.81,
                    4.28,
                    6.58,
                    3.33,
                    0.88,
                    3.25,
                    0.11,
                    0,
                    5.73,
                    3.67,
                    4.55,
                    3.7,
                    3.18,
                    1.39,
                    0.91,
                    1.9,
                    0.3,
                    0.28,
                    6.01,
                    4.99,
                    4.77,
                    4.82,
                    4.54,
                    4.91,
                    1.91,
                    2.05,
                    0.86,
                    0.29,
                    8.81,
                    2.27,
                    9.74,
                    5.36,
                    1.7,
                    1.62,
                    0.09,
                    1.13,
                    0.45,
                    2.18,
                    1.07,
                    1.89,
                    0.3,
                    1.7,
                    1.58,
                    4.55,
                    0.4,
                    3.47,
                    0.19,
                    0,
                    1.02,
                    1.53,
                    1.19,
                    1.93,
                    1.84,
                    4.21,
                    0.96,
                    1.92,
                    0.53,
                    0.27,
                    2.95,
                    2.66,
                    2.31,
                    3.8,
                    2.69,
                    2.22,
                    1.79,
                    3.26,
                    0.45,
                    2.21,
                    1.21,
                    1.17,
                    1.17,
                    1.3,
                    1.45,
                    4.8,
                    1.28,
                    5.02,
                    0.74,
                    1.68,
                    0.76,
                    1.27,
                    0.58,
                    0.83,
                    1.3,
                    4.74,
                    1.13,
                    4.5,
                    0.37,
                    0.8,
                    4.77,
                    3.33,
                    3.63,
                    4.69,
                    3.47,
                    9.06,
                    1.79,
                    2.89,
                    0.64,
                    1.2,
                    1.01,
                    0.72,
                    1.04,
                    0.63,
                    0.53,
                    2.26,
                    2.5,
                    1.87,
                    0.97,
                    1.35,
                    1.33,
                    0.38,
                    0.69,
                    0.72,
                    0.38,
                    4.95,
                    0.68,
                    5.62,
                    0.61,
                    1.18,
                    1.08,
                    2.27,
                    0.83,
                    1.54,
                    2.21,
                    6.27,
                    1.42,
                    4.46,
                    0.28,
                    0.4,
                    2.19,
                    0.9,
                    2.56,
                    0.64,
                    0.81,
                    8.45,
                    1.33,
                    4.46,
                    0.78,
                    1.27,
                    1.87,
                    1.41,
                    1.22,
                    1.79,
                    1.39,
                    5.01,
                    0.93,
                    3.5,
                    1.07,
                    0.31,
                    7.1,
                    0.81,
                    7.5,
                    0.61,
                    0.53,
                    11.52,
                    1.96,
                    5.08,
                    0.61,
                    1.72,
                    2.88,
                    0.49,
                    2.1,
                    1.05,
                    0.34,
                    3.49,
                    1.67,
                    3.12,
                    0.87,
                    0.14,
                    0.9,
                    0.89,
                    0.7,
                    0.5,
                    0.75,
                    3.47,
                    0.59,
                    2.04,
                    0.71,
                    0.32,
                    1.43,
                    7.87,
                    1.4,
                    5.92,
                    8.3,
                    11.95,
                    1.38,
                    4.95,
                    0.51,
                    1.47,
                    6.35,
                    3.58,
                    4.58,
                    4.69,
                    4.43,
                    5.58,
                    1.63,
                    3.46,
                    0.51,
                    0.44,
                    1.91,
                    2.51,
                    1.8,
                    0.99,
                    2.92,
                    2.91,
                    0.54,
                    1.85,
                    0.62,
                    2.18,
                    1.41,
                    0.89,
                    0.96,
                    2.12,
                    0.86,
                    5.64,
                    1.41,
                    3.74,
                    0.41,
                    1.7,
                    2.1,
                    2.27,
                    1.6,
                    1.33,
                    2.49,
                    4.81,
                    1.82,
                    2.39,
                    0.66,
                    1.15,
                    3.85,
                    3.63,
                    3.98,
                    4.3,
                    3.62,
                    3.95,
                    2.31,
                    2.09,
                    0.14
                  ]
                }
              ],
              "layout": {
                "legend": {
                  "title": {
                    "text": "County Name"
                  },
                  "tracegroupgap": 0
                },
                "template": {
                  "data": {
                    "bar": [
                      {
                        "error_x": {
                          "color": "#2a3f5f"
                        },
                        "error_y": {
                          "color": "#2a3f5f"
                        },
                        "marker": {
                          "line": {
                            "color": "#E5ECF6",
                            "width": 0.5
                          },
                          "pattern": {
                            "fillmode": "overlay",
                            "size": 10,
                            "solidity": 0.2
                          }
                        },
                        "type": "bar"
                      }
                    ],
                    "barpolar": [
                      {
                        "marker": {
                          "line": {
                            "color": "#E5ECF6",
                            "width": 0.5
                          },
                          "pattern": {
                            "fillmode": "overlay",
                            "size": 10,
                            "solidity": 0.2
                          }
                        },
                        "type": "barpolar"
                      }
                    ],
                    "carpet": [
                      {
                        "aaxis": {
                          "endlinecolor": "#2a3f5f",
                          "gridcolor": "white",
                          "linecolor": "white",
                          "minorgridcolor": "white",
                          "startlinecolor": "#2a3f5f"
                        },
                        "baxis": {
                          "endlinecolor": "#2a3f5f",
                          "gridcolor": "white",
                          "linecolor": "white",
                          "minorgridcolor": "white",
                          "startlinecolor": "#2a3f5f"
                        },
                        "type": "carpet"
                      }
                    ],
                    "choropleth": [
                      {
                        "colorbar": {
                          "outlinewidth": 0,
                          "ticks": ""
                        },
                        "type": "choropleth"
                      }
                    ],
                    "contour": [
                      {
                        "colorbar": {
                          "outlinewidth": 0,
                          "ticks": ""
                        },
                        "colorscale": [
                          [
                            0,
                            "#0d0887"
                          ],
                          [
                            0.1111111111111111,
                            "#46039f"
                          ],
                          [
                            0.2222222222222222,
                            "#7201a8"
                          ],
                          [
                            0.3333333333333333,
                            "#9c179e"
                          ],
                          [
                            0.4444444444444444,
                            "#bd3786"
                          ],
                          [
                            0.5555555555555556,
                            "#d8576b"
                          ],
                          [
                            0.6666666666666666,
                            "#ed7953"
                          ],
                          [
                            0.7777777777777778,
                            "#fb9f3a"
                          ],
                          [
                            0.8888888888888888,
                            "#fdca26"
                          ],
                          [
                            1,
                            "#f0f921"
                          ]
                        ],
                        "type": "contour"
                      }
                    ],
                    "contourcarpet": [
                      {
                        "colorbar": {
                          "outlinewidth": 0,
                          "ticks": ""
                        },
                        "type": "contourcarpet"
                      }
                    ],
                    "heatmap": [
                      {
                        "colorbar": {
                          "outlinewidth": 0,
                          "ticks": ""
                        },
                        "colorscale": [
                          [
                            0,
                            "#0d0887"
                          ],
                          [
                            0.1111111111111111,
                            "#46039f"
                          ],
                          [
                            0.2222222222222222,
                            "#7201a8"
                          ],
                          [
                            0.3333333333333333,
                            "#9c179e"
                          ],
                          [
                            0.4444444444444444,
                            "#bd3786"
                          ],
                          [
                            0.5555555555555556,
                            "#d8576b"
                          ],
                          [
                            0.6666666666666666,
                            "#ed7953"
                          ],
                          [
                            0.7777777777777778,
                            "#fb9f3a"
                          ],
                          [
                            0.8888888888888888,
                            "#fdca26"
                          ],
                          [
                            1,
                            "#f0f921"
                          ]
                        ],
                        "type": "heatmap"
                      }
                    ],
                    "heatmapgl": [
                      {
                        "colorbar": {
                          "outlinewidth": 0,
                          "ticks": ""
                        },
                        "colorscale": [
                          [
                            0,
                            "#0d0887"
                          ],
                          [
                            0.1111111111111111,
                            "#46039f"
                          ],
                          [
                            0.2222222222222222,
                            "#7201a8"
                          ],
                          [
                            0.3333333333333333,
                            "#9c179e"
                          ],
                          [
                            0.4444444444444444,
                            "#bd3786"
                          ],
                          [
                            0.5555555555555556,
                            "#d8576b"
                          ],
                          [
                            0.6666666666666666,
                            "#ed7953"
                          ],
                          [
                            0.7777777777777778,
                            "#fb9f3a"
                          ],
                          [
                            0.8888888888888888,
                            "#fdca26"
                          ],
                          [
                            1,
                            "#f0f921"
                          ]
                        ],
                        "type": "heatmapgl"
                      }
                    ],
                    "histogram": [
                      {
                        "marker": {
                          "pattern": {
                            "fillmode": "overlay",
                            "size": 10,
                            "solidity": 0.2
                          }
                        },
                        "type": "histogram"
                      }
                    ],
                    "histogram2d": [
                      {
                        "colorbar": {
                          "outlinewidth": 0,
                          "ticks": ""
                        },
                        "colorscale": [
                          [
                            0,
                            "#0d0887"
                          ],
                          [
                            0.1111111111111111,
                            "#46039f"
                          ],
                          [
                            0.2222222222222222,
                            "#7201a8"
                          ],
                          [
                            0.3333333333333333,
                            "#9c179e"
                          ],
                          [
                            0.4444444444444444,
                            "#bd3786"
                          ],
                          [
                            0.5555555555555556,
                            "#d8576b"
                          ],
                          [
                            0.6666666666666666,
                            "#ed7953"
                          ],
                          [
                            0.7777777777777778,
                            "#fb9f3a"
                          ],
                          [
                            0.8888888888888888,
                            "#fdca26"
                          ],
                          [
                            1,
                            "#f0f921"
                          ]
                        ],
                        "type": "histogram2d"
                      }
                    ],
                    "histogram2dcontour": [
                      {
                        "colorbar": {
                          "outlinewidth": 0,
                          "ticks": ""
                        },
                        "colorscale": [
                          [
                            0,
                            "#0d0887"
                          ],
                          [
                            0.1111111111111111,
                            "#46039f"
                          ],
                          [
                            0.2222222222222222,
                            "#7201a8"
                          ],
                          [
                            0.3333333333333333,
                            "#9c179e"
                          ],
                          [
                            0.4444444444444444,
                            "#bd3786"
                          ],
                          [
                            0.5555555555555556,
                            "#d8576b"
                          ],
                          [
                            0.6666666666666666,
                            "#ed7953"
                          ],
                          [
                            0.7777777777777778,
                            "#fb9f3a"
                          ],
                          [
                            0.8888888888888888,
                            "#fdca26"
                          ],
                          [
                            1,
                            "#f0f921"
                          ]
                        ],
                        "type": "histogram2dcontour"
                      }
                    ],
                    "mesh3d": [
                      {
                        "colorbar": {
                          "outlinewidth": 0,
                          "ticks": ""
                        },
                        "type": "mesh3d"
                      }
                    ],
                    "parcoords": [
                      {
                        "line": {
                          "colorbar": {
                            "outlinewidth": 0,
                            "ticks": ""
                          }
                        },
                        "type": "parcoords"
                      }
                    ],
                    "pie": [
                      {
                        "automargin": true,
                        "type": "pie"
                      }
                    ],
                    "scatter": [
                      {
                        "fillpattern": {
                          "fillmode": "overlay",
                          "size": 10,
                          "solidity": 0.2
                        },
                        "type": "scatter"
                      }
                    ],
                    "scatter3d": [
                      {
                        "line": {
                          "colorbar": {
                            "outlinewidth": 0,
                            "ticks": ""
                          }
                        },
                        "marker": {
                          "colorbar": {
                            "outlinewidth": 0,
                            "ticks": ""
                          }
                        },
                        "type": "scatter3d"
                      }
                    ],
                    "scattercarpet": [
                      {
                        "marker": {
                          "colorbar": {
                            "outlinewidth": 0,
                            "ticks": ""
                          }
                        },
                        "type": "scattercarpet"
                      }
                    ],
                    "scattergeo": [
                      {
                        "marker": {
                          "colorbar": {
                            "outlinewidth": 0,
                            "ticks": ""
                          }
                        },
                        "type": "scattergeo"
                      }
                    ],
                    "scattergl": [
                      {
                        "marker": {
                          "colorbar": {
                            "outlinewidth": 0,
                            "ticks": ""
                          }
                        },
                        "type": "scattergl"
                      }
                    ],
                    "scattermapbox": [
                      {
                        "marker": {
                          "colorbar": {
                            "outlinewidth": 0,
                            "ticks": ""
                          }
                        },
                        "type": "scattermapbox"
                      }
                    ],
                    "scatterpolar": [
                      {
                        "marker": {
                          "colorbar": {
                            "outlinewidth": 0,
                            "ticks": ""
                          }
                        },
                        "type": "scatterpolar"
                      }
                    ],
                    "scatterpolargl": [
                      {
                        "marker": {
                          "colorbar": {
                            "outlinewidth": 0,
                            "ticks": ""
                          }
                        },
                        "type": "scatterpolargl"
                      }
                    ],
                    "scatterternary": [
                      {
                        "marker": {
                          "colorbar": {
                            "outlinewidth": 0,
                            "ticks": ""
                          }
                        },
                        "type": "scatterternary"
                      }
                    ],
                    "surface": [
                      {
                        "colorbar": {
                          "outlinewidth": 0,
                          "ticks": ""
                        },
                        "colorscale": [
                          [
                            0,
                            "#0d0887"
                          ],
                          [
                            0.1111111111111111,
                            "#46039f"
                          ],
                          [
                            0.2222222222222222,
                            "#7201a8"
                          ],
                          [
                            0.3333333333333333,
                            "#9c179e"
                          ],
                          [
                            0.4444444444444444,
                            "#bd3786"
                          ],
                          [
                            0.5555555555555556,
                            "#d8576b"
                          ],
                          [
                            0.6666666666666666,
                            "#ed7953"
                          ],
                          [
                            0.7777777777777778,
                            "#fb9f3a"
                          ],
                          [
                            0.8888888888888888,
                            "#fdca26"
                          ],
                          [
                            1,
                            "#f0f921"
                          ]
                        ],
                        "type": "surface"
                      }
                    ],
                    "table": [
                      {
                        "cells": {
                          "fill": {
                            "color": "#EBF0F8"
                          },
                          "line": {
                            "color": "white"
                          }
                        },
                        "header": {
                          "fill": {
                            "color": "#C8D4E3"
                          },
                          "line": {
                            "color": "white"
                          }
                        },
                        "type": "table"
                      }
                    ]
                  },
                  "layout": {
                    "annotationdefaults": {
                      "arrowcolor": "#2a3f5f",
                      "arrowhead": 0,
                      "arrowwidth": 1
                    },
                    "autotypenumbers": "strict",
                    "coloraxis": {
                      "colorbar": {
                        "outlinewidth": 0,
                        "ticks": ""
                      }
                    },
                    "colorscale": {
                      "diverging": [
                        [
                          0,
                          "#8e0152"
                        ],
                        [
                          0.1,
                          "#c51b7d"
                        ],
                        [
                          0.2,
                          "#de77ae"
                        ],
                        [
                          0.3,
                          "#f1b6da"
                        ],
                        [
                          0.4,
                          "#fde0ef"
                        ],
                        [
                          0.5,
                          "#f7f7f7"
                        ],
                        [
                          0.6,
                          "#e6f5d0"
                        ],
                        [
                          0.7,
                          "#b8e186"
                        ],
                        [
                          0.8,
                          "#7fbc41"
                        ],
                        [
                          0.9,
                          "#4d9221"
                        ],
                        [
                          1,
                          "#276419"
                        ]
                      ],
                      "sequential": [
                        [
                          0,
                          "#0d0887"
                        ],
                        [
                          0.1111111111111111,
                          "#46039f"
                        ],
                        [
                          0.2222222222222222,
                          "#7201a8"
                        ],
                        [
                          0.3333333333333333,
                          "#9c179e"
                        ],
                        [
                          0.4444444444444444,
                          "#bd3786"
                        ],
                        [
                          0.5555555555555556,
                          "#d8576b"
                        ],
                        [
                          0.6666666666666666,
                          "#ed7953"
                        ],
                        [
                          0.7777777777777778,
                          "#fb9f3a"
                        ],
                        [
                          0.8888888888888888,
                          "#fdca26"
                        ],
                        [
                          1,
                          "#f0f921"
                        ]
                      ],
                      "sequentialminus": [
                        [
                          0,
                          "#0d0887"
                        ],
                        [
                          0.1111111111111111,
                          "#46039f"
                        ],
                        [
                          0.2222222222222222,
                          "#7201a8"
                        ],
                        [
                          0.3333333333333333,
                          "#9c179e"
                        ],
                        [
                          0.4444444444444444,
                          "#bd3786"
                        ],
                        [
                          0.5555555555555556,
                          "#d8576b"
                        ],
                        [
                          0.6666666666666666,
                          "#ed7953"
                        ],
                        [
                          0.7777777777777778,
                          "#fb9f3a"
                        ],
                        [
                          0.8888888888888888,
                          "#fdca26"
                        ],
                        [
                          1,
                          "#f0f921"
                        ]
                      ]
                    },
                    "colorway": [
                      "#636efa",
                      "#EF553B",
                      "#00cc96",
                      "#ab63fa",
                      "#FFA15A",
                      "#19d3f3",
                      "#FF6692",
                      "#B6E880",
                      "#FF97FF",
                      "#FECB52"
                    ],
                    "font": {
                      "color": "#2a3f5f"
                    },
                    "geo": {
                      "bgcolor": "white",
                      "lakecolor": "white",
                      "landcolor": "#E5ECF6",
                      "showlakes": true,
                      "showland": true,
                      "subunitcolor": "white"
                    },
                    "hoverlabel": {
                      "align": "left"
                    },
                    "hovermode": "closest",
                    "mapbox": {
                      "style": "light"
                    },
                    "paper_bgcolor": "white",
                    "plot_bgcolor": "#E5ECF6",
                    "polar": {
                      "angularaxis": {
                        "gridcolor": "white",
                        "linecolor": "white",
                        "ticks": ""
                      },
                      "bgcolor": "#E5ECF6",
                      "radialaxis": {
                        "gridcolor": "white",
                        "linecolor": "white",
                        "ticks": ""
                      }
                    },
                    "scene": {
                      "xaxis": {
                        "backgroundcolor": "#E5ECF6",
                        "gridcolor": "white",
                        "gridwidth": 2,
                        "linecolor": "white",
                        "showbackground": true,
                        "ticks": "",
                        "zerolinecolor": "white"
                      },
                      "yaxis": {
                        "backgroundcolor": "#E5ECF6",
                        "gridcolor": "white",
                        "gridwidth": 2,
                        "linecolor": "white",
                        "showbackground": true,
                        "ticks": "",
                        "zerolinecolor": "white"
                      },
                      "zaxis": {
                        "backgroundcolor": "#E5ECF6",
                        "gridcolor": "white",
                        "gridwidth": 2,
                        "linecolor": "white",
                        "showbackground": true,
                        "ticks": "",
                        "zerolinecolor": "white"
                      }
                    },
                    "shapedefaults": {
                      "line": {
                        "color": "#2a3f5f"
                      }
                    },
                    "ternary": {
                      "aaxis": {
                        "gridcolor": "white",
                        "linecolor": "white",
                        "ticks": ""
                      },
                      "baxis": {
                        "gridcolor": "white",
                        "linecolor": "white",
                        "ticks": ""
                      },
                      "bgcolor": "#E5ECF6",
                      "caxis": {
                        "gridcolor": "white",
                        "linecolor": "white",
                        "ticks": ""
                      }
                    },
                    "title": {
                      "x": 0.05
                    },
                    "xaxis": {
                      "automargin": true,
                      "gridcolor": "white",
                      "linecolor": "white",
                      "ticks": "",
                      "title": {
                        "standoff": 15
                      },
                      "zerolinecolor": "white",
                      "zerolinewidth": 2
                    },
                    "yaxis": {
                      "automargin": true,
                      "gridcolor": "white",
                      "linecolor": "white",
                      "ticks": "",
                      "title": {
                        "standoff": 15
                      },
                      "zerolinecolor": "white",
                      "zerolinewidth": 2
                    }
                  }
                },
                "title": {
                  "text": "Monthly Temperature and Precipitation by County"
                },
                "xaxis": {
                  "anchor": "y",
                  "domain": [
                    0,
                    1
                  ],
                  "title": {
                    "text": "Month"
                  }
                },
                "yaxis": {
                  "anchor": "x",
                  "domain": [
                    0,
                    1
                  ],
                  "title": {
                    "text": "Temperature"
                  }
                },
                "yaxis2": {
                  "overlaying": "y",
                  "side": "right",
                  "title": {
                    "text": "Precipitation"
                  }
                }
              }
            }
          },
          "metadata": {},
          "output_type": "display_data"
        }
      ],
      "source": [
        "# Create the figure\n",
        "fig = px.line(monthly_averages, \n",
        "            x='month', \n",
        "            y='temp', \n",
        "            color='County_Name', \n",
        "            markers=True, \n",
        "            title='Monthly Temperature and Precipitation by County',\n",
        "            labels={'temp': 'Temperature', 'month': 'Month'},\n",
        "            line_shape='linear')\n",
        "\n",
        "# Add precipitation as a second y-axis\n",
        "fig.add_scatter(x=monthly_averages['month'], \n",
        "             y=monthly_averages['percip'], \n",
        "            mode='lines+markers', \n",
        "            name='Precipitation',\n",
        "                 line=dict(dash='dash'))\n",
        "\n",
        "# Update layout for dual axes\n",
        "fig.update_layout(\n",
        "    yaxis_title='Temperature',\n",
        "    yaxis2=dict(title='Precipitation', overlaying='y', side='right'),\n",
        "    xaxis_title='Month',\n",
        "    legend_title='County Name',\n",
        ")\n",
        "\n",
        "# Show the plot\n",
        "fig.show()"
      ]
    },
    {
      "cell_type": "code",
      "execution_count": null,
      "metadata": {},
      "outputs": [],
      "source": []
    },
    {
      "cell_type": "markdown",
      "metadata": {
        "id": "HsX6LR4g66Jf"
      },
      "source": []
    },
    {
      "cell_type": "code",
      "execution_count": 222,
      "metadata": {
        "colab": {
          "base_uri": "https://localhost:8080/",
          "height": 456
        },
        "id": "Jq4nhoT5BDCP",
        "outputId": "83e739c0-8338-4e61-f8f1-68e22caa1b31"
      },
      "outputs": [
        {
          "data": {
            "text/html": [
              "<div>\n",
              "<style scoped>\n",
              "    .dataframe tbody tr th:only-of-type {\n",
              "        vertical-align: middle;\n",
              "    }\n",
              "\n",
              "    .dataframe tbody tr th {\n",
              "        vertical-align: top;\n",
              "    }\n",
              "\n",
              "    .dataframe thead th {\n",
              "        text-align: right;\n",
              "    }\n",
              "</style>\n",
              "<table border=\"1\" class=\"dataframe\">\n",
              "  <thead>\n",
              "    <tr style=\"text-align: right;\">\n",
              "      <th></th>\n",
              "      <th>temp</th>\n",
              "    </tr>\n",
              "    <tr>\n",
              "      <th>month</th>\n",
              "      <th></th>\n",
              "    </tr>\n",
              "  </thead>\n",
              "  <tbody>\n",
              "    <tr>\n",
              "      <th>Apr</th>\n",
              "      <td>63.9790</td>\n",
              "    </tr>\n",
              "    <tr>\n",
              "      <th>Aug</th>\n",
              "      <td>79.9610</td>\n",
              "    </tr>\n",
              "    <tr>\n",
              "      <th>Dec</th>\n",
              "      <td>51.2880</td>\n",
              "    </tr>\n",
              "    <tr>\n",
              "      <th>Feb</th>\n",
              "      <td>50.9125</td>\n",
              "    </tr>\n",
              "    <tr>\n",
              "      <th>Jan</th>\n",
              "      <td>48.3145</td>\n",
              "    </tr>\n",
              "    <tr>\n",
              "      <th>Jul</th>\n",
              "      <td>80.6195</td>\n",
              "    </tr>\n",
              "    <tr>\n",
              "      <th>Jun</th>\n",
              "      <td>77.7060</td>\n",
              "    </tr>\n",
              "    <tr>\n",
              "      <th>Mar</th>\n",
              "      <td>57.4745</td>\n",
              "    </tr>\n",
              "    <tr>\n",
              "      <th>May</th>\n",
              "      <td>71.0050</td>\n",
              "    </tr>\n",
              "    <tr>\n",
              "      <th>Nov</th>\n",
              "      <td>57.9235</td>\n",
              "    </tr>\n",
              "    <tr>\n",
              "      <th>Oct</th>\n",
              "      <td>67.1865</td>\n",
              "    </tr>\n",
              "    <tr>\n",
              "      <th>Sep</th>\n",
              "      <td>75.8235</td>\n",
              "    </tr>\n",
              "  </tbody>\n",
              "</table>\n",
              "</div>"
            ],
            "text/plain": [
              "          temp\n",
              "month         \n",
              "Apr    63.9790\n",
              "Aug    79.9610\n",
              "Dec    51.2880\n",
              "Feb    50.9125\n",
              "Jan    48.3145\n",
              "Jul    80.6195\n",
              "Jun    77.7060\n",
              "Mar    57.4745\n",
              "May    71.0050\n",
              "Nov    57.9235\n",
              "Oct    67.1865\n",
              "Sep    75.8235"
            ]
          },
          "execution_count": 222,
          "metadata": {},
          "output_type": "execute_result"
        }
      ],
      "source": [
        "\n",
        "# Maybe contrast this wallethub (financially best ) with some other list of where people actually moved\n",
        "#and look at the temperature differences between the 2 as welll as the \"desired\"\n",
        "# Weight the scores based off of temp and precip 60/40\n",
        "top10_wallet[['month','temp']].groupby('month').mean()"
      ]
    },
    {
      "cell_type": "code",
      "execution_count": 223,
      "metadata": {
        "colab": {
          "base_uri": "https://localhost:8080/",
          "height": 456
        },
        "id": "GHNSgp8bCcWK",
        "outputId": "da4e42a6-37b4-4160-d564-ceab5c2cecdc"
      },
      "outputs": [
        {
          "data": {
            "text/html": [
              "<div>\n",
              "<style scoped>\n",
              "    .dataframe tbody tr th:only-of-type {\n",
              "        vertical-align: middle;\n",
              "    }\n",
              "\n",
              "    .dataframe tbody tr th {\n",
              "        vertical-align: top;\n",
              "    }\n",
              "\n",
              "    .dataframe thead th {\n",
              "        text-align: right;\n",
              "    }\n",
              "</style>\n",
              "<table border=\"1\" class=\"dataframe\">\n",
              "  <thead>\n",
              "    <tr style=\"text-align: right;\">\n",
              "      <th></th>\n",
              "      <th>percip</th>\n",
              "    </tr>\n",
              "    <tr>\n",
              "      <th>month</th>\n",
              "      <th></th>\n",
              "    </tr>\n",
              "  </thead>\n",
              "  <tbody>\n",
              "    <tr>\n",
              "      <th>Apr</th>\n",
              "      <td>2.83375</td>\n",
              "    </tr>\n",
              "    <tr>\n",
              "      <th>Aug</th>\n",
              "      <td>5.73500</td>\n",
              "    </tr>\n",
              "    <tr>\n",
              "      <th>Dec</th>\n",
              "      <td>2.25730</td>\n",
              "    </tr>\n",
              "    <tr>\n",
              "      <th>Feb</th>\n",
              "      <td>2.13320</td>\n",
              "    </tr>\n",
              "    <tr>\n",
              "      <th>Jan</th>\n",
              "      <td>2.10445</td>\n",
              "    </tr>\n",
              "    <tr>\n",
              "      <th>Jul</th>\n",
              "      <td>5.43905</td>\n",
              "    </tr>\n",
              "    <tr>\n",
              "      <th>Jun</th>\n",
              "      <td>5.52775</td>\n",
              "    </tr>\n",
              "    <tr>\n",
              "      <th>Mar</th>\n",
              "      <td>2.29705</td>\n",
              "    </tr>\n",
              "    <tr>\n",
              "      <th>May</th>\n",
              "      <td>3.61730</td>\n",
              "    </tr>\n",
              "    <tr>\n",
              "      <th>Nov</th>\n",
              "      <td>2.15065</td>\n",
              "    </tr>\n",
              "    <tr>\n",
              "      <th>Oct</th>\n",
              "      <td>2.96055</td>\n",
              "    </tr>\n",
              "    <tr>\n",
              "      <th>Sep</th>\n",
              "      <td>4.83190</td>\n",
              "    </tr>\n",
              "  </tbody>\n",
              "</table>\n",
              "</div>"
            ],
            "text/plain": [
              "        percip\n",
              "month         \n",
              "Apr    2.83375\n",
              "Aug    5.73500\n",
              "Dec    2.25730\n",
              "Feb    2.13320\n",
              "Jan    2.10445\n",
              "Jul    5.43905\n",
              "Jun    5.52775\n",
              "Mar    2.29705\n",
              "May    3.61730\n",
              "Nov    2.15065\n",
              "Oct    2.96055\n",
              "Sep    4.83190"
            ]
          },
          "execution_count": 223,
          "metadata": {},
          "output_type": "execute_result"
        }
      ],
      "source": [
        "top10_wallet[['month','percip']].groupby('month').mean()"
      ]
    },
    {
      "cell_type": "code",
      "execution_count": 224,
      "metadata": {},
      "outputs": [
        {
          "name": "stdout",
          "output_type": "stream",
          "text": [
            "      year   fips month  temp County_Name    State  percip  Rank\n",
            "0     2004   4013   Jan  53.9    Maricopa  Arizona    0.52     1\n",
            "1     2005   4013   Jan  54.3    Maricopa  Arizona    2.45     1\n",
            "2     2006   4013   Jan  54.0    Maricopa  Arizona    0.00     1\n",
            "3     2007   4013   Jan  49.8    Maricopa  Arizona    0.68     1\n",
            "4     2008   4013   Jan  51.1    Maricopa  Arizona    2.19     1\n",
            "...    ...    ...   ...   ...         ...      ...     ...   ...\n",
            "2155  2019  48085   Dec  48.3      Collin    Texas    1.34     7\n",
            "2156  2020  48085   Dec  47.3      Collin    Texas    3.09     7\n",
            "2157  2021  48085   Dec  59.7      Collin    Texas    0.93     7\n",
            "2158  2022  48085   Dec  48.4      Collin    Texas    2.53     7\n",
            "2159  2023  48085   Dec  50.1      Collin    Texas    3.41     7\n",
            "\n",
            "[2160 rows x 8 columns]\n"
          ]
        }
      ],
      "source": [
        "data = [\n",
        "    {\"Rank\": 1, \"County_Name\": \"Maricopa\", \"State\": \"Arizona\"},\n",
        "    {\"Rank\": 2, \"County_Name\": \"Clark\", \"State\": \"Nevada\"},\n",
        "    {\"Rank\": 3, \"County_Name\": \"Bexar\", \"State\": \"Texas\"},\n",
        "    {\"Rank\": 4, \"County_Name\": \"Ada\", \"State\": \"Idaho\"},\n",
        "    {\"Rank\": 6, \"County_Name\": \"New Hanover\", \"State\": \"North Carolina\"},\n",
        "    {\"Rank\": 7, \"County_Name\": \"Collin\", \"State\": \"Texas\"},\n",
        "    {\"Rank\": 8, \"County_Name\": \"Miami-Dade\", \"State\": \"Florida\"},\n",
        "    {\"Rank\": 9, \"County_Name\": \"Duval\", \"State\": \"Florida\"},\n",
        "    {\"Rank\": 10, \"County_Name\": \"Wake\", \"State\": \"North Carolina\"}\n",
        "]\n",
        "counties_df = pd.DataFrame(data)\n",
        "\n",
        "# Merge climate data with counties based on 'County_Name' and 'State'\n",
        "top10_migration= pd.merge(clim, counties_df, on=['County_Name', 'State'], how='inner')\n",
        "print(top10_migration)\n"
      ]
    },
    {
      "cell_type": "code",
      "execution_count": 225,
      "metadata": {},
      "outputs": [
        {
          "name": "stdout",
          "output_type": "stream",
          "text": [
            "      year   fips month  temp County_Name    State  percip  Rank\n",
            "0     2004   4013   Jan  53.9    Maricopa  Arizona    0.52     1\n",
            "1     2005   4013   Jan  54.3    Maricopa  Arizona    2.45     1\n",
            "2     2006   4013   Jan  54.0    Maricopa  Arizona    0.00     1\n",
            "3     2007   4013   Jan  49.8    Maricopa  Arizona    0.68     1\n",
            "4     2008   4013   Jan  51.1    Maricopa  Arizona    2.19     1\n",
            "...    ...    ...   ...   ...         ...      ...     ...   ...\n",
            "2155  2019  48085   Dec  48.3      Collin    Texas    1.34     7\n",
            "2156  2020  48085   Dec  47.3      Collin    Texas    3.09     7\n",
            "2157  2021  48085   Dec  59.7      Collin    Texas    0.93     7\n",
            "2158  2022  48085   Dec  48.4      Collin    Texas    2.53     7\n",
            "2159  2023  48085   Dec  50.1      Collin    Texas    3.41     7\n",
            "\n",
            "[2160 rows x 8 columns]\n"
          ]
        }
      ],
      "source": [
        "# Merge climate data with counties based on 'County_Name' and 'State'\n",
        "top10_migration= pd.merge(clim, counties_df, on=['County_Name', 'State'], how='inner')\n",
        "print(top10_migration)"
      ]
    },
    {
      "cell_type": "code",
      "execution_count": 226,
      "metadata": {},
      "outputs": [
        {
          "name": "stdout",
          "output_type": "stream",
          "text": [
            "      County_Name           State  temp  percip  desirability_month  Rank  \\\n",
            "0        Maricopa         Arizona  53.9    0.52            0.572690     1   \n",
            "1           Duval         Florida  53.2    1.15            0.832341     9   \n",
            "2      Miami-Dade         Florida  65.7    2.28            0.581629     8   \n",
            "3             Ada           Idaho  28.7    1.83            0.458249     4   \n",
            "4           Clark          Nevada  44.8    0.09            0.664816     2   \n",
            "...           ...             ...   ...     ...                 ...   ...   \n",
            "2155        Clark          Nevada  49.6    0.11            0.635413     2   \n",
            "2156  New Hanover  North Carolina  50.0    8.31            0.751042     6   \n",
            "2157         Wake  North Carolina  47.1    7.51            0.829264    10   \n",
            "2158        Bexar           Texas  56.8    0.93            0.653417     3   \n",
            "2159       Collin           Texas  50.1    3.41            0.832574     7   \n",
            "\n",
            "     month  year  desirability_year  \n",
            "0      Jan  2004           0.578157  \n",
            "1      Jan  2004           0.851135  \n",
            "2      Jan  2004           0.710619  \n",
            "3      Jan  2004           0.534912  \n",
            "4      Jan  2004           0.653147  \n",
            "...    ...   ...                ...  \n",
            "2155   Dec  2023           0.634073  \n",
            "2156   Dec  2023           0.773322  \n",
            "2157   Dec  2023           0.869248  \n",
            "2158   Dec  2023           0.649273  \n",
            "2159   Dec  2023           0.818781  \n",
            "\n",
            "[2160 rows x 9 columns]\n"
          ]
        }
      ],
      "source": [
        "import pandas as pd\n",
        "\n",
        "# Assuming top10_migration is your DataFrame containing the necessary columns\n",
        "\n",
        "# Create a new column for year-month\n",
        "top10_migration['year_month'] = top10_migration['year'].astype(str) + '-' + top10_migration['month']\n",
        "\n",
        "# Calculate overall averages for each month across all years\n",
        "overall_avg = top10_migration.groupby(['month', 'year']).agg({'temp': 'mean', 'percip': 'mean'}).reset_index()\n",
        "overall_avg.columns = ['month', 'year', 'overall_avg_temp', 'overall_avg_percip']\n",
        "\n",
        "# Merge overall averages with the monthly data\n",
        "monthly_averages = pd.merge(top10_migration, overall_avg, on=['month', 'year'])\n",
        "\n",
        "# Calculate absolute differences from overall averages\n",
        "monthly_averages['temp_diff'] = abs(monthly_averages['temp'] - monthly_averages['overall_avg_temp'])\n",
        "monthly_averages['percip_diff'] = abs(monthly_averages['percip'] - monthly_averages['overall_avg_percip'])\n",
        "\n",
        "# Weights for desirability components\n",
        "w_T = 0.5  # weight for temperature\n",
        "w_P = 0.2  # weight for precipitation\n",
        "w_r = 0.3  # weight for rank\n",
        "\n",
        "# Normalize the rank so that a lower rank yields a higher desirability contribution\n",
        "monthly_averages['rank_adjusted'] = monthly_averages['Rank'].max() - monthly_averages['Rank'] + 1\n",
        "\n",
        "# Define maximum possible differences for normalization\n",
        "max_temp_diff = monthly_averages['temp_diff'].max()\n",
        "max_percip_diff = monthly_averages['percip_diff'].max()\n",
        "\n",
        "# Calculate desirability score\n",
        "monthly_averages['desirability_month'] = (\n",
        "    (1 - (monthly_averages['temp_diff'] / max_temp_diff)) * w_T +  # Smaller temp_diff is better\n",
        "    (1 - (monthly_averages['percip_diff'] / max_percip_diff)) * w_P +  # Smaller percip_diff is better\n",
        "    (1 - (monthly_averages['rank_adjusted'] / monthly_averages['rank_adjusted'].max())) * w_r  # Lower rank is better\n",
        ")\n",
        "\n",
        "# Calculate yearly desirability score by taking the mean of monthly scores per county and year\n",
        "yearly_desirability = monthly_averages.groupby(['County_Name', 'State', 'year']).agg({'desirability_month': 'mean'}).reset_index()\n",
        "yearly_desirability.columns = ['County_Name', 'State', 'year', 'desirability_year']\n",
        "\n",
        "# Merge yearly desirability back into the monthly averages DataFrame\n",
        "monthly_averages = pd.merge(monthly_averages, yearly_desirability, on=['County_Name', 'State', 'year'], how='left')\n",
        "\n",
        "# Output the final results\n",
        "final_results = monthly_averages[['County_Name', 'State', 'temp', 'percip', 'desirability_month', 'Rank', 'month', 'year', 'desirability_year']]\n",
        "print(final_results)"
      ]
    },
    {
      "cell_type": "code",
      "execution_count": null,
      "metadata": {},
      "outputs": [],
      "source": []
    },
    {
      "cell_type": "code",
      "execution_count": 227,
      "metadata": {},
      "outputs": [
        {
          "data": {
            "application/vnd.plotly.v1+json": {
              "config": {
                "plotlyServerURL": "https://plot.ly"
              },
              "data": [
                {
                  "hovertemplate": "County_State=Duval, Florida<br>month=%{x}<br>temp=%{y}<extra></extra>",
                  "legendgroup": "Duval, Florida",
                  "line": {
                    "color": "#636efa",
                    "dash": "solid"
                  },
                  "marker": {
                    "symbol": "circle"
                  },
                  "mode": "markers+lines",
                  "name": "Duval, Florida",
                  "orientation": "v",
                  "showlegend": true,
                  "type": "scatter",
                  "x": [
                    "Jan",
                    "Feb",
                    "Mar",
                    "Apr",
                    "May",
                    "Jun",
                    "Jul",
                    "Aug",
                    "Sep",
                    "Oct",
                    "Nov",
                    "Dec"
                  ],
                  "xaxis": "x",
                  "y": [
                    58.5,
                    65.1,
                    65.7,
                    71.1,
                    73.8,
                    79.3,
                    83.6,
                    83.7,
                    78.3,
                    71.3,
                    63,
                    58.9
                  ],
                  "yaxis": "y"
                },
                {
                  "hovertemplate": "County_State=Maricopa, Arizona<br>month=%{x}<br>temp=%{y}<extra></extra>",
                  "legendgroup": "Maricopa, Arizona",
                  "line": {
                    "color": "#EF553B",
                    "dash": "solid"
                  },
                  "marker": {
                    "symbol": "circle"
                  },
                  "mode": "markers+lines",
                  "name": "Maricopa, Arizona",
                  "orientation": "v",
                  "showlegend": true,
                  "type": "scatter",
                  "x": [
                    "Jan",
                    "Feb",
                    "Mar",
                    "Apr",
                    "May",
                    "Jun",
                    "Jul",
                    "Aug",
                    "Sep",
                    "Oct",
                    "Nov",
                    "Dec"
                  ],
                  "xaxis": "x",
                  "y": [
                    50,
                    52.6,
                    57,
                    68.7,
                    76.4,
                    81.6,
                    95.8,
                    91.9,
                    84.1,
                    74.9,
                    63.1,
                    55.5
                  ],
                  "yaxis": "y"
                },
                {
                  "hovertemplate": "County_State=Collin, Texas<br>month=%{x}<br>temp=%{y}<extra></extra>",
                  "legendgroup": "Collin, Texas",
                  "line": {
                    "color": "#00cc96",
                    "dash": "solid"
                  },
                  "marker": {
                    "symbol": "circle"
                  },
                  "mode": "markers+lines",
                  "name": "Collin, Texas",
                  "orientation": "v",
                  "showlegend": true,
                  "type": "scatter",
                  "x": [
                    "Jan",
                    "Feb",
                    "Mar",
                    "Apr",
                    "May",
                    "Jun",
                    "Jul",
                    "Aug",
                    "Sep",
                    "Oct",
                    "Nov",
                    "Dec"
                  ],
                  "xaxis": "x",
                  "y": [
                    49.5,
                    50.1,
                    58.2,
                    62.3,
                    72.6,
                    80.9,
                    85.6,
                    89.9,
                    81.7,
                    66.9,
                    55.8,
                    50.1
                  ],
                  "yaxis": "y"
                },
                {
                  "hovertemplate": "County_State=Bexar, Texas<br>month=%{x}<br>temp=%{y}<extra></extra>",
                  "legendgroup": "Bexar, Texas",
                  "line": {
                    "color": "#ab63fa",
                    "dash": "solid"
                  },
                  "marker": {
                    "symbol": "circle"
                  },
                  "mode": "markers+lines",
                  "name": "Bexar, Texas",
                  "orientation": "v",
                  "showlegend": true,
                  "type": "scatter",
                  "x": [
                    "Jan",
                    "Feb",
                    "Mar",
                    "Apr",
                    "May",
                    "Jun",
                    "Jul",
                    "Aug",
                    "Sep",
                    "Oct",
                    "Nov",
                    "Dec"
                  ],
                  "xaxis": "x",
                  "y": [
                    57.2,
                    57,
                    66.5,
                    68.4,
                    75.4,
                    84.8,
                    88.2,
                    89.5,
                    86,
                    72.6,
                    60.7,
                    56.8
                  ],
                  "yaxis": "y"
                },
                {
                  "hovertemplate": "County_State=New Hanover, North Carolina<br>month=%{x}<br>temp=%{y}<extra></extra>",
                  "legendgroup": "New Hanover, North Carolina",
                  "line": {
                    "color": "#FFA15A",
                    "dash": "solid"
                  },
                  "marker": {
                    "symbol": "circle"
                  },
                  "mode": "markers+lines",
                  "name": "New Hanover, North Carolina",
                  "orientation": "v",
                  "showlegend": true,
                  "type": "scatter",
                  "x": [
                    "Jan",
                    "Feb",
                    "Mar",
                    "Apr",
                    "May",
                    "Jun",
                    "Jul",
                    "Aug",
                    "Sep",
                    "Oct",
                    "Nov",
                    "Dec"
                  ],
                  "xaxis": "x",
                  "y": [
                    51.7,
                    55.7,
                    57.2,
                    65.7,
                    68.4,
                    74.1,
                    81.2,
                    79.5,
                    73.4,
                    63.1,
                    53.6,
                    50
                  ],
                  "yaxis": "y"
                },
                {
                  "hovertemplate": "County_State=Clark, Nevada<br>month=%{x}<br>temp=%{y}<extra></extra>",
                  "legendgroup": "Clark, Nevada",
                  "line": {
                    "color": "#19d3f3",
                    "dash": "solid"
                  },
                  "marker": {
                    "symbol": "circle"
                  },
                  "mode": "markers+lines",
                  "name": "Clark, Nevada",
                  "orientation": "v",
                  "showlegend": true,
                  "type": "scatter",
                  "x": [
                    "Jan",
                    "Feb",
                    "Mar",
                    "Apr",
                    "May",
                    "Jun",
                    "Jul",
                    "Aug",
                    "Sep",
                    "Oct",
                    "Nov",
                    "Dec"
                  ],
                  "xaxis": "x",
                  "y": [
                    42.4,
                    44.3,
                    48,
                    61.9,
                    71.2,
                    76.2,
                    91,
                    83.7,
                    75.6,
                    67,
                    54,
                    49.6
                  ],
                  "yaxis": "y"
                },
                {
                  "hovertemplate": "County_State=Ada, Idaho<br>month=%{x}<br>temp=%{y}<extra></extra>",
                  "legendgroup": "Ada, Idaho",
                  "line": {
                    "color": "#FF6692",
                    "dash": "solid"
                  },
                  "marker": {
                    "symbol": "circle"
                  },
                  "mode": "markers+lines",
                  "name": "Ada, Idaho",
                  "orientation": "v",
                  "showlegend": true,
                  "type": "scatter",
                  "x": [
                    "Jan",
                    "Feb",
                    "Mar",
                    "Apr",
                    "May",
                    "Jun",
                    "Jul",
                    "Aug",
                    "Sep",
                    "Oct",
                    "Nov",
                    "Dec"
                  ],
                  "xaxis": "x",
                  "y": [
                    32,
                    33.1,
                    36.9,
                    46.9,
                    62.7,
                    65.5,
                    77.9,
                    74.4,
                    64.6,
                    53.2,
                    40.9,
                    35.2
                  ],
                  "yaxis": "y"
                },
                {
                  "hovertemplate": "County_State=Miami-Dade, Florida<br>month=%{x}<br>temp=%{y}<extra></extra>",
                  "legendgroup": "Miami-Dade, Florida",
                  "line": {
                    "color": "#B6E880",
                    "dash": "solid"
                  },
                  "marker": {
                    "symbol": "circle"
                  },
                  "mode": "markers+lines",
                  "name": "Miami-Dade, Florida",
                  "orientation": "v",
                  "showlegend": true,
                  "type": "scatter",
                  "x": [
                    "Jan",
                    "Feb",
                    "Mar",
                    "Apr",
                    "May",
                    "Jun",
                    "Jul",
                    "Aug",
                    "Sep",
                    "Oct",
                    "Nov",
                    "Dec"
                  ],
                  "xaxis": "x",
                  "y": [
                    70.1,
                    73.9,
                    74.6,
                    77.4,
                    78.8,
                    82.4,
                    85,
                    85,
                    83.2,
                    79.4,
                    75.6,
                    70.1
                  ],
                  "yaxis": "y"
                },
                {
                  "hovertemplate": "County_State=Wake, North Carolina<br>month=%{x}<br>temp=%{y}<extra></extra>",
                  "legendgroup": "Wake, North Carolina",
                  "line": {
                    "color": "#FF97FF",
                    "dash": "solid"
                  },
                  "marker": {
                    "symbol": "circle"
                  },
                  "mode": "markers+lines",
                  "name": "Wake, North Carolina",
                  "orientation": "v",
                  "showlegend": true,
                  "type": "scatter",
                  "x": [
                    "Jan",
                    "Feb",
                    "Mar",
                    "Apr",
                    "May",
                    "Jun",
                    "Jul",
                    "Aug",
                    "Sep",
                    "Oct",
                    "Nov",
                    "Dec"
                  ],
                  "xaxis": "x",
                  "y": [
                    47.7,
                    52.2,
                    53.3,
                    61.4,
                    65,
                    72.9,
                    80.6,
                    79.1,
                    71.7,
                    62.1,
                    50.4,
                    47.1
                  ],
                  "yaxis": "y"
                }
              ],
              "layout": {
                "legend": {
                  "title": {
                    "text": "County, State"
                  },
                  "tracegroupgap": 0
                },
                "template": {
                  "data": {
                    "bar": [
                      {
                        "error_x": {
                          "color": "#2a3f5f"
                        },
                        "error_y": {
                          "color": "#2a3f5f"
                        },
                        "marker": {
                          "line": {
                            "color": "#E5ECF6",
                            "width": 0.5
                          },
                          "pattern": {
                            "fillmode": "overlay",
                            "size": 10,
                            "solidity": 0.2
                          }
                        },
                        "type": "bar"
                      }
                    ],
                    "barpolar": [
                      {
                        "marker": {
                          "line": {
                            "color": "#E5ECF6",
                            "width": 0.5
                          },
                          "pattern": {
                            "fillmode": "overlay",
                            "size": 10,
                            "solidity": 0.2
                          }
                        },
                        "type": "barpolar"
                      }
                    ],
                    "carpet": [
                      {
                        "aaxis": {
                          "endlinecolor": "#2a3f5f",
                          "gridcolor": "white",
                          "linecolor": "white",
                          "minorgridcolor": "white",
                          "startlinecolor": "#2a3f5f"
                        },
                        "baxis": {
                          "endlinecolor": "#2a3f5f",
                          "gridcolor": "white",
                          "linecolor": "white",
                          "minorgridcolor": "white",
                          "startlinecolor": "#2a3f5f"
                        },
                        "type": "carpet"
                      }
                    ],
                    "choropleth": [
                      {
                        "colorbar": {
                          "outlinewidth": 0,
                          "ticks": ""
                        },
                        "type": "choropleth"
                      }
                    ],
                    "contour": [
                      {
                        "colorbar": {
                          "outlinewidth": 0,
                          "ticks": ""
                        },
                        "colorscale": [
                          [
                            0,
                            "#0d0887"
                          ],
                          [
                            0.1111111111111111,
                            "#46039f"
                          ],
                          [
                            0.2222222222222222,
                            "#7201a8"
                          ],
                          [
                            0.3333333333333333,
                            "#9c179e"
                          ],
                          [
                            0.4444444444444444,
                            "#bd3786"
                          ],
                          [
                            0.5555555555555556,
                            "#d8576b"
                          ],
                          [
                            0.6666666666666666,
                            "#ed7953"
                          ],
                          [
                            0.7777777777777778,
                            "#fb9f3a"
                          ],
                          [
                            0.8888888888888888,
                            "#fdca26"
                          ],
                          [
                            1,
                            "#f0f921"
                          ]
                        ],
                        "type": "contour"
                      }
                    ],
                    "contourcarpet": [
                      {
                        "colorbar": {
                          "outlinewidth": 0,
                          "ticks": ""
                        },
                        "type": "contourcarpet"
                      }
                    ],
                    "heatmap": [
                      {
                        "colorbar": {
                          "outlinewidth": 0,
                          "ticks": ""
                        },
                        "colorscale": [
                          [
                            0,
                            "#0d0887"
                          ],
                          [
                            0.1111111111111111,
                            "#46039f"
                          ],
                          [
                            0.2222222222222222,
                            "#7201a8"
                          ],
                          [
                            0.3333333333333333,
                            "#9c179e"
                          ],
                          [
                            0.4444444444444444,
                            "#bd3786"
                          ],
                          [
                            0.5555555555555556,
                            "#d8576b"
                          ],
                          [
                            0.6666666666666666,
                            "#ed7953"
                          ],
                          [
                            0.7777777777777778,
                            "#fb9f3a"
                          ],
                          [
                            0.8888888888888888,
                            "#fdca26"
                          ],
                          [
                            1,
                            "#f0f921"
                          ]
                        ],
                        "type": "heatmap"
                      }
                    ],
                    "heatmapgl": [
                      {
                        "colorbar": {
                          "outlinewidth": 0,
                          "ticks": ""
                        },
                        "colorscale": [
                          [
                            0,
                            "#0d0887"
                          ],
                          [
                            0.1111111111111111,
                            "#46039f"
                          ],
                          [
                            0.2222222222222222,
                            "#7201a8"
                          ],
                          [
                            0.3333333333333333,
                            "#9c179e"
                          ],
                          [
                            0.4444444444444444,
                            "#bd3786"
                          ],
                          [
                            0.5555555555555556,
                            "#d8576b"
                          ],
                          [
                            0.6666666666666666,
                            "#ed7953"
                          ],
                          [
                            0.7777777777777778,
                            "#fb9f3a"
                          ],
                          [
                            0.8888888888888888,
                            "#fdca26"
                          ],
                          [
                            1,
                            "#f0f921"
                          ]
                        ],
                        "type": "heatmapgl"
                      }
                    ],
                    "histogram": [
                      {
                        "marker": {
                          "pattern": {
                            "fillmode": "overlay",
                            "size": 10,
                            "solidity": 0.2
                          }
                        },
                        "type": "histogram"
                      }
                    ],
                    "histogram2d": [
                      {
                        "colorbar": {
                          "outlinewidth": 0,
                          "ticks": ""
                        },
                        "colorscale": [
                          [
                            0,
                            "#0d0887"
                          ],
                          [
                            0.1111111111111111,
                            "#46039f"
                          ],
                          [
                            0.2222222222222222,
                            "#7201a8"
                          ],
                          [
                            0.3333333333333333,
                            "#9c179e"
                          ],
                          [
                            0.4444444444444444,
                            "#bd3786"
                          ],
                          [
                            0.5555555555555556,
                            "#d8576b"
                          ],
                          [
                            0.6666666666666666,
                            "#ed7953"
                          ],
                          [
                            0.7777777777777778,
                            "#fb9f3a"
                          ],
                          [
                            0.8888888888888888,
                            "#fdca26"
                          ],
                          [
                            1,
                            "#f0f921"
                          ]
                        ],
                        "type": "histogram2d"
                      }
                    ],
                    "histogram2dcontour": [
                      {
                        "colorbar": {
                          "outlinewidth": 0,
                          "ticks": ""
                        },
                        "colorscale": [
                          [
                            0,
                            "#0d0887"
                          ],
                          [
                            0.1111111111111111,
                            "#46039f"
                          ],
                          [
                            0.2222222222222222,
                            "#7201a8"
                          ],
                          [
                            0.3333333333333333,
                            "#9c179e"
                          ],
                          [
                            0.4444444444444444,
                            "#bd3786"
                          ],
                          [
                            0.5555555555555556,
                            "#d8576b"
                          ],
                          [
                            0.6666666666666666,
                            "#ed7953"
                          ],
                          [
                            0.7777777777777778,
                            "#fb9f3a"
                          ],
                          [
                            0.8888888888888888,
                            "#fdca26"
                          ],
                          [
                            1,
                            "#f0f921"
                          ]
                        ],
                        "type": "histogram2dcontour"
                      }
                    ],
                    "mesh3d": [
                      {
                        "colorbar": {
                          "outlinewidth": 0,
                          "ticks": ""
                        },
                        "type": "mesh3d"
                      }
                    ],
                    "parcoords": [
                      {
                        "line": {
                          "colorbar": {
                            "outlinewidth": 0,
                            "ticks": ""
                          }
                        },
                        "type": "parcoords"
                      }
                    ],
                    "pie": [
                      {
                        "automargin": true,
                        "type": "pie"
                      }
                    ],
                    "scatter": [
                      {
                        "fillpattern": {
                          "fillmode": "overlay",
                          "size": 10,
                          "solidity": 0.2
                        },
                        "type": "scatter"
                      }
                    ],
                    "scatter3d": [
                      {
                        "line": {
                          "colorbar": {
                            "outlinewidth": 0,
                            "ticks": ""
                          }
                        },
                        "marker": {
                          "colorbar": {
                            "outlinewidth": 0,
                            "ticks": ""
                          }
                        },
                        "type": "scatter3d"
                      }
                    ],
                    "scattercarpet": [
                      {
                        "marker": {
                          "colorbar": {
                            "outlinewidth": 0,
                            "ticks": ""
                          }
                        },
                        "type": "scattercarpet"
                      }
                    ],
                    "scattergeo": [
                      {
                        "marker": {
                          "colorbar": {
                            "outlinewidth": 0,
                            "ticks": ""
                          }
                        },
                        "type": "scattergeo"
                      }
                    ],
                    "scattergl": [
                      {
                        "marker": {
                          "colorbar": {
                            "outlinewidth": 0,
                            "ticks": ""
                          }
                        },
                        "type": "scattergl"
                      }
                    ],
                    "scattermapbox": [
                      {
                        "marker": {
                          "colorbar": {
                            "outlinewidth": 0,
                            "ticks": ""
                          }
                        },
                        "type": "scattermapbox"
                      }
                    ],
                    "scatterpolar": [
                      {
                        "marker": {
                          "colorbar": {
                            "outlinewidth": 0,
                            "ticks": ""
                          }
                        },
                        "type": "scatterpolar"
                      }
                    ],
                    "scatterpolargl": [
                      {
                        "marker": {
                          "colorbar": {
                            "outlinewidth": 0,
                            "ticks": ""
                          }
                        },
                        "type": "scatterpolargl"
                      }
                    ],
                    "scatterternary": [
                      {
                        "marker": {
                          "colorbar": {
                            "outlinewidth": 0,
                            "ticks": ""
                          }
                        },
                        "type": "scatterternary"
                      }
                    ],
                    "surface": [
                      {
                        "colorbar": {
                          "outlinewidth": 0,
                          "ticks": ""
                        },
                        "colorscale": [
                          [
                            0,
                            "#0d0887"
                          ],
                          [
                            0.1111111111111111,
                            "#46039f"
                          ],
                          [
                            0.2222222222222222,
                            "#7201a8"
                          ],
                          [
                            0.3333333333333333,
                            "#9c179e"
                          ],
                          [
                            0.4444444444444444,
                            "#bd3786"
                          ],
                          [
                            0.5555555555555556,
                            "#d8576b"
                          ],
                          [
                            0.6666666666666666,
                            "#ed7953"
                          ],
                          [
                            0.7777777777777778,
                            "#fb9f3a"
                          ],
                          [
                            0.8888888888888888,
                            "#fdca26"
                          ],
                          [
                            1,
                            "#f0f921"
                          ]
                        ],
                        "type": "surface"
                      }
                    ],
                    "table": [
                      {
                        "cells": {
                          "fill": {
                            "color": "#EBF0F8"
                          },
                          "line": {
                            "color": "white"
                          }
                        },
                        "header": {
                          "fill": {
                            "color": "#C8D4E3"
                          },
                          "line": {
                            "color": "white"
                          }
                        },
                        "type": "table"
                      }
                    ]
                  },
                  "layout": {
                    "annotationdefaults": {
                      "arrowcolor": "#2a3f5f",
                      "arrowhead": 0,
                      "arrowwidth": 1
                    },
                    "autotypenumbers": "strict",
                    "coloraxis": {
                      "colorbar": {
                        "outlinewidth": 0,
                        "ticks": ""
                      }
                    },
                    "colorscale": {
                      "diverging": [
                        [
                          0,
                          "#8e0152"
                        ],
                        [
                          0.1,
                          "#c51b7d"
                        ],
                        [
                          0.2,
                          "#de77ae"
                        ],
                        [
                          0.3,
                          "#f1b6da"
                        ],
                        [
                          0.4,
                          "#fde0ef"
                        ],
                        [
                          0.5,
                          "#f7f7f7"
                        ],
                        [
                          0.6,
                          "#e6f5d0"
                        ],
                        [
                          0.7,
                          "#b8e186"
                        ],
                        [
                          0.8,
                          "#7fbc41"
                        ],
                        [
                          0.9,
                          "#4d9221"
                        ],
                        [
                          1,
                          "#276419"
                        ]
                      ],
                      "sequential": [
                        [
                          0,
                          "#0d0887"
                        ],
                        [
                          0.1111111111111111,
                          "#46039f"
                        ],
                        [
                          0.2222222222222222,
                          "#7201a8"
                        ],
                        [
                          0.3333333333333333,
                          "#9c179e"
                        ],
                        [
                          0.4444444444444444,
                          "#bd3786"
                        ],
                        [
                          0.5555555555555556,
                          "#d8576b"
                        ],
                        [
                          0.6666666666666666,
                          "#ed7953"
                        ],
                        [
                          0.7777777777777778,
                          "#fb9f3a"
                        ],
                        [
                          0.8888888888888888,
                          "#fdca26"
                        ],
                        [
                          1,
                          "#f0f921"
                        ]
                      ],
                      "sequentialminus": [
                        [
                          0,
                          "#0d0887"
                        ],
                        [
                          0.1111111111111111,
                          "#46039f"
                        ],
                        [
                          0.2222222222222222,
                          "#7201a8"
                        ],
                        [
                          0.3333333333333333,
                          "#9c179e"
                        ],
                        [
                          0.4444444444444444,
                          "#bd3786"
                        ],
                        [
                          0.5555555555555556,
                          "#d8576b"
                        ],
                        [
                          0.6666666666666666,
                          "#ed7953"
                        ],
                        [
                          0.7777777777777778,
                          "#fb9f3a"
                        ],
                        [
                          0.8888888888888888,
                          "#fdca26"
                        ],
                        [
                          1,
                          "#f0f921"
                        ]
                      ]
                    },
                    "colorway": [
                      "#636efa",
                      "#EF553B",
                      "#00cc96",
                      "#ab63fa",
                      "#FFA15A",
                      "#19d3f3",
                      "#FF6692",
                      "#B6E880",
                      "#FF97FF",
                      "#FECB52"
                    ],
                    "font": {
                      "color": "#2a3f5f"
                    },
                    "geo": {
                      "bgcolor": "white",
                      "lakecolor": "white",
                      "landcolor": "#E5ECF6",
                      "showlakes": true,
                      "showland": true,
                      "subunitcolor": "white"
                    },
                    "hoverlabel": {
                      "align": "left"
                    },
                    "hovermode": "closest",
                    "mapbox": {
                      "style": "light"
                    },
                    "paper_bgcolor": "white",
                    "plot_bgcolor": "#E5ECF6",
                    "polar": {
                      "angularaxis": {
                        "gridcolor": "white",
                        "linecolor": "white",
                        "ticks": ""
                      },
                      "bgcolor": "#E5ECF6",
                      "radialaxis": {
                        "gridcolor": "white",
                        "linecolor": "white",
                        "ticks": ""
                      }
                    },
                    "scene": {
                      "xaxis": {
                        "backgroundcolor": "#E5ECF6",
                        "gridcolor": "white",
                        "gridwidth": 2,
                        "linecolor": "white",
                        "showbackground": true,
                        "ticks": "",
                        "zerolinecolor": "white"
                      },
                      "yaxis": {
                        "backgroundcolor": "#E5ECF6",
                        "gridcolor": "white",
                        "gridwidth": 2,
                        "linecolor": "white",
                        "showbackground": true,
                        "ticks": "",
                        "zerolinecolor": "white"
                      },
                      "zaxis": {
                        "backgroundcolor": "#E5ECF6",
                        "gridcolor": "white",
                        "gridwidth": 2,
                        "linecolor": "white",
                        "showbackground": true,
                        "ticks": "",
                        "zerolinecolor": "white"
                      }
                    },
                    "shapedefaults": {
                      "line": {
                        "color": "#2a3f5f"
                      }
                    },
                    "ternary": {
                      "aaxis": {
                        "gridcolor": "white",
                        "linecolor": "white",
                        "ticks": ""
                      },
                      "baxis": {
                        "gridcolor": "white",
                        "linecolor": "white",
                        "ticks": ""
                      },
                      "bgcolor": "#E5ECF6",
                      "caxis": {
                        "gridcolor": "white",
                        "linecolor": "white",
                        "ticks": ""
                      }
                    },
                    "title": {
                      "x": 0.05
                    },
                    "xaxis": {
                      "automargin": true,
                      "gridcolor": "white",
                      "linecolor": "white",
                      "ticks": "",
                      "title": {
                        "standoff": 15
                      },
                      "zerolinecolor": "white",
                      "zerolinewidth": 2
                    },
                    "yaxis": {
                      "automargin": true,
                      "gridcolor": "white",
                      "linecolor": "white",
                      "ticks": "",
                      "title": {
                        "standoff": 15
                      },
                      "zerolinecolor": "white",
                      "zerolinewidth": 2
                    }
                  }
                },
                "title": {
                  "text": "Temperature in Top 10 Places to Retire (2023)"
                },
                "xaxis": {
                  "anchor": "y",
                  "domain": [
                    0,
                    1
                  ],
                  "title": {
                    "text": "Month"
                  }
                },
                "yaxis": {
                  "anchor": "x",
                  "domain": [
                    0,
                    1
                  ],
                  "title": {
                    "text": "Temperature (°F)"
                  }
                }
              }
            }
          },
          "metadata": {},
          "output_type": "display_data"
        },
        {
          "data": {
            "application/vnd.plotly.v1+json": {
              "config": {
                "plotlyServerURL": "https://plot.ly"
              },
              "data": [
                {
                  "hovertemplate": "County_State=Duval, Florida<br>month=%{x}<br>percip=%{y}<extra></extra>",
                  "legendgroup": "Duval, Florida",
                  "line": {
                    "color": "#636efa",
                    "dash": "solid"
                  },
                  "marker": {
                    "symbol": "circle"
                  },
                  "mode": "markers+lines",
                  "name": "Duval, Florida",
                  "orientation": "v",
                  "showlegend": true,
                  "type": "scatter",
                  "x": [
                    "Jan",
                    "Feb",
                    "Mar",
                    "Apr",
                    "May",
                    "Jun",
                    "Jul",
                    "Aug",
                    "Sep",
                    "Oct",
                    "Nov",
                    "Dec"
                  ],
                  "xaxis": "x",
                  "y": [
                    1.54,
                    1.88,
                    3.48,
                    3.59,
                    4.73,
                    7.89,
                    9.1,
                    4.6,
                    5.87,
                    3.49,
                    3.2,
                    6.26
                  ],
                  "yaxis": "y"
                },
                {
                  "hovertemplate": "County_State=Maricopa, Arizona<br>month=%{x}<br>percip=%{y}<extra></extra>",
                  "legendgroup": "Maricopa, Arizona",
                  "line": {
                    "color": "#EF553B",
                    "dash": "solid"
                  },
                  "marker": {
                    "symbol": "circle"
                  },
                  "mode": "markers+lines",
                  "name": "Maricopa, Arizona",
                  "orientation": "v",
                  "showlegend": true,
                  "type": "scatter",
                  "x": [
                    "Jan",
                    "Feb",
                    "Mar",
                    "Apr",
                    "May",
                    "Jun",
                    "Jul",
                    "Aug",
                    "Sep",
                    "Oct",
                    "Nov",
                    "Dec"
                  ],
                  "xaxis": "x",
                  "y": [
                    1.7,
                    0.97,
                    1.48,
                    0,
                    0.11,
                    0,
                    0.1,
                    0.5,
                    0.76,
                    0.01,
                    0.29,
                    1.15
                  ],
                  "yaxis": "y"
                },
                {
                  "hovertemplate": "County_State=Collin, Texas<br>month=%{x}<br>percip=%{y}<extra></extra>",
                  "legendgroup": "Collin, Texas",
                  "line": {
                    "color": "#00cc96",
                    "dash": "solid"
                  },
                  "marker": {
                    "symbol": "circle"
                  },
                  "mode": "markers+lines",
                  "name": "Collin, Texas",
                  "orientation": "v",
                  "showlegend": true,
                  "type": "scatter",
                  "x": [
                    "Jan",
                    "Feb",
                    "Mar",
                    "Apr",
                    "May",
                    "Jun",
                    "Jul",
                    "Aug",
                    "Sep",
                    "Oct",
                    "Nov",
                    "Dec"
                  ],
                  "xaxis": "x",
                  "y": [
                    1.37,
                    4.47,
                    3.12,
                    1.71,
                    2.59,
                    2.7,
                    2.88,
                    0.03,
                    1.43,
                    9.43,
                    0.89,
                    3.41
                  ],
                  "yaxis": "y"
                },
                {
                  "hovertemplate": "County_State=Bexar, Texas<br>month=%{x}<br>percip=%{y}<extra></extra>",
                  "legendgroup": "Bexar, Texas",
                  "line": {
                    "color": "#ab63fa",
                    "dash": "solid"
                  },
                  "marker": {
                    "symbol": "circle"
                  },
                  "mode": "markers+lines",
                  "name": "Bexar, Texas",
                  "orientation": "v",
                  "showlegend": true,
                  "type": "scatter",
                  "x": [
                    "Jan",
                    "Feb",
                    "Mar",
                    "Apr",
                    "May",
                    "Jun",
                    "Jul",
                    "Aug",
                    "Sep",
                    "Oct",
                    "Nov",
                    "Dec"
                  ],
                  "xaxis": "x",
                  "y": [
                    0.85,
                    1.14,
                    1.49,
                    4.3,
                    5.47,
                    1.58,
                    0.31,
                    0.64,
                    0.66,
                    3.37,
                    1.46,
                    0.93
                  ],
                  "yaxis": "y"
                },
                {
                  "hovertemplate": "County_State=New Hanover, North Carolina<br>month=%{x}<br>percip=%{y}<extra></extra>",
                  "legendgroup": "New Hanover, North Carolina",
                  "line": {
                    "color": "#FFA15A",
                    "dash": "solid"
                  },
                  "marker": {
                    "symbol": "circle"
                  },
                  "mode": "markers+lines",
                  "name": "New Hanover, North Carolina",
                  "orientation": "v",
                  "showlegend": true,
                  "type": "scatter",
                  "x": [
                    "Jan",
                    "Feb",
                    "Mar",
                    "Apr",
                    "May",
                    "Jun",
                    "Jul",
                    "Aug",
                    "Sep",
                    "Oct",
                    "Nov",
                    "Dec"
                  ],
                  "xaxis": "x",
                  "y": [
                    2.9,
                    3.93,
                    2.8,
                    6.7,
                    5.2,
                    4.93,
                    6.1,
                    9.9,
                    3.16,
                    1.05,
                    4.03,
                    8.31
                  ],
                  "yaxis": "y"
                },
                {
                  "hovertemplate": "County_State=Clark, Nevada<br>month=%{x}<br>percip=%{y}<extra></extra>",
                  "legendgroup": "Clark, Nevada",
                  "line": {
                    "color": "#19d3f3",
                    "dash": "solid"
                  },
                  "marker": {
                    "symbol": "circle"
                  },
                  "mode": "markers+lines",
                  "name": "Clark, Nevada",
                  "orientation": "v",
                  "showlegend": true,
                  "type": "scatter",
                  "x": [
                    "Jan",
                    "Feb",
                    "Mar",
                    "Apr",
                    "May",
                    "Jun",
                    "Jul",
                    "Aug",
                    "Sep",
                    "Oct",
                    "Nov",
                    "Dec"
                  ],
                  "xaxis": "x",
                  "y": [
                    1.73,
                    0.66,
                    1.42,
                    0.04,
                    0.09,
                    0.35,
                    0.01,
                    2.25,
                    1.56,
                    0.21,
                    0.13,
                    0.11
                  ],
                  "yaxis": "y"
                },
                {
                  "hovertemplate": "County_State=Ada, Idaho<br>month=%{x}<br>percip=%{y}<extra></extra>",
                  "legendgroup": "Ada, Idaho",
                  "line": {
                    "color": "#FF6692",
                    "dash": "solid"
                  },
                  "marker": {
                    "symbol": "circle"
                  },
                  "mode": "markers+lines",
                  "name": "Ada, Idaho",
                  "orientation": "v",
                  "showlegend": true,
                  "type": "scatter",
                  "x": [
                    "Jan",
                    "Feb",
                    "Mar",
                    "Apr",
                    "May",
                    "Jun",
                    "Jul",
                    "Aug",
                    "Sep",
                    "Oct",
                    "Nov",
                    "Dec"
                  ],
                  "xaxis": "x",
                  "y": [
                    0.88,
                    0.61,
                    2.66,
                    0.73,
                    1.25,
                    1.27,
                    0.05,
                    1.05,
                    0.37,
                    1.06,
                    1.11,
                    1.81
                  ],
                  "yaxis": "y"
                },
                {
                  "hovertemplate": "County_State=Miami-Dade, Florida<br>month=%{x}<br>percip=%{y}<extra></extra>",
                  "legendgroup": "Miami-Dade, Florida",
                  "line": {
                    "color": "#B6E880",
                    "dash": "solid"
                  },
                  "marker": {
                    "symbol": "circle"
                  },
                  "mode": "markers+lines",
                  "name": "Miami-Dade, Florida",
                  "orientation": "v",
                  "showlegend": true,
                  "type": "scatter",
                  "x": [
                    "Jan",
                    "Feb",
                    "Mar",
                    "Apr",
                    "May",
                    "Jun",
                    "Jul",
                    "Aug",
                    "Sep",
                    "Oct",
                    "Nov",
                    "Dec"
                  ],
                  "xaxis": "x",
                  "y": [
                    0.05,
                    4.14,
                    1.83,
                    7.42,
                    6.62,
                    8.96,
                    8.37,
                    7.67,
                    8,
                    3.2,
                    9.74,
                    3.98
                  ],
                  "yaxis": "y"
                },
                {
                  "hovertemplate": "County_State=Wake, North Carolina<br>month=%{x}<br>percip=%{y}<extra></extra>",
                  "legendgroup": "Wake, North Carolina",
                  "line": {
                    "color": "#FF97FF",
                    "dash": "solid"
                  },
                  "marker": {
                    "symbol": "circle"
                  },
                  "mode": "markers+lines",
                  "name": "Wake, North Carolina",
                  "orientation": "v",
                  "showlegend": true,
                  "type": "scatter",
                  "x": [
                    "Jan",
                    "Feb",
                    "Mar",
                    "Apr",
                    "May",
                    "Jun",
                    "Jul",
                    "Aug",
                    "Sep",
                    "Oct",
                    "Nov",
                    "Dec"
                  ],
                  "xaxis": "x",
                  "y": [
                    3.08,
                    2.9,
                    3.05,
                    7.46,
                    3.03,
                    3.71,
                    5.41,
                    4.17,
                    4.39,
                    1.53,
                    2.09,
                    7.51
                  ],
                  "yaxis": "y"
                }
              ],
              "layout": {
                "legend": {
                  "title": {
                    "text": "County, State"
                  },
                  "tracegroupgap": 0
                },
                "template": {
                  "data": {
                    "bar": [
                      {
                        "error_x": {
                          "color": "#2a3f5f"
                        },
                        "error_y": {
                          "color": "#2a3f5f"
                        },
                        "marker": {
                          "line": {
                            "color": "#E5ECF6",
                            "width": 0.5
                          },
                          "pattern": {
                            "fillmode": "overlay",
                            "size": 10,
                            "solidity": 0.2
                          }
                        },
                        "type": "bar"
                      }
                    ],
                    "barpolar": [
                      {
                        "marker": {
                          "line": {
                            "color": "#E5ECF6",
                            "width": 0.5
                          },
                          "pattern": {
                            "fillmode": "overlay",
                            "size": 10,
                            "solidity": 0.2
                          }
                        },
                        "type": "barpolar"
                      }
                    ],
                    "carpet": [
                      {
                        "aaxis": {
                          "endlinecolor": "#2a3f5f",
                          "gridcolor": "white",
                          "linecolor": "white",
                          "minorgridcolor": "white",
                          "startlinecolor": "#2a3f5f"
                        },
                        "baxis": {
                          "endlinecolor": "#2a3f5f",
                          "gridcolor": "white",
                          "linecolor": "white",
                          "minorgridcolor": "white",
                          "startlinecolor": "#2a3f5f"
                        },
                        "type": "carpet"
                      }
                    ],
                    "choropleth": [
                      {
                        "colorbar": {
                          "outlinewidth": 0,
                          "ticks": ""
                        },
                        "type": "choropleth"
                      }
                    ],
                    "contour": [
                      {
                        "colorbar": {
                          "outlinewidth": 0,
                          "ticks": ""
                        },
                        "colorscale": [
                          [
                            0,
                            "#0d0887"
                          ],
                          [
                            0.1111111111111111,
                            "#46039f"
                          ],
                          [
                            0.2222222222222222,
                            "#7201a8"
                          ],
                          [
                            0.3333333333333333,
                            "#9c179e"
                          ],
                          [
                            0.4444444444444444,
                            "#bd3786"
                          ],
                          [
                            0.5555555555555556,
                            "#d8576b"
                          ],
                          [
                            0.6666666666666666,
                            "#ed7953"
                          ],
                          [
                            0.7777777777777778,
                            "#fb9f3a"
                          ],
                          [
                            0.8888888888888888,
                            "#fdca26"
                          ],
                          [
                            1,
                            "#f0f921"
                          ]
                        ],
                        "type": "contour"
                      }
                    ],
                    "contourcarpet": [
                      {
                        "colorbar": {
                          "outlinewidth": 0,
                          "ticks": ""
                        },
                        "type": "contourcarpet"
                      }
                    ],
                    "heatmap": [
                      {
                        "colorbar": {
                          "outlinewidth": 0,
                          "ticks": ""
                        },
                        "colorscale": [
                          [
                            0,
                            "#0d0887"
                          ],
                          [
                            0.1111111111111111,
                            "#46039f"
                          ],
                          [
                            0.2222222222222222,
                            "#7201a8"
                          ],
                          [
                            0.3333333333333333,
                            "#9c179e"
                          ],
                          [
                            0.4444444444444444,
                            "#bd3786"
                          ],
                          [
                            0.5555555555555556,
                            "#d8576b"
                          ],
                          [
                            0.6666666666666666,
                            "#ed7953"
                          ],
                          [
                            0.7777777777777778,
                            "#fb9f3a"
                          ],
                          [
                            0.8888888888888888,
                            "#fdca26"
                          ],
                          [
                            1,
                            "#f0f921"
                          ]
                        ],
                        "type": "heatmap"
                      }
                    ],
                    "heatmapgl": [
                      {
                        "colorbar": {
                          "outlinewidth": 0,
                          "ticks": ""
                        },
                        "colorscale": [
                          [
                            0,
                            "#0d0887"
                          ],
                          [
                            0.1111111111111111,
                            "#46039f"
                          ],
                          [
                            0.2222222222222222,
                            "#7201a8"
                          ],
                          [
                            0.3333333333333333,
                            "#9c179e"
                          ],
                          [
                            0.4444444444444444,
                            "#bd3786"
                          ],
                          [
                            0.5555555555555556,
                            "#d8576b"
                          ],
                          [
                            0.6666666666666666,
                            "#ed7953"
                          ],
                          [
                            0.7777777777777778,
                            "#fb9f3a"
                          ],
                          [
                            0.8888888888888888,
                            "#fdca26"
                          ],
                          [
                            1,
                            "#f0f921"
                          ]
                        ],
                        "type": "heatmapgl"
                      }
                    ],
                    "histogram": [
                      {
                        "marker": {
                          "pattern": {
                            "fillmode": "overlay",
                            "size": 10,
                            "solidity": 0.2
                          }
                        },
                        "type": "histogram"
                      }
                    ],
                    "histogram2d": [
                      {
                        "colorbar": {
                          "outlinewidth": 0,
                          "ticks": ""
                        },
                        "colorscale": [
                          [
                            0,
                            "#0d0887"
                          ],
                          [
                            0.1111111111111111,
                            "#46039f"
                          ],
                          [
                            0.2222222222222222,
                            "#7201a8"
                          ],
                          [
                            0.3333333333333333,
                            "#9c179e"
                          ],
                          [
                            0.4444444444444444,
                            "#bd3786"
                          ],
                          [
                            0.5555555555555556,
                            "#d8576b"
                          ],
                          [
                            0.6666666666666666,
                            "#ed7953"
                          ],
                          [
                            0.7777777777777778,
                            "#fb9f3a"
                          ],
                          [
                            0.8888888888888888,
                            "#fdca26"
                          ],
                          [
                            1,
                            "#f0f921"
                          ]
                        ],
                        "type": "histogram2d"
                      }
                    ],
                    "histogram2dcontour": [
                      {
                        "colorbar": {
                          "outlinewidth": 0,
                          "ticks": ""
                        },
                        "colorscale": [
                          [
                            0,
                            "#0d0887"
                          ],
                          [
                            0.1111111111111111,
                            "#46039f"
                          ],
                          [
                            0.2222222222222222,
                            "#7201a8"
                          ],
                          [
                            0.3333333333333333,
                            "#9c179e"
                          ],
                          [
                            0.4444444444444444,
                            "#bd3786"
                          ],
                          [
                            0.5555555555555556,
                            "#d8576b"
                          ],
                          [
                            0.6666666666666666,
                            "#ed7953"
                          ],
                          [
                            0.7777777777777778,
                            "#fb9f3a"
                          ],
                          [
                            0.8888888888888888,
                            "#fdca26"
                          ],
                          [
                            1,
                            "#f0f921"
                          ]
                        ],
                        "type": "histogram2dcontour"
                      }
                    ],
                    "mesh3d": [
                      {
                        "colorbar": {
                          "outlinewidth": 0,
                          "ticks": ""
                        },
                        "type": "mesh3d"
                      }
                    ],
                    "parcoords": [
                      {
                        "line": {
                          "colorbar": {
                            "outlinewidth": 0,
                            "ticks": ""
                          }
                        },
                        "type": "parcoords"
                      }
                    ],
                    "pie": [
                      {
                        "automargin": true,
                        "type": "pie"
                      }
                    ],
                    "scatter": [
                      {
                        "fillpattern": {
                          "fillmode": "overlay",
                          "size": 10,
                          "solidity": 0.2
                        },
                        "type": "scatter"
                      }
                    ],
                    "scatter3d": [
                      {
                        "line": {
                          "colorbar": {
                            "outlinewidth": 0,
                            "ticks": ""
                          }
                        },
                        "marker": {
                          "colorbar": {
                            "outlinewidth": 0,
                            "ticks": ""
                          }
                        },
                        "type": "scatter3d"
                      }
                    ],
                    "scattercarpet": [
                      {
                        "marker": {
                          "colorbar": {
                            "outlinewidth": 0,
                            "ticks": ""
                          }
                        },
                        "type": "scattercarpet"
                      }
                    ],
                    "scattergeo": [
                      {
                        "marker": {
                          "colorbar": {
                            "outlinewidth": 0,
                            "ticks": ""
                          }
                        },
                        "type": "scattergeo"
                      }
                    ],
                    "scattergl": [
                      {
                        "marker": {
                          "colorbar": {
                            "outlinewidth": 0,
                            "ticks": ""
                          }
                        },
                        "type": "scattergl"
                      }
                    ],
                    "scattermapbox": [
                      {
                        "marker": {
                          "colorbar": {
                            "outlinewidth": 0,
                            "ticks": ""
                          }
                        },
                        "type": "scattermapbox"
                      }
                    ],
                    "scatterpolar": [
                      {
                        "marker": {
                          "colorbar": {
                            "outlinewidth": 0,
                            "ticks": ""
                          }
                        },
                        "type": "scatterpolar"
                      }
                    ],
                    "scatterpolargl": [
                      {
                        "marker": {
                          "colorbar": {
                            "outlinewidth": 0,
                            "ticks": ""
                          }
                        },
                        "type": "scatterpolargl"
                      }
                    ],
                    "scatterternary": [
                      {
                        "marker": {
                          "colorbar": {
                            "outlinewidth": 0,
                            "ticks": ""
                          }
                        },
                        "type": "scatterternary"
                      }
                    ],
                    "surface": [
                      {
                        "colorbar": {
                          "outlinewidth": 0,
                          "ticks": ""
                        },
                        "colorscale": [
                          [
                            0,
                            "#0d0887"
                          ],
                          [
                            0.1111111111111111,
                            "#46039f"
                          ],
                          [
                            0.2222222222222222,
                            "#7201a8"
                          ],
                          [
                            0.3333333333333333,
                            "#9c179e"
                          ],
                          [
                            0.4444444444444444,
                            "#bd3786"
                          ],
                          [
                            0.5555555555555556,
                            "#d8576b"
                          ],
                          [
                            0.6666666666666666,
                            "#ed7953"
                          ],
                          [
                            0.7777777777777778,
                            "#fb9f3a"
                          ],
                          [
                            0.8888888888888888,
                            "#fdca26"
                          ],
                          [
                            1,
                            "#f0f921"
                          ]
                        ],
                        "type": "surface"
                      }
                    ],
                    "table": [
                      {
                        "cells": {
                          "fill": {
                            "color": "#EBF0F8"
                          },
                          "line": {
                            "color": "white"
                          }
                        },
                        "header": {
                          "fill": {
                            "color": "#C8D4E3"
                          },
                          "line": {
                            "color": "white"
                          }
                        },
                        "type": "table"
                      }
                    ]
                  },
                  "layout": {
                    "annotationdefaults": {
                      "arrowcolor": "#2a3f5f",
                      "arrowhead": 0,
                      "arrowwidth": 1
                    },
                    "autotypenumbers": "strict",
                    "coloraxis": {
                      "colorbar": {
                        "outlinewidth": 0,
                        "ticks": ""
                      }
                    },
                    "colorscale": {
                      "diverging": [
                        [
                          0,
                          "#8e0152"
                        ],
                        [
                          0.1,
                          "#c51b7d"
                        ],
                        [
                          0.2,
                          "#de77ae"
                        ],
                        [
                          0.3,
                          "#f1b6da"
                        ],
                        [
                          0.4,
                          "#fde0ef"
                        ],
                        [
                          0.5,
                          "#f7f7f7"
                        ],
                        [
                          0.6,
                          "#e6f5d0"
                        ],
                        [
                          0.7,
                          "#b8e186"
                        ],
                        [
                          0.8,
                          "#7fbc41"
                        ],
                        [
                          0.9,
                          "#4d9221"
                        ],
                        [
                          1,
                          "#276419"
                        ]
                      ],
                      "sequential": [
                        [
                          0,
                          "#0d0887"
                        ],
                        [
                          0.1111111111111111,
                          "#46039f"
                        ],
                        [
                          0.2222222222222222,
                          "#7201a8"
                        ],
                        [
                          0.3333333333333333,
                          "#9c179e"
                        ],
                        [
                          0.4444444444444444,
                          "#bd3786"
                        ],
                        [
                          0.5555555555555556,
                          "#d8576b"
                        ],
                        [
                          0.6666666666666666,
                          "#ed7953"
                        ],
                        [
                          0.7777777777777778,
                          "#fb9f3a"
                        ],
                        [
                          0.8888888888888888,
                          "#fdca26"
                        ],
                        [
                          1,
                          "#f0f921"
                        ]
                      ],
                      "sequentialminus": [
                        [
                          0,
                          "#0d0887"
                        ],
                        [
                          0.1111111111111111,
                          "#46039f"
                        ],
                        [
                          0.2222222222222222,
                          "#7201a8"
                        ],
                        [
                          0.3333333333333333,
                          "#9c179e"
                        ],
                        [
                          0.4444444444444444,
                          "#bd3786"
                        ],
                        [
                          0.5555555555555556,
                          "#d8576b"
                        ],
                        [
                          0.6666666666666666,
                          "#ed7953"
                        ],
                        [
                          0.7777777777777778,
                          "#fb9f3a"
                        ],
                        [
                          0.8888888888888888,
                          "#fdca26"
                        ],
                        [
                          1,
                          "#f0f921"
                        ]
                      ]
                    },
                    "colorway": [
                      "#636efa",
                      "#EF553B",
                      "#00cc96",
                      "#ab63fa",
                      "#FFA15A",
                      "#19d3f3",
                      "#FF6692",
                      "#B6E880",
                      "#FF97FF",
                      "#FECB52"
                    ],
                    "font": {
                      "color": "#2a3f5f"
                    },
                    "geo": {
                      "bgcolor": "white",
                      "lakecolor": "white",
                      "landcolor": "#E5ECF6",
                      "showlakes": true,
                      "showland": true,
                      "subunitcolor": "white"
                    },
                    "hoverlabel": {
                      "align": "left"
                    },
                    "hovermode": "closest",
                    "mapbox": {
                      "style": "light"
                    },
                    "paper_bgcolor": "white",
                    "plot_bgcolor": "#E5ECF6",
                    "polar": {
                      "angularaxis": {
                        "gridcolor": "white",
                        "linecolor": "white",
                        "ticks": ""
                      },
                      "bgcolor": "#E5ECF6",
                      "radialaxis": {
                        "gridcolor": "white",
                        "linecolor": "white",
                        "ticks": ""
                      }
                    },
                    "scene": {
                      "xaxis": {
                        "backgroundcolor": "#E5ECF6",
                        "gridcolor": "white",
                        "gridwidth": 2,
                        "linecolor": "white",
                        "showbackground": true,
                        "ticks": "",
                        "zerolinecolor": "white"
                      },
                      "yaxis": {
                        "backgroundcolor": "#E5ECF6",
                        "gridcolor": "white",
                        "gridwidth": 2,
                        "linecolor": "white",
                        "showbackground": true,
                        "ticks": "",
                        "zerolinecolor": "white"
                      },
                      "zaxis": {
                        "backgroundcolor": "#E5ECF6",
                        "gridcolor": "white",
                        "gridwidth": 2,
                        "linecolor": "white",
                        "showbackground": true,
                        "ticks": "",
                        "zerolinecolor": "white"
                      }
                    },
                    "shapedefaults": {
                      "line": {
                        "color": "#2a3f5f"
                      }
                    },
                    "ternary": {
                      "aaxis": {
                        "gridcolor": "white",
                        "linecolor": "white",
                        "ticks": ""
                      },
                      "baxis": {
                        "gridcolor": "white",
                        "linecolor": "white",
                        "ticks": ""
                      },
                      "bgcolor": "#E5ECF6",
                      "caxis": {
                        "gridcolor": "white",
                        "linecolor": "white",
                        "ticks": ""
                      }
                    },
                    "title": {
                      "x": 0.05
                    },
                    "xaxis": {
                      "automargin": true,
                      "gridcolor": "white",
                      "linecolor": "white",
                      "ticks": "",
                      "title": {
                        "standoff": 15
                      },
                      "zerolinecolor": "white",
                      "zerolinewidth": 2
                    },
                    "yaxis": {
                      "automargin": true,
                      "gridcolor": "white",
                      "linecolor": "white",
                      "ticks": "",
                      "title": {
                        "standoff": 15
                      },
                      "zerolinecolor": "white",
                      "zerolinewidth": 2
                    }
                  }
                },
                "title": {
                  "text": "Precipitation in Top 10 Places to Retire (2023)"
                },
                "xaxis": {
                  "anchor": "y",
                  "domain": [
                    0,
                    1
                  ],
                  "title": {
                    "text": "Month"
                  }
                },
                "yaxis": {
                  "anchor": "x",
                  "domain": [
                    0,
                    1
                  ],
                  "title": {
                    "text": "Precipitation (mm)"
                  }
                }
              }
            }
          },
          "metadata": {},
          "output_type": "display_data"
        }
      ],
      "source": [
        "import pandas as pd\n",
        "import plotly.express as px\n",
        "import plotly.graph_objects as go\n",
        "\n",
        "# Assuming results_2023 is your DataFrame already filtered for the year 2023\n",
        "results_2023 = results_2023[results_2023['year'] == 2023]\n",
        "# Create a new column for the legend\n",
        "results_2023['County_State'] = results_2023['County_Name'] + ', ' + results_2023['State']\n",
        "\n",
        "# Create a line plot for temperature\n",
        "fig_temp = px.line(\n",
        "    results_2023,\n",
        "    x='month',\n",
        "    y='temp',\n",
        "    color='County_State',  # Use the new column for legend\n",
        "    markers=True,\n",
        "    title='Temperature in Top 10 Places to Retire (2023)'\n",
        ")\n",
        "\n",
        "# Update layout for temperature\n",
        "fig_temp.update_layout(\n",
        "    xaxis_title='Month',\n",
        "    yaxis_title='Temperature (°F)',  # Adjust unit as needed\n",
        "    legend_title='County, State',\n",
        ")\n",
        "\n",
        "# Show temperature plot\n",
        "fig_temp.show()\n",
        "\n",
        "# Create a line plot for precipitation\n",
        "fig_percip = px.line(\n",
        "    results_2023,\n",
        "    x='month',\n",
        "    y='percip',\n",
        "    color='County_State',  # Use the new column for legend\n",
        "    markers=True,\n",
        "    title='Precipitation in Top 10 Places to Retire (2023)'\n",
        ")\n",
        "\n",
        "# Update layout for precipitation\n",
        "fig_percip.update_layout(\n",
        "    xaxis_title='Month',\n",
        "    yaxis_title='Precipitation (mm)',  # Adjust unit as needed\n",
        "    legend_title='County, State',\n",
        ")\n",
        "\n",
        "# Show precipitation plot\n",
        "fig_percip.show()"
      ]
    },
    {
      "cell_type": "code",
      "execution_count": 228,
      "metadata": {},
      "outputs": [
        {
          "data": {
            "application/vnd.plotly.v1+json": {
              "config": {
                "plotlyServerURL": "https://plot.ly"
              },
              "data": [
                {
                  "alignmentgroup": "True",
                  "hovertemplate": "County_State=%{y}<br>desirability_year=%{x}<extra></extra>",
                  "legendgroup": "Duval, Florida",
                  "marker": {
                    "color": "rgb(228,26,28)",
                    "pattern": {
                      "shape": ""
                    }
                  },
                  "name": "Duval, Florida",
                  "offsetgroup": "Duval, Florida",
                  "orientation": "h",
                  "showlegend": true,
                  "textposition": "auto",
                  "type": "bar",
                  "x": [
                    0.8835246039531252,
                    0.8646453794064429,
                    0.862572599555438,
                    0.8595596649859439,
                    0.8566816382959662,
                    0.8552938489201073,
                    0.8539491801111224,
                    0.8511351793021616,
                    0.8479626902111912,
                    0.845741555603039,
                    0.8438462303105384,
                    0.8409190746054672,
                    0.8381258137888179,
                    0.8380470510986826,
                    0.8368008498679383,
                    0.8360337734179427,
                    0.8318617422157953,
                    0.8318018662286502,
                    0.828471353685904,
                    0.8278601715109755
                  ],
                  "xaxis": "x",
                  "y": [
                    "Duval, Florida",
                    "Duval, Florida",
                    "Duval, Florida",
                    "Duval, Florida",
                    "Duval, Florida",
                    "Duval, Florida",
                    "Duval, Florida",
                    "Duval, Florida",
                    "Duval, Florida",
                    "Duval, Florida",
                    "Duval, Florida",
                    "Duval, Florida",
                    "Duval, Florida",
                    "Duval, Florida",
                    "Duval, Florida",
                    "Duval, Florida",
                    "Duval, Florida",
                    "Duval, Florida",
                    "Duval, Florida",
                    "Duval, Florida"
                  ],
                  "yaxis": "y"
                },
                {
                  "alignmentgroup": "True",
                  "hovertemplate": "County_State=%{y}<br>desirability_year=%{x}<extra></extra>",
                  "legendgroup": "Wake, North Carolina",
                  "marker": {
                    "color": "rgb(55,126,184)",
                    "pattern": {
                      "shape": ""
                    }
                  },
                  "name": "Wake, North Carolina",
                  "offsetgroup": "Wake, North Carolina",
                  "orientation": "h",
                  "showlegend": true,
                  "textposition": "auto",
                  "type": "bar",
                  "x": [
                    0.8747687492963293,
                    0.8740917132231898,
                    0.8722490982167944,
                    0.8717498199676846,
                    0.869248108939379,
                    0.8634057912595591,
                    0.8605626243099077,
                    0.8597464936081947,
                    0.8584850522318005,
                    0.8582217651056032,
                    0.8539805735686151,
                    0.851311329397705,
                    0.8507558964821662,
                    0.8497009357552624,
                    0.849609088421318,
                    0.8492632309378347,
                    0.847740080890182,
                    0.842040223243862,
                    0.8409788876228957,
                    0.8280673062873557
                  ],
                  "xaxis": "x",
                  "y": [
                    "Wake, North Carolina",
                    "Wake, North Carolina",
                    "Wake, North Carolina",
                    "Wake, North Carolina",
                    "Wake, North Carolina",
                    "Wake, North Carolina",
                    "Wake, North Carolina",
                    "Wake, North Carolina",
                    "Wake, North Carolina",
                    "Wake, North Carolina",
                    "Wake, North Carolina",
                    "Wake, North Carolina",
                    "Wake, North Carolina",
                    "Wake, North Carolina",
                    "Wake, North Carolina",
                    "Wake, North Carolina",
                    "Wake, North Carolina",
                    "Wake, North Carolina",
                    "Wake, North Carolina",
                    "Wake, North Carolina"
                  ],
                  "yaxis": "y"
                },
                {
                  "alignmentgroup": "True",
                  "hovertemplate": "County_State=%{y}<br>desirability_year=%{x}<extra></extra>",
                  "legendgroup": "Collin, Texas",
                  "marker": {
                    "color": "rgb(77,175,74)",
                    "pattern": {
                      "shape": ""
                    }
                  },
                  "name": "Collin, Texas",
                  "offsetgroup": "Collin, Texas",
                  "orientation": "h",
                  "showlegend": true,
                  "textposition": "auto",
                  "type": "bar",
                  "x": [
                    0.846103299356222,
                    0.8342670744071654,
                    0.834039459941383,
                    0.8335045648411387,
                    0.8301134360485243,
                    0.8258602528872246,
                    0.8258466838609794,
                    0.8240197481034427,
                    0.8229621517042828,
                    0.8196804280559192,
                    0.8187807803451591,
                    0.818513574986255,
                    0.8181358240783645,
                    0.8180787764634446,
                    0.8177841782247687,
                    0.8113964111726221,
                    0.8091122710455849,
                    0.8083240576202813,
                    0.7917241630724438,
                    0.7839521531662753
                  ],
                  "xaxis": "x",
                  "y": [
                    "Collin, Texas",
                    "Collin, Texas",
                    "Collin, Texas",
                    "Collin, Texas",
                    "Collin, Texas",
                    "Collin, Texas",
                    "Collin, Texas",
                    "Collin, Texas",
                    "Collin, Texas",
                    "Collin, Texas",
                    "Collin, Texas",
                    "Collin, Texas",
                    "Collin, Texas",
                    "Collin, Texas",
                    "Collin, Texas",
                    "Collin, Texas",
                    "Collin, Texas",
                    "Collin, Texas",
                    "Collin, Texas",
                    "Collin, Texas"
                  ],
                  "yaxis": "y"
                },
                {
                  "alignmentgroup": "True",
                  "hovertemplate": "County_State=%{y}<br>desirability_year=%{x}<extra></extra>",
                  "legendgroup": "New Hanover, North Carolina",
                  "marker": {
                    "color": "rgb(152,78,163)",
                    "pattern": {
                      "shape": ""
                    }
                  },
                  "name": "New Hanover, North Carolina",
                  "offsetgroup": "New Hanover, North Carolina",
                  "orientation": "h",
                  "showlegend": true,
                  "textposition": "auto",
                  "type": "bar",
                  "x": [
                    0.794178548673127,
                    0.7888012928883265,
                    0.7885771617640636,
                    0.7883208034127143,
                    0.7880997323218417,
                    0.7875142613772274,
                    0.7865474519356787,
                    0.7864409846762036,
                    0.7843437477241922,
                    0.7835856618334146,
                    0.7794779724138728,
                    0.7788249501265101,
                    0.7745938969245127,
                    0.7736370583901125,
                    0.7733219697213802,
                    0.7716777388067538,
                    0.7697134521974136,
                    0.7678216060344111,
                    0.7556912925012419,
                    0.7550266987386808
                  ],
                  "xaxis": "x",
                  "y": [
                    "New Hanover, North Carolina",
                    "New Hanover, North Carolina",
                    "New Hanover, North Carolina",
                    "New Hanover, North Carolina",
                    "New Hanover, North Carolina",
                    "New Hanover, North Carolina",
                    "New Hanover, North Carolina",
                    "New Hanover, North Carolina",
                    "New Hanover, North Carolina",
                    "New Hanover, North Carolina",
                    "New Hanover, North Carolina",
                    "New Hanover, North Carolina",
                    "New Hanover, North Carolina",
                    "New Hanover, North Carolina",
                    "New Hanover, North Carolina",
                    "New Hanover, North Carolina",
                    "New Hanover, North Carolina",
                    "New Hanover, North Carolina",
                    "New Hanover, North Carolina",
                    "New Hanover, North Carolina"
                  ],
                  "yaxis": "y"
                },
                {
                  "alignmentgroup": "True",
                  "hovertemplate": "County_State=%{y}<br>desirability_year=%{x}<extra></extra>",
                  "legendgroup": "Miami-Dade, Florida",
                  "marker": {
                    "color": "rgb(255,127,0)",
                    "pattern": {
                      "shape": ""
                    }
                  },
                  "name": "Miami-Dade, Florida",
                  "offsetgroup": "Miami-Dade, Florida",
                  "orientation": "h",
                  "showlegend": true,
                  "textposition": "auto",
                  "type": "bar",
                  "x": [
                    0.7185317395382134,
                    0.7114407544892458,
                    0.7106193187468511,
                    0.704652475819734,
                    0.7033086873231768,
                    0.7032962913448313,
                    0.7030294840219292,
                    0.7017537586286938,
                    0.7000787136200887,
                    0.6984335750148968,
                    0.6983598246299708,
                    0.696565307746484,
                    0.6965115528791249,
                    0.6867115179530453,
                    0.6820307209240702,
                    0.6805083774784744,
                    0.6794079353468225,
                    0.679337337659753,
                    0.6741345753825642,
                    0.6715677117575748
                  ],
                  "xaxis": "x",
                  "y": [
                    "Miami-Dade, Florida",
                    "Miami-Dade, Florida",
                    "Miami-Dade, Florida",
                    "Miami-Dade, Florida",
                    "Miami-Dade, Florida",
                    "Miami-Dade, Florida",
                    "Miami-Dade, Florida",
                    "Miami-Dade, Florida",
                    "Miami-Dade, Florida",
                    "Miami-Dade, Florida",
                    "Miami-Dade, Florida",
                    "Miami-Dade, Florida",
                    "Miami-Dade, Florida",
                    "Miami-Dade, Florida",
                    "Miami-Dade, Florida",
                    "Miami-Dade, Florida",
                    "Miami-Dade, Florida",
                    "Miami-Dade, Florida",
                    "Miami-Dade, Florida",
                    "Miami-Dade, Florida"
                  ],
                  "yaxis": "y"
                },
                {
                  "alignmentgroup": "True",
                  "hovertemplate": "County_State=%{y}<br>desirability_year=%{x}<extra></extra>",
                  "legendgroup": "Bexar, Texas",
                  "marker": {
                    "color": "rgb(255,255,51)",
                    "pattern": {
                      "shape": ""
                    }
                  },
                  "name": "Bexar, Texas",
                  "offsetgroup": "Bexar, Texas",
                  "orientation": "h",
                  "showlegend": true,
                  "textposition": "auto",
                  "type": "bar",
                  "x": [
                    0.68592634034201,
                    0.6858465709788119,
                    0.6855838187793047,
                    0.6851606201628359,
                    0.6835013081063589,
                    0.6823040916289828,
                    0.6798454885314876,
                    0.6797465965921127,
                    0.6791265912858083,
                    0.6739263035710653,
                    0.6725575830681129,
                    0.6690221735958416,
                    0.6678091451909395,
                    0.6668945827131658,
                    0.6663046912523186,
                    0.6652260210581683,
                    0.6603508655766713,
                    0.6594667939202506,
                    0.6515035256091519,
                    0.6492728339249326
                  ],
                  "xaxis": "x",
                  "y": [
                    "Bexar, Texas",
                    "Bexar, Texas",
                    "Bexar, Texas",
                    "Bexar, Texas",
                    "Bexar, Texas",
                    "Bexar, Texas",
                    "Bexar, Texas",
                    "Bexar, Texas",
                    "Bexar, Texas",
                    "Bexar, Texas",
                    "Bexar, Texas",
                    "Bexar, Texas",
                    "Bexar, Texas",
                    "Bexar, Texas",
                    "Bexar, Texas",
                    "Bexar, Texas",
                    "Bexar, Texas",
                    "Bexar, Texas",
                    "Bexar, Texas",
                    "Bexar, Texas"
                  ],
                  "yaxis": "y"
                },
                {
                  "alignmentgroup": "True",
                  "hovertemplate": "County_State=%{y}<br>desirability_year=%{x}<extra></extra>",
                  "legendgroup": "Clark, Nevada",
                  "marker": {
                    "color": "rgb(166,86,40)",
                    "pattern": {
                      "shape": ""
                    }
                  },
                  "name": "Clark, Nevada",
                  "offsetgroup": "Clark, Nevada",
                  "orientation": "h",
                  "showlegend": true,
                  "textposition": "auto",
                  "type": "bar",
                  "x": [
                    0.6662949949689513,
                    0.6645808887288883,
                    0.6593074940154551,
                    0.6535942094986048,
                    0.6531470687007191,
                    0.6528145843844959,
                    0.6504020028834655,
                    0.6500476455412323,
                    0.6495287845526313,
                    0.6480408670091798,
                    0.6470641403637526,
                    0.6456346509251641,
                    0.6432490811159886,
                    0.6422055644506423,
                    0.6356971630057674,
                    0.6340725264136903,
                    0.6329536303642248,
                    0.6293933015216222,
                    0.6278364100252675,
                    0.6261673144965849
                  ],
                  "xaxis": "x",
                  "y": [
                    "Clark, Nevada",
                    "Clark, Nevada",
                    "Clark, Nevada",
                    "Clark, Nevada",
                    "Clark, Nevada",
                    "Clark, Nevada",
                    "Clark, Nevada",
                    "Clark, Nevada",
                    "Clark, Nevada",
                    "Clark, Nevada",
                    "Clark, Nevada",
                    "Clark, Nevada",
                    "Clark, Nevada",
                    "Clark, Nevada",
                    "Clark, Nevada",
                    "Clark, Nevada",
                    "Clark, Nevada",
                    "Clark, Nevada",
                    "Clark, Nevada",
                    "Clark, Nevada"
                  ],
                  "yaxis": "y"
                },
                {
                  "alignmentgroup": "True",
                  "hovertemplate": "County_State=%{y}<br>desirability_year=%{x}<extra></extra>",
                  "legendgroup": "Maricopa, Arizona",
                  "marker": {
                    "color": "rgb(247,129,191)",
                    "pattern": {
                      "shape": ""
                    }
                  },
                  "name": "Maricopa, Arizona",
                  "offsetgroup": "Maricopa, Arizona",
                  "orientation": "h",
                  "showlegend": true,
                  "textposition": "auto",
                  "type": "bar",
                  "x": [
                    0.5939307396717766,
                    0.5916803315163938,
                    0.5911822515873107,
                    0.5906685766497929,
                    0.5863901108313346,
                    0.5793886154374536,
                    0.5788997398276634,
                    0.578160042568371,
                    0.5781569762169487,
                    0.5778433680736629,
                    0.5757022208008055,
                    0.5718819628658945,
                    0.5701658211665942,
                    0.5692756568215306,
                    0.5691258805072336,
                    0.5645617954262588,
                    0.5644926887946885,
                    0.56198726908173,
                    0.5616680979114651,
                    0.5583212385145028
                  ],
                  "xaxis": "x",
                  "y": [
                    "Maricopa, Arizona",
                    "Maricopa, Arizona",
                    "Maricopa, Arizona",
                    "Maricopa, Arizona",
                    "Maricopa, Arizona",
                    "Maricopa, Arizona",
                    "Maricopa, Arizona",
                    "Maricopa, Arizona",
                    "Maricopa, Arizona",
                    "Maricopa, Arizona",
                    "Maricopa, Arizona",
                    "Maricopa, Arizona",
                    "Maricopa, Arizona",
                    "Maricopa, Arizona",
                    "Maricopa, Arizona",
                    "Maricopa, Arizona",
                    "Maricopa, Arizona",
                    "Maricopa, Arizona",
                    "Maricopa, Arizona",
                    "Maricopa, Arizona"
                  ],
                  "yaxis": "y"
                },
                {
                  "alignmentgroup": "True",
                  "hovertemplate": "County_State=%{y}<br>desirability_year=%{x}<extra></extra>",
                  "legendgroup": "Ada, Idaho",
                  "marker": {
                    "color": "rgb(153,153,153)",
                    "pattern": {
                      "shape": ""
                    }
                  },
                  "name": "Ada, Idaho",
                  "offsetgroup": "Ada, Idaho",
                  "orientation": "h",
                  "showlegend": true,
                  "textposition": "auto",
                  "type": "bar",
                  "x": [
                    0.5466347820875038,
                    0.5410409810285933,
                    0.5393899571768018,
                    0.5384742521882818,
                    0.5382854241195748,
                    0.5349121669328453,
                    0.5296524918254145,
                    0.5266083767160986,
                    0.5190997339645299,
                    0.5171720298121805,
                    0.5164191320784963,
                    0.515588165585167,
                    0.5142676800958117,
                    0.5127064407405896,
                    0.5064949773121585,
                    0.505976612289052,
                    0.5056641255964064,
                    0.5041378386459766,
                    0.4988314943438241,
                    0.4955402873297643
                  ],
                  "xaxis": "x",
                  "y": [
                    "Ada, Idaho",
                    "Ada, Idaho",
                    "Ada, Idaho",
                    "Ada, Idaho",
                    "Ada, Idaho",
                    "Ada, Idaho",
                    "Ada, Idaho",
                    "Ada, Idaho",
                    "Ada, Idaho",
                    "Ada, Idaho",
                    "Ada, Idaho",
                    "Ada, Idaho",
                    "Ada, Idaho",
                    "Ada, Idaho",
                    "Ada, Idaho",
                    "Ada, Idaho",
                    "Ada, Idaho",
                    "Ada, Idaho",
                    "Ada, Idaho",
                    "Ada, Idaho"
                  ],
                  "yaxis": "y"
                }
              ],
              "layout": {
                "barmode": "relative",
                "legend": {
                  "title": {
                    "text": "County, State"
                  },
                  "tracegroupgap": 0
                },
                "template": {
                  "data": {
                    "bar": [
                      {
                        "error_x": {
                          "color": "#2a3f5f"
                        },
                        "error_y": {
                          "color": "#2a3f5f"
                        },
                        "marker": {
                          "line": {
                            "color": "#E5ECF6",
                            "width": 0.5
                          },
                          "pattern": {
                            "fillmode": "overlay",
                            "size": 10,
                            "solidity": 0.2
                          }
                        },
                        "type": "bar"
                      }
                    ],
                    "barpolar": [
                      {
                        "marker": {
                          "line": {
                            "color": "#E5ECF6",
                            "width": 0.5
                          },
                          "pattern": {
                            "fillmode": "overlay",
                            "size": 10,
                            "solidity": 0.2
                          }
                        },
                        "type": "barpolar"
                      }
                    ],
                    "carpet": [
                      {
                        "aaxis": {
                          "endlinecolor": "#2a3f5f",
                          "gridcolor": "white",
                          "linecolor": "white",
                          "minorgridcolor": "white",
                          "startlinecolor": "#2a3f5f"
                        },
                        "baxis": {
                          "endlinecolor": "#2a3f5f",
                          "gridcolor": "white",
                          "linecolor": "white",
                          "minorgridcolor": "white",
                          "startlinecolor": "#2a3f5f"
                        },
                        "type": "carpet"
                      }
                    ],
                    "choropleth": [
                      {
                        "colorbar": {
                          "outlinewidth": 0,
                          "ticks": ""
                        },
                        "type": "choropleth"
                      }
                    ],
                    "contour": [
                      {
                        "colorbar": {
                          "outlinewidth": 0,
                          "ticks": ""
                        },
                        "colorscale": [
                          [
                            0,
                            "#0d0887"
                          ],
                          [
                            0.1111111111111111,
                            "#46039f"
                          ],
                          [
                            0.2222222222222222,
                            "#7201a8"
                          ],
                          [
                            0.3333333333333333,
                            "#9c179e"
                          ],
                          [
                            0.4444444444444444,
                            "#bd3786"
                          ],
                          [
                            0.5555555555555556,
                            "#d8576b"
                          ],
                          [
                            0.6666666666666666,
                            "#ed7953"
                          ],
                          [
                            0.7777777777777778,
                            "#fb9f3a"
                          ],
                          [
                            0.8888888888888888,
                            "#fdca26"
                          ],
                          [
                            1,
                            "#f0f921"
                          ]
                        ],
                        "type": "contour"
                      }
                    ],
                    "contourcarpet": [
                      {
                        "colorbar": {
                          "outlinewidth": 0,
                          "ticks": ""
                        },
                        "type": "contourcarpet"
                      }
                    ],
                    "heatmap": [
                      {
                        "colorbar": {
                          "outlinewidth": 0,
                          "ticks": ""
                        },
                        "colorscale": [
                          [
                            0,
                            "#0d0887"
                          ],
                          [
                            0.1111111111111111,
                            "#46039f"
                          ],
                          [
                            0.2222222222222222,
                            "#7201a8"
                          ],
                          [
                            0.3333333333333333,
                            "#9c179e"
                          ],
                          [
                            0.4444444444444444,
                            "#bd3786"
                          ],
                          [
                            0.5555555555555556,
                            "#d8576b"
                          ],
                          [
                            0.6666666666666666,
                            "#ed7953"
                          ],
                          [
                            0.7777777777777778,
                            "#fb9f3a"
                          ],
                          [
                            0.8888888888888888,
                            "#fdca26"
                          ],
                          [
                            1,
                            "#f0f921"
                          ]
                        ],
                        "type": "heatmap"
                      }
                    ],
                    "heatmapgl": [
                      {
                        "colorbar": {
                          "outlinewidth": 0,
                          "ticks": ""
                        },
                        "colorscale": [
                          [
                            0,
                            "#0d0887"
                          ],
                          [
                            0.1111111111111111,
                            "#46039f"
                          ],
                          [
                            0.2222222222222222,
                            "#7201a8"
                          ],
                          [
                            0.3333333333333333,
                            "#9c179e"
                          ],
                          [
                            0.4444444444444444,
                            "#bd3786"
                          ],
                          [
                            0.5555555555555556,
                            "#d8576b"
                          ],
                          [
                            0.6666666666666666,
                            "#ed7953"
                          ],
                          [
                            0.7777777777777778,
                            "#fb9f3a"
                          ],
                          [
                            0.8888888888888888,
                            "#fdca26"
                          ],
                          [
                            1,
                            "#f0f921"
                          ]
                        ],
                        "type": "heatmapgl"
                      }
                    ],
                    "histogram": [
                      {
                        "marker": {
                          "pattern": {
                            "fillmode": "overlay",
                            "size": 10,
                            "solidity": 0.2
                          }
                        },
                        "type": "histogram"
                      }
                    ],
                    "histogram2d": [
                      {
                        "colorbar": {
                          "outlinewidth": 0,
                          "ticks": ""
                        },
                        "colorscale": [
                          [
                            0,
                            "#0d0887"
                          ],
                          [
                            0.1111111111111111,
                            "#46039f"
                          ],
                          [
                            0.2222222222222222,
                            "#7201a8"
                          ],
                          [
                            0.3333333333333333,
                            "#9c179e"
                          ],
                          [
                            0.4444444444444444,
                            "#bd3786"
                          ],
                          [
                            0.5555555555555556,
                            "#d8576b"
                          ],
                          [
                            0.6666666666666666,
                            "#ed7953"
                          ],
                          [
                            0.7777777777777778,
                            "#fb9f3a"
                          ],
                          [
                            0.8888888888888888,
                            "#fdca26"
                          ],
                          [
                            1,
                            "#f0f921"
                          ]
                        ],
                        "type": "histogram2d"
                      }
                    ],
                    "histogram2dcontour": [
                      {
                        "colorbar": {
                          "outlinewidth": 0,
                          "ticks": ""
                        },
                        "colorscale": [
                          [
                            0,
                            "#0d0887"
                          ],
                          [
                            0.1111111111111111,
                            "#46039f"
                          ],
                          [
                            0.2222222222222222,
                            "#7201a8"
                          ],
                          [
                            0.3333333333333333,
                            "#9c179e"
                          ],
                          [
                            0.4444444444444444,
                            "#bd3786"
                          ],
                          [
                            0.5555555555555556,
                            "#d8576b"
                          ],
                          [
                            0.6666666666666666,
                            "#ed7953"
                          ],
                          [
                            0.7777777777777778,
                            "#fb9f3a"
                          ],
                          [
                            0.8888888888888888,
                            "#fdca26"
                          ],
                          [
                            1,
                            "#f0f921"
                          ]
                        ],
                        "type": "histogram2dcontour"
                      }
                    ],
                    "mesh3d": [
                      {
                        "colorbar": {
                          "outlinewidth": 0,
                          "ticks": ""
                        },
                        "type": "mesh3d"
                      }
                    ],
                    "parcoords": [
                      {
                        "line": {
                          "colorbar": {
                            "outlinewidth": 0,
                            "ticks": ""
                          }
                        },
                        "type": "parcoords"
                      }
                    ],
                    "pie": [
                      {
                        "automargin": true,
                        "type": "pie"
                      }
                    ],
                    "scatter": [
                      {
                        "fillpattern": {
                          "fillmode": "overlay",
                          "size": 10,
                          "solidity": 0.2
                        },
                        "type": "scatter"
                      }
                    ],
                    "scatter3d": [
                      {
                        "line": {
                          "colorbar": {
                            "outlinewidth": 0,
                            "ticks": ""
                          }
                        },
                        "marker": {
                          "colorbar": {
                            "outlinewidth": 0,
                            "ticks": ""
                          }
                        },
                        "type": "scatter3d"
                      }
                    ],
                    "scattercarpet": [
                      {
                        "marker": {
                          "colorbar": {
                            "outlinewidth": 0,
                            "ticks": ""
                          }
                        },
                        "type": "scattercarpet"
                      }
                    ],
                    "scattergeo": [
                      {
                        "marker": {
                          "colorbar": {
                            "outlinewidth": 0,
                            "ticks": ""
                          }
                        },
                        "type": "scattergeo"
                      }
                    ],
                    "scattergl": [
                      {
                        "marker": {
                          "colorbar": {
                            "outlinewidth": 0,
                            "ticks": ""
                          }
                        },
                        "type": "scattergl"
                      }
                    ],
                    "scattermapbox": [
                      {
                        "marker": {
                          "colorbar": {
                            "outlinewidth": 0,
                            "ticks": ""
                          }
                        },
                        "type": "scattermapbox"
                      }
                    ],
                    "scatterpolar": [
                      {
                        "marker": {
                          "colorbar": {
                            "outlinewidth": 0,
                            "ticks": ""
                          }
                        },
                        "type": "scatterpolar"
                      }
                    ],
                    "scatterpolargl": [
                      {
                        "marker": {
                          "colorbar": {
                            "outlinewidth": 0,
                            "ticks": ""
                          }
                        },
                        "type": "scatterpolargl"
                      }
                    ],
                    "scatterternary": [
                      {
                        "marker": {
                          "colorbar": {
                            "outlinewidth": 0,
                            "ticks": ""
                          }
                        },
                        "type": "scatterternary"
                      }
                    ],
                    "surface": [
                      {
                        "colorbar": {
                          "outlinewidth": 0,
                          "ticks": ""
                        },
                        "colorscale": [
                          [
                            0,
                            "#0d0887"
                          ],
                          [
                            0.1111111111111111,
                            "#46039f"
                          ],
                          [
                            0.2222222222222222,
                            "#7201a8"
                          ],
                          [
                            0.3333333333333333,
                            "#9c179e"
                          ],
                          [
                            0.4444444444444444,
                            "#bd3786"
                          ],
                          [
                            0.5555555555555556,
                            "#d8576b"
                          ],
                          [
                            0.6666666666666666,
                            "#ed7953"
                          ],
                          [
                            0.7777777777777778,
                            "#fb9f3a"
                          ],
                          [
                            0.8888888888888888,
                            "#fdca26"
                          ],
                          [
                            1,
                            "#f0f921"
                          ]
                        ],
                        "type": "surface"
                      }
                    ],
                    "table": [
                      {
                        "cells": {
                          "fill": {
                            "color": "#EBF0F8"
                          },
                          "line": {
                            "color": "white"
                          }
                        },
                        "header": {
                          "fill": {
                            "color": "#C8D4E3"
                          },
                          "line": {
                            "color": "white"
                          }
                        },
                        "type": "table"
                      }
                    ]
                  },
                  "layout": {
                    "annotationdefaults": {
                      "arrowcolor": "#2a3f5f",
                      "arrowhead": 0,
                      "arrowwidth": 1
                    },
                    "autotypenumbers": "strict",
                    "coloraxis": {
                      "colorbar": {
                        "outlinewidth": 0,
                        "ticks": ""
                      }
                    },
                    "colorscale": {
                      "diverging": [
                        [
                          0,
                          "#8e0152"
                        ],
                        [
                          0.1,
                          "#c51b7d"
                        ],
                        [
                          0.2,
                          "#de77ae"
                        ],
                        [
                          0.3,
                          "#f1b6da"
                        ],
                        [
                          0.4,
                          "#fde0ef"
                        ],
                        [
                          0.5,
                          "#f7f7f7"
                        ],
                        [
                          0.6,
                          "#e6f5d0"
                        ],
                        [
                          0.7,
                          "#b8e186"
                        ],
                        [
                          0.8,
                          "#7fbc41"
                        ],
                        [
                          0.9,
                          "#4d9221"
                        ],
                        [
                          1,
                          "#276419"
                        ]
                      ],
                      "sequential": [
                        [
                          0,
                          "#0d0887"
                        ],
                        [
                          0.1111111111111111,
                          "#46039f"
                        ],
                        [
                          0.2222222222222222,
                          "#7201a8"
                        ],
                        [
                          0.3333333333333333,
                          "#9c179e"
                        ],
                        [
                          0.4444444444444444,
                          "#bd3786"
                        ],
                        [
                          0.5555555555555556,
                          "#d8576b"
                        ],
                        [
                          0.6666666666666666,
                          "#ed7953"
                        ],
                        [
                          0.7777777777777778,
                          "#fb9f3a"
                        ],
                        [
                          0.8888888888888888,
                          "#fdca26"
                        ],
                        [
                          1,
                          "#f0f921"
                        ]
                      ],
                      "sequentialminus": [
                        [
                          0,
                          "#0d0887"
                        ],
                        [
                          0.1111111111111111,
                          "#46039f"
                        ],
                        [
                          0.2222222222222222,
                          "#7201a8"
                        ],
                        [
                          0.3333333333333333,
                          "#9c179e"
                        ],
                        [
                          0.4444444444444444,
                          "#bd3786"
                        ],
                        [
                          0.5555555555555556,
                          "#d8576b"
                        ],
                        [
                          0.6666666666666666,
                          "#ed7953"
                        ],
                        [
                          0.7777777777777778,
                          "#fb9f3a"
                        ],
                        [
                          0.8888888888888888,
                          "#fdca26"
                        ],
                        [
                          1,
                          "#f0f921"
                        ]
                      ]
                    },
                    "colorway": [
                      "#636efa",
                      "#EF553B",
                      "#00cc96",
                      "#ab63fa",
                      "#FFA15A",
                      "#19d3f3",
                      "#FF6692",
                      "#B6E880",
                      "#FF97FF",
                      "#FECB52"
                    ],
                    "font": {
                      "color": "#2a3f5f"
                    },
                    "geo": {
                      "bgcolor": "white",
                      "lakecolor": "white",
                      "landcolor": "#E5ECF6",
                      "showlakes": true,
                      "showland": true,
                      "subunitcolor": "white"
                    },
                    "hoverlabel": {
                      "align": "left"
                    },
                    "hovermode": "closest",
                    "mapbox": {
                      "style": "light"
                    },
                    "paper_bgcolor": "white",
                    "plot_bgcolor": "#E5ECF6",
                    "polar": {
                      "angularaxis": {
                        "gridcolor": "white",
                        "linecolor": "white",
                        "ticks": ""
                      },
                      "bgcolor": "#E5ECF6",
                      "radialaxis": {
                        "gridcolor": "white",
                        "linecolor": "white",
                        "ticks": ""
                      }
                    },
                    "scene": {
                      "xaxis": {
                        "backgroundcolor": "#E5ECF6",
                        "gridcolor": "white",
                        "gridwidth": 2,
                        "linecolor": "white",
                        "showbackground": true,
                        "ticks": "",
                        "zerolinecolor": "white"
                      },
                      "yaxis": {
                        "backgroundcolor": "#E5ECF6",
                        "gridcolor": "white",
                        "gridwidth": 2,
                        "linecolor": "white",
                        "showbackground": true,
                        "ticks": "",
                        "zerolinecolor": "white"
                      },
                      "zaxis": {
                        "backgroundcolor": "#E5ECF6",
                        "gridcolor": "white",
                        "gridwidth": 2,
                        "linecolor": "white",
                        "showbackground": true,
                        "ticks": "",
                        "zerolinecolor": "white"
                      }
                    },
                    "shapedefaults": {
                      "line": {
                        "color": "#2a3f5f"
                      }
                    },
                    "ternary": {
                      "aaxis": {
                        "gridcolor": "white",
                        "linecolor": "white",
                        "ticks": ""
                      },
                      "baxis": {
                        "gridcolor": "white",
                        "linecolor": "white",
                        "ticks": ""
                      },
                      "bgcolor": "#E5ECF6",
                      "caxis": {
                        "gridcolor": "white",
                        "linecolor": "white",
                        "ticks": ""
                      }
                    },
                    "title": {
                      "x": 0.05
                    },
                    "xaxis": {
                      "automargin": true,
                      "gridcolor": "white",
                      "linecolor": "white",
                      "ticks": "",
                      "title": {
                        "standoff": 15
                      },
                      "zerolinecolor": "white",
                      "zerolinewidth": 2
                    },
                    "yaxis": {
                      "automargin": true,
                      "gridcolor": "white",
                      "linecolor": "white",
                      "ticks": "",
                      "title": {
                        "standoff": 15
                      },
                      "zerolinecolor": "white",
                      "zerolinewidth": 2
                    }
                  }
                },
                "title": {
                  "text": "Yearly Desirability in Top 10 Places to Retire (2023) based on migration patterns"
                },
                "xaxis": {
                  "anchor": "y",
                  "domain": [
                    0,
                    1
                  ],
                  "title": {
                    "text": "Yearly Desirability Score"
                  }
                },
                "yaxis": {
                  "anchor": "x",
                  "categoryarray": [
                    "Ada, Idaho",
                    "Maricopa, Arizona",
                    "Clark, Nevada",
                    "Bexar, Texas",
                    "Miami-Dade, Florida",
                    "New Hanover, North Carolina",
                    "Collin, Texas",
                    "Wake, North Carolina",
                    "Duval, Florida"
                  ],
                  "categoryorder": "array",
                  "domain": [
                    0,
                    1
                  ],
                  "title": {
                    "text": "County, State"
                  }
                }
              }
            }
          },
          "metadata": {},
          "output_type": "display_data"
        }
      ],
      "source": [
        "import pandas as pd\n",
        "import plotly.express as px\n",
        "\n",
        "# Assuming yearly_desirability is your DataFrame with yearly desirability data\n",
        "# Make sure it has the columns 'County_Name', 'State', 'desirability_year'\n",
        "\n",
        "# Create a new column for the legend\n",
        "yearly_desirability['County_State'] = yearly_desirability['County_Name'] + ', ' + yearly_desirability['State']\n",
        "\n",
        "# Sort values by desirability\n",
        "yearly_desirability = yearly_desirability.sort_values(by='desirability_year', ascending=False)\n",
        "\n",
        "# Create the horizontal bar plot\n",
        "fig_bar = px.bar(\n",
        "    yearly_desirability,\n",
        "    x='desirability_year',\n",
        "    y='County_State',\n",
        "    color='County_State',  # Use the new column for color coding\n",
        "    color_discrete_sequence=px.colors.qualitative.Set1,  # Adjust colors as needed\n",
        "    title='Yearly Desirability in Top 10 Places to Retire (2023) based on migration patterns',\n",
        "    orientation='h'\n",
        ")\n",
        "\n",
        "# Update layout for better readability\n",
        "fig_bar.update_layout(\n",
        "    xaxis_title='Yearly Desirability Score',\n",
        "    yaxis_title='County, State',\n",
        "    legend_title='County, State',\n",
        ")\n",
        "\n",
        "# Show the bar plot\n",
        "fig_bar.show()\n"
      ]
    },
    {
      "cell_type": "code",
      "execution_count": 236,
      "metadata": {},
      "outputs": [
        {
          "name": "stdout",
          "output_type": "stream",
          "text": [
            "     County_Name           State  Rank\n",
            "14        Orange         Florida   1.0\n",
            "3          Clark          Nevada   2.0\n",
            "8       Hennepin       Minnesota   3.0\n",
            "1          Bexar           Texas   3.0\n",
            "10      Maricopa         Arizona   3.5\n",
            "9   Hillsborough         Florida   4.0\n",
            "0            Ada           Idaho   4.0\n",
            "11    Miami-Dade         Florida   5.0\n",
            "2        Broward         Florida   5.0\n",
            "13   New Hanover  North Carolina   6.0\n",
            "7       Hamilton            Ohio   7.0\n",
            "4         Collin           Texas   7.0\n",
            "15      Pinellas         Florida   8.0\n",
            "5          Duval         Florida   9.0\n",
            "12       Natrona         Wyoming   9.0\n",
            "6         Fulton         Georgia  10.0\n",
            "16          Wake  North Carolina  10.0\n",
            "      year   fips month  temp County_Name    State  percip  Rank\n",
            "0     2004   4013   Jan  53.9    Maricopa  Arizona    0.52   3.5\n",
            "1     2005   4013   Jan  54.3    Maricopa  Arizona    2.45   3.5\n",
            "2     2006   4013   Jan  54.0    Maricopa  Arizona    0.00   3.5\n",
            "3     2007   4013   Jan  49.8    Maricopa  Arizona    0.68   3.5\n",
            "4     2008   4013   Jan  51.1    Maricopa  Arizona    2.19   3.5\n",
            "...    ...    ...   ...   ...         ...      ...     ...   ...\n",
            "4075  2019  56025   Dec  25.0     Natrona  Wyoming    0.51   9.0\n",
            "4076  2020  56025   Dec  25.5     Natrona  Wyoming    0.62   9.0\n",
            "4077  2021  56025   Dec  27.7     Natrona  Wyoming    0.41   9.0\n",
            "4078  2022  56025   Dec  21.0     Natrona  Wyoming    0.66   9.0\n",
            "4079  2023  56025   Dec  30.3     Natrona  Wyoming    0.14   9.0\n",
            "\n",
            "[4080 rows x 8 columns]\n"
          ]
        }
      ],
      "source": [
        "import pandas as pd\n",
        "\n",
        "# First list of counties\n",
        "data1 = [\n",
        "    {\"Rank\": 1, \"County_Name\": \"Maricopa\", \"State\": \"Arizona\"},\n",
        "    {\"Rank\": 2, \"County_Name\": \"Clark\", \"State\": \"Nevada\"},\n",
        "    {\"Rank\": 3, \"County_Name\": \"Bexar\", \"State\": \"Texas\"},\n",
        "    {\"Rank\": 4, \"County_Name\": \"Ada\", \"State\": \"Idaho\"},\n",
        "    {\"Rank\": 6, \"County_Name\": \"New Hanover\", \"State\": \"North Carolina\"},\n",
        "    {\"Rank\": 7, \"County_Name\": \"Collin\", \"State\": \"Texas\"},\n",
        "    {\"Rank\": 8, \"County_Name\": \"Miami-Dade\", \"State\": \"Florida\"},\n",
        "    {\"Rank\": 9, \"County_Name\": \"Duval\", \"State\": \"Florida\"},\n",
        "    {\"Rank\": 10, \"County_Name\": \"Wake\", \"State\": \"North Carolina\"},\n",
        "]\n",
        "\n",
        "# Create DataFrames\n",
        "df1 = pd.DataFrame(data1)\n",
        "df2 = pd.DataFrame(data2)\n",
        "\n",
        "# Combine both DataFrames\n",
        "combined_df = pd.concat([df1, df2], ignore_index=True)\n",
        "\n",
        "# Group by County_Name and State, and calculate the average rank\n",
        "final_df = combined_df.groupby(['County_Name', 'State']).agg({\n",
        "    'Rank': 'mean'  # Average rank for counties appearing in both lists\n",
        "}).reset_index()\n",
        "\n",
        "# Sort by rank\n",
        "final_df = final_df.sort_values(by='Rank')\n",
        "\n",
        "# Display the final DataFrame\n",
        "print(final_df)\n",
        "\n",
        "top_20_list = pd.merge(clim, final_df, on=['County_Name', 'State'], how='inner')\n",
        "print( top_20_list)\n"
      ]
    },
    {
      "cell_type": "code",
      "execution_count": null,
      "metadata": {},
      "outputs": [],
      "source": []
    },
    {
      "cell_type": "code",
      "execution_count": 265,
      "metadata": {},
      "outputs": [],
      "source": [
        "# Define ideal conditions for each month using abbreviations\n",
        "ideal_conditions = {\n",
        "    'Jan': {'temp_range': (40, 60), 'percip_range': (1, 2)},\n",
        "    'Feb': {'temp_range': (40, 65), 'percip_range': (1, 2)},\n",
        "    'Mar': {'temp_range': (40, 70), 'percip_range': (1, 3)},\n",
        "    'Apr': {'temp_range': (50, 75), 'percip_range': (2, 3)},\n",
        "    'May': {'temp_range': (60, 80), 'percip_range': (1, 3)},\n",
        "    'Jun': {'temp_range': (75, 85), 'percip_range': (1, 2)},\n",
        "    'Jul': {'temp_range': (75, 90), 'percip_range': (0, 1)},\n",
        "    'Aug': {'temp_range': (75, 90), 'percip_range': (1, 2)},\n",
        "    'Sep': {'temp_range': (60, 80), 'percip_range': (2, 3)},\n",
        "    'Oct': {'temp_range': (50, 75), 'percip_range': (1, 2)},\n",
        "    'Nov': {'temp_range': (40, 70), 'percip_range': (1, 3)},\n",
        "    'Dec': {'temp_range': (30, 60), 'percip_range': (1, 2)},\n",
        "}\n",
        "\n"
      ]
    },
    {
      "cell_type": "code",
      "execution_count": 266,
      "metadata": {},
      "outputs": [
        {
          "data": {
            "text/html": [
              "<div>\n",
              "<style scoped>\n",
              "    .dataframe tbody tr th:only-of-type {\n",
              "        vertical-align: middle;\n",
              "    }\n",
              "\n",
              "    .dataframe tbody tr th {\n",
              "        vertical-align: top;\n",
              "    }\n",
              "\n",
              "    .dataframe thead th {\n",
              "        text-align: right;\n",
              "    }\n",
              "</style>\n",
              "<table border=\"1\" class=\"dataframe\">\n",
              "  <thead>\n",
              "    <tr style=\"text-align: right;\">\n",
              "      <th></th>\n",
              "      <th>County_Name</th>\n",
              "      <th>State</th>\n",
              "      <th>month</th>\n",
              "      <th>avg_temp</th>\n",
              "      <th>avg_percip</th>\n",
              "    </tr>\n",
              "  </thead>\n",
              "  <tbody>\n",
              "    <tr>\n",
              "      <th>0</th>\n",
              "      <td>Abbeville</td>\n",
              "      <td>South Carolina</td>\n",
              "      <td>Apr</td>\n",
              "      <td>61.1</td>\n",
              "      <td>6.18</td>\n",
              "    </tr>\n",
              "    <tr>\n",
              "      <th>1</th>\n",
              "      <td>Abbeville</td>\n",
              "      <td>South Carolina</td>\n",
              "      <td>Aug</td>\n",
              "      <td>80.0</td>\n",
              "      <td>5.13</td>\n",
              "    </tr>\n",
              "    <tr>\n",
              "      <th>2</th>\n",
              "      <td>Abbeville</td>\n",
              "      <td>South Carolina</td>\n",
              "      <td>Dec</td>\n",
              "      <td>47.8</td>\n",
              "      <td>4.09</td>\n",
              "    </tr>\n",
              "    <tr>\n",
              "      <th>3</th>\n",
              "      <td>Abbeville</td>\n",
              "      <td>South Carolina</td>\n",
              "      <td>Feb</td>\n",
              "      <td>54.8</td>\n",
              "      <td>4.27</td>\n",
              "    </tr>\n",
              "    <tr>\n",
              "      <th>4</th>\n",
              "      <td>Abbeville</td>\n",
              "      <td>South Carolina</td>\n",
              "      <td>Jan</td>\n",
              "      <td>48.6</td>\n",
              "      <td>8.26</td>\n",
              "    </tr>\n",
              "  </tbody>\n",
              "</table>\n",
              "</div>"
            ],
            "text/plain": [
              "  County_Name           State month  avg_temp  avg_percip\n",
              "0   Abbeville  South Carolina   Apr      61.1        6.18\n",
              "1   Abbeville  South Carolina   Aug      80.0        5.13\n",
              "2   Abbeville  South Carolina   Dec      47.8        4.09\n",
              "3   Abbeville  South Carolina   Feb      54.8        4.27\n",
              "4   Abbeville  South Carolina   Jan      48.6        8.26"
            ]
          },
          "execution_count": 266,
          "metadata": {},
          "output_type": "execute_result"
        }
      ],
      "source": [
        "clim_2023 = clim[clim['year'] == 2023]\n",
        "\n",
        "\n",
        "monthly_averages = clim_2023.groupby(['County_Name', 'State', 'month']).agg(\n",
        "    avg_temp=('temp', 'mean'),\n",
        "    avg_percip=('percip', 'mean')\n",
        ").reset_index()\n",
        "\n",
        "\n",
        "monthly_averages.head()\n"
      ]
    },
    {
      "cell_type": "code",
      "execution_count": 267,
      "metadata": {},
      "outputs": [],
      "source": [
        "\n",
        "def evaluate_conditions(row):\n",
        "    month_name = row['month']\n",
        "    temp_range = ideal_conditions[month_name]['temp_range']\n",
        "    percip_range = ideal_conditions[month_name]['percip_range']\n",
        "    \n",
        "    # Score temperature\n",
        "    temp_score = 0\n",
        "    if temp_range[0] <= row['avg_temp'] <= temp_range[1]:\n",
        "        temp_score = 1  # Perfect score for being within range\n",
        "    else:\n",
        "        # Scale score based on distance from ideal range\n",
        "        temp_score = max(0, min(1, (temp_range[1] - row['avg_temp']) / (temp_range[1] - temp_range[0])))\n",
        "\n",
        "    # Score precipitation\n",
        "    percip_score = 0\n",
        "    if percip_range[0] <= row['avg_percip'] <= percip_range[1]:\n",
        "        percip_score = 1  # Perfect score for being within range\n",
        "    else:\n",
        "        # Scale score based on distance from ideal range\n",
        "        percip_score = max(0, min(1, (percip_range[1] - row['avg_percip']) / (percip_range[1] - percip_range[0])))\n",
        "    \n",
        "    return (temp_score *.6  + percip_score) *.4 / 2  # Average score\n",
        "\n",
        "# Apply evaluation function\n",
        "monthly_averages['score'] = monthly_averages.apply(evaluate_conditions, axis=1)\n"
      ]
    },
    {
      "cell_type": "code",
      "execution_count": 268,
      "metadata": {},
      "outputs": [
        {
          "name": "stdout",
          "output_type": "stream",
          "text": [
            "Most Desirable County in 2023:\n",
            "     County_Name       State  score\n",
            "1691  Los Alamos  New Mexico   0.32\n",
            "866        Emery        Utah   0.32\n",
            "668        Crook      Oregon   0.32\n",
            "1252     Hidalgo  New Mexico   0.32\n",
            "635     Costilla    Colorado   0.32\n",
            "1910    Minidoka       Idaho   0.32\n",
            "1196      Harney      Oregon   0.32\n",
            "2725        Taos  New Mexico   0.32\n",
            "2496    Santa Fe  New Mexico   0.32\n",
            "91        Asotin  Washington   0.32\n"
          ]
        }
      ],
      "source": [
        "# Apply evaluation function\n",
        "final_scores = monthly_averages.groupby(['County_Name', 'State']).agg({'score': 'mean'}).reset_index()\n",
        "\n",
        "# Sort by score to find the most desirable county\n",
        "best_weather_locations = final_scores.sort_values(by='score', ascending = False)\n",
        "\n",
        "# Display the most desirable county\n",
        "print(\"Most Desirable County in 2023:\")\n",
        "print(best_weather_locations.head(10))\n"
      ]
    },
    {
      "cell_type": "code",
      "execution_count": 269,
      "metadata": {},
      "outputs": [
        {
          "data": {
            "application/vnd.plotly.v1+json": {
              "config": {
                "plotlyServerURL": "https://plot.ly"
              },
              "data": [
                {
                  "hovertemplate": "County_State=Los Alamos, New Mexico<br>month=%{x}<br>temp=%{y}<extra></extra>",
                  "legendgroup": "Los Alamos, New Mexico",
                  "line": {
                    "color": "#636efa",
                    "dash": "solid"
                  },
                  "marker": {
                    "symbol": "circle"
                  },
                  "mode": "markers+lines",
                  "name": "Los Alamos, New Mexico",
                  "orientation": "v",
                  "showlegend": true,
                  "type": "scatter",
                  "x": [
                    "Jan",
                    "Feb",
                    "Mar",
                    "Apr",
                    "May",
                    "Jun",
                    "Jul",
                    "Aug",
                    "Sep",
                    "Oct",
                    "Nov",
                    "Dec"
                  ],
                  "xaxis": "x",
                  "y": [
                    27.6,
                    29.7,
                    35,
                    44.6,
                    55.3,
                    61.4,
                    73,
                    68.4,
                    61.2,
                    51.1,
                    38.6,
                    31.1
                  ],
                  "yaxis": "y"
                },
                {
                  "hovertemplate": "County_State=Emery, Utah<br>month=%{x}<br>temp=%{y}<extra></extra>",
                  "legendgroup": "Emery, Utah",
                  "line": {
                    "color": "#EF553B",
                    "dash": "solid"
                  },
                  "marker": {
                    "symbol": "circle"
                  },
                  "mode": "markers+lines",
                  "name": "Emery, Utah",
                  "orientation": "v",
                  "showlegend": true,
                  "type": "scatter",
                  "x": [
                    "Jan",
                    "Feb",
                    "Mar",
                    "Apr",
                    "May",
                    "Jun",
                    "Jul",
                    "Aug",
                    "Sep",
                    "Oct",
                    "Nov",
                    "Dec"
                  ],
                  "xaxis": "x",
                  "y": [
                    26.2,
                    27.3,
                    33.9,
                    46.7,
                    60.8,
                    66.1,
                    78.4,
                    73.4,
                    65,
                    53,
                    40,
                    32.9
                  ],
                  "yaxis": "y"
                },
                {
                  "hovertemplate": "County_State=Crook, Oregon<br>month=%{x}<br>temp=%{y}<extra></extra>",
                  "legendgroup": "Crook, Oregon",
                  "line": {
                    "color": "#00cc96",
                    "dash": "solid"
                  },
                  "marker": {
                    "symbol": "circle"
                  },
                  "mode": "markers+lines",
                  "name": "Crook, Oregon",
                  "orientation": "v",
                  "showlegend": true,
                  "type": "scatter",
                  "x": [
                    "Jan",
                    "Feb",
                    "Mar",
                    "Apr",
                    "May",
                    "Jun",
                    "Jul",
                    "Aug",
                    "Sep",
                    "Oct",
                    "Nov",
                    "Dec"
                  ],
                  "xaxis": "x",
                  "y": [
                    29.7,
                    30.2,
                    30.4,
                    41.6,
                    53.6,
                    58.8,
                    68.6,
                    66.9,
                    55.6,
                    48.2,
                    37.9,
                    35.1
                  ],
                  "yaxis": "y"
                },
                {
                  "hovertemplate": "County_State=Hidalgo, New Mexico<br>month=%{x}<br>temp=%{y}<extra></extra>",
                  "legendgroup": "Hidalgo, New Mexico",
                  "line": {
                    "color": "#ab63fa",
                    "dash": "solid"
                  },
                  "marker": {
                    "symbol": "circle"
                  },
                  "mode": "markers+lines",
                  "name": "Hidalgo, New Mexico",
                  "orientation": "v",
                  "showlegend": true,
                  "type": "scatter",
                  "x": [
                    "Jan",
                    "Feb",
                    "Mar",
                    "Apr",
                    "May",
                    "Jun",
                    "Jul",
                    "Aug",
                    "Sep",
                    "Oct",
                    "Nov",
                    "Dec"
                  ],
                  "xaxis": "x",
                  "y": [
                    40.8,
                    42.3,
                    49.5,
                    59.4,
                    66.8,
                    75.2,
                    83.9,
                    80.3,
                    75.5,
                    65,
                    53.2,
                    44.3
                  ],
                  "yaxis": "y"
                },
                {
                  "hovertemplate": "County_State=Costilla, Colorado<br>month=%{x}<br>temp=%{y}<extra></extra>",
                  "legendgroup": "Costilla, Colorado",
                  "line": {
                    "color": "#FFA15A",
                    "dash": "solid"
                  },
                  "marker": {
                    "symbol": "circle"
                  },
                  "mode": "markers+lines",
                  "name": "Costilla, Colorado",
                  "orientation": "v",
                  "showlegend": true,
                  "type": "scatter",
                  "x": [
                    "Jan",
                    "Feb",
                    "Mar",
                    "Apr",
                    "May",
                    "Jun",
                    "Jul",
                    "Aug",
                    "Sep",
                    "Oct",
                    "Nov",
                    "Dec"
                  ],
                  "xaxis": "x",
                  "y": [
                    20.6,
                    23,
                    28.7,
                    37.5,
                    49,
                    55.5,
                    66.3,
                    62.6,
                    55.1,
                    45.2,
                    33.7,
                    25.1
                  ],
                  "yaxis": "y"
                },
                {
                  "hovertemplate": "County_State=Minidoka, Idaho<br>month=%{x}<br>temp=%{y}<extra></extra>",
                  "legendgroup": "Minidoka, Idaho",
                  "line": {
                    "color": "#19d3f3",
                    "dash": "solid"
                  },
                  "marker": {
                    "symbol": "circle"
                  },
                  "mode": "markers+lines",
                  "name": "Minidoka, Idaho",
                  "orientation": "v",
                  "showlegend": true,
                  "type": "scatter",
                  "x": [
                    "Jan",
                    "Feb",
                    "Mar",
                    "Apr",
                    "May",
                    "Jun",
                    "Jul",
                    "Aug",
                    "Sep",
                    "Oct",
                    "Nov",
                    "Dec"
                  ],
                  "xaxis": "x",
                  "y": [
                    23.3,
                    23.4,
                    29.5,
                    42.2,
                    58,
                    60.6,
                    72.9,
                    70,
                    60.5,
                    49,
                    35.9,
                    31.1
                  ],
                  "yaxis": "y"
                },
                {
                  "hovertemplate": "County_State=Harney, Oregon<br>month=%{x}<br>temp=%{y}<extra></extra>",
                  "legendgroup": "Harney, Oregon",
                  "line": {
                    "color": "#FF6692",
                    "dash": "solid"
                  },
                  "marker": {
                    "symbol": "circle"
                  },
                  "mode": "markers+lines",
                  "name": "Harney, Oregon",
                  "orientation": "v",
                  "showlegend": true,
                  "type": "scatter",
                  "x": [
                    "Jan",
                    "Feb",
                    "Mar",
                    "Apr",
                    "May",
                    "Jun",
                    "Jul",
                    "Aug",
                    "Sep",
                    "Oct",
                    "Nov",
                    "Dec"
                  ],
                  "xaxis": "x",
                  "y": [
                    26.2,
                    28.9,
                    29.3,
                    41.8,
                    54.4,
                    58,
                    71,
                    67.1,
                    56.7,
                    48.1,
                    37.8,
                    34
                  ],
                  "yaxis": "y"
                },
                {
                  "hovertemplate": "County_State=Taos, New Mexico<br>month=%{x}<br>temp=%{y}<extra></extra>",
                  "legendgroup": "Taos, New Mexico",
                  "line": {
                    "color": "#B6E880",
                    "dash": "solid"
                  },
                  "marker": {
                    "symbol": "circle"
                  },
                  "mode": "markers+lines",
                  "name": "Taos, New Mexico",
                  "orientation": "v",
                  "showlegend": true,
                  "type": "scatter",
                  "x": [
                    "Jan",
                    "Feb",
                    "Mar",
                    "Apr",
                    "May",
                    "Jun",
                    "Jul",
                    "Aug",
                    "Sep",
                    "Oct",
                    "Nov",
                    "Dec"
                  ],
                  "xaxis": "x",
                  "y": [
                    23.3,
                    26.2,
                    30.9,
                    40.1,
                    50.7,
                    56.5,
                    67.2,
                    64,
                    56.7,
                    46.8,
                    35.5,
                    26.8
                  ],
                  "yaxis": "y"
                },
                {
                  "hovertemplate": "County_State=Santa Fe, New Mexico<br>month=%{x}<br>temp=%{y}<extra></extra>",
                  "legendgroup": "Santa Fe, New Mexico",
                  "line": {
                    "color": "#FF97FF",
                    "dash": "solid"
                  },
                  "marker": {
                    "symbol": "circle"
                  },
                  "mode": "markers+lines",
                  "name": "Santa Fe, New Mexico",
                  "orientation": "v",
                  "showlegend": true,
                  "type": "scatter",
                  "x": [
                    "Jan",
                    "Feb",
                    "Mar",
                    "Apr",
                    "May",
                    "Jun",
                    "Jul",
                    "Aug",
                    "Sep",
                    "Oct",
                    "Nov",
                    "Dec"
                  ],
                  "xaxis": "x",
                  "y": [
                    30.6,
                    32.3,
                    37.6,
                    46.5,
                    57.6,
                    63.7,
                    75.2,
                    70.5,
                    63.4,
                    52.6,
                    40.1,
                    32.9
                  ],
                  "yaxis": "y"
                },
                {
                  "hovertemplate": "County_State=Asotin, Washington<br>month=%{x}<br>temp=%{y}<extra></extra>",
                  "legendgroup": "Asotin, Washington",
                  "line": {
                    "color": "#FECB52",
                    "dash": "solid"
                  },
                  "marker": {
                    "symbol": "circle"
                  },
                  "mode": "markers+lines",
                  "name": "Asotin, Washington",
                  "orientation": "v",
                  "showlegend": true,
                  "type": "scatter",
                  "x": [
                    "Jan",
                    "Feb",
                    "Mar",
                    "Apr",
                    "May",
                    "Jun",
                    "Jul",
                    "Aug",
                    "Sep",
                    "Oct",
                    "Nov",
                    "Dec"
                  ],
                  "xaxis": "x",
                  "y": [
                    31.4,
                    33.3,
                    37.1,
                    45.6,
                    60.4,
                    64.3,
                    72.4,
                    70.6,
                    60,
                    51,
                    38.8,
                    37.4
                  ],
                  "yaxis": "y"
                }
              ],
              "layout": {
                "legend": {
                  "title": {
                    "text": "County, State"
                  },
                  "tracegroupgap": 0
                },
                "template": {
                  "data": {
                    "bar": [
                      {
                        "error_x": {
                          "color": "#2a3f5f"
                        },
                        "error_y": {
                          "color": "#2a3f5f"
                        },
                        "marker": {
                          "line": {
                            "color": "#E5ECF6",
                            "width": 0.5
                          },
                          "pattern": {
                            "fillmode": "overlay",
                            "size": 10,
                            "solidity": 0.2
                          }
                        },
                        "type": "bar"
                      }
                    ],
                    "barpolar": [
                      {
                        "marker": {
                          "line": {
                            "color": "#E5ECF6",
                            "width": 0.5
                          },
                          "pattern": {
                            "fillmode": "overlay",
                            "size": 10,
                            "solidity": 0.2
                          }
                        },
                        "type": "barpolar"
                      }
                    ],
                    "carpet": [
                      {
                        "aaxis": {
                          "endlinecolor": "#2a3f5f",
                          "gridcolor": "white",
                          "linecolor": "white",
                          "minorgridcolor": "white",
                          "startlinecolor": "#2a3f5f"
                        },
                        "baxis": {
                          "endlinecolor": "#2a3f5f",
                          "gridcolor": "white",
                          "linecolor": "white",
                          "minorgridcolor": "white",
                          "startlinecolor": "#2a3f5f"
                        },
                        "type": "carpet"
                      }
                    ],
                    "choropleth": [
                      {
                        "colorbar": {
                          "outlinewidth": 0,
                          "ticks": ""
                        },
                        "type": "choropleth"
                      }
                    ],
                    "contour": [
                      {
                        "colorbar": {
                          "outlinewidth": 0,
                          "ticks": ""
                        },
                        "colorscale": [
                          [
                            0,
                            "#0d0887"
                          ],
                          [
                            0.1111111111111111,
                            "#46039f"
                          ],
                          [
                            0.2222222222222222,
                            "#7201a8"
                          ],
                          [
                            0.3333333333333333,
                            "#9c179e"
                          ],
                          [
                            0.4444444444444444,
                            "#bd3786"
                          ],
                          [
                            0.5555555555555556,
                            "#d8576b"
                          ],
                          [
                            0.6666666666666666,
                            "#ed7953"
                          ],
                          [
                            0.7777777777777778,
                            "#fb9f3a"
                          ],
                          [
                            0.8888888888888888,
                            "#fdca26"
                          ],
                          [
                            1,
                            "#f0f921"
                          ]
                        ],
                        "type": "contour"
                      }
                    ],
                    "contourcarpet": [
                      {
                        "colorbar": {
                          "outlinewidth": 0,
                          "ticks": ""
                        },
                        "type": "contourcarpet"
                      }
                    ],
                    "heatmap": [
                      {
                        "colorbar": {
                          "outlinewidth": 0,
                          "ticks": ""
                        },
                        "colorscale": [
                          [
                            0,
                            "#0d0887"
                          ],
                          [
                            0.1111111111111111,
                            "#46039f"
                          ],
                          [
                            0.2222222222222222,
                            "#7201a8"
                          ],
                          [
                            0.3333333333333333,
                            "#9c179e"
                          ],
                          [
                            0.4444444444444444,
                            "#bd3786"
                          ],
                          [
                            0.5555555555555556,
                            "#d8576b"
                          ],
                          [
                            0.6666666666666666,
                            "#ed7953"
                          ],
                          [
                            0.7777777777777778,
                            "#fb9f3a"
                          ],
                          [
                            0.8888888888888888,
                            "#fdca26"
                          ],
                          [
                            1,
                            "#f0f921"
                          ]
                        ],
                        "type": "heatmap"
                      }
                    ],
                    "heatmapgl": [
                      {
                        "colorbar": {
                          "outlinewidth": 0,
                          "ticks": ""
                        },
                        "colorscale": [
                          [
                            0,
                            "#0d0887"
                          ],
                          [
                            0.1111111111111111,
                            "#46039f"
                          ],
                          [
                            0.2222222222222222,
                            "#7201a8"
                          ],
                          [
                            0.3333333333333333,
                            "#9c179e"
                          ],
                          [
                            0.4444444444444444,
                            "#bd3786"
                          ],
                          [
                            0.5555555555555556,
                            "#d8576b"
                          ],
                          [
                            0.6666666666666666,
                            "#ed7953"
                          ],
                          [
                            0.7777777777777778,
                            "#fb9f3a"
                          ],
                          [
                            0.8888888888888888,
                            "#fdca26"
                          ],
                          [
                            1,
                            "#f0f921"
                          ]
                        ],
                        "type": "heatmapgl"
                      }
                    ],
                    "histogram": [
                      {
                        "marker": {
                          "pattern": {
                            "fillmode": "overlay",
                            "size": 10,
                            "solidity": 0.2
                          }
                        },
                        "type": "histogram"
                      }
                    ],
                    "histogram2d": [
                      {
                        "colorbar": {
                          "outlinewidth": 0,
                          "ticks": ""
                        },
                        "colorscale": [
                          [
                            0,
                            "#0d0887"
                          ],
                          [
                            0.1111111111111111,
                            "#46039f"
                          ],
                          [
                            0.2222222222222222,
                            "#7201a8"
                          ],
                          [
                            0.3333333333333333,
                            "#9c179e"
                          ],
                          [
                            0.4444444444444444,
                            "#bd3786"
                          ],
                          [
                            0.5555555555555556,
                            "#d8576b"
                          ],
                          [
                            0.6666666666666666,
                            "#ed7953"
                          ],
                          [
                            0.7777777777777778,
                            "#fb9f3a"
                          ],
                          [
                            0.8888888888888888,
                            "#fdca26"
                          ],
                          [
                            1,
                            "#f0f921"
                          ]
                        ],
                        "type": "histogram2d"
                      }
                    ],
                    "histogram2dcontour": [
                      {
                        "colorbar": {
                          "outlinewidth": 0,
                          "ticks": ""
                        },
                        "colorscale": [
                          [
                            0,
                            "#0d0887"
                          ],
                          [
                            0.1111111111111111,
                            "#46039f"
                          ],
                          [
                            0.2222222222222222,
                            "#7201a8"
                          ],
                          [
                            0.3333333333333333,
                            "#9c179e"
                          ],
                          [
                            0.4444444444444444,
                            "#bd3786"
                          ],
                          [
                            0.5555555555555556,
                            "#d8576b"
                          ],
                          [
                            0.6666666666666666,
                            "#ed7953"
                          ],
                          [
                            0.7777777777777778,
                            "#fb9f3a"
                          ],
                          [
                            0.8888888888888888,
                            "#fdca26"
                          ],
                          [
                            1,
                            "#f0f921"
                          ]
                        ],
                        "type": "histogram2dcontour"
                      }
                    ],
                    "mesh3d": [
                      {
                        "colorbar": {
                          "outlinewidth": 0,
                          "ticks": ""
                        },
                        "type": "mesh3d"
                      }
                    ],
                    "parcoords": [
                      {
                        "line": {
                          "colorbar": {
                            "outlinewidth": 0,
                            "ticks": ""
                          }
                        },
                        "type": "parcoords"
                      }
                    ],
                    "pie": [
                      {
                        "automargin": true,
                        "type": "pie"
                      }
                    ],
                    "scatter": [
                      {
                        "fillpattern": {
                          "fillmode": "overlay",
                          "size": 10,
                          "solidity": 0.2
                        },
                        "type": "scatter"
                      }
                    ],
                    "scatter3d": [
                      {
                        "line": {
                          "colorbar": {
                            "outlinewidth": 0,
                            "ticks": ""
                          }
                        },
                        "marker": {
                          "colorbar": {
                            "outlinewidth": 0,
                            "ticks": ""
                          }
                        },
                        "type": "scatter3d"
                      }
                    ],
                    "scattercarpet": [
                      {
                        "marker": {
                          "colorbar": {
                            "outlinewidth": 0,
                            "ticks": ""
                          }
                        },
                        "type": "scattercarpet"
                      }
                    ],
                    "scattergeo": [
                      {
                        "marker": {
                          "colorbar": {
                            "outlinewidth": 0,
                            "ticks": ""
                          }
                        },
                        "type": "scattergeo"
                      }
                    ],
                    "scattergl": [
                      {
                        "marker": {
                          "colorbar": {
                            "outlinewidth": 0,
                            "ticks": ""
                          }
                        },
                        "type": "scattergl"
                      }
                    ],
                    "scattermapbox": [
                      {
                        "marker": {
                          "colorbar": {
                            "outlinewidth": 0,
                            "ticks": ""
                          }
                        },
                        "type": "scattermapbox"
                      }
                    ],
                    "scatterpolar": [
                      {
                        "marker": {
                          "colorbar": {
                            "outlinewidth": 0,
                            "ticks": ""
                          }
                        },
                        "type": "scatterpolar"
                      }
                    ],
                    "scatterpolargl": [
                      {
                        "marker": {
                          "colorbar": {
                            "outlinewidth": 0,
                            "ticks": ""
                          }
                        },
                        "type": "scatterpolargl"
                      }
                    ],
                    "scatterternary": [
                      {
                        "marker": {
                          "colorbar": {
                            "outlinewidth": 0,
                            "ticks": ""
                          }
                        },
                        "type": "scatterternary"
                      }
                    ],
                    "surface": [
                      {
                        "colorbar": {
                          "outlinewidth": 0,
                          "ticks": ""
                        },
                        "colorscale": [
                          [
                            0,
                            "#0d0887"
                          ],
                          [
                            0.1111111111111111,
                            "#46039f"
                          ],
                          [
                            0.2222222222222222,
                            "#7201a8"
                          ],
                          [
                            0.3333333333333333,
                            "#9c179e"
                          ],
                          [
                            0.4444444444444444,
                            "#bd3786"
                          ],
                          [
                            0.5555555555555556,
                            "#d8576b"
                          ],
                          [
                            0.6666666666666666,
                            "#ed7953"
                          ],
                          [
                            0.7777777777777778,
                            "#fb9f3a"
                          ],
                          [
                            0.8888888888888888,
                            "#fdca26"
                          ],
                          [
                            1,
                            "#f0f921"
                          ]
                        ],
                        "type": "surface"
                      }
                    ],
                    "table": [
                      {
                        "cells": {
                          "fill": {
                            "color": "#EBF0F8"
                          },
                          "line": {
                            "color": "white"
                          }
                        },
                        "header": {
                          "fill": {
                            "color": "#C8D4E3"
                          },
                          "line": {
                            "color": "white"
                          }
                        },
                        "type": "table"
                      }
                    ]
                  },
                  "layout": {
                    "annotationdefaults": {
                      "arrowcolor": "#2a3f5f",
                      "arrowhead": 0,
                      "arrowwidth": 1
                    },
                    "autotypenumbers": "strict",
                    "coloraxis": {
                      "colorbar": {
                        "outlinewidth": 0,
                        "ticks": ""
                      }
                    },
                    "colorscale": {
                      "diverging": [
                        [
                          0,
                          "#8e0152"
                        ],
                        [
                          0.1,
                          "#c51b7d"
                        ],
                        [
                          0.2,
                          "#de77ae"
                        ],
                        [
                          0.3,
                          "#f1b6da"
                        ],
                        [
                          0.4,
                          "#fde0ef"
                        ],
                        [
                          0.5,
                          "#f7f7f7"
                        ],
                        [
                          0.6,
                          "#e6f5d0"
                        ],
                        [
                          0.7,
                          "#b8e186"
                        ],
                        [
                          0.8,
                          "#7fbc41"
                        ],
                        [
                          0.9,
                          "#4d9221"
                        ],
                        [
                          1,
                          "#276419"
                        ]
                      ],
                      "sequential": [
                        [
                          0,
                          "#0d0887"
                        ],
                        [
                          0.1111111111111111,
                          "#46039f"
                        ],
                        [
                          0.2222222222222222,
                          "#7201a8"
                        ],
                        [
                          0.3333333333333333,
                          "#9c179e"
                        ],
                        [
                          0.4444444444444444,
                          "#bd3786"
                        ],
                        [
                          0.5555555555555556,
                          "#d8576b"
                        ],
                        [
                          0.6666666666666666,
                          "#ed7953"
                        ],
                        [
                          0.7777777777777778,
                          "#fb9f3a"
                        ],
                        [
                          0.8888888888888888,
                          "#fdca26"
                        ],
                        [
                          1,
                          "#f0f921"
                        ]
                      ],
                      "sequentialminus": [
                        [
                          0,
                          "#0d0887"
                        ],
                        [
                          0.1111111111111111,
                          "#46039f"
                        ],
                        [
                          0.2222222222222222,
                          "#7201a8"
                        ],
                        [
                          0.3333333333333333,
                          "#9c179e"
                        ],
                        [
                          0.4444444444444444,
                          "#bd3786"
                        ],
                        [
                          0.5555555555555556,
                          "#d8576b"
                        ],
                        [
                          0.6666666666666666,
                          "#ed7953"
                        ],
                        [
                          0.7777777777777778,
                          "#fb9f3a"
                        ],
                        [
                          0.8888888888888888,
                          "#fdca26"
                        ],
                        [
                          1,
                          "#f0f921"
                        ]
                      ]
                    },
                    "colorway": [
                      "#636efa",
                      "#EF553B",
                      "#00cc96",
                      "#ab63fa",
                      "#FFA15A",
                      "#19d3f3",
                      "#FF6692",
                      "#B6E880",
                      "#FF97FF",
                      "#FECB52"
                    ],
                    "font": {
                      "color": "#2a3f5f"
                    },
                    "geo": {
                      "bgcolor": "white",
                      "lakecolor": "white",
                      "landcolor": "#E5ECF6",
                      "showlakes": true,
                      "showland": true,
                      "subunitcolor": "white"
                    },
                    "hoverlabel": {
                      "align": "left"
                    },
                    "hovermode": "closest",
                    "mapbox": {
                      "style": "light"
                    },
                    "paper_bgcolor": "white",
                    "plot_bgcolor": "#E5ECF6",
                    "polar": {
                      "angularaxis": {
                        "gridcolor": "white",
                        "linecolor": "white",
                        "ticks": ""
                      },
                      "bgcolor": "#E5ECF6",
                      "radialaxis": {
                        "gridcolor": "white",
                        "linecolor": "white",
                        "ticks": ""
                      }
                    },
                    "scene": {
                      "xaxis": {
                        "backgroundcolor": "#E5ECF6",
                        "gridcolor": "white",
                        "gridwidth": 2,
                        "linecolor": "white",
                        "showbackground": true,
                        "ticks": "",
                        "zerolinecolor": "white"
                      },
                      "yaxis": {
                        "backgroundcolor": "#E5ECF6",
                        "gridcolor": "white",
                        "gridwidth": 2,
                        "linecolor": "white",
                        "showbackground": true,
                        "ticks": "",
                        "zerolinecolor": "white"
                      },
                      "zaxis": {
                        "backgroundcolor": "#E5ECF6",
                        "gridcolor": "white",
                        "gridwidth": 2,
                        "linecolor": "white",
                        "showbackground": true,
                        "ticks": "",
                        "zerolinecolor": "white"
                      }
                    },
                    "shapedefaults": {
                      "line": {
                        "color": "#2a3f5f"
                      }
                    },
                    "ternary": {
                      "aaxis": {
                        "gridcolor": "white",
                        "linecolor": "white",
                        "ticks": ""
                      },
                      "baxis": {
                        "gridcolor": "white",
                        "linecolor": "white",
                        "ticks": ""
                      },
                      "bgcolor": "#E5ECF6",
                      "caxis": {
                        "gridcolor": "white",
                        "linecolor": "white",
                        "ticks": ""
                      }
                    },
                    "title": {
                      "x": 0.05
                    },
                    "xaxis": {
                      "automargin": true,
                      "gridcolor": "white",
                      "linecolor": "white",
                      "ticks": "",
                      "title": {
                        "standoff": 15
                      },
                      "zerolinecolor": "white",
                      "zerolinewidth": 2
                    },
                    "yaxis": {
                      "automargin": true,
                      "gridcolor": "white",
                      "linecolor": "white",
                      "ticks": "",
                      "title": {
                        "standoff": 15
                      },
                      "zerolinecolor": "white",
                      "zerolinewidth": 2
                    }
                  }
                },
                "title": {
                  "text": "Temperature in Desired Counties"
                },
                "xaxis": {
                  "anchor": "y",
                  "domain": [
                    0,
                    1
                  ],
                  "title": {
                    "text": "Month"
                  }
                },
                "yaxis": {
                  "anchor": "x",
                  "domain": [
                    0,
                    1
                  ],
                  "title": {
                    "text": "Temperature (°F)"
                  }
                }
              }
            }
          },
          "metadata": {},
          "output_type": "display_data"
        },
        {
          "data": {
            "application/vnd.plotly.v1+json": {
              "config": {
                "plotlyServerURL": "https://plot.ly"
              },
              "data": [
                {
                  "hovertemplate": "County_State=Los Alamos, New Mexico<br>month=%{x}<br>percip=%{y}<extra></extra>",
                  "legendgroup": "Los Alamos, New Mexico",
                  "line": {
                    "color": "#636efa",
                    "dash": "solid"
                  },
                  "marker": {
                    "symbol": "circle"
                  },
                  "mode": "markers+lines",
                  "name": "Los Alamos, New Mexico",
                  "orientation": "v",
                  "showlegend": true,
                  "type": "scatter",
                  "x": [
                    "Jan",
                    "Feb",
                    "Mar",
                    "Apr",
                    "May",
                    "Jun",
                    "Jul",
                    "Aug",
                    "Sep",
                    "Oct",
                    "Nov",
                    "Dec"
                  ],
                  "xaxis": "x",
                  "y": [
                    1.37,
                    1.18,
                    1.78,
                    0.15,
                    1.71,
                    1.18,
                    0.46,
                    1.8,
                    1.52,
                    0.33,
                    1.11,
                    1.57
                  ],
                  "yaxis": "y"
                },
                {
                  "hovertemplate": "County_State=Emery, Utah<br>month=%{x}<br>percip=%{y}<extra></extra>",
                  "legendgroup": "Emery, Utah",
                  "line": {
                    "color": "#EF553B",
                    "dash": "solid"
                  },
                  "marker": {
                    "symbol": "circle"
                  },
                  "mode": "markers+lines",
                  "name": "Emery, Utah",
                  "orientation": "v",
                  "showlegend": true,
                  "type": "scatter",
                  "x": [
                    "Jan",
                    "Feb",
                    "Mar",
                    "Apr",
                    "May",
                    "Jun",
                    "Jul",
                    "Aug",
                    "Sep",
                    "Oct",
                    "Nov",
                    "Dec"
                  ],
                  "xaxis": "x",
                  "y": [
                    1.95,
                    0.5,
                    1.69,
                    0.16,
                    0.67,
                    0.55,
                    0.59,
                    1.64,
                    0.65,
                    0.37,
                    0.47,
                    0.31
                  ],
                  "yaxis": "y"
                },
                {
                  "hovertemplate": "County_State=Crook, Oregon<br>month=%{x}<br>percip=%{y}<extra></extra>",
                  "legendgroup": "Crook, Oregon",
                  "line": {
                    "color": "#00cc96",
                    "dash": "solid"
                  },
                  "marker": {
                    "symbol": "circle"
                  },
                  "mode": "markers+lines",
                  "name": "Crook, Oregon",
                  "orientation": "v",
                  "showlegend": true,
                  "type": "scatter",
                  "x": [
                    "Jan",
                    "Feb",
                    "Mar",
                    "Apr",
                    "May",
                    "Jun",
                    "Jul",
                    "Aug",
                    "Sep",
                    "Oct",
                    "Nov",
                    "Dec"
                  ],
                  "xaxis": "x",
                  "y": [
                    0.94,
                    0.65,
                    2.26,
                    1,
                    2.27,
                    0.39,
                    0.03,
                    0.87,
                    1.3,
                    0.9,
                    1.23,
                    1.46
                  ],
                  "yaxis": "y"
                },
                {
                  "hovertemplate": "County_State=Hidalgo, New Mexico<br>month=%{x}<br>percip=%{y}<extra></extra>",
                  "legendgroup": "Hidalgo, New Mexico",
                  "line": {
                    "color": "#ab63fa",
                    "dash": "solid"
                  },
                  "marker": {
                    "symbol": "circle"
                  },
                  "mode": "markers+lines",
                  "name": "Hidalgo, New Mexico",
                  "orientation": "v",
                  "showlegend": true,
                  "type": "scatter",
                  "x": [
                    "Jan",
                    "Feb",
                    "Mar",
                    "Apr",
                    "May",
                    "Jun",
                    "Jul",
                    "Aug",
                    "Sep",
                    "Oct",
                    "Nov",
                    "Dec"
                  ],
                  "xaxis": "x",
                  "y": [
                    0.93,
                    0.67,
                    0.27,
                    0,
                    0.27,
                    0.01,
                    0.92,
                    1.29,
                    0.8,
                    0.59,
                    0.09,
                    0.86
                  ],
                  "yaxis": "y"
                },
                {
                  "hovertemplate": "County_State=Costilla, Colorado<br>month=%{x}<br>percip=%{y}<extra></extra>",
                  "legendgroup": "Costilla, Colorado",
                  "line": {
                    "color": "#FFA15A",
                    "dash": "solid"
                  },
                  "marker": {
                    "symbol": "circle"
                  },
                  "mode": "markers+lines",
                  "name": "Costilla, Colorado",
                  "orientation": "v",
                  "showlegend": true,
                  "type": "scatter",
                  "x": [
                    "Jan",
                    "Feb",
                    "Mar",
                    "Apr",
                    "May",
                    "Jun",
                    "Jul",
                    "Aug",
                    "Sep",
                    "Oct",
                    "Nov",
                    "Dec"
                  ],
                  "xaxis": "x",
                  "y": [
                    1.26,
                    1.22,
                    1.66,
                    0.7,
                    2.05,
                    0.79,
                    0.42,
                    1.85,
                    1.7,
                    0.43,
                    0.54,
                    1.05
                  ],
                  "yaxis": "y"
                },
                {
                  "hovertemplate": "County_State=Minidoka, Idaho<br>month=%{x}<br>percip=%{y}<extra></extra>",
                  "legendgroup": "Minidoka, Idaho",
                  "line": {
                    "color": "#19d3f3",
                    "dash": "solid"
                  },
                  "marker": {
                    "symbol": "circle"
                  },
                  "mode": "markers+lines",
                  "name": "Minidoka, Idaho",
                  "orientation": "v",
                  "showlegend": true,
                  "type": "scatter",
                  "x": [
                    "Jan",
                    "Feb",
                    "Mar",
                    "Apr",
                    "May",
                    "Jun",
                    "Jul",
                    "Aug",
                    "Sep",
                    "Oct",
                    "Nov",
                    "Dec"
                  ],
                  "xaxis": "x",
                  "y": [
                    0.94,
                    0.51,
                    1.06,
                    0.55,
                    1.15,
                    1.36,
                    0.05,
                    1.38,
                    0.86,
                    0.86,
                    1.16,
                    0.81
                  ],
                  "yaxis": "y"
                },
                {
                  "hovertemplate": "County_State=Harney, Oregon<br>month=%{x}<br>percip=%{y}<extra></extra>",
                  "legendgroup": "Harney, Oregon",
                  "line": {
                    "color": "#FF6692",
                    "dash": "solid"
                  },
                  "marker": {
                    "symbol": "circle"
                  },
                  "mode": "markers+lines",
                  "name": "Harney, Oregon",
                  "orientation": "v",
                  "showlegend": true,
                  "type": "scatter",
                  "x": [
                    "Jan",
                    "Feb",
                    "Mar",
                    "Apr",
                    "May",
                    "Jun",
                    "Jul",
                    "Aug",
                    "Sep",
                    "Oct",
                    "Nov",
                    "Dec"
                  ],
                  "xaxis": "x",
                  "y": [
                    1.13,
                    0.53,
                    2.63,
                    1.05,
                    1.94,
                    1.28,
                    0.03,
                    1.19,
                    0.62,
                    0.79,
                    1.03,
                    1.33
                  ],
                  "yaxis": "y"
                },
                {
                  "hovertemplate": "County_State=Taos, New Mexico<br>month=%{x}<br>percip=%{y}<extra></extra>",
                  "legendgroup": "Taos, New Mexico",
                  "line": {
                    "color": "#B6E880",
                    "dash": "solid"
                  },
                  "marker": {
                    "symbol": "circle"
                  },
                  "mode": "markers+lines",
                  "name": "Taos, New Mexico",
                  "orientation": "v",
                  "showlegend": true,
                  "type": "scatter",
                  "x": [
                    "Jan",
                    "Feb",
                    "Mar",
                    "Apr",
                    "May",
                    "Jun",
                    "Jul",
                    "Aug",
                    "Sep",
                    "Oct",
                    "Nov",
                    "Dec"
                  ],
                  "xaxis": "x",
                  "y": [
                    1.61,
                    1.5,
                    2.06,
                    0.39,
                    2.1,
                    1.25,
                    0.71,
                    1.94,
                    1.53,
                    0.38,
                    0.7,
                    1.4
                  ],
                  "yaxis": "y"
                },
                {
                  "hovertemplate": "County_State=Santa Fe, New Mexico<br>month=%{x}<br>percip=%{y}<extra></extra>",
                  "legendgroup": "Santa Fe, New Mexico",
                  "line": {
                    "color": "#FF97FF",
                    "dash": "solid"
                  },
                  "marker": {
                    "symbol": "circle"
                  },
                  "mode": "markers+lines",
                  "name": "Santa Fe, New Mexico",
                  "orientation": "v",
                  "showlegend": true,
                  "type": "scatter",
                  "x": [
                    "Jan",
                    "Feb",
                    "Mar",
                    "Apr",
                    "May",
                    "Jun",
                    "Jul",
                    "Aug",
                    "Sep",
                    "Oct",
                    "Nov",
                    "Dec"
                  ],
                  "xaxis": "x",
                  "y": [
                    1.04,
                    1.04,
                    1.57,
                    0.19,
                    1.25,
                    1.31,
                    0.35,
                    1.41,
                    1.28,
                    0.18,
                    0.99,
                    1.53
                  ],
                  "yaxis": "y"
                },
                {
                  "hovertemplate": "County_State=Asotin, Washington<br>month=%{x}<br>percip=%{y}<extra></extra>",
                  "legendgroup": "Asotin, Washington",
                  "line": {
                    "color": "#FECB52",
                    "dash": "solid"
                  },
                  "marker": {
                    "symbol": "circle"
                  },
                  "mode": "markers+lines",
                  "name": "Asotin, Washington",
                  "orientation": "v",
                  "showlegend": true,
                  "type": "scatter",
                  "x": [
                    "Jan",
                    "Feb",
                    "Mar",
                    "Apr",
                    "May",
                    "Jun",
                    "Jul",
                    "Aug",
                    "Sep",
                    "Oct",
                    "Nov",
                    "Dec"
                  ],
                  "xaxis": "x",
                  "y": [
                    0.55,
                    0.56,
                    1.04,
                    1.2,
                    1.56,
                    1.61,
                    0.09,
                    1.3,
                    1.27,
                    1.58,
                    1.19,
                    1.41
                  ],
                  "yaxis": "y"
                }
              ],
              "layout": {
                "legend": {
                  "title": {
                    "text": "County, State"
                  },
                  "tracegroupgap": 0
                },
                "template": {
                  "data": {
                    "bar": [
                      {
                        "error_x": {
                          "color": "#2a3f5f"
                        },
                        "error_y": {
                          "color": "#2a3f5f"
                        },
                        "marker": {
                          "line": {
                            "color": "#E5ECF6",
                            "width": 0.5
                          },
                          "pattern": {
                            "fillmode": "overlay",
                            "size": 10,
                            "solidity": 0.2
                          }
                        },
                        "type": "bar"
                      }
                    ],
                    "barpolar": [
                      {
                        "marker": {
                          "line": {
                            "color": "#E5ECF6",
                            "width": 0.5
                          },
                          "pattern": {
                            "fillmode": "overlay",
                            "size": 10,
                            "solidity": 0.2
                          }
                        },
                        "type": "barpolar"
                      }
                    ],
                    "carpet": [
                      {
                        "aaxis": {
                          "endlinecolor": "#2a3f5f",
                          "gridcolor": "white",
                          "linecolor": "white",
                          "minorgridcolor": "white",
                          "startlinecolor": "#2a3f5f"
                        },
                        "baxis": {
                          "endlinecolor": "#2a3f5f",
                          "gridcolor": "white",
                          "linecolor": "white",
                          "minorgridcolor": "white",
                          "startlinecolor": "#2a3f5f"
                        },
                        "type": "carpet"
                      }
                    ],
                    "choropleth": [
                      {
                        "colorbar": {
                          "outlinewidth": 0,
                          "ticks": ""
                        },
                        "type": "choropleth"
                      }
                    ],
                    "contour": [
                      {
                        "colorbar": {
                          "outlinewidth": 0,
                          "ticks": ""
                        },
                        "colorscale": [
                          [
                            0,
                            "#0d0887"
                          ],
                          [
                            0.1111111111111111,
                            "#46039f"
                          ],
                          [
                            0.2222222222222222,
                            "#7201a8"
                          ],
                          [
                            0.3333333333333333,
                            "#9c179e"
                          ],
                          [
                            0.4444444444444444,
                            "#bd3786"
                          ],
                          [
                            0.5555555555555556,
                            "#d8576b"
                          ],
                          [
                            0.6666666666666666,
                            "#ed7953"
                          ],
                          [
                            0.7777777777777778,
                            "#fb9f3a"
                          ],
                          [
                            0.8888888888888888,
                            "#fdca26"
                          ],
                          [
                            1,
                            "#f0f921"
                          ]
                        ],
                        "type": "contour"
                      }
                    ],
                    "contourcarpet": [
                      {
                        "colorbar": {
                          "outlinewidth": 0,
                          "ticks": ""
                        },
                        "type": "contourcarpet"
                      }
                    ],
                    "heatmap": [
                      {
                        "colorbar": {
                          "outlinewidth": 0,
                          "ticks": ""
                        },
                        "colorscale": [
                          [
                            0,
                            "#0d0887"
                          ],
                          [
                            0.1111111111111111,
                            "#46039f"
                          ],
                          [
                            0.2222222222222222,
                            "#7201a8"
                          ],
                          [
                            0.3333333333333333,
                            "#9c179e"
                          ],
                          [
                            0.4444444444444444,
                            "#bd3786"
                          ],
                          [
                            0.5555555555555556,
                            "#d8576b"
                          ],
                          [
                            0.6666666666666666,
                            "#ed7953"
                          ],
                          [
                            0.7777777777777778,
                            "#fb9f3a"
                          ],
                          [
                            0.8888888888888888,
                            "#fdca26"
                          ],
                          [
                            1,
                            "#f0f921"
                          ]
                        ],
                        "type": "heatmap"
                      }
                    ],
                    "heatmapgl": [
                      {
                        "colorbar": {
                          "outlinewidth": 0,
                          "ticks": ""
                        },
                        "colorscale": [
                          [
                            0,
                            "#0d0887"
                          ],
                          [
                            0.1111111111111111,
                            "#46039f"
                          ],
                          [
                            0.2222222222222222,
                            "#7201a8"
                          ],
                          [
                            0.3333333333333333,
                            "#9c179e"
                          ],
                          [
                            0.4444444444444444,
                            "#bd3786"
                          ],
                          [
                            0.5555555555555556,
                            "#d8576b"
                          ],
                          [
                            0.6666666666666666,
                            "#ed7953"
                          ],
                          [
                            0.7777777777777778,
                            "#fb9f3a"
                          ],
                          [
                            0.8888888888888888,
                            "#fdca26"
                          ],
                          [
                            1,
                            "#f0f921"
                          ]
                        ],
                        "type": "heatmapgl"
                      }
                    ],
                    "histogram": [
                      {
                        "marker": {
                          "pattern": {
                            "fillmode": "overlay",
                            "size": 10,
                            "solidity": 0.2
                          }
                        },
                        "type": "histogram"
                      }
                    ],
                    "histogram2d": [
                      {
                        "colorbar": {
                          "outlinewidth": 0,
                          "ticks": ""
                        },
                        "colorscale": [
                          [
                            0,
                            "#0d0887"
                          ],
                          [
                            0.1111111111111111,
                            "#46039f"
                          ],
                          [
                            0.2222222222222222,
                            "#7201a8"
                          ],
                          [
                            0.3333333333333333,
                            "#9c179e"
                          ],
                          [
                            0.4444444444444444,
                            "#bd3786"
                          ],
                          [
                            0.5555555555555556,
                            "#d8576b"
                          ],
                          [
                            0.6666666666666666,
                            "#ed7953"
                          ],
                          [
                            0.7777777777777778,
                            "#fb9f3a"
                          ],
                          [
                            0.8888888888888888,
                            "#fdca26"
                          ],
                          [
                            1,
                            "#f0f921"
                          ]
                        ],
                        "type": "histogram2d"
                      }
                    ],
                    "histogram2dcontour": [
                      {
                        "colorbar": {
                          "outlinewidth": 0,
                          "ticks": ""
                        },
                        "colorscale": [
                          [
                            0,
                            "#0d0887"
                          ],
                          [
                            0.1111111111111111,
                            "#46039f"
                          ],
                          [
                            0.2222222222222222,
                            "#7201a8"
                          ],
                          [
                            0.3333333333333333,
                            "#9c179e"
                          ],
                          [
                            0.4444444444444444,
                            "#bd3786"
                          ],
                          [
                            0.5555555555555556,
                            "#d8576b"
                          ],
                          [
                            0.6666666666666666,
                            "#ed7953"
                          ],
                          [
                            0.7777777777777778,
                            "#fb9f3a"
                          ],
                          [
                            0.8888888888888888,
                            "#fdca26"
                          ],
                          [
                            1,
                            "#f0f921"
                          ]
                        ],
                        "type": "histogram2dcontour"
                      }
                    ],
                    "mesh3d": [
                      {
                        "colorbar": {
                          "outlinewidth": 0,
                          "ticks": ""
                        },
                        "type": "mesh3d"
                      }
                    ],
                    "parcoords": [
                      {
                        "line": {
                          "colorbar": {
                            "outlinewidth": 0,
                            "ticks": ""
                          }
                        },
                        "type": "parcoords"
                      }
                    ],
                    "pie": [
                      {
                        "automargin": true,
                        "type": "pie"
                      }
                    ],
                    "scatter": [
                      {
                        "fillpattern": {
                          "fillmode": "overlay",
                          "size": 10,
                          "solidity": 0.2
                        },
                        "type": "scatter"
                      }
                    ],
                    "scatter3d": [
                      {
                        "line": {
                          "colorbar": {
                            "outlinewidth": 0,
                            "ticks": ""
                          }
                        },
                        "marker": {
                          "colorbar": {
                            "outlinewidth": 0,
                            "ticks": ""
                          }
                        },
                        "type": "scatter3d"
                      }
                    ],
                    "scattercarpet": [
                      {
                        "marker": {
                          "colorbar": {
                            "outlinewidth": 0,
                            "ticks": ""
                          }
                        },
                        "type": "scattercarpet"
                      }
                    ],
                    "scattergeo": [
                      {
                        "marker": {
                          "colorbar": {
                            "outlinewidth": 0,
                            "ticks": ""
                          }
                        },
                        "type": "scattergeo"
                      }
                    ],
                    "scattergl": [
                      {
                        "marker": {
                          "colorbar": {
                            "outlinewidth": 0,
                            "ticks": ""
                          }
                        },
                        "type": "scattergl"
                      }
                    ],
                    "scattermapbox": [
                      {
                        "marker": {
                          "colorbar": {
                            "outlinewidth": 0,
                            "ticks": ""
                          }
                        },
                        "type": "scattermapbox"
                      }
                    ],
                    "scatterpolar": [
                      {
                        "marker": {
                          "colorbar": {
                            "outlinewidth": 0,
                            "ticks": ""
                          }
                        },
                        "type": "scatterpolar"
                      }
                    ],
                    "scatterpolargl": [
                      {
                        "marker": {
                          "colorbar": {
                            "outlinewidth": 0,
                            "ticks": ""
                          }
                        },
                        "type": "scatterpolargl"
                      }
                    ],
                    "scatterternary": [
                      {
                        "marker": {
                          "colorbar": {
                            "outlinewidth": 0,
                            "ticks": ""
                          }
                        },
                        "type": "scatterternary"
                      }
                    ],
                    "surface": [
                      {
                        "colorbar": {
                          "outlinewidth": 0,
                          "ticks": ""
                        },
                        "colorscale": [
                          [
                            0,
                            "#0d0887"
                          ],
                          [
                            0.1111111111111111,
                            "#46039f"
                          ],
                          [
                            0.2222222222222222,
                            "#7201a8"
                          ],
                          [
                            0.3333333333333333,
                            "#9c179e"
                          ],
                          [
                            0.4444444444444444,
                            "#bd3786"
                          ],
                          [
                            0.5555555555555556,
                            "#d8576b"
                          ],
                          [
                            0.6666666666666666,
                            "#ed7953"
                          ],
                          [
                            0.7777777777777778,
                            "#fb9f3a"
                          ],
                          [
                            0.8888888888888888,
                            "#fdca26"
                          ],
                          [
                            1,
                            "#f0f921"
                          ]
                        ],
                        "type": "surface"
                      }
                    ],
                    "table": [
                      {
                        "cells": {
                          "fill": {
                            "color": "#EBF0F8"
                          },
                          "line": {
                            "color": "white"
                          }
                        },
                        "header": {
                          "fill": {
                            "color": "#C8D4E3"
                          },
                          "line": {
                            "color": "white"
                          }
                        },
                        "type": "table"
                      }
                    ]
                  },
                  "layout": {
                    "annotationdefaults": {
                      "arrowcolor": "#2a3f5f",
                      "arrowhead": 0,
                      "arrowwidth": 1
                    },
                    "autotypenumbers": "strict",
                    "coloraxis": {
                      "colorbar": {
                        "outlinewidth": 0,
                        "ticks": ""
                      }
                    },
                    "colorscale": {
                      "diverging": [
                        [
                          0,
                          "#8e0152"
                        ],
                        [
                          0.1,
                          "#c51b7d"
                        ],
                        [
                          0.2,
                          "#de77ae"
                        ],
                        [
                          0.3,
                          "#f1b6da"
                        ],
                        [
                          0.4,
                          "#fde0ef"
                        ],
                        [
                          0.5,
                          "#f7f7f7"
                        ],
                        [
                          0.6,
                          "#e6f5d0"
                        ],
                        [
                          0.7,
                          "#b8e186"
                        ],
                        [
                          0.8,
                          "#7fbc41"
                        ],
                        [
                          0.9,
                          "#4d9221"
                        ],
                        [
                          1,
                          "#276419"
                        ]
                      ],
                      "sequential": [
                        [
                          0,
                          "#0d0887"
                        ],
                        [
                          0.1111111111111111,
                          "#46039f"
                        ],
                        [
                          0.2222222222222222,
                          "#7201a8"
                        ],
                        [
                          0.3333333333333333,
                          "#9c179e"
                        ],
                        [
                          0.4444444444444444,
                          "#bd3786"
                        ],
                        [
                          0.5555555555555556,
                          "#d8576b"
                        ],
                        [
                          0.6666666666666666,
                          "#ed7953"
                        ],
                        [
                          0.7777777777777778,
                          "#fb9f3a"
                        ],
                        [
                          0.8888888888888888,
                          "#fdca26"
                        ],
                        [
                          1,
                          "#f0f921"
                        ]
                      ],
                      "sequentialminus": [
                        [
                          0,
                          "#0d0887"
                        ],
                        [
                          0.1111111111111111,
                          "#46039f"
                        ],
                        [
                          0.2222222222222222,
                          "#7201a8"
                        ],
                        [
                          0.3333333333333333,
                          "#9c179e"
                        ],
                        [
                          0.4444444444444444,
                          "#bd3786"
                        ],
                        [
                          0.5555555555555556,
                          "#d8576b"
                        ],
                        [
                          0.6666666666666666,
                          "#ed7953"
                        ],
                        [
                          0.7777777777777778,
                          "#fb9f3a"
                        ],
                        [
                          0.8888888888888888,
                          "#fdca26"
                        ],
                        [
                          1,
                          "#f0f921"
                        ]
                      ]
                    },
                    "colorway": [
                      "#636efa",
                      "#EF553B",
                      "#00cc96",
                      "#ab63fa",
                      "#FFA15A",
                      "#19d3f3",
                      "#FF6692",
                      "#B6E880",
                      "#FF97FF",
                      "#FECB52"
                    ],
                    "font": {
                      "color": "#2a3f5f"
                    },
                    "geo": {
                      "bgcolor": "white",
                      "lakecolor": "white",
                      "landcolor": "#E5ECF6",
                      "showlakes": true,
                      "showland": true,
                      "subunitcolor": "white"
                    },
                    "hoverlabel": {
                      "align": "left"
                    },
                    "hovermode": "closest",
                    "mapbox": {
                      "style": "light"
                    },
                    "paper_bgcolor": "white",
                    "plot_bgcolor": "#E5ECF6",
                    "polar": {
                      "angularaxis": {
                        "gridcolor": "white",
                        "linecolor": "white",
                        "ticks": ""
                      },
                      "bgcolor": "#E5ECF6",
                      "radialaxis": {
                        "gridcolor": "white",
                        "linecolor": "white",
                        "ticks": ""
                      }
                    },
                    "scene": {
                      "xaxis": {
                        "backgroundcolor": "#E5ECF6",
                        "gridcolor": "white",
                        "gridwidth": 2,
                        "linecolor": "white",
                        "showbackground": true,
                        "ticks": "",
                        "zerolinecolor": "white"
                      },
                      "yaxis": {
                        "backgroundcolor": "#E5ECF6",
                        "gridcolor": "white",
                        "gridwidth": 2,
                        "linecolor": "white",
                        "showbackground": true,
                        "ticks": "",
                        "zerolinecolor": "white"
                      },
                      "zaxis": {
                        "backgroundcolor": "#E5ECF6",
                        "gridcolor": "white",
                        "gridwidth": 2,
                        "linecolor": "white",
                        "showbackground": true,
                        "ticks": "",
                        "zerolinecolor": "white"
                      }
                    },
                    "shapedefaults": {
                      "line": {
                        "color": "#2a3f5f"
                      }
                    },
                    "ternary": {
                      "aaxis": {
                        "gridcolor": "white",
                        "linecolor": "white",
                        "ticks": ""
                      },
                      "baxis": {
                        "gridcolor": "white",
                        "linecolor": "white",
                        "ticks": ""
                      },
                      "bgcolor": "#E5ECF6",
                      "caxis": {
                        "gridcolor": "white",
                        "linecolor": "white",
                        "ticks": ""
                      }
                    },
                    "title": {
                      "x": 0.05
                    },
                    "xaxis": {
                      "automargin": true,
                      "gridcolor": "white",
                      "linecolor": "white",
                      "ticks": "",
                      "title": {
                        "standoff": 15
                      },
                      "zerolinecolor": "white",
                      "zerolinewidth": 2
                    },
                    "yaxis": {
                      "automargin": true,
                      "gridcolor": "white",
                      "linecolor": "white",
                      "ticks": "",
                      "title": {
                        "standoff": 15
                      },
                      "zerolinecolor": "white",
                      "zerolinewidth": 2
                    }
                  }
                },
                "title": {
                  "text": "Precipitation in Desired Counties"
                },
                "xaxis": {
                  "anchor": "y",
                  "domain": [
                    0,
                    1
                  ],
                  "title": {
                    "text": "Month"
                  }
                },
                "yaxis": {
                  "anchor": "x",
                  "domain": [
                    0,
                    1
                  ],
                  "title": {
                    "text": "Precipitation (mm)"
                  }
                }
              }
            }
          },
          "metadata": {},
          "output_type": "display_data"
        }
      ],
      "source": [
        "desired_counties = [\n",
        "    {'County_Name': 'Los Alamos', 'State': 'New Mexico'},\n",
        "    {'County_Name': 'Emery', 'State': 'Utah'},\n",
        "    {'County_Name': 'Crook', 'State': 'Oregon'},\n",
        "    {'County_Name': 'Hidalgo', 'State': 'New Mexico'},\n",
        "    {'County_Name': 'Costilla', 'State': 'Colorado'},\n",
        "    {'County_Name': 'Minidoka', 'State': 'Idaho'},\n",
        "    {'County_Name': 'Harney', 'State': 'Oregon'},\n",
        "    {'County_Name': 'Taos', 'State': 'New Mexico'},\n",
        "    {'County_Name': 'Santa Fe', 'State': 'New Mexico'},\n",
        "    {'County_Name': 'Asotin', 'State': 'Washington'}\n",
        "]\n",
        "\n",
        "# Convert list of dicts to DataFrame for filtering\n",
        "desired_df = pd.DataFrame(desired_counties)\n",
        "\n",
        "# Merge to find matches in climate data\n",
        "filtered_climate_data = pd.merge(desired_df, clim_2023, on=['County_Name', 'State'], how='left')\n",
        "\n",
        "\n",
        "filtered_climate_data['County_State'] = filtered_climate_data['County_Name'] + ', ' + filtered_climate_data['State']\n",
        "\n",
        "    # Create a line plot for temperature\n",
        "fig_temp = px.line(\n",
        "        filtered_climate_data,\n",
        "        x='month',\n",
        "        y='temp',\n",
        "        color='County_State',  # Use the new column for legend\n",
        "        markers=True,\n",
        "        title='Temperature in Desired Counties'\n",
        "    )\n",
        "\n",
        "    # Update layout for temperature\n",
        "fig_temp.update_layout(\n",
        "        xaxis_title='Month',\n",
        "        yaxis_title='Temperature (°F)',\n",
        "        legend_title='County, State',\n",
        "    )\n",
        "\n",
        "    # Show temperature plot\n",
        "fig_temp.show()\n",
        "\n",
        "    # Create a line plot for precipitation\n",
        "fig_percip = px.line(\n",
        "        filtered_climate_data,\n",
        "        x='month',\n",
        "        y='percip',\n",
        "        color='County_State',  # Use the new column for legend\n",
        "        markers=True,\n",
        "        title='Precipitation in Counties with best weather conditions'\n",
        "    )\n",
        "\n",
        "    # Update layout for precipitation\n",
        "fig_percip.update_layout(\n",
        "        xaxis_title='Month',\n",
        "        yaxis_title='Precipitation (mm)',\n",
        "        legend_title='County, State',\n",
        "    )\n",
        "\n",
        "    # Show precipitation plot\n",
        "fig_percip.show()"
      ]
    }
  ],
  "metadata": {
    "colab": {
      "authorship_tag": "ABX9TyPc3IVazj2P9SMjfspEoFT/",
      "include_colab_link": true,
      "provenance": []
    },
    "kernelspec": {
      "display_name": "ds4003",
      "language": "python",
      "name": "python3"
    },
    "language_info": {
      "codemirror_mode": {
        "name": "ipython",
        "version": 3
      },
      "file_extension": ".py",
      "mimetype": "text/x-python",
      "name": "python",
      "nbconvert_exporter": "python",
      "pygments_lexer": "ipython3",
      "version": "3.8.18"
    }
  },
  "nbformat": 4,
  "nbformat_minor": 0
}
